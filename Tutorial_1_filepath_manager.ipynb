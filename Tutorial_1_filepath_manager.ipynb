{
 "cells": [
  {
   "cell_type": "markdown",
   "id": "9081c33f",
   "metadata": {},
   "source": [
    "# This first notebook is a short tutorial on using the **SnippetSimManage** class. \n",
    "\n",
    "This class is used across all simulation and building modules."
   ]
  },
  {
   "attachments": {},
   "cell_type": "markdown",
   "id": "37672706-cc5f-4616-9b86-70e1612e7689",
   "metadata": {},
   "source": [
    "# Importing python modules\n",
    "\n",
    "The first piece of code to run utilises the **sw_directories** module. The python code in this module acts as a directory and filepath manager by using the **SnippetSimManage* class. Intiating this will enable functions from other modules to function easily. We will start by importing this module. We will also need to import the **os** module.\n",
    "\n",
    "*some examples of what this module does are included below*"
   ]
  },
  {
   "cell_type": "code",
   "execution_count": 1,
   "id": "c9a9376f-468e-427b-a0b2-329490cccef9",
   "metadata": {},
   "outputs": [],
   "source": [
    "from modules.sw_directories import *\n",
    "import os as os"
   ]
  },
  {
   "cell_type": "markdown",
   "id": "4417084a-9bd6-4681-9271-1f5c191f78ef",
   "metadata": {},
   "source": [
    "The classes in **sw_directories** takes a main directory as an argument and uses this directory as the master directory. For me this is <span style=\"color:red\">/home/dan/polymersimulator</span> however in your own PC it will look like this: <span style=\"color:blue\">/path/to/cloned/repository/polymersimulator</span>. <br>\n",
    "\n",
    "Now we can use os to retrieve the filepath to this master directory and pass it to the **SnippetSimManage** class \n",
    "\n",
    "*<br> Note: **polymersimulator** is the folder created by cloning the repository. (the name of the cloned directory could change)*"
   ]
  },
  {
   "cell_type": "code",
   "execution_count": 2,
   "id": "47f08d40-1779-4b4a-9352-dced778b8a52",
   "metadata": {},
   "outputs": [
    {
     "name": "stdout",
     "output_type": "stream",
     "text": [
      "/home/dan/polymersimulator\n"
     ]
    }
   ],
   "source": [
    "# Retrieve the path to our main directory\n",
    "main_dir = os.getcwd()\n",
    "\n",
    "# Print out the path to check it is correct\n",
    "print(main_dir)"
   ]
  },
  {
   "cell_type": "code",
   "execution_count": 3,
   "id": "e48ba1b6-ad21-4bb3-82aa-750ecfefc4be",
   "metadata": {},
   "outputs": [],
   "source": [
    "# Pass this main directory to the SnippetSimManage class and assign it an appropriate variable name.\n",
    "manager = SnippetSimManage(main_dir)"
   ]
  },
  {
   "cell_type": "markdown",
   "id": "589748d0-a5e7-4ae1-a31f-ce262df7e448",
   "metadata": {},
   "source": [
    "This class contains the destinations of different directories and is used to call and find certain files. <br>\n",
    "\n",
    "When the class is called - if it is the first time it has been called - these directories (and file) will be initiated."
   ]
  },
  {
   "cell_type": "code",
   "execution_count": 4,
   "id": "31380855-02fc-490e-814a-b4a7431e2743",
   "metadata": {},
   "outputs": [
    {
     "data": {
      "text/plain": [
       "'/home/dan/polymersimulator'"
      ]
     },
     "execution_count": 4,
     "metadata": {},
     "output_type": "execute_result"
    }
   ],
   "source": [
    "# The base directory - the folder cloned from the github repository\n",
    "manager.main_dir"
   ]
  },
  {
   "cell_type": "code",
   "execution_count": 5,
   "id": "06392102-e6c8-41bb-922f-af28723d86a0",
   "metadata": {},
   "outputs": [
    {
     "data": {
      "text/plain": [
       "'/home/dan/polymersimulator/python_scripts'"
      ]
     },
     "execution_count": 5,
     "metadata": {},
     "output_type": "execute_result"
    }
   ],
   "source": [
    "# A directory to hold different python scripts - ignore this for now.\n",
    "manager.python_script_dir"
   ]
  },
  {
   "cell_type": "code",
   "execution_count": 6,
   "id": "c372ee0b-6626-41ee-b9f2-57f75b1e896b",
   "metadata": {},
   "outputs": [
    {
     "data": {
      "text/plain": [
       "'/home/dan/polymersimulator/pdb_files'"
      ]
     },
     "execution_count": 6,
     "metadata": {},
     "output_type": "execute_result"
    }
   ],
   "source": [
    "# A directory for storing pdb_files of non parameterized molecules\n",
    "manager.pdb_file_dir"
   ]
  },
  {
   "cell_type": "code",
   "execution_count": 7,
   "id": "e7fa40f4-c398-400b-b31c-206bab128d41",
   "metadata": {},
   "outputs": [
    {
     "data": {
      "text/plain": [
       "'/home/dan/polymersimulator/csvs_to_pdb'"
      ]
     },
     "execution_count": 7,
     "metadata": {},
     "output_type": "execute_result"
    }
   ],
   "source": [
    "# A directory for storing csv files containing molecular information you wish to transform into pdb files - ignore this for now.\n",
    "manager.csv_to_pdb_dir"
   ]
  },
  {
   "cell_type": "code",
   "execution_count": 8,
   "id": "c82d8ce9-3e0d-471f-8445-959d9621fdc9",
   "metadata": {},
   "outputs": [
    {
     "data": {
      "text/plain": [
       "'/home/dan/polymersimulator/pdb_files/molecules'"
      ]
     },
     "execution_count": 8,
     "metadata": {},
     "output_type": "execute_result"
    }
   ],
   "source": [
    "# A directory containing molecule related files - i.e. pdb, parameter, xyz files\n",
    "manager.molecules_dir\n",
    "\n",
    "## Note: this directory is currently setup to be inside the pdb_file directory. If this doesn't sound intuitive - it is because it isn't ##"
   ]
  },
  {
   "cell_type": "code",
   "execution_count": 9,
   "id": "0762e812-d7cf-45cf-aeaa-bb03c95f6a6b",
   "metadata": {},
   "outputs": [
    {
     "data": {
      "text/plain": [
       "'/home/dan/polymersimulator/pdb_files/systems'"
      ]
     },
     "execution_count": 9,
     "metadata": {},
     "output_type": "execute_result"
    }
   ],
   "source": [
    "# A directory containing files related to moleuclar dynamic systems - i.e. parameter, coordinate files\n",
    "manager.systems_dir"
   ]
  },
  {
   "cell_type": "code",
   "execution_count": 10,
   "id": "0c6dd3d1-fa60-46d9-b048-194357f216d5",
   "metadata": {},
   "outputs": [
    {
     "data": {
      "text/plain": [
       "'/home/dan/polymersimulator/pdb_files/residue_codes.csv'"
      ]
     },
     "execution_count": 10,
     "metadata": {},
     "output_type": "execute_result"
    }
   ],
   "source": [
    "# A file to contain any unique residue codes generated for non standard molecules\n",
    "manager.residue_code_csv"
   ]
  },
  {
   "cell_type": "markdown",
   "id": "53da4070-3e8c-4f13-b3b6-d2d47680acda",
   "metadata": {},
   "source": [
    "The **SnippetSimManage** class can also locate certain files with the methods shown below. <br>\n",
    "\n",
    "As this is the first notebook - many of these functions will return nothing as no files are currently generated. However, they are useful to know about and examples of using these will appear in other tutorials. These functions and methods from the **SnippetSimManage** class are used by other classes and functions.\n",
    "\n",
    "*Note: Not all of these are immediately important but could be useful in the future*"
   ]
  },
  {
   "cell_type": "code",
   "execution_count": 11,
   "id": "d20aa472-794a-4351-9b7f-3d848e7e7d80",
   "metadata": {
    "scrolled": true
   },
   "outputs": [
    {
     "data": {
      "text/plain": [
       "['/home/dan/polymersimulator/pdb_files/molecules/1-Pentadecene/1-Pentadecene.mol2',\n",
       " '/home/dan/polymersimulator/pdb_files/molecules/1-Octadecene/1-Octadecene.mol2',\n",
       " '/home/dan/polymersimulator/pdb_files/molecules/25-dimethylPhenol/25-dimethylPhenol.mol2',\n",
       " '/home/dan/polymersimulator/pdb_files/molecules/236-trimethylPhenol/236-trimethylPhenol.mol2',\n",
       " '/home/dan/polymersimulator/pdb_files/molecules/2-methyl-14-Benzenedicarboxaldehyde/2-methyl-14-Benzenedicarboxaldehyde.mol2',\n",
       " '/home/dan/polymersimulator/pdb_files/molecules/Tetradecane/Tetradecane.mol2',\n",
       " '/home/dan/polymersimulator/pdb_files/molecules/Heneicosane/Heneicosane.mol2',\n",
       " '/home/dan/polymersimulator/pdb_files/molecules/4-methyl-12-Benzenediol/4-methyl-12-Benzenediol.mol2',\n",
       " '/home/dan/polymersimulator/pdb_files/molecules/1-Nonadecene/1-Nonadecene.mol2',\n",
       " '/home/dan/polymersimulator/pdb_files/molecules/34-dimethylPhenol/34-dimethylPhenol.mol2',\n",
       " '/home/dan/polymersimulator/pdb_files/molecules/2-methoxyPhenol/2-methoxyPhenol.mol2',\n",
       " '/home/dan/polymersimulator/pdb_files/molecules/Dodecane/Dodecane.mol2',\n",
       " '/home/dan/polymersimulator/pdb_files/molecules/2-ethylPhenol/2-ethylPhenol.mol2',\n",
       " '/home/dan/polymersimulator/pdb_files/molecules/Furfural/Furfural.mol2',\n",
       " '/home/dan/polymersimulator/pdb_files/molecules/Tridecane/Tridecane.mol2',\n",
       " '/home/dan/polymersimulator/pdb_files/molecules/Tetracosane/Tetracosane.mol2',\n",
       " '/home/dan/polymersimulator/pdb_files/molecules/Apocynin/Apocynin.mol2',\n",
       " '/home/dan/polymersimulator/pdb_files/molecules/2-methoxy-4-1-propenyl-phenol/2-methoxy-4-1-propenyl-phenol.mol2',\n",
       " '/home/dan/polymersimulator/pdb_files/molecules/2-methylPhenol/2-methylPhenol.mol2',\n",
       " '/home/dan/polymersimulator/pdb_files/molecules/Palmitoleicacid/Palmitoleicacid.mol2',\n",
       " '/home/dan/polymersimulator/pdb_files/molecules/n-Hexadecanoicacid/n-Hexadecanoicacid.mol2',\n",
       " '/home/dan/polymersimulator/pdb_files/molecules/1-Tridecene/1-Tridecene.mol2',\n",
       " '/home/dan/polymersimulator/pdb_files/molecules/3HB_monomer/3HB_monomer.mol2',\n",
       " '/home/dan/polymersimulator/pdb_files/molecules/Heptadecane/Heptadecane.mol2',\n",
       " '/home/dan/polymersimulator/pdb_files/molecules/Stigmast-5-ene3beta-methoxy-/Stigmast-5-ene3beta-methoxy-.mol2',\n",
       " '/home/dan/polymersimulator/pdb_files/molecules/2-methyl-13-Benzenediol/2-methyl-13-Benzenediol.mol2',\n",
       " '/home/dan/polymersimulator/pdb_files/molecules/Cetene/Cetene.mol2',\n",
       " '/home/dan/polymersimulator/pdb_files/molecules/1-Tetracosene/1-Tetracosene.mol2',\n",
       " '/home/dan/polymersimulator/pdb_files/molecules/23-Dimethylhydroquinone/23-Dimethylhydroquinone.mol2',\n",
       " '/home/dan/polymersimulator/pdb_files/molecules/Octadecane/Octadecane.mol2',\n",
       " '/home/dan/polymersimulator/pdb_files/molecules/Tricosane/Tricosane.mol2',\n",
       " '/home/dan/polymersimulator/pdb_files/molecules/24-dimethylPhenol/24-dimethylPhenol.mol2',\n",
       " '/home/dan/polymersimulator/pdb_files/molecules/2-methoxy-4-1-propenyl-Phenol/2-methoxy-4-1-propenyl-Phenol.mol2',\n",
       " '/home/dan/polymersimulator/pdb_files/molecules/23-dihydroBenzofuran/23-dihydroBenzofuran.mol2',\n",
       " '/home/dan/polymersimulator/pdb_files/molecules/4-Ethylcatechol/4-Ethylcatechol.mol2',\n",
       " '/home/dan/polymersimulator/pdb_files/molecules/Stigmast-4-en-3-one/Stigmast-4-en-3-one.mol2',\n",
       " '/home/dan/polymersimulator/pdb_files/molecules/n-Tetracosanol-1/n-Tetracosanol-1.mol2',\n",
       " '/home/dan/polymersimulator/pdb_files/molecules/Tetracosanoicacid/Tetracosanoicacid.mol2',\n",
       " '/home/dan/polymersimulator/pdb_files/molecules/2-methyl-6-2-propenyl-Phenol/2-methyl-6-2-propenyl-Phenol.mol2',\n",
       " '/home/dan/polymersimulator/pdb_files/molecules/26-dimethylphenol/26-dimethylphenol.mol2',\n",
       " '/home/dan/polymersimulator/pdb_files/molecules/Eicosane/Eicosane.mol2',\n",
       " '/home/dan/polymersimulator/pdb_files/molecules/1-Dodecene/1-Dodecene.mol2',\n",
       " '/home/dan/polymersimulator/pdb_files/molecules/Pentacos-1-ene/Pentacos-1-ene.mol2',\n",
       " '/home/dan/polymersimulator/pdb_files/molecules/Hexacosanoicacid/Hexacosanoicacid.mol2',\n",
       " '/home/dan/polymersimulator/pdb_files/molecules/2-Methoxy-4-vinylphenol/2-Methoxy-4-vinylphenol.mol2',\n",
       " '/home/dan/polymersimulator/pdb_files/molecules/Tetracosanal/Tetracosanal.mol2',\n",
       " '/home/dan/polymersimulator/pdb_files/molecules/2-ethyl-5-methyl-Phenol/2-ethyl-5-methyl-Phenol.mol2',\n",
       " '/home/dan/polymersimulator/pdb_files/molecules/Pentadecane/Pentadecane.mol2',\n",
       " '/home/dan/polymersimulator/pdb_files/molecules/p-Cumenol/p-Cumenol.mol2',\n",
       " '/home/dan/polymersimulator/pdb_files/molecules/1-Docosene/1-Docosene.mol2',\n",
       " '/home/dan/polymersimulator/pdb_files/molecules/26-dimethyl-14-Benzenediol/26-dimethyl-14-Benzenediol.mol2',\n",
       " '/home/dan/polymersimulator/pdb_files/molecules/Catechol/Catechol.mol2',\n",
       " '/home/dan/polymersimulator/pdb_files/molecules/cis-Vaccenicacid/cis-Vaccenicacid.mol2',\n",
       " '/home/dan/polymersimulator/pdb_files/molecules/3-methylPhenol/3-methylPhenol.mol2',\n",
       " '/home/dan/polymersimulator/pdb_files/molecules/Heptacos-1-ene/Heptacos-1-ene.mol2',\n",
       " '/home/dan/polymersimulator/pdb_files/molecules/1-Tetradecene/1-Tetradecene.mol2',\n",
       " '/home/dan/polymersimulator/pdb_files/molecules/4-ethyl-2-methoxyphenol/4-ethyl-2-methoxyphenol.mol2',\n",
       " '/home/dan/polymersimulator/pdb_files/molecules/3-EicoseneE-/3-EicoseneE-.mol2',\n",
       " '/home/dan/polymersimulator/pdb_files/molecules/Nonadecanoicacid/Nonadecanoicacid.mol2',\n",
       " '/home/dan/polymersimulator/pdb_files/molecules/1-Tricosene/1-Tricosene.mol2',\n",
       " '/home/dan/polymersimulator/pdb_files/molecules/4-2-propenyl-Phenol/4-2-propenyl-Phenol.mol2',\n",
       " '/home/dan/polymersimulator/pdb_files/molecules/Tetracosanoicacidmethylester/Tetracosanoicacidmethylester.mol2',\n",
       " '/home/dan/polymersimulator/pdb_files/molecules/Hexadecane/Hexadecane.mol2',\n",
       " '/home/dan/polymersimulator/pdb_files/molecules/2-Methoxy-6-methylphenol/2-Methoxy-6-methylphenol.mol2',\n",
       " '/home/dan/polymersimulator/pdb_files/molecules/butane/butane.mol2',\n",
       " '/home/dan/polymersimulator/pdb_files/molecules/Hexacosanal/Hexacosanal.mol2',\n",
       " '/home/dan/polymersimulator/pdb_files/molecules/Phenol/Phenol.mol2',\n",
       " '/home/dan/polymersimulator/pdb_files/molecules/10-Henicosene/10-Henicosene.mol2',\n",
       " '/home/dan/polymersimulator/pdb_files/molecules/Eicosanoicacid/Eicosanoicacid.mol2',\n",
       " '/home/dan/polymersimulator/pdb_files/molecules/1-Undecene/1-Undecene.mol2',\n",
       " '/home/dan/polymersimulator/pdb_files/molecules/Octadecanoicacid/Octadecanoicacid.mol2',\n",
       " '/home/dan/polymersimulator/pdb_files/molecules/1-Heptadecene/1-Heptadecene.mol2',\n",
       " '/home/dan/polymersimulator/pdb_files/molecules/2-methoxyphenol/2-methoxyphenol.mol2',\n",
       " '/home/dan/polymersimulator/pdb_files/molecules/3HB_trimer/3HB_trimer.mol2',\n",
       " '/home/dan/polymersimulator/pdb_files/molecules/3HB_trimer/.ipynb_checkpoints/3HB_trimer-checkpoint.mol2',\n",
       " '/home/dan/polymersimulator/pdb_files/molecules/4-ethylPhenol/4-ethylPhenol.mol2',\n",
       " '/home/dan/polymersimulator/pdb_files/molecules/345-trimethyl-Phenol/345-trimethyl-Phenol.mol2',\n",
       " '/home/dan/polymersimulator/pdb_files/molecules/Nonadecane/Nonadecane.mol2',\n",
       " '/home/dan/polymersimulator/pdb_files/molecules/Pentadecanoicacid/Pentadecanoicacid.mol2',\n",
       " '/home/dan/polymersimulator/pdb_files/molecules/Docosane/Docosane.mol2',\n",
       " '/home/dan/polymersimulator/pdb_files/molecules/26-dimethylPhenol/26-dimethylPhenol.mol2',\n",
       " '/home/dan/polymersimulator/pdb_files/molecules/4-ethyl-2-methoxyPhenol/4-ethyl-2-methoxyPhenol.mol2',\n",
       " '/home/dan/polymersimulator/pdb_files/molecules/5-methyl-2-Furancarboxaldehyde/5-methyl-2-Furancarboxaldehyde.mol2']"
      ]
     },
     "execution_count": 11,
     "metadata": {},
     "output_type": "execute_result"
    }
   ],
   "source": [
    "# Method to return a list of available mol2 files - this returns the fullpath so it can be integrated with any other needs and looped through easily.\n",
    "mol2_avail = manager.mol2_files_avail()\n",
    "\n",
    "# Print the list\n",
    "mol2_avail"
   ]
  },
  {
   "cell_type": "code",
   "execution_count": 12,
   "id": "6462ad69-04f0-44b5-affb-159d357c15e9",
   "metadata": {},
   "outputs": [
    {
     "name": "stdout",
     "output_type": "stream",
     "text": [
      "/home/dan/polymersimulator/pdb_files/molecules/Phenol/Phenol.mol2\n"
     ]
    }
   ],
   "source": [
    "# Method to return a single, specific mol2 file - pass a molecule name as a string\n",
    "mol2_file = manager.load_mol2_filepath(\"Phenol\")\n",
    "\n",
    "# Print the mol2 filepath\n",
    "print(mol2_file)\n",
    "\n",
    "## Note: if the file doesn't exist, 'None' will be returned. Either the file does not exist or you should check for spelling mistakes in the molecule name. ##"
   ]
  },
  {
   "cell_type": "code",
   "execution_count": 13,
   "id": "07aaeb6c-183a-48b6-aac1-c053ab78a9fd",
   "metadata": {},
   "outputs": [
    {
     "data": {
      "text/plain": [
       "['/home/dan/polymersimulator/pdb_files/systems/3HB_4_polymer_3_3_array/3HB_4_polymer_3_3_array.pckml',\n",
       " '/home/dan/polymersimulator/pdb_files/systems/3HB_7_polymer_3_3_array/3HB_7_polymer_3_3_array.pckml',\n",
       " '/home/dan/polymersimulator/pdb_files/systems/3HB_9_polymer_3_3_array/3HB_9_polymer_3_3_array.pckml',\n",
       " '/home/dan/polymersimulator/pdb_files/systems/3HB_8_polymer_3_3_array/3HB_8_polymer_3_3_array.pckml',\n",
       " '/home/dan/polymersimulator/pdb_files/systems/3HB_10_polymer_3_3_array/3HB_10_polymer_3_3_array.pckml',\n",
       " '/home/dan/polymersimulator/pdb_files/systems/3HB_6_polymer_3_3_array/3HB_6_polymer_3_3_array.pckml',\n",
       " '/home/dan/polymersimulator/pdb_files/systems/3HB_12_polymer_3_3_array/3HB_12_polymer_3_3_array.pckml',\n",
       " '/home/dan/polymersimulator/pdb_files/systems/3HB_5_polymer_3_3_array/3HB_5_polymer_3_3_array.pckml',\n",
       " '/home/dan/polymersimulator/pdb_files/systems/3HB_11_polymer_3_3_array/3HB_11_polymer_3_3_array.pckml',\n",
       " '/home/dan/polymersimulator/pdb_files/systems/3HB_3_polymer_3_3_array/3HB_3_polymer_3_3_array.pckml']"
      ]
     },
     "execution_count": 13,
     "metadata": {},
     "output_type": "execute_result"
    }
   ],
   "source": [
    "# Method to return a list of available packmol files - this returns the fullpath so it can be integrated with any other needs and looped through easily.\n",
    "packmol_avail = manager.pckml_files_avail()\n",
    "\n",
    "# Print the list\n",
    "packmol_avail"
   ]
  },
  {
   "cell_type": "code",
   "execution_count": 14,
   "id": "d6de4851-b755-4977-802a-28eab274577f",
   "metadata": {},
   "outputs": [
    {
     "name": "stdout",
     "output_type": "stream",
     "text": [
      "/home/dan/polymersimulator/pdb_files/systems/3HB_4_polymer_3_3_array/3HB_4_polymer_3_3_array.pckml\n"
     ]
    }
   ],
   "source": [
    "# Method to load a packmol filepath - pass a system name as a string\n",
    "packmol_file = manager.load_pckml_filepath(\"3HB_4_polymer_3_3_array\")\n",
    "\n",
    "# Print the packmol filepath\n",
    "print(packmol_file)\n",
    "\n",
    "## Note: if the file doesn't exist, 'None' will be returned. Either the file does not exist or you should check for spelling mistakes in the system name. ##"
   ]
  },
  {
   "cell_type": "code",
   "execution_count": 15,
   "id": "4cc20a55-e52e-4eec-b50e-7c383a3aac5f",
   "metadata": {},
   "outputs": [
    {
     "data": {
      "text/plain": [
       "['/home/dan/polymersimulator/pdb_files/2-Methoxy-4-vinylphenol.pdb',\n",
       " '/home/dan/polymersimulator/pdb_files/2-methyl-6-2-propenyl-Phenol.pdb',\n",
       " '/home/dan/polymersimulator/pdb_files/Dodecane.pdb',\n",
       " '/home/dan/polymersimulator/pdb_files/1-Undecene.pdb',\n",
       " '/home/dan/polymersimulator/pdb_files/Tetracosanoicacidmethylester.pdb',\n",
       " '/home/dan/polymersimulator/pdb_files/23-dihydroBenzofuran.pdb',\n",
       " '/home/dan/polymersimulator/pdb_files/23-Dimethylhydroquinone.pdb',\n",
       " '/home/dan/polymersimulator/pdb_files/2-ethyl-5-methyl-Phenol.pdb',\n",
       " '/home/dan/polymersimulator/pdb_files/1-Tricosene.pdb',\n",
       " '/home/dan/polymersimulator/pdb_files/Pentadecanoicacid.pdb',\n",
       " '/home/dan/polymersimulator/pdb_files/Heptadecane.pdb',\n",
       " '/home/dan/polymersimulator/pdb_files/1-Tetracosene.pdb',\n",
       " '/home/dan/polymersimulator/pdb_files/2-methoxyphenol.pdb',\n",
       " '/home/dan/polymersimulator/pdb_files/Apocynin.pdb',\n",
       " '/home/dan/polymersimulator/pdb_files/24-dimethylPhenol.pdb',\n",
       " '/home/dan/polymersimulator/pdb_files/n-Hexadecanoicacid.pdb',\n",
       " '/home/dan/polymersimulator/pdb_files/Hexacosanoicacid.pdb',\n",
       " '/home/dan/polymersimulator/pdb_files/2-methylPhenol.pdb',\n",
       " '/home/dan/polymersimulator/pdb_files/Cetene.pdb',\n",
       " '/home/dan/polymersimulator/pdb_files/cis-Vaccenicacid.pdb',\n",
       " '/home/dan/polymersimulator/pdb_files/1-Pentadecene.pdb',\n",
       " '/home/dan/polymersimulator/pdb_files/1-Docosene.pdb',\n",
       " '/home/dan/polymersimulator/pdb_files/1-Octadecene.pdb',\n",
       " '/home/dan/polymersimulator/pdb_files/2-methyl-14-Benzenedicarboxaldehyde.pdb',\n",
       " '/home/dan/polymersimulator/pdb_files/2-methoxyPhenol.pdb',\n",
       " '/home/dan/polymersimulator/pdb_files/4-Ethylcatechol.pdb',\n",
       " '/home/dan/polymersimulator/pdb_files/Nonadecanoicacid.pdb',\n",
       " '/home/dan/polymersimulator/pdb_files/2-methoxy-4-1-propenyl-phenol.pdb',\n",
       " '/home/dan/polymersimulator/pdb_files/Palmitoleicacid.pdb',\n",
       " '/home/dan/polymersimulator/pdb_files/Catechol.pdb',\n",
       " '/home/dan/polymersimulator/pdb_files/Stigmast-4-en-3-one.pdb',\n",
       " '/home/dan/polymersimulator/pdb_files/Furfural.pdb',\n",
       " '/home/dan/polymersimulator/pdb_files/Pentadecane.pdb',\n",
       " '/home/dan/polymersimulator/pdb_files/345-trimethyl-Phenol.pdb',\n",
       " '/home/dan/polymersimulator/pdb_files/Tricosane.pdb',\n",
       " '/home/dan/polymersimulator/pdb_files/2-Methoxy-6-methylphenol.pdb',\n",
       " '/home/dan/polymersimulator/pdb_files/Phenol.pdb',\n",
       " '/home/dan/polymersimulator/pdb_files/236-trimethylPhenol.pdb',\n",
       " '/home/dan/polymersimulator/pdb_files/4-ethylPhenol.pdb',\n",
       " '/home/dan/polymersimulator/pdb_files/26-dimethyl-14-Benzenediol.pdb',\n",
       " '/home/dan/polymersimulator/pdb_files/Tetradecane.pdb',\n",
       " '/home/dan/polymersimulator/pdb_files/Tetracosanoicacid.pdb',\n",
       " '/home/dan/polymersimulator/pdb_files/1-Nonadecene.pdb',\n",
       " '/home/dan/polymersimulator/pdb_files/Eicosane.pdb',\n",
       " '/home/dan/polymersimulator/pdb_files/4-2-propenyl-Phenol.pdb',\n",
       " '/home/dan/polymersimulator/pdb_files/4-ethyl-2-methoxyPhenol.pdb',\n",
       " '/home/dan/polymersimulator/pdb_files/Heneicosane.pdb',\n",
       " '/home/dan/polymersimulator/pdb_files/Stigmast-5-ene3beta-methoxy-.pdb',\n",
       " '/home/dan/polymersimulator/pdb_files/3-EicoseneE-.pdb',\n",
       " '/home/dan/polymersimulator/pdb_files/1-Dodecene.pdb',\n",
       " '/home/dan/polymersimulator/pdb_files/Octadecanoicacid.pdb',\n",
       " '/home/dan/polymersimulator/pdb_files/10-Henicosene.pdb',\n",
       " '/home/dan/polymersimulator/pdb_files/2-methyl-13-Benzenediol.pdb',\n",
       " '/home/dan/polymersimulator/pdb_files/34-dimethylPhenol.pdb',\n",
       " '/home/dan/polymersimulator/pdb_files/Hexacosanal.pdb',\n",
       " '/home/dan/polymersimulator/pdb_files/1-Tetradecene.pdb',\n",
       " '/home/dan/polymersimulator/pdb_files/1-Tridecene.pdb',\n",
       " '/home/dan/polymersimulator/pdb_files/test_decamer.pdb',\n",
       " '/home/dan/polymersimulator/pdb_files/Docosane.pdb',\n",
       " '/home/dan/polymersimulator/pdb_files/Pentacos-1-ene.pdb',\n",
       " '/home/dan/polymersimulator/pdb_files/2-ethylPhenol.pdb',\n",
       " '/home/dan/polymersimulator/pdb_files/Hexadecane.pdb',\n",
       " '/home/dan/polymersimulator/pdb_files/Tetracosanal.pdb',\n",
       " '/home/dan/polymersimulator/pdb_files/n-Tetracosanol-1.pdb',\n",
       " '/home/dan/polymersimulator/pdb_files/25-dimethylPhenol.pdb',\n",
       " '/home/dan/polymersimulator/pdb_files/1-Heptadecene.pdb',\n",
       " '/home/dan/polymersimulator/pdb_files/2-methoxy-4-1-propenyl-Phenol.pdb',\n",
       " '/home/dan/polymersimulator/pdb_files/26-dimethylphenol.pdb',\n",
       " '/home/dan/polymersimulator/pdb_files/Heptacos-1-ene.pdb',\n",
       " '/home/dan/polymersimulator/pdb_files/Tetracosane.pdb',\n",
       " '/home/dan/polymersimulator/pdb_files/Octadecane.pdb',\n",
       " '/home/dan/polymersimulator/pdb_files/Eicosanoicacid.pdb',\n",
       " '/home/dan/polymersimulator/pdb_files/3-methylPhenol.pdb',\n",
       " '/home/dan/polymersimulator/pdb_files/4-ethyl-2-methoxyphenol.pdb',\n",
       " '/home/dan/polymersimulator/pdb_files/Nonadecane.pdb',\n",
       " '/home/dan/polymersimulator/pdb_files/4-methyl-12-Benzenediol.pdb',\n",
       " '/home/dan/polymersimulator/pdb_files/Tridecane.pdb',\n",
       " '/home/dan/polymersimulator/pdb_files/26-dimethylPhenol.pdb',\n",
       " '/home/dan/polymersimulator/pdb_files/5-methyl-2-Furancarboxaldehyde.pdb',\n",
       " '/home/dan/polymersimulator/pdb_files/p-Cumenol.pdb',\n",
       " '/home/dan/polymersimulator/pdb_files/molecules/1-Pentadecene/1-Pentadecene.pdb',\n",
       " '/home/dan/polymersimulator/pdb_files/molecules/1-Octadecene/1-Octadecene.pdb',\n",
       " '/home/dan/polymersimulator/pdb_files/molecules/25-dimethylPhenol/25-dimethylPhenol.pdb',\n",
       " '/home/dan/polymersimulator/pdb_files/molecules/236-trimethylPhenol/236-trimethylPhenol.pdb',\n",
       " '/home/dan/polymersimulator/pdb_files/molecules/2-methyl-14-Benzenedicarboxaldehyde/2-methyl-14-Benzenedicarboxaldehyde.pdb',\n",
       " '/home/dan/polymersimulator/pdb_files/molecules/Tetradecane/Tetradecane.pdb',\n",
       " '/home/dan/polymersimulator/pdb_files/molecules/Heneicosane/Heneicosane.pdb',\n",
       " '/home/dan/polymersimulator/pdb_files/molecules/4-methyl-12-Benzenediol/4-methyl-12-Benzenediol.pdb',\n",
       " '/home/dan/polymersimulator/pdb_files/molecules/1-Nonadecene/1-Nonadecene.pdb',\n",
       " '/home/dan/polymersimulator/pdb_files/molecules/34-dimethylPhenol/34-dimethylPhenol.pdb',\n",
       " '/home/dan/polymersimulator/pdb_files/molecules/2-methoxyPhenol/2-methoxyPhenol.pdb',\n",
       " '/home/dan/polymersimulator/pdb_files/molecules/Dodecane/Dodecane.pdb',\n",
       " '/home/dan/polymersimulator/pdb_files/molecules/2-ethylPhenol/2-ethylPhenol.pdb',\n",
       " '/home/dan/polymersimulator/pdb_files/molecules/Furfural/Furfural.pdb',\n",
       " '/home/dan/polymersimulator/pdb_files/molecules/Tridecane/Tridecane.pdb',\n",
       " '/home/dan/polymersimulator/pdb_files/molecules/Tetracosane/Tetracosane.pdb',\n",
       " '/home/dan/polymersimulator/pdb_files/molecules/Apocynin/Apocynin.pdb',\n",
       " '/home/dan/polymersimulator/pdb_files/molecules/2-methoxy-4-1-propenyl-phenol/2-methoxy-4-1-propenyl-phenol.pdb',\n",
       " '/home/dan/polymersimulator/pdb_files/molecules/2-methylPhenol/2-methylPhenol.pdb',\n",
       " '/home/dan/polymersimulator/pdb_files/molecules/Palmitoleicacid/Palmitoleicacid.pdb',\n",
       " '/home/dan/polymersimulator/pdb_files/molecules/n-Hexadecanoicacid/n-Hexadecanoicacid.pdb',\n",
       " '/home/dan/polymersimulator/pdb_files/molecules/1-Tridecene/1-Tridecene.pdb',\n",
       " '/home/dan/polymersimulator/pdb_files/molecules/3HB_monomer/3HB_monomer.pdb',\n",
       " '/home/dan/polymersimulator/pdb_files/molecules/Heptadecane/Heptadecane.pdb',\n",
       " '/home/dan/polymersimulator/pdb_files/molecules/Stigmast-5-ene3beta-methoxy-/Stigmast-5-ene3beta-methoxy-.pdb',\n",
       " '/home/dan/polymersimulator/pdb_files/molecules/2-methyl-13-Benzenediol/2-methyl-13-Benzenediol.pdb',\n",
       " '/home/dan/polymersimulator/pdb_files/molecules/Cetene/Cetene.pdb',\n",
       " '/home/dan/polymersimulator/pdb_files/molecules/1-Tetracosene/1-Tetracosene.pdb',\n",
       " '/home/dan/polymersimulator/pdb_files/molecules/23-Dimethylhydroquinone/23-Dimethylhydroquinone.pdb',\n",
       " '/home/dan/polymersimulator/pdb_files/molecules/Octadecane/Octadecane.pdb',\n",
       " '/home/dan/polymersimulator/pdb_files/molecules/Tricosane/Tricosane.pdb',\n",
       " '/home/dan/polymersimulator/pdb_files/molecules/24-dimethylPhenol/24-dimethylPhenol.pdb',\n",
       " '/home/dan/polymersimulator/pdb_files/molecules/2-methoxy-4-1-propenyl-Phenol/2-methoxy-4-1-propenyl-Phenol.pdb',\n",
       " '/home/dan/polymersimulator/pdb_files/molecules/23-dihydroBenzofuran/23-dihydroBenzofuran.pdb',\n",
       " '/home/dan/polymersimulator/pdb_files/molecules/4-Ethylcatechol/4-Ethylcatechol.pdb',\n",
       " '/home/dan/polymersimulator/pdb_files/molecules/Stigmast-4-en-3-one/Stigmast-4-en-3-one.pdb',\n",
       " '/home/dan/polymersimulator/pdb_files/molecules/n-Tetracosanol-1/n-Tetracosanol-1.pdb',\n",
       " '/home/dan/polymersimulator/pdb_files/molecules/Tetracosanoicacid/Tetracosanoicacid.pdb',\n",
       " '/home/dan/polymersimulator/pdb_files/molecules/2-methyl-6-2-propenyl-Phenol/2-methyl-6-2-propenyl-Phenol.pdb',\n",
       " '/home/dan/polymersimulator/pdb_files/molecules/26-dimethylphenol/26-dimethylphenol.pdb',\n",
       " '/home/dan/polymersimulator/pdb_files/molecules/Eicosane/Eicosane.pdb',\n",
       " '/home/dan/polymersimulator/pdb_files/molecules/1-Dodecene/1-Dodecene.pdb',\n",
       " '/home/dan/polymersimulator/pdb_files/molecules/Pentacos-1-ene/Pentacos-1-ene.pdb',\n",
       " '/home/dan/polymersimulator/pdb_files/molecules/Hexacosanoicacid/Hexacosanoicacid.pdb',\n",
       " '/home/dan/polymersimulator/pdb_files/molecules/2-Methoxy-4-vinylphenol/2-Methoxy-4-vinylphenol.pdb',\n",
       " '/home/dan/polymersimulator/pdb_files/molecules/Tetracosanal/Tetracosanal.pdb',\n",
       " '/home/dan/polymersimulator/pdb_files/molecules/2-ethyl-5-methyl-Phenol/2-ethyl-5-methyl-Phenol.pdb',\n",
       " '/home/dan/polymersimulator/pdb_files/molecules/Pentadecane/Pentadecane.pdb',\n",
       " '/home/dan/polymersimulator/pdb_files/molecules/p-Cumenol/p-Cumenol.pdb',\n",
       " '/home/dan/polymersimulator/pdb_files/molecules/1-Docosene/1-Docosene.pdb',\n",
       " '/home/dan/polymersimulator/pdb_files/molecules/26-dimethyl-14-Benzenediol/26-dimethyl-14-Benzenediol.pdb',\n",
       " '/home/dan/polymersimulator/pdb_files/molecules/Catechol/Catechol.pdb',\n",
       " '/home/dan/polymersimulator/pdb_files/molecules/cis-Vaccenicacid/cis-Vaccenicacid.pdb',\n",
       " '/home/dan/polymersimulator/pdb_files/molecules/3-methylPhenol/3-methylPhenol.pdb',\n",
       " '/home/dan/polymersimulator/pdb_files/molecules/Heptacos-1-ene/Heptacos-1-ene.pdb',\n",
       " '/home/dan/polymersimulator/pdb_files/molecules/1-Tetradecene/1-Tetradecene.pdb',\n",
       " '/home/dan/polymersimulator/pdb_files/molecules/4-ethyl-2-methoxyphenol/4-ethyl-2-methoxyphenol.pdb',\n",
       " '/home/dan/polymersimulator/pdb_files/molecules/3-EicoseneE-/3-EicoseneE-.pdb',\n",
       " '/home/dan/polymersimulator/pdb_files/molecules/Nonadecanoicacid/Nonadecanoicacid.pdb',\n",
       " '/home/dan/polymersimulator/pdb_files/molecules/1-Tricosene/1-Tricosene.pdb',\n",
       " '/home/dan/polymersimulator/pdb_files/molecules/4-2-propenyl-Phenol/4-2-propenyl-Phenol.pdb',\n",
       " '/home/dan/polymersimulator/pdb_files/molecules/Tetracosanoicacidmethylester/Tetracosanoicacidmethylester.pdb',\n",
       " '/home/dan/polymersimulator/pdb_files/molecules/Hexadecane/Hexadecane.pdb',\n",
       " '/home/dan/polymersimulator/pdb_files/molecules/2-Methoxy-6-methylphenol/2-Methoxy-6-methylphenol.pdb',\n",
       " '/home/dan/polymersimulator/pdb_files/molecules/butane/butane.pdb',\n",
       " '/home/dan/polymersimulator/pdb_files/molecules/Hexacosanal/Hexacosanal.pdb',\n",
       " '/home/dan/polymersimulator/pdb_files/molecules/Phenol/Phenol.pdb',\n",
       " '/home/dan/polymersimulator/pdb_files/molecules/10-Henicosene/10-Henicosene.pdb',\n",
       " '/home/dan/polymersimulator/pdb_files/molecules/Eicosanoicacid/Eicosanoicacid.pdb',\n",
       " '/home/dan/polymersimulator/pdb_files/molecules/1-Undecene/1-Undecene.pdb',\n",
       " '/home/dan/polymersimulator/pdb_files/molecules/Octadecanoicacid/Octadecanoicacid.pdb',\n",
       " '/home/dan/polymersimulator/pdb_files/molecules/1-Heptadecene/1-Heptadecene.pdb',\n",
       " '/home/dan/polymersimulator/pdb_files/molecules/2-methoxyphenol/2-methoxyphenol.pdb',\n",
       " '/home/dan/polymersimulator/pdb_files/molecules/3HB_trimer/r3HB_10_polymer.pdb',\n",
       " '/home/dan/polymersimulator/pdb_files/molecules/3HB_trimer/poly_straight_two.pdb',\n",
       " '/home/dan/polymersimulator/pdb_files/molecules/3HB_trimer/final_chiral_test.pdb',\n",
       " '/home/dan/polymersimulator/pdb_files/molecules/3HB_trimer/poly_straight.pdb',\n",
       " '/home/dan/polymersimulator/pdb_files/molecules/3HB_trimer/test_chiral_two.pdb',\n",
       " '/home/dan/polymersimulator/pdb_files/molecules/3HB_trimer/s3HB_10_polymer.pdb',\n",
       " '/home/dan/polymersimulator/pdb_files/molecules/3HB_trimer/poly5050.pdb',\n",
       " '/home/dan/polymersimulator/pdb_files/molecules/3HB_trimer/chiral_poly_test_two.pdb',\n",
       " '/home/dan/polymersimulator/pdb_files/molecules/3HB_trimer/poly_bend.pdb',\n",
       " '/home/dan/polymersimulator/pdb_files/molecules/3HB_trimer/test_chiral_poly.pdb',\n",
       " '/home/dan/polymersimulator/pdb_files/molecules/3HB_trimer/poly22.pdb',\n",
       " '/home/dan/polymersimulator/pdb_files/molecules/3HB_trimer/poly_straight_4.pdb',\n",
       " '/home/dan/polymersimulator/pdb_files/molecules/3HB_trimer/3HB_trimer.pdb',\n",
       " '/home/dan/polymersimulator/pdb_files/molecules/3HB_trimer/straight_poly_three.pdb',\n",
       " '/home/dan/polymersimulator/pdb_files/molecules/3HB_trimer/.ipynb_checkpoints/3HB_trimer-checkpoint.pdb',\n",
       " '/home/dan/polymersimulator/pdb_files/molecules/4-ethylPhenol/4-ethylPhenol.pdb',\n",
       " '/home/dan/polymersimulator/pdb_files/molecules/345-trimethyl-Phenol/345-trimethyl-Phenol.pdb',\n",
       " '/home/dan/polymersimulator/pdb_files/molecules/Nonadecane/Nonadecane.pdb',\n",
       " '/home/dan/polymersimulator/pdb_files/molecules/Pentadecanoicacid/Pentadecanoicacid.pdb',\n",
       " '/home/dan/polymersimulator/pdb_files/molecules/Docosane/Docosane.pdb',\n",
       " '/home/dan/polymersimulator/pdb_files/molecules/26-dimethylPhenol/26-dimethylPhenol.pdb',\n",
       " '/home/dan/polymersimulator/pdb_files/molecules/4-ethyl-2-methoxyPhenol/4-ethyl-2-methoxyPhenol.pdb',\n",
       " '/home/dan/polymersimulator/pdb_files/molecules/5-methyl-2-Furancarboxaldehyde/5-methyl-2-Furancarboxaldehyde.pdb',\n",
       " '/home/dan/polymersimulator/pdb_files/systems/3HB_10_polymer_3_3_array_7392/2024-06-21_172856/min_3HB_10_polymer_3_3_array_7392.pdb',\n",
       " '/home/dan/polymersimulator/pdb_files/systems/3HB_10_polymer_3_3_array_7392/2024-06-21_172856/3HB_10_polymer_3_3_array_7392_1_atm_traj_2024-06-21_172856.pdb',\n",
       " '/home/dan/polymersimulator/pdb_files/systems/3HB_5_polymer/3HB_5_polymer_single_chain_17.pdb',\n",
       " '/home/dan/polymersimulator/pdb_files/systems/3HB_5_polymer/3HB_5_polymer.pdb',\n",
       " '/home/dan/polymersimulator/pdb_files/systems/3HB_5_polymer/3HB_5_infinite_polymer.pdb',\n",
       " '/home/dan/polymersimulator/pdb_files/systems/3HB_7_polymer/3HB_7_polymer_single_chain_24.pdb',\n",
       " '/home/dan/polymersimulator/pdb_files/systems/3HB_7_polymer/3HB_7_polymer.pdb',\n",
       " '/home/dan/polymersimulator/pdb_files/systems/3HB_4_polymer_3_3_array/3HB_4_polymer_3_3_array_42525.pdb',\n",
       " '/home/dan/polymersimulator/pdb_files/systems/3HB_4_polymer_3_3_array/unsolved_3HB_4_polymer_3_3_array.pdb',\n",
       " '/home/dan/polymersimulator/pdb_files/systems/3HB_4_polymer_3_3_array/solved_3HB_4_polymer_3_3_array.pdb',\n",
       " '/home/dan/polymersimulator/pdb_files/systems/3HB_8_polymer/3HB_8_polymer_single_chain_28.pdb',\n",
       " '/home/dan/polymersimulator/pdb_files/systems/3HB_8_polymer/3HB_8_polymer.pdb',\n",
       " '/home/dan/polymersimulator/pdb_files/systems/3HB_7_polymer_3_3_array/unsolved_3HB_7_polymer_3_3_array.pdb',\n",
       " '/home/dan/polymersimulator/pdb_files/systems/3HB_7_polymer_3_3_array/3HB_7_polymer_3_3_array_310000.pdb',\n",
       " '/home/dan/polymersimulator/pdb_files/systems/3HB_7_polymer_3_3_array/solved_3HB_7_polymer_3_3_array.pdb',\n",
       " '/home/dan/polymersimulator/pdb_files/systems/3HB_6_polymer/3HB_6_polymer.pdb',\n",
       " '/home/dan/polymersimulator/pdb_files/systems/3HB_6_polymer/3HB_6_polymer_single_chain_20.pdb',\n",
       " '/home/dan/polymersimulator/pdb_files/systems/3HB_3_polymer/3HB_3_polymer.pdb',\n",
       " '/home/dan/polymersimulator/pdb_files/systems/3HB_3_polymer/3HB_3_polymer_single_chain_11.pdb',\n",
       " '/home/dan/polymersimulator/pdb_files/systems/3HB_10_polymer/3HB_10_polymer.pdb',\n",
       " '/home/dan/polymersimulator/pdb_files/systems/3HB_10_polymer/solved_3HB_10_polymer_3_3_array.pdb',\n",
       " '/home/dan/polymersimulator/pdb_files/systems/3HB_10_polymer/3HB_10_polymer_single_chain_37.pdb',\n",
       " '/home/dan/polymersimulator/pdb_files/systems/3HB_12_polymer_single_chain_45/3HB_12_polymer_single_chain_45.pdb',\n",
       " '/home/dan/polymersimulator/pdb_files/systems/3HB_12_polymer_single_chain_45/2024-06-21_093625/min_3HB_12_polymer_single_chain_45.pdb',\n",
       " '/home/dan/polymersimulator/pdb_files/systems/3HB_12_polymer_single_chain_45/2024-06-21_093625/3HB_12_polymer_single_chain_45_1_atm_traj_2024-06-21_093625.pdb',\n",
       " '/home/dan/polymersimulator/pdb_files/systems/3HB_12_polymer_single_chain_45/2024-06-21_093625/3HB_12_polymer_single_chain_45_prod_traj_2024-06-21_093625.pdb',\n",
       " '/home/dan/polymersimulator/pdb_files/systems/3HB_12_polymer_single_chain_45/2024-06-21_093625/3HB_12_polymer_single_chain_45_anneal_2024-06-21_093625.pdb',\n",
       " '/home/dan/polymersimulator/pdb_files/systems/3HB_9_polymer_3_3_array/solved_3HB_9_polymer_3_3_array.pdb',\n",
       " '/home/dan/polymersimulator/pdb_files/systems/3HB_9_polymer_3_3_array/3HB_9_polymer_3_3_array_735875.pdb',\n",
       " '/home/dan/polymersimulator/pdb_files/systems/3HB_9_polymer_3_3_array/unsolved_3HB_9_polymer_3_3_array.pdb',\n",
       " '/home/dan/polymersimulator/pdb_files/systems/pb_wx_ft_72/2024-07-08_110333/pb_wx_ft_72_anneal_2024-07-08_110333.pdb',\n",
       " '/home/dan/polymersimulator/pdb_files/systems/pb_wx_ft_72/2024-07-08_110333/pb_wx_ft_72_prod_traj_2024-07-08_110333.pdb',\n",
       " '/home/dan/polymersimulator/pdb_files/systems/pb_wx_ft_72/2024-07-08_110333/min_pb_wx_ft_72.pdb',\n",
       " '/home/dan/polymersimulator/pdb_files/systems/pb_wx_ft_72/2024-07-08_110333/pb_wx_ft_72_1_atm_traj_2024-07-08_110333.pdb',\n",
       " '/home/dan/polymersimulator/pdb_files/systems/3HB_8_polymer_3_3_array/unsolved_3HB_8_polymer_3_3_array.pdb',\n",
       " '/home/dan/polymersimulator/pdb_files/systems/3HB_8_polymer_3_3_array/solved_3HB_8_polymer_3_3_array.pdb',\n",
       " '/home/dan/polymersimulator/pdb_files/systems/3HB_4_polymer/3HB_4_polymer_single_chain_13.pdb',\n",
       " '/home/dan/polymersimulator/pdb_files/systems/3HB_4_polymer/3HB_4_polymer.pdb',\n",
       " '/home/dan/polymersimulator/pdb_files/systems/3HB_9_polymer/3HB_9_polymer.pdb',\n",
       " '/home/dan/polymersimulator/pdb_files/systems/3HB_9_polymer/3HB_9_polymer_single_chain_33.pdb',\n",
       " '/home/dan/polymersimulator/pdb_files/systems/3HB_10_polymer_3_3_array/unsolved_3HB_10_polymer_3_3_array.pdb',\n",
       " '/home/dan/polymersimulator/pdb_files/systems/3HB_10_polymer_3_3_array/3HB_10_polymer.pdb',\n",
       " '/home/dan/polymersimulator/pdb_files/systems/3HB_10_polymer_3_3_array/3HB_10_polymer_3_3_array_980100.pdb',\n",
       " '/home/dan/polymersimulator/pdb_files/systems/3HB_10_polymer_3_3_array/solved_3HB_10_polymer_3_3_array.pdb',\n",
       " '/home/dan/polymersimulator/pdb_files/systems/chito/2024-06-28_150336/chito_1_atm_traj_2024-06-28_150336.pdb',\n",
       " '/home/dan/polymersimulator/pdb_files/systems/chito/2024-06-28_150336/min_chito.pdb',\n",
       " '/home/dan/polymersimulator/pdb_files/systems/chito/2024-06-28_150336/chito_prod_traj_2024-06-28_150336.pdb',\n",
       " '/home/dan/polymersimulator/pdb_files/systems/3HB_6_polymer_3_3_array/unsolved_3HB_6_polymer_3_3_array.pdb',\n",
       " '/home/dan/polymersimulator/pdb_files/systems/3HB_6_polymer_3_3_array/3HB_6_polymer_3_3_array_185600.pdb',\n",
       " '/home/dan/polymersimulator/pdb_files/systems/3HB_6_polymer_3_3_array/solved_3HB_6_polymer_3_3_array.pdb',\n",
       " '/home/dan/polymersimulator/pdb_files/systems/3HB_12_polymer_3_3_array/unsolved_3HB_12_polymer_3_3_array.pdb',\n",
       " '/home/dan/polymersimulator/pdb_files/systems/3HB_12_polymer_3_3_array/solved_3HB_12_polymer_3_3_array.pdb',\n",
       " '/home/dan/polymersimulator/pdb_files/systems/3HB_12_polymer_3_3_array/3HB_12_polymer_3_3_array_1554925.pdb',\n",
       " '/home/dan/polymersimulator/pdb_files/systems/3HB_11_polymer/3HB_11_polymer_single_chain_41.pdb',\n",
       " '/home/dan/polymersimulator/pdb_files/systems/3HB_11_polymer/3HB_11_polymer.pdb',\n",
       " '/home/dan/polymersimulator/pdb_files/systems/3HB_5_polymer_3_3_array/unsolved_3HB_5_polymer_3_3_array.pdb',\n",
       " '/home/dan/polymersimulator/pdb_files/systems/3HB_5_polymer_3_3_array/3HB_5_polymer_3_3_array_105625.pdb',\n",
       " '/home/dan/polymersimulator/pdb_files/systems/3HB_5_polymer_3_3_array/solved_3HB_5_polymer_3_3_array.pdb',\n",
       " '/home/dan/polymersimulator/pdb_files/systems/3HB_11_polymer_3_3_array/unsolved_3HB_11_polymer_3_3_array.pdb',\n",
       " '/home/dan/polymersimulator/pdb_files/systems/3HB_11_polymer_3_3_array/solved_3HB_11_polymer_3_3_array.pdb',\n",
       " '/home/dan/polymersimulator/pdb_files/systems/3HB_11_polymer_3_3_array/3HB_11_polymer_3_3_array_1266325.pdb',\n",
       " '/home/dan/polymersimulator/pdb_files/systems/3HB_3_polymer_3_3_array/3HB_3_polymer_3_3_array_20825.pdb',\n",
       " '/home/dan/polymersimulator/pdb_files/systems/3HB_3_polymer_3_3_array/unsolved_3HB_3_polymer_3_3_array.pdb',\n",
       " '/home/dan/polymersimulator/pdb_files/systems/3HB_3_polymer_3_3_array/solved_3HB_3_polymer_3_3_array.pdb',\n",
       " '/home/dan/polymersimulator/pdb_files/systems/3HB_12_polymer/3HB_12_polymer_single_chain_45.pdb',\n",
       " '/home/dan/polymersimulator/pdb_files/systems/3HB_12_polymer/3HB_12_polymer.pdb']"
      ]
     },
     "execution_count": 15,
     "metadata": {},
     "output_type": "execute_result"
    }
   ],
   "source": [
    "# Method to return a list of available pdb files - this returns the fullpath so it can be integrated with any other needs and looped through easily.\n",
    "pdb_avail = manager.pdb_files_avail()\n",
    "\n",
    "# Print the list\n",
    "pdb_avail"
   ]
  },
  {
   "cell_type": "code",
   "execution_count": 16,
   "id": "773ec6f1-4f47-42e3-8ff8-3a1b4a010d50",
   "metadata": {},
   "outputs": [
    {
     "name": "stdout",
     "output_type": "stream",
     "text": [
      "/home/dan/polymersimulator/pdb_files/Phenol.pdb\n"
     ]
    }
   ],
   "source": [
    "# Method to load a pdb filepath - pass a system name as a string\n",
    "pdb_file = manager.load_pdb_filepath(\"Phenol\")\n",
    "\n",
    "# Print the pdb filepath\n",
    "print(pdb_file)\n",
    "\n",
    "## Note: if the file doesn't exist, 'None' will be returned. Either the file does not exist or you should check for spelling mistakes in the system name. ##"
   ]
  },
  {
   "cell_type": "code",
   "execution_count": 17,
   "id": "52742c48-7aa7-44a4-9f1a-953b06dec962",
   "metadata": {},
   "outputs": [
    {
     "data": {
      "text/plain": [
       "['/home/dan/polymersimulator/pdb_files/molecules/3HB_trimer/3HB_trimer.ac',\n",
       " '/home/dan/polymersimulator/pdb_files/molecules/3HB_trimer/.ipynb_checkpoints/3HB_trimer-checkpoint.ac']"
      ]
     },
     "execution_count": 17,
     "metadata": {},
     "output_type": "execute_result"
    }
   ],
   "source": [
    "# Method to return a list of available ac files - this returns the fullpath so it can be integrated with any other needs and looped through easily.\n",
    "ac_avail = manager.ac_files_avail()\n",
    "\n",
    "# Print the list\n",
    "ac_avail"
   ]
  },
  {
   "cell_type": "code",
   "execution_count": 18,
   "id": "b24df3df-f1ed-4d18-9d2d-502826b20ae6",
   "metadata": {},
   "outputs": [
    {
     "name": "stdout",
     "output_type": "stream",
     "text": [
      "\n",
      "Remember you need both .prmtop and .rst7 files to run a simulation\n"
     ]
    },
    {
     "data": {
      "text/plain": [
       "['/home/dan/polymersimulator/pdb_files/systems/3HB_5_polymer/3HB_5_polymer_minimized.rst7',\n",
       " '/home/dan/polymersimulator/pdb_files/systems/3HB_5_polymer/3HB_5_infinite_polymer.rst7',\n",
       " '/home/dan/polymersimulator/pdb_files/systems/3HB_5_polymer/3HB_5_polymer.rst7',\n",
       " '/home/dan/polymersimulator/pdb_files/systems/3HB_5_polymer/3HB_5_polymer_single_chain_17.rst7',\n",
       " '3HB_5_infinite_polymer.prmtop',\n",
       " '3HB_5_polymer.prmtop',\n",
       " '3HB_5_polymer_single_chain_17.prmtop',\n",
       " '/home/dan/polymersimulator/pdb_files/systems/3HB_7_polymer/3HB_7_polymer_single_chain_24.rst7',\n",
       " '/home/dan/polymersimulator/pdb_files/systems/3HB_7_polymer/3HB_7_polymer.rst7',\n",
       " '3HB_7_polymer_single_chain_24.prmtop',\n",
       " '3HB_7_polymer.prmtop',\n",
       " '/home/dan/polymersimulator/pdb_files/systems/3HB_7_polymer/3HB_7_polymer_minimized.rst7',\n",
       " 'unsolved_3HB_4_polymer_3_3_array.prmtop',\n",
       " '/home/dan/polymersimulator/pdb_files/systems/3HB_4_polymer_3_3_array/3HB_4_polymer_3_3_array_42525.rst7',\n",
       " '/home/dan/polymersimulator/pdb_files/systems/3HB_4_polymer_3_3_array/unsolved_3HB_4_polymer_3_3_array.rst7',\n",
       " '3HB_4_polymer_3_3_array_432.prmtop',\n",
       " '3HB_4_polymer_3_3_array_42525.prmtop',\n",
       " '/home/dan/polymersimulator/pdb_files/systems/3HB_4_polymer_3_3_array/3HB_4_polymer_3_3_array_432.rst7',\n",
       " '/home/dan/polymersimulator/pdb_files/systems/3HB_8_polymer/3HB_8_polymer_single_chain_28.rst7',\n",
       " '3HB_8_polymer_single_chain_28.prmtop',\n",
       " '/home/dan/polymersimulator/pdb_files/systems/3HB_8_polymer/3HB_8_polymer.rst7',\n",
       " '3HB_8_polymer.prmtop',\n",
       " '/home/dan/polymersimulator/pdb_files/systems/3HB_7_polymer_3_3_array/3HB_7_polymer_3_3_array_2128.rst7',\n",
       " '/home/dan/polymersimulator/pdb_files/systems/3HB_7_polymer_3_3_array/3HB_7_polymer_3_3_array_310000.rst7',\n",
       " '3HB_7_polymer_3_3_array_310000.prmtop',\n",
       " '/home/dan/polymersimulator/pdb_files/systems/3HB_7_polymer_3_3_array/unsolved_3HB_7_polymer_3_3_array.rst7',\n",
       " '3HB_7_polymer_3_3_array_2128.prmtop',\n",
       " 'unsolved_3HB_7_polymer_3_3_array.prmtop',\n",
       " '/home/dan/polymersimulator/pdb_files/systems/3HB_6_polymer/3HB_6_polymer_minimized.rst7',\n",
       " '3HB_6_polymer.prmtop',\n",
       " '/home/dan/polymersimulator/pdb_files/systems/3HB_6_polymer/3HB_6_polymer.rst7',\n",
       " '3HB_6_polymer_single_chain_20.prmtop',\n",
       " '/home/dan/polymersimulator/pdb_files/systems/3HB_6_polymer/3HB_6_polymer_single_chain_20.rst7',\n",
       " '/home/dan/polymersimulator/pdb_files/systems/3HB_3_polymer/3HB_3_polymer_minimized.rst7',\n",
       " '3HB_3_polymer_single_chain_11.prmtop',\n",
       " '/home/dan/polymersimulator/pdb_files/systems/3HB_3_polymer/3HB_3_polymer_single_chain_11.rst7',\n",
       " '3HB_3_polymer.prmtop',\n",
       " '/home/dan/polymersimulator/pdb_files/systems/3HB_3_polymer/3HB_3_polymer.rst7',\n",
       " '/home/dan/polymersimulator/pdb_files/systems/3HB_10_polymer/3HB_10_polymer_minimized.rst7',\n",
       " '3HB_10_polymer.prmtop',\n",
       " '/home/dan/polymersimulator/pdb_files/systems/3HB_10_polymer/3HB_10_polymer_single_chain_37.rst7',\n",
       " '3HB_10_polymer_single_chain_37.prmtop',\n",
       " '/home/dan/polymersimulator/pdb_files/systems/3HB_10_polymer/3HB_10_polymer.rst7',\n",
       " '/home/dan/polymersimulator/pdb_files/systems/3HB_12_polymer_single_chain_45/3HB_12_polymer_single_chain_45.rst7',\n",
       " '3HB_12_polymer_single_chain_45.prmtop',\n",
       " '3HB_9_polymer_3_3_array_735875.prmtop',\n",
       " '/home/dan/polymersimulator/pdb_files/systems/3HB_9_polymer_3_3_array/3HB_9_polymer_3_3_array_735875.rst7',\n",
       " '3HB_9_polymer_3_3_array_5376.prmtop',\n",
       " 'unsolved_3HB_9_polymer_3_3_array.prmtop',\n",
       " '/home/dan/polymersimulator/pdb_files/systems/3HB_9_polymer_3_3_array/unsolved_3HB_9_polymer_3_3_array.rst7',\n",
       " '/home/dan/polymersimulator/pdb_files/systems/3HB_9_polymer_3_3_array/3HB_9_polymer_3_3_array_5376.rst7',\n",
       " '3HB_8_polymer_3_3_array_3565.prmtop',\n",
       " '/home/dan/polymersimulator/pdb_files/systems/3HB_8_polymer_3_3_array/3HB_8_polymer_3_3_array_3565.rst7',\n",
       " '3HB_4_polymer.prmtop',\n",
       " '/home/dan/polymersimulator/pdb_files/systems/3HB_4_polymer/3HB_4_polymer_single_chain_13.rst7',\n",
       " '/home/dan/polymersimulator/pdb_files/systems/3HB_4_polymer/3HB_4_polymer_minimized.rst7',\n",
       " '/home/dan/polymersimulator/pdb_files/systems/3HB_4_polymer/3HB_4_polymer.rst7',\n",
       " '3HB_4_polymer_single_chain_13.prmtop',\n",
       " '/home/dan/polymersimulator/pdb_files/systems/3HB_9_polymer/3HB_9_polymer.rst7',\n",
       " '3HB_9_polymer.prmtop',\n",
       " '/home/dan/polymersimulator/pdb_files/systems/3HB_9_polymer/3HB_9_polymer_single_chain_33.rst7',\n",
       " '3HB_9_polymer_single_chain_33.prmtop',\n",
       " '/home/dan/polymersimulator/pdb_files/systems/3HB_9_polymer/3HB_9_polymer_minimized.rst7',\n",
       " '3HB_10_polymer_3_3_array_65325.prmtop',\n",
       " '3HB_10_polymer_3_3_array_26400.prmtop',\n",
       " '/home/dan/polymersimulator/pdb_files/systems/3HB_10_polymer_3_3_array/3HB_10_polymer_3_3_array_980100.rst7',\n",
       " '/home/dan/polymersimulator/pdb_files/systems/3HB_10_polymer_3_3_array/3HB_10_polymer_3_3_array_7392.rst7',\n",
       " '/home/dan/polymersimulator/pdb_files/systems/3HB_10_polymer_3_3_array/3HB_10_polymer_3_3_array_26400.rst7',\n",
       " '/home/dan/polymersimulator/pdb_files/systems/3HB_10_polymer_3_3_array/3HB_10_polymer_3_3_array_65325.rst7',\n",
       " 'unsolved_3HB_10_polymer_3_3_array.prmtop',\n",
       " '3HB_10_polymer_3_3_array_7392.prmtop',\n",
       " '/home/dan/polymersimulator/pdb_files/systems/3HB_10_polymer_3_3_array/unsolved_3HB_10_polymer_3_3_array.rst7',\n",
       " '3HB_10_polymer_3_3_array_980100.prmtop',\n",
       " '3HB_6_polymer_3_3_array_185600.prmtop',\n",
       " '/home/dan/polymersimulator/pdb_files/systems/3HB_6_polymer_3_3_array/3HB_6_polymer_3_3_array_1560.rst7',\n",
       " 'unsolved_3HB_6_polymer_3_3_array.prmtop',\n",
       " '3HB_6_polymer_3_3_array_1560.prmtop',\n",
       " '/home/dan/polymersimulator/pdb_files/systems/3HB_6_polymer_3_3_array/unsolved_3HB_6_polymer_3_3_array.rst7',\n",
       " '/home/dan/polymersimulator/pdb_files/systems/3HB_6_polymer_3_3_array/3HB_6_polymer_3_3_array_185600.rst7',\n",
       " 'unsolved_3HB_12_polymer_3_3_array.prmtop',\n",
       " '/home/dan/polymersimulator/pdb_files/systems/3HB_12_polymer_3_3_array/3HB_12_polymer_3_3_array_16320.rst7',\n",
       " '/home/dan/polymersimulator/pdb_files/systems/3HB_12_polymer_3_3_array/3HB_12_polymer_3_3_array_1554925.rst7',\n",
       " '/home/dan/polymersimulator/pdb_files/systems/3HB_12_polymer_3_3_array/unsolved_3HB_12_polymer_3_3_array.rst7',\n",
       " '3HB_12_polymer_3_3_array_16320.prmtop',\n",
       " '3HB_12_polymer_3_3_array_1554925.prmtop',\n",
       " '/home/dan/polymersimulator/pdb_files/systems/3HB_11_polymer/3HB_11_polymer_minimized.rst7',\n",
       " '/home/dan/polymersimulator/pdb_files/systems/3HB_11_polymer/3HB_11_polymer_single_chain_41.rst7',\n",
       " '3HB_11_polymer.prmtop',\n",
       " '3HB_11_polymer_single_chain_41.prmtop',\n",
       " '/home/dan/polymersimulator/pdb_files/systems/3HB_11_polymer/3HB_11_polymer.rst7',\n",
       " 'unsolved_3HB_5_polymer_3_3_array.prmtop',\n",
       " '3HB_5_polymer_3_3_array_105625.prmtop',\n",
       " '/home/dan/polymersimulator/pdb_files/systems/3HB_5_polymer_3_3_array/unsolved_3HB_5_polymer_3_3_array.rst7',\n",
       " '/home/dan/polymersimulator/pdb_files/systems/3HB_5_polymer_3_3_array/3HB_5_polymer_3_3_array_105625.rst7',\n",
       " '3HB_5_polymer_3_3_array_1056.prmtop',\n",
       " '/home/dan/polymersimulator/pdb_files/systems/3HB_5_polymer_3_3_array/3HB_5_polymer_3_3_array_1056.rst7',\n",
       " 'unsolved_3HB_11_polymer_3_3_array.prmtop',\n",
       " '3HB_11_polymer_3_3_array_11016.prmtop',\n",
       " '/home/dan/polymersimulator/pdb_files/systems/3HB_11_polymer_3_3_array/unsolved_3HB_11_polymer_3_3_array.rst7',\n",
       " '3HB_11_polymer_3_3_array_1266325.prmtop',\n",
       " '/home/dan/polymersimulator/pdb_files/systems/3HB_11_polymer_3_3_array/3HB_11_polymer_3_3_array_1266325.rst7',\n",
       " '/home/dan/polymersimulator/pdb_files/systems/3HB_11_polymer_3_3_array/3HB_11_polymer_3_3_array_11016.rst7',\n",
       " '/home/dan/polymersimulator/pdb_files/systems/3HB_3_polymer_3_3_array/unsolved_3HB_3_polymer_3_3_array.rst7',\n",
       " '/home/dan/polymersimulator/pdb_files/systems/3HB_3_polymer_3_3_array/3HB_3_polymer_3_3_array_252.rst7',\n",
       " '3HB_3_polymer_3_3_array_252.prmtop',\n",
       " '/home/dan/polymersimulator/pdb_files/systems/3HB_3_polymer_3_3_array/3HB_3_polymer_3_3_array_20825.rst7',\n",
       " '3HB_3_polymer_3_3_array_20825.prmtop',\n",
       " 'unsolved_3HB_3_polymer_3_3_array.prmtop',\n",
       " '/home/dan/polymersimulator/pdb_files/systems/3HB_12_polymer/3HB_12_polymer_minimized.rst7',\n",
       " '/home/dan/polymersimulator/pdb_files/systems/3HB_12_polymer/3HB_12_polymer_single_chain_45.rst7',\n",
       " '3HB_12_polymer.prmtop',\n",
       " '/home/dan/polymersimulator/pdb_files/systems/3HB_12_polymer/3HB_12_polymer.rst7',\n",
       " '3HB_12_polymer_single_chain_45.prmtop']"
      ]
     },
     "execution_count": 18,
     "metadata": {},
     "output_type": "execute_result"
    }
   ],
   "source": [
    "# Method to return a list of available amber systems\n",
    "amber_syst_avail = manager.amber_systems_avail()\n",
    "\n",
    "# Print the list\n",
    "amber_syst_avail"
   ]
  },
  {
   "cell_type": "code",
   "execution_count": 19,
   "id": "34adf762-ed05-4827-abaa-c8e4475bb70f",
   "metadata": {},
   "outputs": [
    {
     "name": "stdout",
     "output_type": "stream",
     "text": [
      "('/home/dan/polymersimulator/pdb_files/systems/3HB_5_polymer/3HB_5_polymer.prmtop', '/home/dan/polymersimulator/pdb_files/systems/3HB_5_polymer/3HB_5_polymer.rst7')\n"
     ]
    }
   ],
   "source": [
    "# Method to load a amber filepaths (.prmtop and .rst7 files) - pass a system/molecule name as a string\n",
    "# This function was previolsy called 'retrieve_top_crds'\n",
    "amber_files = manager.load_amber_filepaths(\"3HB_5_polymer\")\n",
    "\n",
    "# Print the packmol filepath\n",
    "print(amber_files)\n",
    "\n",
    "## Note: if the file doesn't exist, 'None' will be returned. Either the file does not exist or you should check for spelling mistakes in the system/moleule name."
   ]
  },
  {
   "cell_type": "code",
   "execution_count": 23,
   "id": "a14e572f-2888-4a46-b682-9ea0e57a30b0",
   "metadata": {},
   "outputs": [
    {
     "name": "stdout",
     "output_type": "stream",
     "text": [
      "(None, [], [], [])\n"
     ]
    }
   ],
   "source": [
    "# Method to retrieve topology and trajectory files post-simulation for use with MDanalysis - pass the system name as a string\n",
    "files_for_analysis = manager.retrieve_files_for_MDanalysis(\"pb_ph_fp_41\")\n",
    "\n",
    "# Print the file names\n",
    "print(files_for_analysis)"
   ]
  },
  {
   "cell_type": "markdown",
   "id": "8c71547f-be34-40df-9e3d-71fd13fd38ee",
   "metadata": {},
   "source": [
    "There are also a couple of functions that can return residue codes for molecules and polymers"
   ]
  },
  {
   "cell_type": "code",
   "execution_count": 25,
   "id": "6f744dc3-064c-4b8b-bf4a-987597298975",
   "metadata": {},
   "outputs": [
    {
     "name": "stdout",
     "output_type": "stream",
     "text": [
      "AAJ\n"
     ]
    }
   ],
   "source": [
    "# Method to retrieve a residue code - pass molecule name as a string\n",
    "res_code = manager.retrieve_rescode(\"Phenol\")\n",
    "\n",
    "# Print the residue code\n",
    "print(res_code)"
   ]
  },
  {
   "cell_type": "code",
   "execution_count": 27,
   "id": "6a5009b7-8d95-46c2-9f8e-79d1b44b00b5",
   "metadata": {},
   "outputs": [
    {
     "name": "stdout",
     "output_type": "stream",
     "text": [
      "('hAD', 'mAD', 'tAD')\n"
     ]
    }
   ],
   "source": [
    "# Method to retrieve residue codes for polymeric units - pass polymer name with '_trimer' tag.\n",
    "# A trimer is passed as polymeric units are derived from the trimer\n",
    "polymeric_res_codes = manager.retrieve_polymeric_rescodes(\"3HB_trimer\")\n",
    "\n",
    "# Print the residue codes\n",
    "print(polymeric_res_codes)"
   ]
  }
 ],
 "metadata": {
  "kernelspec": {
   "display_name": "Python 3 (ipykernel)",
   "language": "python",
   "name": "python3"
  },
  "language_info": {
   "codemirror_mode": {
    "name": "ipython",
    "version": 3
   },
   "file_extension": ".py",
   "mimetype": "text/x-python",
   "name": "python",
   "nbconvert_exporter": "python",
   "pygments_lexer": "ipython3",
   "version": "3.12.0"
  }
 },
 "nbformat": 4,
 "nbformat_minor": 5
}
