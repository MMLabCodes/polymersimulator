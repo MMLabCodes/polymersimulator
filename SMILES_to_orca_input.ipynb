{
 "cells": [
  {
   "cell_type": "markdown",
   "id": "f1fbde81-3f80-41d6-a52b-52386ddfa252",
   "metadata": {
    "jp-MarkdownHeadingCollapsed": true
   },
   "source": [
    "# Generating ORCA input files from SMILES strings\n",
    "\n",
    "This notebook will cover the generation of ORCA input files from SMILES strings.\n",
    "\n",
    "Other things will also be covered here:\n",
    "- Parameterization of a molecule from it's SMILES string (just in case we want to do classic molecular dynamics using these molecules)"
   ]
  },
  {
   "cell_type": "markdown",
   "id": "8d3836b0-b805-4c38-8dd7-a654709d2624",
   "metadata": {},
   "source": [
    "# Step 1 - set up manager and builder objects"
   ]
  },
  {
   "cell_type": "code",
   "execution_count": 1,
   "id": "84237aa2-fcf3-4714-9293-6027051f8f89",
   "metadata": {},
   "outputs": [],
   "source": [
    "# Import python modules\n",
    "from modules.sw_directories import *\n",
    "from modules.sw_build_systems import *\n",
    "import os as os"
   ]
  },
  {
   "cell_type": "code",
   "execution_count": 2,
   "id": "d7be5f81-cf5c-4593-8d42-fbd2bf50d92f",
   "metadata": {},
   "outputs": [],
   "source": [
    "# Set up manager and builder\n",
    "manager = SnippetSimManage(os.getcwd())\n",
    "builder = BuildAmberSystems(manager)"
   ]
  },
  {
   "cell_type": "markdown",
   "id": "32c6fcc9-293b-4735-9fc8-d07211268295",
   "metadata": {},
   "source": [
    "# Step 2 - Parameterize the molecule\n",
    "\n",
    "As mentioned before, this is not needed (at all) for the generation of an ORCA input file, but this could come in handy later down the line. It will give the ability to run simulations of the parameterized molecules."
   ]
  },
  {
   "cell_type": "code",
   "execution_count": 3,
   "id": "a93a8ab6-0bd5-4a65-bf15-30ccd8ab5c64",
   "metadata": {},
   "outputs": [],
   "source": [
    "# Give the molecule name and it's smiles\n",
    "molecule_name = \"ELO\"\n",
    "smiles = \"C1=CC(=C(C=C1O)OCC2CO2)O\""
   ]
  },
  {
   "cell_type": "code",
   "execution_count": 4,
   "id": "58face25-6bd1-4654-abb2-abd2ee311f9e",
   "metadata": {},
   "outputs": [],
   "source": [
    "# Build a molecule with a residue code\n",
    "pdb_file = builder.SmilesToPDB_GenResCode(smiles, molecule_name)"
   ]
  },
  {
   "cell_type": "code",
   "execution_count": null,
   "id": "33ca1053-026c-41e9-8b30-0098746e073a",
   "metadata": {},
   "outputs": [],
   "source": [
    "# Generate and assign charges to each atom\n",
    "ac_file = builder.gen_ac_file(molecule_name)"
   ]
  },
  {
   "cell_type": "code",
   "execution_count": null,
   "id": "9e0ca97c-8931-4851-a930-367bda5f8b3b",
   "metadata": {
    "scrolled": true
   },
   "outputs": [],
   "source": [
    "# Parameterize caffeine\n",
    "builder.parameterize_mol(molecule_name)"
   ]
  },
  {
   "cell_type": "markdown",
   "id": "aba3b9c5-3bae-4d2a-9952-28f86512575d",
   "metadata": {},
   "source": [
    "This has generated a folder for our molecule - now we can transform the .pdb file to an .xyz file"
   ]
  },
  {
   "cell_type": "markdown",
   "id": "241191e9-d9c0-405f-a1cf-0b38f13fb9ea",
   "metadata": {},
   "source": [
    "# Step 3 - Generating xyz coordinates from the .pdb file"
   ]
  },
  {
   "cell_type": "code",
   "execution_count": 14,
   "id": "e68293c2-735a-45fb-bd36-c15cedde4753",
   "metadata": {},
   "outputs": [
    {
     "name": "stdout",
     "output_type": "stream",
     "text": [
      "Conversion successful: /home/dan/polymersimulator/pdb_files/molecules/ELO/ELO.pdb → /home/dan/polymersimulator/pdb_files/molecules/ELO/ELO.xyz\n"
     ]
    }
   ],
   "source": [
    "# Generate a xyz file from the pdb file\n",
    "xyz_file = builder.PDBToXYZ(molecule_name)"
   ]
  },
  {
   "cell_type": "markdown",
   "id": "b83c4d87-6b01-426c-8c85-9c015cc94281",
   "metadata": {},
   "source": [
    "# Step 4 - Generate ORCA input file"
   ]
  },
  {
   "cell_type": "code",
   "execution_count": null,
   "id": "2c42e1c9-70d4-488d-9cab-4fecc4b4fb2e",
   "metadata": {},
   "outputs": [],
   "source": [
    "# Import orca generation script\n",
    "from modules.sw_file_formatter import *"
   ]
  },
  {
   "cell_type": "code",
   "execution_count": null,
   "id": "293168ae-6506-43a1-ae09-42b2e128ab49",
   "metadata": {},
   "outputs": [],
   "source": [
    "# Set up orca_generator\n",
    "orca_generator = DFT_input_generator()"
   ]
  },
  {
   "cell_type": "markdown",
   "id": "c7b945f5-d8d4-4c7b-9019-fbeca331c929",
   "metadata": {},
   "source": []
  },
  {
   "cell_type": "code",
   "execution_count": null,
   "id": "ea92bff4-bd94-4eb9-b357-9851b7661832",
   "metadata": {},
   "outputs": [],
   "source": [
    "# Create input file name\n",
    "inp_file = xyz_file.replace(\".xyz\", \".inp\")"
   ]
  },
  {
   "cell_type": "code",
   "execution_count": null,
   "id": "5710c4bc-62cb-4b95-8a8f-5d45d21daad6",
   "metadata": {},
   "outputs": [],
   "source": [
    "# Generate the orca input\n",
    "orca_generator.generate_input(xyz_file, inp_file, system_name)"
   ]
  }
 ],
 "metadata": {
  "kernelspec": {
   "display_name": "Python 3 (ipykernel)",
   "language": "python",
   "name": "python3"
  },
  "language_info": {
   "codemirror_mode": {
    "name": "ipython",
    "version": 3
   },
   "file_extension": ".py",
   "mimetype": "text/x-python",
   "name": "python",
   "nbconvert_exporter": "python",
   "pygments_lexer": "ipython3",
   "version": "3.12.0"
  }
 },
 "nbformat": 4,
 "nbformat_minor": 5
}
