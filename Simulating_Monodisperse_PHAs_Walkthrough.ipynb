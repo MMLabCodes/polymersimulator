{
 "cells": [
  {
   "cell_type": "markdown",
   "id": "0eb25e80-bf28-4ae5-8a56-5e020a171040",
   "metadata": {},
   "source": [
    "# Simulating monodisperse PHAs - walkthrough\n",
    "\n",
    "This notebook will cover how to build polymers and run simulations of polhydroxyalkanotes from pre-generated parameters.\n",
    "\n",
    "The associated documentation **https://polymersimulator.readthedocs.io** will contain much more detailed information on:\n",
    "\n",
    "- How to build and parameterize any polymer\n",
    "- How to run simulations in openmm using **Amber** or **Gromacs** inputs\n",
    "- How to analyse simulations\n",
    "- And much more...\n",
    "\n",
    "However, the focus here will be on getting to simulations of PHAs as quickly as possible using the parameters already generated which can be found in the cloned repository:\n",
    "\n",
    "    NEED TO UPLOAD FILES TO GITHUB AND MENTION WHERE THEY ARE FOUND "
   ]
  },
  {
   "cell_type": "markdown",
   "id": "e77a73e7-fec7-4768-b017-a2d2e419bd8e",
   "metadata": {},
   "source": [
    "# 1. What PHAs are included?\n",
    "\n",
    "Before running any code, 30 different PHAs have already been parameterized and can be found here:\n",
    "\n",
    "https://polymersimulator.readthedocs.io/en/latest/simulating_phas.html#taking-a-look-at-pre-parameterized-phas"
   ]
  },
  {
   "cell_type": "markdown",
   "id": "f1986519-aff7-47e3-8d51-0df2beafba28",
   "metadata": {},
   "source": [
    "# 2. Import modules\n",
    "\n",
    "A range of python modules have been developed for this package (and are explained in more detail with their own documentation), however, many of them are not needed for this notebook. \n",
    "\n",
    "To buuld polymers, 3 different modules are required:\n",
    "\n",
    "- sw_directories\n",
    "- sw_build_systems\n",
    "- os\n",
    "\n",
    "**sw_directories**: A filepath manager that can load and save different parameters for systems.\n",
    "\n",
    "**sw_build_systems**: A module containing different classes to build polymers, create systems and save parameters.\n",
    "\n",
    "**os**: Obtains filepath to base directory to initialise filepath manager."
   ]
  },
  {
   "cell_type": "code",
   "execution_count": 1,
   "id": "a2b3500b-a41d-45c1-897b-550184236a29",
   "metadata": {},
   "outputs": [],
   "source": [
    "# Import required modules\n",
    "from modules.sw_directories import *\n",
    "from modules.sw_build_systems import *\n",
    "import os as os"
   ]
  },
  {
   "cell_type": "markdown",
   "id": "c3c67092-db56-40e9-9b7f-f0a4d7a762de",
   "metadata": {},
   "source": [
    "# 3. Initialise manager and builder objects\n",
    "\n",
    "Now the modules are loaded, 2 different classes are called **PolySimManage** and **BuildAmberSystems** to create the **manager** and **builder** objects.\n",
    "\n",
    "<div class=\"alert alert-block alert-info\">\n",
    "<b>Note:</b> In Python, these objects are called **classes**.  \n",
    "Classes can contain **functions**, which are called **methods**, that define the behaviors of the objects.\n",
    "</div>"
   ]
  },
  {
   "cell_type": "code",
   "execution_count": 2,
   "id": "b2ee3de9-f790-4c27-89fe-2fcb0df9ec00",
   "metadata": {
    "jp-MarkdownHeadingCollapsed": true
   },
   "outputs": [],
   "source": [
    "# Initialise manager and builder\n",
    "manager = PolySimManage(os.getcwd()) # comes from the sw_directories module\n",
    "builder = BuildAmberSystems(manager) # comes from the sw_build_systems module"
   ]
  },
  {
   "cell_type": "markdown",
   "id": "9d6e5e5d-cd74-466c-92fa-96f766aedc90",
   "metadata": {},
   "source": [
    "# 4. Build a polymer\n",
    "\n",
    "To build a polymer, 2 things are required:\n",
    "\n",
    "- Name of the base_trimer\n",
    "- Length of the desired polymer\n",
    " \n",
    "<div class=\"alert alert-block alert-info\">\n",
    "<b>Note:</b> All PHAs have been parameterized using GAFF2 and abcg2 charges\n",
    "</div>\n",
    "\n",
    "## 4.1. Inputs\n",
    "\n",
    "### Name of the base trimer\n",
    "\n",
    "The name of the base trimer is required because PHAs are built from **head**, **mainchain** and **tail** units derived from trimers - by giving the base_trimer name, the **manager**\n",
    "object will be able to load the required units to build the polymer. The format follows this pattern:\n",
    "\n",
    "```python\n",
    "   prefix = \"3HB\" # or \"4HB\", \"5HV\", \"3H4MeV\", etc...\n",
    "   trimer_base_name = f\"{prefix}_trimer\"\n",
    "```\n",
    "With available **prefixes** given in **bold** the list of pre-parameterized PHAs: https://polymersimulator.readthedocs.io/en/latest/simulating_phas.html#taking-a-look-at-pre-parameterized-phas\n",
    "\n",
    "### Length of the desired polymer\n",
    "\n",
    "This is straight forward, to buid a polymer with 10 units define a variable, **poly_len** as so:\n",
    "\n",
    "```python\n",
    "   poly_len = 10\n",
    "```\n",
    "This can be any number (although it is probably not a good idea to build a 1000000-mer)\n"
   ]
  },
  {
   "cell_type": "code",
   "execution_count": 3,
   "id": "08f6a561-7ac9-4ac2-b8d6-b24783a88757",
   "metadata": {},
   "outputs": [],
   "source": [
    "# Name the trimer base name and the number units the final polymer will include\n",
    "prefix = \"3HB\"                      \n",
    "trimer_base_name = f\"{prefix}_trimer\" \n",
    "number_of_units = 10                 "
   ]
  },
  {
   "cell_type": "markdown",
   "id": "c247e6b4-3cff-4c6e-b84e-b71c1d827988",
   "metadata": {},
   "source": [
    "## 4.2. Building a polymer pdb file\n",
    "\n",
    "The next step is building the polymer. The 2 variables just defined are passed to the **gen_polymer_pdb_and_params** method of the builder class and the outputs are assigned to a variable named **polymer**\n",
    "\n",
    "```python\n",
    "   polymer = builder.gen_polymer_pdb_and_params(base_name=trime_base_name, number_of_units=number_of_units)\n",
    "```\n",
    "<div class=\"alert alert-block alert-info\">\n",
    "<b>Note:</b>The output from this function is a pdb file and amber topology/coordinate files, the uses of these files are explained further on in the notebook.\n",
    "</div>"
   ]
  },
  {
   "cell_type": "code",
   "execution_count": 4,
   "id": "81a5d56a-22d8-4e33-a6e9-9b785b9f1dbe",
   "metadata": {
    "scrolled": true
   },
   "outputs": [
    {
     "name": "stdout",
     "output_type": "stream",
     "text": [
      "Current directory: /home/dan/polymersimulator/pdb_files/molecules/3HB_trimer\n",
      "Output: -I: Adding /home/dan/miniconda3/envs/AmberTools23/dat/leap/prep to search path.\n",
      "-I: Adding /home/dan/miniconda3/envs/AmberTools23/dat/leap/lib to search path.\n",
      "-I: Adding /home/dan/miniconda3/envs/AmberTools23/dat/leap/parm to search path.\n",
      "-I: Adding /home/dan/miniconda3/envs/AmberTools23/dat/leap/cmd to search path.\n",
      "-f: Source 3HB_10_polymer.intleap.\n",
      "\n",
      "Welcome to LEaP!\n",
      "(no leaprc in search path)\n",
      "Sourcing: ./3HB_10_polymer.intleap\n",
      "Loading Prep file: ./head_3HB_trimer.prepi\n",
      "Loading Prep file: ./mainchain_3HB_trimer.prepi\n",
      "Loading Prep file: ./tail_3HB_trimer.prepi\n",
      "----- Source: /home/dan/miniconda3/envs/AmberTools23/dat/leap/cmd/leaprc.gaff\n",
      "----- Source of /home/dan/miniconda3/envs/AmberTools23/dat/leap/cmd/leaprc.gaff done\n",
      "Log file: ./leap.log\n",
      "Loading parameters: /home/dan/miniconda3/envs/AmberTools23/dat/leap/parm/gaff.dat\n",
      "Reading title:\n",
      "AMBER General Force Field for organic molecules (Version 1.81, May 2017)\n",
      "gaff      hAD       mAD       tAD       \n",
      "Box dimensions:  46.363953 36.115773 49.686593\n",
      "Checking Unit.\n",
      "Building topology.\n",
      "Building atom parameters.\n",
      "Building bond parameters.\n",
      "Building angle parameters.\n",
      "Building proper torsion parameters.\n",
      "Building improper torsion parameters.\n",
      "old PREP-specified impropers:\n",
      " <hAD 1>:  C18  O12  C13  O14 \n",
      " <mAD 2>:  C2   O9   C8   O16 \n",
      " <mAD 3>:  C2   O9   C8   O16 \n",
      " <mAD 4>:  C2   O9   C8   O16 \n",
      " <mAD 5>:  C2   O9   C8   O16 \n",
      " <mAD 6>:  C2   O9   C8   O16 \n",
      " <mAD 7>:  C2   O9   C8   O16 \n",
      " <mAD 8>:  C2   O9   C8   O16 \n",
      " <mAD 9>:  C2   O9   C8   O16 \n",
      " <tAD 10>:  C28  O29  C27  O5  \n",
      " total 10 improper torsions applied\n",
      " 10 improper torsions in old prep form\n",
      "Building H-Bond parameters.\n",
      "Incorporating Non-Bonded adjustments.\n",
      "Not Marking per-residue atom chain types.\n",
      "Marking per-residue atom chain types.\n",
      " (no restraints)\n",
      "Writing pdb file: /home/dan/polymersimulator/pdb_files/systems/3HB_10_polymer/3HB_10_polymer.pdb\n",
      "   printing CRYST1 record to PDB file with box info\n",
      "\tQuit\n",
      "\n",
      "Exiting LEaP: Errors = 0; Warnings = 0; Notes = 0.\n",
      "\n",
      "Current directory: /home/dan/polymersimulator\n"
     ]
    }
   ],
   "source": [
    "# Build the polymer using the trimer_base_name and number_of_units\n",
    "polymer = builder.gen_polymer_pdb_and_params(base_name=trimer_base_name, number_of_units=number_of_units)"
   ]
  },
  {
   "cell_type": "markdown",
   "id": "42f605ec-37b0-4cbe-8819-69c33a404918",
   "metadata": {},
   "source": [
    "### What does this polymer variable contain?\n",
    "\n",
    "The variable **polymer** assigned to output contains 3 things (as a tuple):\n",
    "\n",
    "- pdb filepath\n",
    "- amber topology filepath\n",
    "- amber coordinates filepath\n",
    "\n",
    "For example:\n",
    "\n",
    "```python\n",
    "   pdb_filepath, amber_top, amber_coord = polymer\n",
    "```\n",
    "These filepaths can be printed out as shown below."
   ]
  },
  {
   "cell_type": "code",
   "execution_count": 5,
   "id": "64857a22-a2e0-4f08-a152-6491a2f90285",
   "metadata": {},
   "outputs": [
    {
     "name": "stdout",
     "output_type": "stream",
     "text": [
      "\n",
      "    Polymer built using units parameterized for: 3HB_trimer\n",
      "\n",
      "    The pdb file can be found at: /home/dan/polymersimulator/pdb_files/systems/3HB_10_polymer/3HB_10_polymer.pdb\n",
      "\n",
      "    The amber topology file can be found at: /home/dan/polymersimulator/pdb_files/systems/3HB_10_polymer/3HB_10_polymer.prmtop\n",
      "\n",
      "    The amber coordinate file can be found at: /home/dan/polymersimulator/pdb_files/systems/3HB_10_polymer/3HB_10_polymer.rst7\n"
     ]
    }
   ],
   "source": [
    "print(f\"\"\"\n",
    "    Polymer built using units parameterized for: {trimer_base_name}\n",
    "\n",
    "    The pdb file can be found at: {polymer[0]}\n",
    "\n",
    "    The amber topology file can be found at: {polymer[1]}\n",
    "\n",
    "    The amber coordinate file can be found at: {polymer[2]}\"\"\")"
   ]
  },
  {
   "cell_type": "markdown",
   "id": "75c0a6be-d574-4fa4-aa97-db8e543e6fcc",
   "metadata": {},
   "source": [
    "<div class=\"alert alert-block alert-info\">\n",
    "<b>Note:</b> The amber topolgy and coordinate filepaths could immediately be passed to the simulation class (discussed later on), but no example for running a simulation of a single polymer will be given in this notebook as simulations of single polymers are not particularly useful.\n",
    "</div>\n",
    "\n",
    "### What is the name of the constructed polymer?\n",
    "\n",
    "The naming convention of constructed polymers follows a similar format to that of the trimer, with some key differences.\n",
    "\n",
    "```python\n",
    "   prefix = \"3HB\" # or \"4HB\", \"5HV\", \"3H4MeV\", etc...\n",
    "   poly_len = 10\n",
    "   polymer_name = f\"{prefix}_{str(poly_len)}_polymer\"\n",
    "```\n",
    "This is the same for all constructed polymers and can be seen in the previous code cell by the names assigned to the output files.\n",
    "\n",
    "Of course it is easier to just define the polymer name in one line:\n",
    "\n",
    "```python\n",
    "   polymer_name = \"3HB_10_polymer\"\n",
    "```\n",
    "\n",
    "### Calling files and information using the polymer name\n",
    "\n",
    "Whilst not important to this notebook, there may be workflows where you want to load specific files or information for a polymer - these methods always involve passing only the name of a polymer to a given method. These methods are part of the **manager** class, and this class knows which directories to try and locate the files in.\n",
    "\n",
    "#### Fetching a polymer pdb filepath\n",
    "\n",
    "Fetching the pdb filepath for a polymer allows the pdb file to be utilised easily in other workflows.\n",
    "\n",
    "```python\n",
    "   pdb = manager.load_pdb_filepath(\"3HB_10_polymer\")\n",
    "```\n",
    "\n",
    "### Fetching topologies and coordinates for AMBER/GROMACS simulations of a single polymer\n",
    "\n",
    "This is extremely useful when running simulations, a predefined simulation workflow can be provided with only the name of a polymer and have the ability to load the correct input files.\n",
    "\n",
    "```python\n",
    "   amb_top, amb_coord = manager.load_amber_filepaths(\"3HB_10_polymer\")\n",
    "   gro_top, gro_coord = manager.load_gromacs_filepaths(\"3HB_10_polymer\")\n",
    "```\n",
    "Of course, it is not super useful to run simulations of a single polymer, but there may be cases where this functionality may be useful to you.\n",
    "\n",
    "<div class=\"alert alert-block alert-info\">\n",
    "<b>Note:</b> At this stage in this notebook, amber files have been generated for the polymer but GROMACS files have not. So if you encounter an error when trying to load GROMACS filepaths, do not panic - this is expected. It is also important to mention at this point the methodology is the same for loading the reuqired files for simulations of constructued systems containing multiple polymers. Polymer system naming will be described further on in this notebook.\n",
    "</div>\n",
    "\n",
    "### Fetching smiles of a polymer\n",
    "\n",
    "The smiles for a given polymer can also be loaded.\n",
    "\n",
    "```python\n",
    "   smiles = manager.load_smiles(\"3HB_10_polymer\")\n",
    "```\n",
    "\n",
    "### Fetching residue codes of a polymer\n",
    "\n",
    "It has not been mentioned at this stage, but each polymer unit (**head**, **mainchain** and **tail**) has a unique residue code assigned to it during the parameterization process. You may not know what the residue codes for each unit is (as they are generated during parameterization) but they can be found easily.\n",
    "\n",
    "```python\n",
    "   manager.retrieve_polymeric_rescodes(\"3HB_10_polymer\")\n",
    "```\n",
    "<div class=\"alert alert-block alert-info\">\n",
    "<b>Note:</b> Try running these functions in the cells below and see what the output is.\n",
    "</div>"
   ]
  },
  {
   "cell_type": "code",
   "execution_count": 6,
   "id": "54f909c7-5712-4347-95e9-0765d47bbdd8",
   "metadata": {},
   "outputs": [],
   "source": [
    "# Fetch pdb_filepath"
   ]
  },
  {
   "cell_type": "code",
   "execution_count": 7,
   "id": "7ae933da-a788-4f1d-a5c2-42fc9157bd64",
   "metadata": {},
   "outputs": [],
   "source": [
    "# Fetch amber_filepaths"
   ]
  },
  {
   "cell_type": "code",
   "execution_count": 8,
   "id": "cb0eae65-50b0-4495-ab17-07c7fe5f447d",
   "metadata": {},
   "outputs": [],
   "source": [
    "# Fetch gromacs_filepaths"
   ]
  },
  {
   "cell_type": "code",
   "execution_count": 9,
   "id": "f97e217b-f1d9-49e6-b42c-7cc442549482",
   "metadata": {},
   "outputs": [],
   "source": [
    "# Fetch smiles"
   ]
  },
  {
   "cell_type": "code",
   "execution_count": 10,
   "id": "fdf977db-7d4d-4216-a29a-a4c1c58628f0",
   "metadata": {},
   "outputs": [],
   "source": [
    "# Fetch rescodes"
   ]
  },
  {
   "cell_type": "markdown",
   "id": "878d8272-9926-4e22-8c70-434050855791",
   "metadata": {},
   "source": [
    "# Step 5. Building an amorphous system of polymers\n",
    "\n",
    "Now a polymer has been built polymer systems of multiple instances of this polymer can be packed using polyply.\n",
    "\n",
    "## Step 5.1 Converting from amber --> gromacs format\n",
    "\n",
    "Before using polyply, the amber topologies and coordinates must be converted into a GROMACS format (polyply is part of the GROMACS family of tools). A method exists in the **builder** class called **run_acpype** that carries out this conversion for you. It requires 3 inputs:\n",
    "\n",
    "- Name: polymer name\n",
    "- Top: amber topology filepath (output when building a polymer)\n",
    "- Coord: amber coordinate filepath (output when building a polymer)\n",
    "\n",
    "```python\n",
    "   builder.run_acpype(name, top, coord)\n",
    "```"
   ]
  },
  {
   "cell_type": "code",
   "execution_count": 11,
   "id": "45cc8997-44a8-48b9-9a29-ff1db372d479",
   "metadata": {},
   "outputs": [],
   "source": [
    "# Define polymer name\n",
    "polymer_name = \"3HB_10_polymer\"\n",
    "\n",
    "# Retrieve amber files\n",
    "amb_top, amb_coord = manager.load_amber_filepaths(\"3HB_10_polymer\")"
   ]
  },
  {
   "cell_type": "code",
   "execution_count": 12,
   "id": "7c8552d0-5dbf-4856-9fed-3833c3a39df6",
   "metadata": {},
   "outputs": [
    {
     "name": "stdout",
     "output_type": "stream",
     "text": [
      " \n",
      "            Return code: 0\n",
      "            STDOUT: ============================================================================\n",
      "| ACPYPE: AnteChamber PYthon Parser interfacE v. 2023.10.27 (c) 2025 AWSdS |\n",
      "============================================================================\n",
      "Converting Amber input files to Gromacs ...\n",
      "WARNING: residue label 'hAD' in '/home/dan/polymersimulator/pdb_files/systems/3HB_10_polymer/3HB_10_polymer.prmtop' is not all UPPERCASE\n",
      "WARNING: this may raise problem with some applications like CNS\n",
      "==> Writing GROMACS files\n",
      "\n",
      "==> Disambiguating lower and uppercase atomtypes in GMX top file, even if identical.\n",
      "\n",
      "==> Writing GMX dihedrals for GMX 4.5 and higher.\n",
      "\n",
      "Total time of execution: less than a second\n",
      "\n",
      "            \n",
      "\n",
      "            Succesful conversion of Amber --> Gromacs format for 3HB_10_polymer.\n"
     ]
    }
   ],
   "source": [
    "# Convert to GROMACS format\n",
    "builder.run_acpype(name=polymer_name, top=amb_top, coord=amb_coord)"
   ]
  },
  {
   "cell_type": "markdown",
   "id": "0fd48327-f8d5-4001-af60-dc62a22f68ba",
   "metadata": {},
   "source": [
    "## Step 5.2 Building a system with polyply\n",
    "\n",
    "To build a system with polyply 2 things are required:\n",
    "\n",
    "- List of polymers you wish to pack\n",
    "- List of the number of each polymer you wish to pack\n",
    "\n",
    "As an example:\n",
    "```python\n",
    "   polymer_names = [\"3HB_10_polymer\"]\n",
    "   number_of_polymers = [25]\n",
    "```\n",
    "In this case a system containing 25 3HB_10_polymers will be packed.\n",
    "\n",
    "<div class=\"alert alert-block alert-info\">\n",
    "<b>Note:</b> Whilst this example only packs 1 type of polymer, additional items can be added to each list to pack additional (different) polymers and different amounts of those polymers.\n",
    "</div>"
   ]
  },
  {
   "cell_type": "code",
   "execution_count": 13,
   "id": "29bd5111-906d-4630-b413-8d48c42b1db6",
   "metadata": {},
   "outputs": [],
   "source": [
    "# Define polymers and number of each polymer you wish to pack\n",
    "polymer_names = [\"3HB_10_polymer\"]\n",
    "number_of_polymers = [25]"
   ]
  },
  {
   "cell_type": "markdown",
   "id": "d9f18510-28ca-4dc6-8031-b7d119bddb59",
   "metadata": {},
   "source": [
    "Now the **run_polyply** can be used with these arguments.\n",
    "\n",
    "```python\n",
    "   system_name, gro_top, gro_coord, gro_itp = builder.run_polyply(polymer_names=polymer_names, num_poly=number_of_polymers, dens=750)\n",
    "```\n",
    "\n",
    "<div class=\"alert alert-block alert-info\">\n",
    "<b>Note:</b> Besides the two lists defined, an additional argument - dens - is also passed to the function. This is in mg/ml, so a dens of 750 will result in a density of 0.75 g/ml with the rationale for this explained in further detail later on.\n",
    "</div>"
   ]
  },
  {
   "cell_type": "code",
   "execution_count": 14,
   "id": "bd133b37-8023-4bb5-b2a3-db2dcfe83ce7",
   "metadata": {},
   "outputs": [
    {
     "name": "stdout",
     "output_type": "stream",
     "text": [
      "/home/dan/polymersimulator/pdb_files/systems/3HB_10_polymer_25_amorph/3HB_10_polymer_25_amorph.top\n",
      "/home/dan/polymersimulator/pdb_files/systems/3HB_10_polymer_25_amorph/3HB_10_polymer_25_amorph.gro\n",
      "✅ Combined 1 files into /home/dan/polymersimulator/pdb_files/systems/3HB_10_polymer_25_amorph/3HB_10_polymer_25_amorph.itp\n",
      " \n",
      "            Return code: 0\n",
      "            STDOUT: \n",
      "            \n",
      "Setting the LD random seed to -100765953\n",
      "\n",
      "Generated 36 of the 36 non-bonded parameter combinations\n",
      "\n",
      "Generated 36 of the 36 1-4 parameter combinations\n",
      "\n",
      "Excluding 3 bonded neighbours molecule type '3HB_10_polymer'\n",
      "\n",
      "Excluding 3 bonded neighbours molecule type '3HB_10_polymer'\n",
      "Analysing residue names:\n",
      "There are:   250      Other residues\n",
      "Analysing residues not classified as Protein/DNA/RNA/Water and splitting into groups...\n",
      "Calculating fourier grid dimensions for X Y Z\n",
      "Using a fourier grid of 32x32x32, spacing 0.114 0.114 0.114\n",
      "\n",
      "Estimate for the relative computational load of the PME mesh part: 0.19\n",
      "\n",
      "This run will generate roughly 0 Mb of data\n",
      "\n",
      "\n"
     ]
    }
   ],
   "source": [
    "# Generate system with polyply\n",
    "system_name, gro_top, gro_coord, gro_itp = builder.run_polyply(polymer_names=polymer_names, num_poly=number_of_polymers, dens=750)"
   ]
  },
  {
   "cell_type": "markdown",
   "id": "95f1198f-ca4f-4793-8304-fdfd3c991c81",
   "metadata": {},
   "source": [
    "### Outputs from building a polyply system\n",
    "\n",
    "- **system_name**: The name of the system\n",
    "- **gro_top**: the topology file (master topology)\n",
    "- **gro_coord**: the coordinates of the system\n",
    "- **gro_itp**: the secondary topology file\n",
    "\n",
    "### Why are there two topology files?\n",
    "\n",
    "The 2 topology files are **.top** and **.itp** can be considered as one entity. The **.top** file includes information about the number of polymers packed into each system and the **.itp** file\n",
    "contains the topological and parameter information of the polymers. More simply, **.top** contains the instructions and **.itp** contains the actual parameters. Luckily, the **.itp** file can be ignored as it is called by the **.top** file. (hence why they can be considered the same entitiy)\n",
    "\n",
    "### How are systems named?\n",
    "\n",
    "The systems generated by polyply are named intuitively as so:\n",
    "\n",
    "```python\n",
    "    \"{polymer_name_1}_{number_of_polymer_1}_{polymer_name_2}_{number_of_polymer_2}_{polymer_name_x}_{number_of_polymer_x}_amorph\"\n",
    "```\n",
    "So an example for this system is\n",
    "```python\n",
    "   \"3HB_10_polymer_25_amorph\"\n",
    "```\n",
    "This gets more complicated the more polymers there are in the system and may need some rethinking later on down the line.\n",
    "\n",
    "### Printing these outputs "
   ]
  },
  {
   "cell_type": "code",
   "execution_count": 15,
   "id": "269c10df-65da-4ed8-a5ef-1472f0d2357b",
   "metadata": {},
   "outputs": [
    {
     "name": "stdout",
     "output_type": "stream",
     "text": [
      "Information about the generated system.\n",
      "\n",
      "    System_name: 3HB_10_polymer_25_amorph\n",
      "\n",
      "    Polymers in system: ['3HB_10_polymer']\n",
      "    Number of each polymer in system: [25]\n",
      "\n",
      "    The generated files can be found at:\n",
      "\n",
      "    gromacs master topology: /home/dan/polymersimulator/pdb_files/systems/3HB_10_polymer_25_amorph/3HB_10_polymer_25_amorph.top\n",
      "    gromacs coordinates: /home/dan/polymersimulator/pdb_files/systems/3HB_10_polymer_25_amorph/3HB_10_polymer_25_amorph.gro\n",
      "    gromacs polymer topolgies: /home/dan/polymersimulator/pdb_files/systems/3HB_10_polymer_25_amorph/3HB_10_polymer_25_amorph.itp\n",
      "    \n"
     ]
    }
   ],
   "source": [
    "# Print out information about the system packed with polyply\n",
    "print(f\"\"\"Information about the generated system.\n",
    "\n",
    "    System_name: {system_name}\n",
    "\n",
    "    Polymers in system: {polymer_names}\n",
    "    Number of each polymer in system: {number_of_polymers}\n",
    "\n",
    "    The generated files can be found at:\n",
    "\n",
    "    gromacs master topology: {gro_top}\n",
    "    gromacs coordinates: {gro_coord}\n",
    "    gromacs polymer topolgies: {gro_itp}\n",
    "    \"\"\")"
   ]
  },
  {
   "cell_type": "markdown",
   "id": "71cdafc0-7322-4ff9-b4ec-9b809f6864cd",
   "metadata": {},
   "source": [
    "## Step 5.3. Commonly ecountered errors when running simulations of polyply packed systems\n",
    "\n",
    "In the related documentation a figure explains the issues with some starting structures. Polyply uses a backmapping approach (atomistic --> CG --> packing --> atomistic) and this can lead atoms being very close to eachother and initial systems can have rather large initial repulsive forces\n",
    "leading to an error like this one:\n",
    "\n",
    "```python\n",
    "   OpenMMException: Particle coordinate is NaN.  For more information, see https://github.com/openmm/openmm/wiki/Frequently-Asked-Questions#nan\n",
    "```\n",
    "This error is especially prominent the closer a system is packed to a density of 1 g/ml - as there is much more possibility that atoms are too close to eachother, causing the simulation to crash. Since an amorphous structure is desired, it is important to still pack to a high density but to avoid perpetual errors, a target density of 0.75 g/ml is used as the default to create a rather packed amorphous system that simulations can be carried out with. \n",
    "\n",
    "However, this error does still persist even at the lower densities of 0.75 g/ml, sometimes.....\n",
    "\n",
    "The solution for this is to run an iterative function:\n",
    "\n",
    "- 1: Generate System with polyply\n",
    "- 2: Run small test simulation\n",
    "      - If simulation encounters the error - restart\n",
    "      - If simulation, save structure and topology\n",
    "\n",
    "This ensures any simulation that is run in a HPC, will be intialised with no issues."
   ]
  },
  {
   "cell_type": "code",
   "execution_count": 16,
   "id": "9a05b653-e9fe-4aa9-9de5-6f43ee59fa1a",
   "metadata": {
    "scrolled": true
   },
   "outputs": [
    {
     "name": "stdout",
     "output_type": "stream",
     "text": [
      "/home/dan/polymersimulator/pdb_files/systems/3HB_10_polymer_25_amorph/3HB_10_polymer_25_amorph.top\n",
      "/home/dan/polymersimulator/pdb_files/systems/3HB_10_polymer_25_amorph/3HB_10_polymer_25_amorph.gro\n",
      "✅ Combined 1 files into /home/dan/polymersimulator/pdb_files/systems/3HB_10_polymer_25_amorph/3HB_10_polymer_25_amorph.itp\n",
      " \n",
      "            Return code: 0\n",
      "            STDOUT: \n",
      "            \n",
      "Setting the LD random seed to 2067262458\n",
      "\n",
      "Generated 36 of the 36 non-bonded parameter combinations\n",
      "\n",
      "Generated 36 of the 36 1-4 parameter combinations\n",
      "\n",
      "Excluding 3 bonded neighbours molecule type '3HB_10_polymer'\n",
      "\n",
      "Excluding 3 bonded neighbours molecule type '3HB_10_polymer'\n",
      "Analysing residue names:\n",
      "There are:   250      Other residues\n",
      "Analysing residues not classified as Protein/DNA/RNA/Water and splitting into groups...\n",
      "Calculating fourier grid dimensions for X Y Z\n",
      "Using a fourier grid of 32x32x32, spacing 0.114 0.114 0.114\n",
      "\n",
      "Estimate for the relative computational load of the PME mesh part: 0.19\n",
      "\n",
      "This run will generate roughly 0 Mb of data\n",
      "\n",
      "\n",
      "Atoms in GRO: 3075\n",
      "Atoms in TOP: 3075\n",
      "sim_min\n",
      "Total steps for simulation set to:  1000\n",
      "Reporter frequency set to every:  10  steps\n",
      "Basic npt information\n",
      "                - Total steps: 1000\n",
      "                - Total simulation time: 2000 fs\n",
      "                - Temperature: 300 K\n",
      "                - Pressure: 1 atm\n",
      "                \n",
      "\n",
      "Restarting.... simulation geometry imposing too many forces....\n",
      "Particle coordinate is NaN.  For more information, see https://github.com/openmm/openmm/wiki/Frequently-Asked-Questions#nan\n",
      "\n",
      "/home/dan/polymersimulator/pdb_files/systems/3HB_10_polymer_25_amorph/3HB_10_polymer_25_amorph.top\n",
      "/home/dan/polymersimulator/pdb_files/systems/3HB_10_polymer_25_amorph/3HB_10_polymer_25_amorph.gro\n",
      "✅ Combined 1 files into /home/dan/polymersimulator/pdb_files/systems/3HB_10_polymer_25_amorph/3HB_10_polymer_25_amorph.itp\n",
      " \n",
      "            Return code: 0\n",
      "            STDOUT: \n",
      "            \n",
      "Setting the LD random seed to -17877777\n",
      "\n",
      "Generated 36 of the 36 non-bonded parameter combinations\n",
      "\n",
      "Generated 36 of the 36 1-4 parameter combinations\n",
      "\n",
      "Excluding 3 bonded neighbours molecule type '3HB_10_polymer'\n",
      "\n",
      "Excluding 3 bonded neighbours molecule type '3HB_10_polymer'\n",
      "Analysing residue names:\n",
      "There are:   250      Other residues\n",
      "Analysing residues not classified as Protein/DNA/RNA/Water and splitting into groups...\n",
      "Calculating fourier grid dimensions for X Y Z\n",
      "Using a fourier grid of 32x32x32, spacing 0.114 0.114 0.114\n",
      "\n",
      "Estimate for the relative computational load of the PME mesh part: 0.19\n",
      "\n",
      "This run will generate roughly 0 Mb of data\n",
      "\n",
      "\n",
      "Atoms in GRO: 3075\n",
      "Atoms in TOP: 3075\n",
      "sim_min\n",
      "Total steps for simulation set to:  1000\n",
      "Reporter frequency set to every:  10  steps\n",
      "Basic npt information\n",
      "                - Total steps: 1000\n",
      "                - Total simulation time: 2000 fs\n",
      "                - Temperature: 300 K\n",
      "                - Pressure: 1 atm\n",
      "                \n"
     ]
    },
    {
     "data": {
      "image/png": "[encoded data removed]",
      "text/plain": [
       "<Figure size 1200x1200 with 6 Axes>"
      ]
     },
     "metadata": {},
     "output_type": "display_data"
    },
    {
     "name": "stdout",
     "output_type": "stream",
     "text": [
      "\n",
      "Restarting.... simulation geometry imposing too many forces....\n",
      "name 'succesful_polymers' is not defined\n",
      "\n",
      "Starting system found in 3 attempts\n"
     ]
    }
   ],
   "source": [
    "system_name, gro_top, gro_coord, gro_itp = builder.find_polyply_starting_structure(polymer_names=polymer_names, num_poly=number_of_polymers, dens=750, max_attempts=100)"
   ]
  },
  {
   "cell_type": "markdown",
   "id": "fc4cf04b-7b34-40cb-b667-10b3db309843",
   "metadata": {},
   "source": [
    "The outputs of this function are the same as those seen in step 6.2, they are intterogated below."
   ]
  },
  {
   "cell_type": "code",
   "execution_count": 17,
   "id": "e04a1f2f-7208-4498-9d6d-2cb223faeb75",
   "metadata": {},
   "outputs": [
    {
     "name": "stdout",
     "output_type": "stream",
     "text": [
      "Information about the generated system.\n",
      "\n",
      "    System_name: 3HB_10_polymer_25_amorph\n",
      "\n",
      "    Polymers in system: ['3HB_10_polymer']\n",
      "    Number of each polymer in system: [25]\n",
      "\n",
      "    The generated files can be found at:\n",
      "\n",
      "    gromacs master topology: /home/dan/polymersimulator/pdb_files/systems/3HB_10_polymer_25_amorph/3HB_10_polymer_25_amorph.top\n",
      "    gromacs coordinates: /home/dan/polymersimulator/pdb_files/systems/3HB_10_polymer_25_amorph/3HB_10_polymer_25_amorph.gro\n",
      "    gromacs polymer topolgies: /home/dan/polymersimulator/pdb_files/systems/3HB_10_polymer_25_amorph/3HB_10_polymer_25_amorph.itp\n",
      "    \n"
     ]
    }
   ],
   "source": [
    "# Print out information about the system packed with polyply\n",
    "print(f\"\"\"Information about the generated system.\n",
    "\n",
    "    System_name: {system_name}\n",
    "\n",
    "    Polymers in system: {polymer_names}\n",
    "    Number of each polymer in system: {number_of_polymers}\n",
    "\n",
    "    The generated files can be found at:\n",
    "\n",
    "    gromacs master topology: {gro_top}\n",
    "    gromacs coordinates: {gro_coord}\n",
    "    gromacs polymer topolgies: {gro_itp}\n",
    "    \"\"\")"
   ]
  },
  {
   "cell_type": "markdown",
   "id": "ee22b43a-ab0c-4355-a129-d249656bbf9a",
   "metadata": {},
   "source": [
    "# Step 7. Runnning simulations of this system\n",
    "\n",
    "Now the system has been generated and a stable starting structure acquired, openmm simualtions can be ran.\n",
    "\n",
    "The first stage is to import the openmm module."
   ]
  },
  {
   "cell_type": "code",
   "execution_count": 18,
   "id": "e223f8ce-78ca-4b05-a5f0-257675c60c37",
   "metadata": {},
   "outputs": [],
   "source": [
    "# Import openmm module\n",
    "from modules.sw_openmm import *"
   ]
  },
  {
   "cell_type": "markdown",
   "id": "e32b3dca-6dd6-48c6-9433-11f1c81561cf",
   "metadata": {},
   "source": [
    "The required files have already been defined and these are:\n",
    "\n",
    "- **gro_top**\n",
    "- **gro_coord**\n",
    "\n",
    "The are passed to a class called **GromacsSimulation** - along with the **manager** object - which will construct an openmm simulation object with some useful built in methods that can be called\n",
    "\n",
    "This **GromacsSimulation** object is assigned to a variable called **sim**, so that the different methods can be called easily.\n",
    "\n",
    "<div class=\"alert alert-block alert-info\">\n",
    "<b>Note:</b> The manager object is also passed so that a simulation folder for this specfic simulation can be constructed.\n",
    "</div>"
   ]
  },
  {
   "cell_type": "code",
   "execution_count": 19,
   "id": "0e0020f8-0028-4f52-b61d-83fe39dd723e",
   "metadata": {},
   "outputs": [],
   "source": [
    "# Load gromacs topology and coordinates\n",
    "gro_top, gro_coord = manager.load_gromacs_filepaths(\"3HB_10_polymer_25_amorph\")"
   ]
  },
  {
   "cell_type": "code",
   "execution_count": 20,
   "id": "e71af131-761b-47dc-9f94-1f70b0e049ca",
   "metadata": {},
   "outputs": [],
   "source": [
    "# Intialise simulation\n",
    "sim = GromacsSimulation(manager, gro_top, gro_coord)"
   ]
  },
  {
   "cell_type": "markdown",
   "id": "d8db8865-20fe-4e10-a0e0-1eaaf0e955b1",
   "metadata": {},
   "source": [
    "### What does this simulation object include?\n",
    "\n",
    "A lot of simulation methods are included within this object, but the important thing here a the default simulation parameters, an example of how to see what these defaults are is shown below."
   ]
  },
  {
   "cell_type": "code",
   "execution_count": 21,
   "id": "c823ba76-81a7-49b9-a0a3-ed97855acfef",
   "metadata": {
    "scrolled": true
   },
   "outputs": [
    {
     "name": "stdout",
     "output_type": "stream",
     "text": [
      "Parameters for simulation of: 3HB_10_polymer_25_amorph\n",
      "\n",
      "    Timestep (fs): 2.0\n",
      "    Temperature (k): 300\n",
      "    Pressure (atm): 1\n",
      "    Total steps: 1000\n",
      "    Nonbonded cutoff (A): 1.0\n",
      "\n",
      "    The files used to construct this simulation are:\n",
      "\n",
      "    Topology: /home/dan/polymersimulator/pdb_files/systems/3HB_10_polymer_25_amorph/3HB_10_polymer_25_amorph.top\n",
      "    Coordinates: /home/dan/polymersimulator/pdb_files/systems/3HB_10_polymer_25_amorph/3HB_10_polymer_25_amorph.gro\n",
      "    \n"
     ]
    }
   ],
   "source": [
    "# Print out simulation parameters\n",
    "print(f\"\"\"Parameters for simulation of: {sim.filename}\n",
    "\n",
    "    Timestep (fs): {sim.timestep}\n",
    "    Temperature (k): {sim.temp}\n",
    "    Pressure (atm): {sim.pressure}\n",
    "    Total steps: {sim.total_steps}\n",
    "    Nonbonded cutoff (A): {sim.nonbondedcutoff}\n",
    "\n",
    "    The files used to construct this simulation are:\n",
    "\n",
    "    Topology: {sim.topology_file}\n",
    "    Coordinates: {sim.coordinates_file}\n",
    "    \"\"\")\n",
    "    "
   ]
  },
  {
   "cell_type": "markdown",
   "id": "23d0a2f5-613c-4c2d-af2b-ef519bdcd2cc",
   "metadata": {},
   "source": [
    "### What about changing these parameters?\n",
    "\n",
    "To change the parameters there are a series of methods embedded in the assigned **sim** variable. \n",
    "\n",
    "```python\n",
    "   sim.set_total_steps(total_steps)\n",
    "   sim.set_temperature(temperature)\n",
    "   sim.set_pressure(pressure)\n",
    "   sim.set_timestep(timestep)\n",
    "```\n",
    "\n",
    "There are few different varaibles that can be assigned but these are the most important ones that are critical to be aware of.\n",
    "\n",
    "### Where are simulation files saved?\n",
    "\n",
    "The final thing to be aware of before a simulation is carried out is, **where will the files be saved?**\n",
    "\n",
    "The manager object handles the creation of a simulation directory and saving the filepaths of the outputted simulations and the constructucted filepath will follow this general form:\n",
    "\n",
    "```python\n",
    "   sim_dir = f\"~polymersimulator/pdb_files/systems/{system_name}/{date_and_timestamp}\"\n",
    "```\n",
    "So for the system that was previously built, the filepath to directory containing simulation outputs will be:\n",
    "\n",
    "```python\n",
    "   sim_dir = \"~polymersimulator/pdb_files/systems/3HB_10_polymer_25_amorph/2025-01-01_0000\"\n",
    "```\n",
    "<div class=\"alert alert-block alert-info\">\n",
    "<b>Note:</b> Each simulation is given a unique timestamp so that multiple instances of the same simulation can be ran without the files ever overwriting eachother.\n",
    "</div>\n",
    "\n",
    "If you are unsure on where the output directory is located, it can be found with the command below:\n",
    "\n",
    "```python\n",
    "   sim.output_dir\n",
    "```"
   ]
  },
  {
   "cell_type": "code",
   "execution_count": 22,
   "id": "430bcaf9-22a0-4bf2-98ce-5e158b0b12bb",
   "metadata": {},
   "outputs": [],
   "source": [
    "# What is the output directory"
   ]
  },
  {
   "cell_type": "markdown",
   "id": "5416eb7a-db62-4c3d-91f9-6148abb53ab1",
   "metadata": {},
   "source": [
    "## Step 7.1. Minimizing the energy of the system\n",
    "\n",
    "Now the simulation is initialized and a variable (**sim**) has been assigned, different methods can be applied to the simulation. The first is always an energy minimaztion that is carred out with the **minimize_energy()** method of the **sim_object**.\n",
    "\n",
    "It is important to assign a variable to the output called **min_sim** (or something similar so the new simulation information can be passed to the next step)\n",
    "\n",
    "<div class=\"alert alert-block alert-info\">\n",
    "<b>Note:</b> The methods in the sw_openmm class are modular. To enable this functionality, a variable is assigned to each simulation step and this can be passed to any other simulation function.\n",
    "</div>\n"
   ]
  },
  {
   "cell_type": "code",
   "execution_count": 37,
   "id": "3c4b3d6c-5394-4a82-bf6c-11d645d890d1",
   "metadata": {},
   "outputs": [
    {
     "name": "stdout",
     "output_type": "stream",
     "text": [
      "Atoms in GRO: 3075\n",
      "Atoms in TOP: 3075\n"
     ]
    }
   ],
   "source": [
    "# Minimize the energy in the system\n",
    "min_sim = sim.minimize_energy()"
   ]
  },
  {
   "cell_type": "markdown",
   "id": "e3b93627-da9f-47ee-bc36-422ecd36d345",
   "metadata": {},
   "source": [
    "## Step 7.2. Next steps in the simulation\n",
    "\n",
    "There are various methods that can applied to the system now the energy has been minimized.\n",
    "\n",
    "```python\n",
    "   sim.basic_NPT\n",
    "   sim.basic_NVT\n",
    "   sim.annealing_NVT\n",
    "   sim.thermal_ramp\n",
    "```\n",
    "Of course there are a series of different arguments required by these functions, but examples will be provided below for each one and further information about using the openmm module can be found later on in the documentation.\n",
    "\n",
    "The **important** thing here, is that these methods are modular, and a variable must always be assigned to the output and will output 2 things:\n",
    "\n",
    "- simulation that can be passed to another step\n",
    "- path to the data file, for quick visualisation of the results\n",
    "\n",
    "<div class=\"alert alert-block alert-info\">\n",
    "<b>Note:</b> The order of methods that are chosen are entirely down to the user but must make sense in the context of the project.\n",
    "</div>\n",
    "\n",
    "### Simulations of amorphous polymer systems\n",
    "\n",
    "In this case for a system of 25 decamers packed with polypy, the workflow is as follows (after the intial energy minimization):\n",
    "\n",
    "- Short NPT density equilibration: this is the ensure the system reaches the correct density\n",
    "- A singular NVT annealing cycle: Ensure any bias is removed from the initial structure\n",
    "- Thermal ramping production run in NPT: This is the final run that is intended to find the the glass transition temperatur of the polymer system\n",
    "\n",
    "\n"
   ]
  },
  {
   "cell_type": "markdown",
   "id": "6b9920b3-b4f1-4ecf-86e4-3507da743fb7",
   "metadata": {},
   "source": [
    "## Step 7.3. Density equilibration\n",
    "\n",
    "After the energy minimization, a density equilibration is carried out.\n",
    "\n",
    "Before running this step the total steps will be set to 10,000 (with a 2fs timestep, this gives a 20,000 fs equilibration). - in a simulation that is designed to yield results it is recommended to run this step for at least 1 ns.\n",
    "\n",
    "```python\n",
    "   sim.set_total_steps(10000)\n",
    "```\n",
    "<div class=\"alert alert-block alert-info\">\n",
    "<b>Note:</b> The total number of steps for any stage in this notebook will ideally be more and equate to a much longer simulation time than show in this notebook, however, these are just examples and longer simulations should be ran in hpc.\n",
    "</div>\n",
    "\n",
    "The variable assigned to the energy minimization (**min_sim**) is then passed to the method **basic_NPT** as the only argument as the parameters have already been set.\n",
    "\n",
    "```python\n",
    "   npt_sim, npt_sim_data = sim.basic_NPT(min_sim)\n",
    "```\n",
    "The methodology here is the same, where a variable is assigned to the output with an appropriate name like **npt_sim** - this is what will be passed to the next simulation stage. \n",
    "However, a second variable is alsodefined here called **npt_sim_data** - this is filepath to the outputted data file and this can be used to visualise some quick results from the simulation.\n",
    "\n",
    "```python\n",
    "   sim.graph_state_data(npt_sim_data)\n",
    "```"
   ]
  },
  {
   "cell_type": "code",
   "execution_count": 38,
   "id": "3d67fbf3-bf61-4202-b5d9-9d4da79ea2f3",
   "metadata": {},
   "outputs": [
    {
     "name": "stdout",
     "output_type": "stream",
     "text": [
      "Total steps for simulation set to:  10000\n",
      "Basic npt information\n",
      "                - Total steps: 10000\n",
      "                - Total simulation time: 20000 fs\n",
      "                - Temperature: 300 K\n",
      "                - Pressure: 1 atm\n",
      "                \n"
     ]
    },
    {
     "ename": "OpenMMException",
     "evalue": "Particle coordinate is NaN.  For more information, see https://github.com/openmm/openmm/wiki/Frequently-Asked-Questions#nan",
     "output_type": "error",
     "traceback": [
      "\u001b[0;31m---------------------------------------------------------------------------\u001b[0m",
      "\u001b[0;31mOpenMMException\u001b[0m                           Traceback (most recent call last)",
      "\u001b[0;32m/tmp/ipykernel_234283/1450214645.py\u001b[0m in \u001b[0;36m?\u001b[0;34m()\u001b[0m\n\u001b[1;32m      1\u001b[0m \u001b[0;31m# Set total steps (2fs timestep)\u001b[0m\u001b[0;34m\u001b[0m\u001b[0;34m\u001b[0m\u001b[0m\n\u001b[1;32m      2\u001b[0m \u001b[0msim\u001b[0m\u001b[0;34m.\u001b[0m\u001b[0mset_total_steps\u001b[0m\u001b[0;34m(\u001b[0m\u001b[0;36m10000\u001b[0m\u001b[0;34m)\u001b[0m\u001b[0;34m\u001b[0m\u001b[0;34m\u001b[0m\u001b[0m\n\u001b[1;32m      3\u001b[0m \u001b[0;34m\u001b[0m\u001b[0m\n\u001b[1;32m      4\u001b[0m \u001b[0;31m# Run a simple NPT simulation\u001b[0m\u001b[0;34m\u001b[0m\u001b[0;34m\u001b[0m\u001b[0m\n\u001b[0;32m----> 5\u001b[0;31m \u001b[0mnpt_sim\u001b[0m\u001b[0;34m,\u001b[0m \u001b[0mnpt_sim_data\u001b[0m \u001b[0;34m=\u001b[0m \u001b[0msim\u001b[0m\u001b[0;34m.\u001b[0m\u001b[0mbasic_NPT\u001b[0m\u001b[0;34m(\u001b[0m\u001b[0mmin_sim\u001b[0m\u001b[0;34m)\u001b[0m\u001b[0;34m\u001b[0m\u001b[0;34m\u001b[0m\u001b[0m\n\u001b[0m",
      "\u001b[0;32m~/polymersimulator/modules/sw_openmm.py\u001b[0m in \u001b[0;36m?\u001b[0;34m(self, simulation, total_steps, temp, pressure, filename, save_restart, restart_name, verbose)\u001b[0m\n\u001b[1;32m    782\u001b[0m         \u001b[0;31m#output_dataname = os.path.join(directories.systems_dir, self.filename, (self.filename +  \"_\" + str(pressure) + \"_atm_data\"))\u001b[0m\u001b[0;34m\u001b[0m\u001b[0;34m\u001b[0m\u001b[0m\n\u001b[1;32m    783\u001b[0m         \u001b[0moutput_dataname\u001b[0m \u001b[0;34m=\u001b[0m \u001b[0mos\u001b[0m\u001b[0;34m.\u001b[0m\u001b[0mpath\u001b[0m\u001b[0;34m.\u001b[0m\u001b[0mjoin\u001b[0m\u001b[0;34m(\u001b[0m\u001b[0mself\u001b[0m\u001b[0;34m.\u001b[0m\u001b[0moutput_dir\u001b[0m\u001b[0;34m,\u001b[0m \u001b[0;34m(\u001b[0m\u001b[0mself\u001b[0m\u001b[0;34m.\u001b[0m\u001b[0mfilename\u001b[0m \u001b[0;34m+\u001b[0m  \u001b[0;34m\"_\"\u001b[0m \u001b[0;34m+\u001b[0m \u001b[0mstr\u001b[0m\u001b[0;34m(\u001b[0m\u001b[0mpressure\u001b[0m\u001b[0;34m)\u001b[0m \u001b[0;34m+\u001b[0m \u001b[0mfilename\u001b[0m \u001b[0;34m+\u001b[0m \u001b[0mstr\u001b[0m\u001b[0;34m(\u001b[0m\u001b[0mself\u001b[0m\u001b[0;34m.\u001b[0m\u001b[0mtimestamp\u001b[0m\u001b[0;34m)\u001b[0m\u001b[0;34m)\u001b[0m\u001b[0;34m)\u001b[0m\u001b[0;34m\u001b[0m\u001b[0;34m\u001b[0m\u001b[0m\n\u001b[1;32m    784\u001b[0m         \u001b[0mdataWriter\u001b[0m \u001b[0;34m=\u001b[0m \u001b[0mDataWriter\u001b[0m\u001b[0;34m(\u001b[0m\u001b[0moutput_dataname\u001b[0m\u001b[0;34m,\u001b[0m \u001b[0mself\u001b[0m\u001b[0;34m.\u001b[0m\u001b[0mreporter_freq\u001b[0m\u001b[0;34m,\u001b[0m \u001b[0mtotal_steps\u001b[0m\u001b[0;34m)\u001b[0m\u001b[0;34m\u001b[0m\u001b[0;34m\u001b[0m\u001b[0m\n\u001b[1;32m    785\u001b[0m         \u001b[0msimulation\u001b[0m\u001b[0;34m.\u001b[0m\u001b[0mreporters\u001b[0m\u001b[0;34m.\u001b[0m\u001b[0mappend\u001b[0m\u001b[0;34m(\u001b[0m\u001b[0mdataWriter\u001b[0m\u001b[0;34m.\u001b[0m\u001b[0mstateDataReporter\u001b[0m\u001b[0;34m)\u001b[0m\u001b[0;34m\u001b[0m\u001b[0;34m\u001b[0m\u001b[0m\n\u001b[0;32m--> 786\u001b[0;31m         \u001b[0msimulation\u001b[0m\u001b[0;34m.\u001b[0m\u001b[0mstep\u001b[0m\u001b[0;34m(\u001b[0m\u001b[0mtotal_steps\u001b[0m\u001b[0;34m)\u001b[0m\u001b[0;34m\u001b[0m\u001b[0;34m\u001b[0m\u001b[0m\n\u001b[0m\u001b[1;32m    787\u001b[0m \u001b[0;34m\u001b[0m\u001b[0m\n\u001b[1;32m    788\u001b[0m         \u001b[0mequili_end_time\u001b[0m \u001b[0;34m=\u001b[0m \u001b[0mtime\u001b[0m\u001b[0;34m.\u001b[0m\u001b[0mtime\u001b[0m\u001b[0;34m(\u001b[0m\u001b[0;34m)\u001b[0m\u001b[0;34m\u001b[0m\u001b[0;34m\u001b[0m\u001b[0m\n\u001b[1;32m    789\u001b[0m         \u001b[0mtime_taken\u001b[0m \u001b[0;34m=\u001b[0m \u001b[0mequili_end_time\u001b[0m \u001b[0;34m-\u001b[0m \u001b[0mequili_start_time\u001b[0m\u001b[0;34m\u001b[0m\u001b[0;34m\u001b[0m\u001b[0m\n",
      "\u001b[0;32m~/miniconda3/envs/AmberTools23/lib/python3.12/site-packages/openmm/app/simulation.py\u001b[0m in \u001b[0;36m?\u001b[0;34m(self, steps)\u001b[0m\n\u001b[1;32m    145\u001b[0m     \u001b[0;32mdef\u001b[0m \u001b[0mstep\u001b[0m\u001b[0;34m(\u001b[0m\u001b[0mself\u001b[0m\u001b[0;34m,\u001b[0m \u001b[0msteps\u001b[0m\u001b[0;34m)\u001b[0m\u001b[0;34m:\u001b[0m\u001b[0;34m\u001b[0m\u001b[0;34m\u001b[0m\u001b[0m\n\u001b[1;32m    146\u001b[0m         \u001b[0;34m\"\"\"Advance the simulation by integrating a specified number of time steps.\"\"\"\u001b[0m\u001b[0;34m\u001b[0m\u001b[0;34m\u001b[0m\u001b[0m\n\u001b[0;32m--> 147\u001b[0;31m         \u001b[0mself\u001b[0m\u001b[0;34m.\u001b[0m\u001b[0m_simulate\u001b[0m\u001b[0;34m(\u001b[0m\u001b[0mendStep\u001b[0m\u001b[0;34m=\u001b[0m\u001b[0mself\u001b[0m\u001b[0;34m.\u001b[0m\u001b[0mcurrentStep\u001b[0m\u001b[0;34m+\u001b[0m\u001b[0msteps\u001b[0m\u001b[0;34m)\u001b[0m\u001b[0;34m\u001b[0m\u001b[0;34m\u001b[0m\u001b[0m\n\u001b[0m",
      "\u001b[0;32m~/miniconda3/envs/AmberTools23/lib/python3.12/site-packages/openmm/app/simulation.py\u001b[0m in \u001b[0;36m?\u001b[0;34m(self, endStep, endTime)\u001b[0m\n\u001b[1;32m    212\u001b[0m                 \u001b[0mself\u001b[0m\u001b[0;34m.\u001b[0m\u001b[0mintegrator\u001b[0m\u001b[0;34m.\u001b[0m\u001b[0mstep\u001b[0m\u001b[0;34m(\u001b[0m\u001b[0;36m10\u001b[0m\u001b[0;34m)\u001b[0m \u001b[0;31m# Only take 10 steps at a time, to give Python more chances to respond to a control-c.\u001b[0m\u001b[0;34m\u001b[0m\u001b[0;34m\u001b[0m\u001b[0m\n\u001b[1;32m    213\u001b[0m                 \u001b[0mstepsToGo\u001b[0m \u001b[0;34m-=\u001b[0m \u001b[0;36m10\u001b[0m\u001b[0;34m\u001b[0m\u001b[0;34m\u001b[0m\u001b[0m\n\u001b[1;32m    214\u001b[0m                 \u001b[0;32mif\u001b[0m \u001b[0mendTime\u001b[0m \u001b[0;32mis\u001b[0m \u001b[0;32mnot\u001b[0m \u001b[0;32mNone\u001b[0m \u001b[0;32mand\u001b[0m \u001b[0mdatetime\u001b[0m\u001b[0;34m.\u001b[0m\u001b[0mnow\u001b[0m\u001b[0;34m(\u001b[0m\u001b[0;34m)\u001b[0m \u001b[0;34m>=\u001b[0m \u001b[0mendTime\u001b[0m\u001b[0;34m:\u001b[0m\u001b[0;34m\u001b[0m\u001b[0;34m\u001b[0m\u001b[0m\n\u001b[1;32m    215\u001b[0m                     \u001b[0;32mreturn\u001b[0m\u001b[0;34m\u001b[0m\u001b[0;34m\u001b[0m\u001b[0m\n\u001b[0;32m--> 216\u001b[0;31m             \u001b[0mself\u001b[0m\u001b[0;34m.\u001b[0m\u001b[0mintegrator\u001b[0m\u001b[0;34m.\u001b[0m\u001b[0mstep\u001b[0m\u001b[0;34m(\u001b[0m\u001b[0mstepsToGo\u001b[0m\u001b[0;34m)\u001b[0m\u001b[0;34m\u001b[0m\u001b[0;34m\u001b[0m\u001b[0m\n\u001b[0m\u001b[1;32m    217\u001b[0m             \u001b[0;32mif\u001b[0m \u001b[0manyReport\u001b[0m\u001b[0;34m:\u001b[0m\u001b[0;34m\u001b[0m\u001b[0;34m\u001b[0m\u001b[0m\n\u001b[1;32m    218\u001b[0m                 \u001b[0;31m# One or more reporters are ready to generate reports.  Organize them into three\u001b[0m\u001b[0;34m\u001b[0m\u001b[0;34m\u001b[0m\u001b[0m\n\u001b[1;32m    219\u001b[0m                 \u001b[0;31m# groups: ones that want wrapped positions, ones that want unwrapped positions,\u001b[0m\u001b[0;34m\u001b[0m\u001b[0;34m\u001b[0m\u001b[0m\n",
      "\u001b[0;32m~/miniconda3/envs/AmberTools23/lib/python3.12/site-packages/openmm/openmm.py\u001b[0m in \u001b[0;36m?\u001b[0;34m(self, steps)\u001b[0m\n\u001b[1;32m  13930\u001b[0m         \u001b[0;34m-\u001b[0m\u001b[0;34m-\u001b[0m\u001b[0;34m-\u001b[0m\u001b[0;34m-\u001b[0m\u001b[0;34m-\u001b[0m\u001b[0;34m-\u001b[0m\u001b[0;34m-\u001b[0m\u001b[0;34m-\u001b[0m\u001b[0;34m-\u001b[0m\u001b[0;34m-\u001b[0m\u001b[0;34m\u001b[0m\u001b[0;34m\u001b[0m\u001b[0m\n\u001b[1;32m  13931\u001b[0m         \u001b[0msteps\u001b[0m \u001b[0;34m:\u001b[0m \u001b[0mint\u001b[0m\u001b[0;34m\u001b[0m\u001b[0;34m\u001b[0m\u001b[0m\n\u001b[1;32m  13932\u001b[0m             \u001b[0mthe\u001b[0m \u001b[0mnumber\u001b[0m \u001b[0mof\u001b[0m \u001b[0mtime\u001b[0m \u001b[0msteps\u001b[0m \u001b[0mto\u001b[0m \u001b[0mtake\u001b[0m\u001b[0;34m\u001b[0m\u001b[0;34m\u001b[0m\u001b[0m\n\u001b[1;32m  13933\u001b[0m         \"\"\"\n\u001b[0;32m> 13934\u001b[0;31m         \u001b[0;32mreturn\u001b[0m \u001b[0m_openmm\u001b[0m\u001b[0;34m.\u001b[0m\u001b[0mLangevinIntegrator_step\u001b[0m\u001b[0;34m(\u001b[0m\u001b[0mself\u001b[0m\u001b[0;34m,\u001b[0m \u001b[0msteps\u001b[0m\u001b[0;34m)\u001b[0m\u001b[0;34m\u001b[0m\u001b[0;34m\u001b[0m\u001b[0m\n\u001b[0m",
      "\u001b[0;31mOpenMMException\u001b[0m: Particle coordinate is NaN.  For more information, see https://github.com/openmm/openmm/wiki/Frequently-Asked-Questions#nan"
     ]
    }
   ],
   "source": [
    "# Set total steps (2fs timestep)\n",
    "sim.set_total_steps(10000)\n",
    "\n",
    "# Run a simple NPT simulation\n",
    "npt_sim, npt_sim_data = sim.basic_NPT(min_sim)"
   ]
  },
  {
   "cell_type": "markdown",
   "id": "6d184d1a-45eb-42b8-942d-ac36bf1ff35b",
   "metadata": {},
   "source": [
    "<div class=\"alert alert-block alert-warning\">\n",
    "<b>Warning:</b> If you encountered a \"NaN error\" during the NPT equilibration, rerun the energy minimization. Ideally this will run the first time, but there is still a possibility that after the openmm minization the repulsive forces are still incalculable.\n",
    "</div>"
   ]
  },
  {
   "cell_type": "code",
   "execution_count": null,
   "id": "07666806-36a4-4e26-bd4f-7c5005536280",
   "metadata": {},
   "outputs": [],
   "source": [
    "# Visaulise data from the npt sim\n",
    "sim.graph_state_data(npt_sim_data)"
   ]
  },
  {
   "cell_type": "markdown",
   "id": "ae0ad30f-4568-467a-8cf7-c3da390b3c3d",
   "metadata": {},
   "source": [
    "## Step 7.4. Annealing\n",
    "\n",
    "Annealing cycles are important to ensure a simulation starts from a non-biased arrangement and parameters can be set for this in a similar way.\n",
    "\n",
    "```python\n",
    "   sim.set_anneal_parameters([start_temp, target_temp, cycles, quench_rate, total_steps])\n",
    "```\n",
    "- Start temp: the temperature the annealing will start at\n",
    "- Target temp: the temperature the annealing will reach\n",
    "- Cycles: the number of annealing cycles\n",
    "- Quench rate: how quick the temperature will in-/de-crease\n",
    "- Total steps: total steps for the annealing process"
   ]
  },
  {
   "cell_type": "code",
   "execution_count": null,
   "id": "346179f1-3d69-4ee7-9833-0e578476ff5a",
   "metadata": {},
   "outputs": [],
   "source": [
    "# Set annealing parameters\n",
    "sim.set_anneal_parameters([300, 600, 1, 10, 10000])"
   ]
  },
  {
   "cell_type": "code",
   "execution_count": null,
   "id": "e669818b-0507-41e8-9ab9-f139d76cf80a",
   "metadata": {},
   "outputs": [],
   "source": [
    "# Anneal the simulation\n",
    "annealed_sim, annealed_sim_data = sim.anneal_NVT(npt_sim)"
   ]
  },
  {
   "cell_type": "code",
   "execution_count": null,
   "id": "3201b727-5335-4fb1-8391-42d23e4f5385",
   "metadata": {},
   "outputs": [],
   "source": [
    "# Visualise data from annealing\n",
    "sim.graph_state_data(annealed_sim_data)"
   ]
  },
  {
   "cell_type": "markdown",
   "id": "80d91ffd-976c-4824-ad4a-1462a755a3d4",
   "metadata": {},
   "source": [
    "## Step 7.5. Heating the system\n",
    "\n",
    "The final step (the production run) involves heating the system from 300 k to above the experimental Tg to compute thermodynamic properties.\n",
    "\n",
    "The process is much the same, pass the **annealed_sim** variable as an argument to the thermal ramp function.\n",
    "\n",
    "<div class=\"alert alert-block alert-info\">\n",
    "<b>Note:</b> This function has a lot different arguments and can run in either a NVT or NPT ensemble. It is easier to pass the parameters directly to this function rather than predefine them.\n",
    "</div>\n",
    "\n",
    "```python\n",
    "   sim.thermal_ramp(annealed_sim, heating=True, quench_rate=10, ensemble=\"NPT\", start_temp=300, max_temp=600, total_steps=10000)\n",
    "```\n",
    "- Heating: True = heating, False = cooling\n",
    "- Quench rate: how quick the temperature will in-/de-crease\n",
    "- Ensemble: \"NPT or \"NVT\"\n",
    "- Start temp: the temperature the annealing will start at\n",
    "- Max temp: the temperature the annealing will reach\n",
    "- Total steps: total steps for the thermal ramping process\n"
   ]
  },
  {
   "cell_type": "code",
   "execution_count": null,
   "id": "c6322519-ddc9-4579-85cd-70abcaec44d4",
   "metadata": {},
   "outputs": [],
   "source": [
    "# Heat the simulation\n",
    "heated_sim, heated_sim_data = sim.thermal_ramp(annealed_sim, heating=True, quench_rate=10, ensemble=\"NPT\", start_temp=300, max_temp=600, total_steps=10000)"
   ]
  },
  {
   "cell_type": "code",
   "execution_count": null,
   "id": "0a723daf-b983-43ca-9864-06001d13663d",
   "metadata": {},
   "outputs": [],
   "source": [
    "# Visaulise the data from the heating stage\n",
    "sim.graph_state_data(heated_sim_data)"
   ]
  },
  {
   "cell_type": "markdown",
   "id": "9a6004d9-3b13-4565-b046-06a44ee1e5ce",
   "metadata": {},
   "source": [
    "# 8. What next?\n",
    "\n",
    "THe next step is to check out the next guide which ~~cuts the bullshit~~  has much less explanations on the internal workings of all the methods shown in this notebook, but is a good example of how these methods can be implemented into a proper script and utilised much more efficiently. The links can be found here:\n",
    "\n",
    "Documentation: LINK\n",
    "Notebook: LINK\n",
    "\n",
    "## Other stuff\n",
    "\n",
    "If you wish to work with other polymers check out the parameterization guide:\n",
    "\n",
    "LINK\n",
    "\n",
    "If you wish to use some of the analysis techniques implemented:\n",
    "\n",
    "Link\n",
    "\n",
    "<div class=\"alert alert-block alert-info\">\n",
    "<b>Note:</b> The analysis section of this module is very underdeveloped compared to the other methodologies described here and it is important to know that these are really just MDanalysis methods wrapped up for specific simulations given here and anything that can be carried out with the sw_analysis module is achievable by just using MDanalysis by itself.\n",
    "</div>"
   ]
  }
 ],
 "metadata": {
  "kernelspec": {
   "display_name": "Python 3 (ipykernel)",
   "language": "python",
   "name": "python3"
  },
  "language_info": {
   "codemirror_mode": {
    "name": "ipython",
    "version": 3
   },
   "file_extension": ".py",
   "mimetype": "text/x-python",
   "name": "python",
   "nbconvert_exporter": "python",
   "pygments_lexer": "ipython3",
   "version": "3.12.0"
  }
 },
 "nbformat": 4,
 "nbformat_minor": 5
}
