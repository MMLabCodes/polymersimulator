{
 "cells": [
  {
   "cell_type": "markdown",
   "id": "b763b46f",
   "metadata": {},
   "source": [
    "# Importing python modules\n",
    "\n",
    "The first module to import is **sw_directories** so we can use the **SnippetSimManage** class as detailed in the first tutorial.\n",
    "\n",
    "The second module to import is **sw_build_systems** so we can use the **BuildAmberSystems** class. This class was utilised in the second tutorial. We will use the simulation module soon, but we need to build a system first."
   ]
  },
  {
   "cell_type": "code",
   "execution_count": 1,
   "id": "3ee25ce1",
   "metadata": {},
   "outputs": [],
   "source": [
    "from modules.sw_directories import *\n",
    "from modules.sw_build_systems import *\n",
    "import os as os"
   ]
  },
  {
   "cell_type": "markdown",
   "id": "051a400e-9cbb-4b3b-b499-a02e7407841b",
   "metadata": {},
   "source": [
    "# Setting up *Manager* and *Builder* classes"
   ]
  },
  {
   "cell_type": "code",
   "execution_count": 2,
   "id": "7f70e3b2-2c97-412b-8efd-f5f03e3e3bd3",
   "metadata": {},
   "outputs": [],
   "source": [
    "# Retrieve the path to our main directory\n",
    "main_dir = os.getcwd()\n",
    "\n",
    "# Pass this main directory to the SnippetSimManage class and assign it an appropriate variable name.\n",
    "manager = SnippetSimManage(main_dir)\n",
    "builder = BuildAmberSystems(manager)"
   ]
  },
  {
   "cell_type": "markdown",
   "id": "eb7412be",
   "metadata": {},
   "source": [
    "### Generate topology and coordinate files of a solvated molecule from its SMILES string\n",
    "\n",
    "For an example in this guide, simulations will be explained with a small system of a solvated molecule. You can use any molecule you desire **(please do as we can *stress test* the code)** provided you have the SMILES string for it, but this guide will use Caftaric acid (random molcule which is relatively big, especially compared to caffeine in the tutorials. <br> \n",
    "\n",
    "**Name:** Caftaric acid <Br>\n",
    "**SMILES:** C1=CC(=C(C=C1C=CC(=O)OC(C(C(=O)O)O)C(=O)O)O)O <br>\n",
    "\n",
    "*Note: parameterization can take a while - go make a cake or something*\n"
   ]
  },
  {
   "cell_type": "markdown",
   "id": "7de29df9-0882-42bf-b966-f6fc2dd065e0",
   "metadata": {},
   "source": [
    "The next block of code uses the caftaric acid smiles string and goes through all of the steps. This is an example of the code shown in the tutorials can be piped together to make an entire python script. <br>\n",
    "\n",
    "There are a series of **if statements** that check if certain files exist and allows the code to proceed without any expected errors."
   ]
  },
  {
   "cell_type": "code",
   "execution_count": 3,
   "id": "15498ea9",
   "metadata": {},
   "outputs": [
    {
     "name": "stdout",
     "output_type": "stream",
     "text": [
      "Output: \n",
      "Welcome to antechamber 22.0: molecular input file processor.\n",
      "\n",
      "Info: acdoctor mode is on: check and diagnose problems in the input file.\n",
      "Info: The atom type is set to gaff; the options available to the -at flag are\n",
      "      gaff, gaff2, amber, bcc, and sybyl.\n",
      "\n",
      "-- Check Format for pdb File --\n",
      "   Status: pass\n",
      "Info: Determining atomic numbers from atomic symbols which are case sensitive.\n",
      "-- Check Unusual Elements --\n",
      "   Status: pass\n",
      "-- Check Open Valences --\n",
      "   Status: pass\n",
      "-- Check Geometry --\n",
      "      for those bonded   \n",
      "      for those not bonded   \n",
      "   Status: pass\n",
      "-- Check Weird Bonds --\n",
      "   Status: pass\n",
      "-- Check Number of Units --\n",
      "   Status: pass\n",
      "acdoctor mode has completed checking the input file.\n",
      "\n",
      "Running: /home/dan/miniconda3/envs/AmberTools23/bin/bondtype -j full -i ANTECHAMBER_BOND_TYPE.AC0 -o ANTECHAMBER_BOND_TYPE.AC -f ac\n",
      "\n",
      "Running: /home/dan/miniconda3/envs/AmberTools23/bin/atomtype -i ANTECHAMBER_AC.AC0 -o ANTECHAMBER_AC.AC -p gaff\n",
      "Info: Total number of electrons: 162; net charge: 0\n",
      "\n",
      "Running: /home/dan/miniconda3/envs/AmberTools23/bin/sqm -O -i sqm.in -o sqm.out\n",
      "\n",
      "Running: /home/dan/miniconda3/envs/AmberTools23/bin/am1bcc -i ANTECHAMBER_AM1BCC_PRE.AC -o ANTECHAMBER_AM1BCC.AC -f ac -p /home/dan/miniconda3/envs/AmberTools23/dat/antechamber/BCCPARM.DAT -s 2 -j 1\n",
      "\n",
      "Running: /home/dan/miniconda3/envs/AmberTools23/bin/atomtype -f ac -p bcc -o ANTECHAMBER_AM1BCC.AC -i ANTECHAMBER_AM1BCC_PRE.AC\n",
      "\n",
      "Running: /home/dan/miniconda3/envs/AmberTools23/bin/prepgen -i ANTECHAMBER_PREP.AC -f int -o /home/dan/polymersimulator/pdb_files/molecules/caftaric_acid/caftaric_acid.prepi -rn \"ADG\" -rf molecule.res\n",
      "\n",
      "\n",
      "Output: \n",
      "Welcome to antechamber 22.0: molecular input file processor.\n",
      "\n",
      "Info: acdoctor mode is on: check and diagnose problems in the input file.\n",
      "Info: The atom type is set to gaff; the options available to the -at flag are\n",
      "      gaff, gaff2, amber, bcc, and sybyl.\n",
      "\n",
      "-- Check Format for pdb File --\n",
      "   Status: pass\n",
      "Info: Determining atomic numbers from atomic symbols which are case sensitive.\n",
      "-- Check Unusual Elements --\n",
      "   Status: pass\n",
      "-- Check Open Valences --\n",
      "   Status: pass\n",
      "-- Check Geometry --\n",
      "      for those bonded   \n",
      "      for those not bonded   \n",
      "   Status: pass\n",
      "-- Check Weird Bonds --\n",
      "   Status: pass\n",
      "-- Check Number of Units --\n",
      "   Status: pass\n",
      "acdoctor mode has completed checking the input file.\n",
      "\n",
      "Running: /home/dan/miniconda3/envs/AmberTools23/bin/bondtype -j full -i ANTECHAMBER_BOND_TYPE.AC0 -o ANTECHAMBER_BOND_TYPE.AC -f ac\n",
      "\n",
      "Running: /home/dan/miniconda3/envs/AmberTools23/bin/atomtype -i ANTECHAMBER_AC.AC0 -o ANTECHAMBER_AC.AC -p gaff\n",
      "Info: Total number of electrons: 162; net charge: 0\n",
      "\n",
      "Running: /home/dan/miniconda3/envs/AmberTools23/bin/sqm -O -i sqm.in -o sqm.out\n",
      "\n",
      "Running: /home/dan/miniconda3/envs/AmberTools23/bin/am1bcc -i ANTECHAMBER_AM1BCC_PRE.AC -o ANTECHAMBER_AM1BCC.AC -f ac -p /home/dan/miniconda3/envs/AmberTools23/dat/antechamber/BCCPARM.DAT -s 2 -j 1\n",
      "\n",
      "Running: /home/dan/miniconda3/envs/AmberTools23/bin/atomtype -f ac -p bcc -o ANTECHAMBER_AM1BCC.AC -i ANTECHAMBER_AM1BCC_PRE.AC\n",
      "\n",
      "Running: /home/dan/miniconda3/envs/AmberTools23/bin/prepgen -i ANTECHAMBER_PREP.AC -f int -o /home/dan/polymersimulator/pdb_files/molecules/caftaric_acid/caftaric_acid.prepi -rn \"ADG\" -rf molecule.res\n",
      "\n",
      "\n",
      "Current directory: /home/dan/polymersimulator/pdb_files/molecules/caftaric_acid\n",
      "Output: -I: Adding /home/dan/miniconda3/envs/AmberTools23/dat/leap/prep to search path.\n",
      "-I: Adding /home/dan/miniconda3/envs/AmberTools23/dat/leap/lib to search path.\n",
      "-I: Adding /home/dan/miniconda3/envs/AmberTools23/dat/leap/parm to search path.\n",
      "-I: Adding /home/dan/miniconda3/envs/AmberTools23/dat/leap/cmd to search path.\n",
      "-f: Source caftaric_acid_wat_solv_16.intleap.\n",
      "\n",
      "Welcome to LEaP!\n",
      "(no leaprc in search path)\n",
      "Sourcing: ./caftaric_acid_wat_solv_16.intleap\n",
      "----- Source: /home/dan/miniconda3/envs/AmberTools23/dat/leap/cmd/leaprc.gaff\n",
      "----- Source of /home/dan/miniconda3/envs/AmberTools23/dat/leap/cmd/leaprc.gaff done\n",
      "Log file: ./leap.log\n",
      "Loading parameters: /home/dan/miniconda3/envs/AmberTools23/dat/leap/parm/gaff.dat\n",
      "Reading title:\n",
      "AMBER General Force Field for organic molecules (Version 1.81, May 2017)\n",
      "----- Source: /home/dan/miniconda3/envs/AmberTools23/dat/leap/cmd/leaprc.water.fb3\n",
      "----- Source of /home/dan/miniconda3/envs/AmberTools23/dat/leap/cmd/leaprc.water.fb3 done\n",
      "Loading library: /home/dan/miniconda3/envs/AmberTools23/dat/leap/lib/atomic_ions.lib\n",
      "Loading library: /home/dan/miniconda3/envs/AmberTools23/dat/leap/lib/solvents.lib\n",
      "Loading parameters: /home/dan/miniconda3/envs/AmberTools23/dat/leap/parm/frcmod.tip3pfb\n",
      "Reading force field modification type file (frcmod)\n",
      "Reading title:\n",
      "TIP3P-FB Water Model (Wang, Martinez, Pande, J. Phys. Chem. Lett., 5:1885, 2014)\n",
      "Loading parameters: /home/dan/miniconda3/envs/AmberTools23/dat/leap/parm/frcmod.ionslm_126_fb3\n",
      "Reading force field modification type file (frcmod)\n",
      "Reading title:\n",
      "Li/Merz ion parameters of atomic ions for the TIP3P-FB water model (12-6 set)\n",
      "Loading parameters: /home/dan/polymersimulator/pdb_files/molecules/caftaric_acid/caftaric_acid.frcmod\n",
      "Reading force field modification type file (frcmod)\n",
      "Reading title:\n",
      "Remark line goes here\n",
      "Loading library: /home/dan/polymersimulator/pdb_files/molecules/caftaric_acid/caftaric_acid.lib\n",
      "  Solute vdw bounding box:              14.264 13.571 5.873\n",
      "  Total bounding box for atom centers:  38.264 37.571 29.873\n",
      "  Solvent unit box:                     18.774 18.774 18.774\n",
      "  Total vdw box size:                   41.154 40.451 33.023 angstroms.\n",
      "  Volume: 54973.902 A^3 \n",
      "  Total mass 22507.938 amu,  Density 0.680 g/cc\n",
      "  Added 1232 residues.\n",
      "Checking Unit.\n",
      "Building topology.\n",
      "Building atom parameters.\n",
      "Building bond parameters.\n",
      "Building angle parameters.\n",
      "Building proper torsion parameters.\n",
      "Building improper torsion parameters.\n",
      " total 11 improper torsions applied\n",
      "Building H-Bond parameters.\n",
      "Incorporating Non-Bonded adjustments.\n",
      "Not Marking per-residue atom chain types.\n",
      "Marking per-residue atom chain types.\n",
      "  (Residues lacking connect0/connect1 - \n",
      "   these don't have chain types marked:\n",
      "\n",
      "\tres\ttotal affected\n",
      "\n",
      "\tADG\t1\n",
      "\tWAT\t1232\n",
      "  )\n",
      " (no restraints)\n",
      "Writing pdb file: /home/dan/polymersimulator/pdb_files/systems/caftaric_acid_wat_solv/caftaric_acid_wat_solv_16.pdb\n",
      "   printing CRYST1 record to PDB file with box info\n",
      "\tQuit\n",
      "\n",
      "Exiting LEaP: Errors = 0; Warnings = 0; Notes = 0.\n",
      "\n"
     ]
    }
   ],
   "source": [
    "import sys\n",
    "\n",
    "# Build the pdb file\n",
    "builder.SmilesToPDB_GenResCode(\"C1=CC(=C(C=C1C=CC(=O)OC(C(C(=O)O)O)C(=O)O)O)O\", \"caftaric_acid\")\n",
    "\n",
    "# Check if pdb file was built\n",
    "if manager.load_pdb_filepath(\"caftaric_acid\") is not None:\n",
    "    pass\n",
    "else:\n",
    "    # Exit if no pdb file was generated\n",
    "    print(\"No pdb file generated\")\n",
    "    sys.exit()\n",
    "\n",
    "# Parameterize the molecule\n",
    "builder.parameterize_mol(\"caftaric_acid\")\n",
    "\n",
    "# Check if mol2 file from parameterization was generated\n",
    "if manager.load_mol2_filepath(\"caftaric_acid\") is not None:\n",
    "    pass\n",
    "else:\n",
    "    # Exit if no mol2 file is generates\n",
    "    print(\"Molecule not paramerterized properly\")\n",
    "    sys.exit()\n",
    "\n",
    "# Solvate the molecule and generate Amber topologies and coordinates\n",
    "solvated_molecule = builder.solvate_molecule(\"caftaric_acid\")\n",
    "\n",
    "# Check if Amber topologies and coordinates for the system exist\n",
    "top, coord = manager.load_amber_filepaths(solvated_molecule)\n",
    "if top is not None and coord is not None:\n",
    "    pass\n",
    "else:\n",
    "    # Exit is no Amber topology and coordinate file was generated for the system\n",
    "    print(\"Amber topology and coordinates not generated properly\")\n",
    "    sys.exit()\n",
    "    "
   ]
  },
  {
   "cell_type": "markdown",
   "id": "266651bb-73e2-45e8-bfff-c320f826822e",
   "metadata": {},
   "source": [
    "# Simulation\n",
    "\n",
    "Now a system has been prepared with the Amber topology and coordinates - lets move on to the focus of this notebook."
   ]
  },
  {
   "cell_type": "markdown",
   "id": "1b9991cc-615c-418b-8f10-15fc2c7a98b9",
   "metadata": {},
   "source": [
    "## Import the **sw_openmm** module"
   ]
  },
  {
   "cell_type": "code",
   "execution_count": 4,
   "id": "365b4aa7-cd36-4737-b29c-bbac81bec258",
   "metadata": {},
   "outputs": [],
   "source": [
    "from modules.sw_openmm import *"
   ]
  },
  {
   "cell_type": "markdown",
   "id": "b2ca9e63-538e-4800-9b39-7ddb4897e703",
   "metadata": {},
   "source": [
    "Now an **AmberSimulation** object can be created using the generated topology and coordinate files."
   ]
  },
  {
   "cell_type": "code",
   "execution_count": 5,
   "id": "fd9c39d9-63e8-4710-8219-647d4b440918",
   "metadata": {},
   "outputs": [
    {
     "data": {
      "text/plain": [
       "('/home/dan/polymersimulator/pdb_files/systems/caftaric_acid_wat_solv/caftaric_acid_wat_solv_16.prmtop',\n",
       " '/home/dan/polymersimulator/pdb_files/systems/caftaric_acid_wat_solv/caftaric_acid_wat_solv_16.rst7')"
      ]
     },
     "execution_count": 5,
     "metadata": {},
     "output_type": "execute_result"
    }
   ],
   "source": [
    "# Check the topology and coordinate file from the large block of code used to generate them - they are stored in the variables 'top' and 'coord'\n",
    "top, coord"
   ]
  },
  {
   "cell_type": "code",
   "execution_count": 6,
   "id": "a3a35b2c-8fe2-46df-b75c-4b937230ee4a",
   "metadata": {},
   "outputs": [],
   "source": [
    "# Set up the AmberSimualtion object by passing the; manager, top, coord\n",
    "simulation = AmberSimulation(manager, top, coord)"
   ]
  },
  {
   "cell_type": "markdown",
   "id": "5e68773a",
   "metadata": {},
   "source": [
    "### Investigate class\n",
    "\n",
    "Before carrying out any simulations or even setting them up, lets see what the simulation class includes. <br>\n",
    "\n",
    "Calling 'help(class)' will show the contents of each class, here we will investigate the **AmberSimulation** class: <br>\n",
    "\n",
    "    - AmberSimulation: Class inheriting methods from BuildSimulation but also contains method to set up simulations using Amber topologies and parameters.\n",
    "\n",
    "A lot of stuff will be printed out at this point, there are a series of things: <br>\n",
    "\n",
    "    - Methods in the class (a method is a function that is contained in a class)\n",
    "    - class variables (these are preset variables assigned to the class - i.e. default simulation parameters)\n",
    "    - static methods (methods the class has that don't require any other info to be passed to it - i.e. doesn't require topology or coordinate files)"
   ]
  },
  {
   "cell_type": "code",
   "execution_count": 7,
   "id": "54af3d5f",
   "metadata": {},
   "outputs": [
    {
     "name": "stdout",
     "output_type": "stream",
     "text": [
      "Help on class AmberSimulation in module modules.sw_openmm:\n",
      "\n",
      "class AmberSimulation(BuildSimulation)\n",
      " |  AmberSimulation(manager, topology_file, coordinates_file)\n",
      " |\n",
      " |  A class representing an AMBER molecular dynamics simulation.\n",
      " |\n",
      " |  Attributes:\n",
      " |      directories (str): A directories obejct generated with sw_directories which manages filepaths during simulations.\n",
      " |      topology_file (str): A string representing the path to the topology file.\n",
      " |      coordinates_file (str): A string representing the path to the coordinates file.\n",
      " |\n",
      " |  Methods:\n",
      " |      __init__(directories, topology_file, coordinates_file):\n",
      " |          Initializes an AmberSimulation object with specified directories, topology file, and coordinates file.\n",
      " |      __str__():\n",
      " |          Returns a string representation of the AmberSimulation object.\n",
      " |\n",
      " |  Method resolution order:\n",
      " |      AmberSimulation\n",
      " |      BuildSimulation\n",
      " |      builtins.object\n",
      " |\n",
      " |  Methods defined here:\n",
      " |\n",
      " |  __init__(self, manager, topology_file, coordinates_file)\n",
      " |      Initializes a BuildSimulation object with specified directories and filename\n",
      " |\n",
      " |      Args:\n",
      " |          directories (str): The directories where simulation files are stored.\n",
      " |          filename (str): The name of the simulation file.\n",
      " |\n",
      " |      Attributes:\n",
      " |          filename (str): The name of the simulation file.\n",
      " |          directories (str): The directories where simulation files are stored.\n",
      " |          output_dir (str): The directory for simulation output.\n",
      " |          log_info (dict): Information log for different stages of the simulation.\n",
      " |          log_csv (str): The path to the CSV log file.\n",
      " |\n",
      " |      Notes:\n",
      " |          If the output directory does not exist, it will be created.\n",
      " |\n",
      " |  __str__(self)\n",
      " |      Return str(self).\n",
      " |\n",
      " |  ----------------------------------------------------------------------\n",
      " |  Methods inherited from BuildSimulation:\n",
      " |\n",
      " |  __repr__(self)\n",
      " |      Return repr(self).\n",
      " |\n",
      " |  anneal(self, simulation, start_temp=None, max_temp=None, cycles=None, holding_steps=None, steps_at_temp=None)\n",
      " |      Function to perform simulated annealing on the provided simulation system.\n",
      " |\n",
      " |      USAGE:\n",
      " |          annealed_sim = sim.anneal(simulation, start_temp, max_temp, cycles, holding_steps, steps_at_temp)\n",
      " |\n",
      " |      Recommended USAGE:\n",
      " |          annealed_sim = sim.anneal(simulation)\n",
      " |\n",
      " |          where annealing parameters are set with the following function:\n",
      " |\n",
      " |          simulation_object.set_anneal_parameters([start_temp, max_temp, cycles, holding_steps, steps_at_each_temp])\n",
      " |\n",
      " |      Args:\n",
      " |          simulation (app.Simulation): The simulation object to perform annealing on.\n",
      " |\n",
      " |          start_temp (float, optional): The starting temperature for annealing in Kelvin. Defaults to None,\n",
      " |              in which case the value is fetched from self.anneal_parameters[0].\n",
      " |\n",
      " |          max_temp (float, optional): The maximum temperature for annealing in Kelvin. Defaults to None,\n",
      " |              in which case the value is fetched from self.anneal_parameters[1].\n",
      " |\n",
      " |          cycles (int, optional): The number of annealing cycles to perform. Defaults to None,\n",
      " |              in which case the value is fetched from self.anneal_parameters[2].\n",
      " |\n",
      " |          holding_steps (int, optional): The number of steps to hold the system at each temperature.\n",
      " |              Defaults to None, in which case the value is fetched from self.anneal_parameters[3].\n",
      " |\n",
      " |          steps_at_temp (int, optional): The number of steps to perform at each temperature.\n",
      " |              Defaults to None, in which case the value is fetched from self.anneal_parameters[4].\n",
      " |\n",
      " |      Returns:\n",
      " |          A tuple containing the simulation object after annealing and the filename of the data file generated.\n",
      " |              in the following format:\n",
      " |\n",
      " |          (simulation_object, path_to_data_file)\n",
      " |\n",
      " |      Notes:\n",
      " |          This method performs simulated annealing on the provided simulation object. It initializes the system with the\n",
      " |      provided initial conditions and runs annealing cycles adjusting the temperature according to the specified parameters.\n",
      " |      The system's state is updated throughout the annealing process, and reporters are set up to record trajectory and\n",
      " |      simulation data.\n",
      " |\n",
      " |  equilibrate(self, simulation, total_steps=None, temp=None, pressure=None)\n",
      " |      Function to equilibrate the provided simulation to reach a specified temperature and pressure.\n",
      " |\n",
      " |      USAGE:\n",
      " |          equilibrated_sim = sim.anneal(simulation, total_steps, temp, pressure)\n",
      " |\n",
      " |      Recommended USAGE:\n",
      " |          equilibrated_sim = sim.anneal(simulation)\n",
      " |\n",
      " |          where annealing parameters are set with the following functions:\n",
      " |\n",
      " |          simulation_object.set_temperature(temperature)\n",
      " |          simulation_object.set_pressure(pressure)\n",
      " |          simulation_object.set_total_steps(total_steps)\n",
      " |\n",
      " |      Args:\n",
      " |          simulation (app.Simulation): The simulation object to equilibrate.\n",
      " |\n",
      " |          total_steps (int, optional): The total number of steps to run for equilibration. Defaults to None,\n",
      " |              in which case the value is fetched from self.total_steps.\n",
      " |\n",
      " |          temp (float, optional): The target temperature for equilibration in Kelvin. Defaults to None,\n",
      " |              in which case the value is fetched from self.temp.\n",
      " |\n",
      " |          pressure (float, optional): The target pressure for equilibration in atmospheres. Defaults to None,\n",
      " |              in which case the value is fetched from self.pressure.\n",
      " |\n",
      " |      Returns:\n",
      " |          A tuple containing the simulation object after equilibration and the filename of the data file generated\n",
      " |              in the following format:\n",
      " |\n",
      " |          (simulation_object, path_to_data_file)\n",
      " |\n",
      " |      Notes:\n",
      " |          This method performs equilibration on the provided simulation object to reach the specified temperature and pressure.\n",
      " |          It initializes the system with the provided initial conditions and runs the simulation for the specified number\n",
      " |          of steps. The system's state is updated throughout the equilibration process, and reporters are set up to record\n",
      " |          trajectory and simulation data.\n",
      " |\n",
      " |  minimize_energy(self)\n",
      " |      Function to perform energy minimization of the system using Langevin dynamics.\n",
      " |\n",
      " |      USAGE:\n",
      " |          minimized_sim = simulation_object.minimize_energy()\n",
      " |\n",
      " |      Returns:\n",
      " |          minimized_simulation_object\n",
      " |\n",
      " |  production_run(self, simulation, total_steps=None, temp=None)\n",
      " |      Function to perform a production run simulation with the provided parameters.\n",
      " |\n",
      " |      USAGE:\n",
      " |          production_run_sim = sim.anneal(simulation, total_steps, temp)\n",
      " |\n",
      " |      Recommended USAGE:\n",
      " |          production_run_sim = sim.anneal(simulation)\n",
      " |\n",
      " |          where annealing parameters are set with the following functions:\n",
      " |\n",
      " |          simulation_object.set_temperature(temperature)\n",
      " |          simulation_object.set_total_steps(total_steps)\n",
      " |\n",
      " |      Args:\n",
      " |          simulation (app.Simulation): The simulation object to run the production simulation on.\n",
      " |\n",
      " |          total_steps (int, optional): The total number of steps to run for the production simulation.\n",
      " |              Defaults to None, in which case the value is fetched from self.total_steps.\n",
      " |\n",
      " |          temp (float, optional): The temperature for the production simulation in Kelvin.\n",
      " |              Defaults to None, in which case the value is fetched from self.temp.\n",
      " |\n",
      " |      Returns:\n",
      " |          A tuple containing the simulation object after the production run and the filename of the data file generated.\n",
      " |              in the following format:\n",
      " |\n",
      " |          (simulation_object, path_to_data_file)\n",
      " |\n",
      " |      Notes:\n",
      " |          This method performs a production run simulation with the provided simulation object and parameters.\n",
      " |          It initializes the system with the provided initial conditions and runs the simulation for the specified\n",
      " |          number of steps. The system's state is updated throughout the production run, and reporters are set up to\n",
      " |          record trajectory and simulation data.\n",
      " |\n",
      " |  type_of_simulation(self)\n",
      " |      Determine the type of simulation.\n",
      " |\n",
      " |      Returns:\n",
      " |          str: A string indicating the type of simulation, either \"AMB\" for AmberSimulation or \"ANI\" for ANISimulation.\n",
      " |\n",
      " |      Notes:\n",
      " |          This method inspects the type of the current object to determine the type of simulation.\n",
      " |          If the object is an instance of AmberSimulation, it returns \"AMB\".\n",
      " |          If the object is an instance of ANISimulation, it returns \"ANI\".\n",
      " |          If the object is neither, it returns a message prompting the user to specify the type of simulation by calling\n",
      " |          either AmberSimulation or ANISimulation classes.\n",
      " |\n",
      " |          This function should never need to be called as we can we can the type of our simulation object with: repr(simulation_object)\n",
      " |\n",
      " |  write_log_csv(self)\n",
      " |      Write the log information to a CSV file.\n",
      " |\n",
      " |      Returns:\n",
      " |          None\n",
      " |\n",
      " |      Notes:\n",
      " |          This method collects all unique keys across all sections of log_info.\n",
      " |          It then writes the log_info to a CSV file with each section as a row and the keys as columns.\n",
      " |\n",
      " |  ----------------------------------------------------------------------\n",
      " |  Class methods inherited from BuildSimulation:\n",
      " |\n",
      " |  anneal_help() from builtins.type\n",
      " |      Display help information for the anneal method.\n",
      " |\n",
      " |  display_start_time() from builtins.type\n",
      " |\n",
      " |  equilibrate_help() from builtins.type\n",
      " |      Display help information for the equilibrate method.\n",
      " |\n",
      " |  graph_state_data_help() from builtins.type\n",
      " |      Display help information for the method to plot state data.\n",
      " |\n",
      " |  minimize_energy_help() from builtins.type\n",
      " |      Display help information for the minimize_energy method.\n",
      " |\n",
      " |  production_run_help() from builtins.type\n",
      " |      Display help information for the production run method.\n",
      " |\n",
      " |  set_anneal_parameters(new_anneal_parameters) from builtins.type\n",
      " |      Class method to set annealing parameters.\n",
      " |\n",
      " |      Args:\n",
      " |          cls: The class itself.\n",
      " |          new_anneal_parameters (list): List of annealing parameters in the format [start_temp, max_temp, cycles, holding_steps, steps_at_temp].\n",
      " |\n",
      " |      Returns:\n",
      " |          None\n",
      " |\n",
      " |      Raises:\n",
      " |          ValueError: If the length of new_anneal_parameters does not match the expected length.\n",
      " |\n",
      " |      Notes:\n",
      " |          This method sets the annealing parameters class attribute to the specified list.\n",
      " |          It prints a confirmation message with the provided parameters.\n",
      " |\n",
      " |  set_anneal_parameters_help() from builtins.type\n",
      " |      Display help information for setting annealing parameters.\n",
      " |\n",
      " |  set_friction_coeff(friction_coeff) from builtins.type\n",
      " |      Class method to set the friction_coeff for simulations.\n",
      " |\n",
      " |      Args:\n",
      " |          cls: The class itself.\n",
      " |          friction_coeff (float): The friction_coeff to set, in Picoseconds.\n",
      " |\n",
      " |      Returns:\n",
      " |          None\n",
      " |\n",
      " |      Notes:\n",
      " |          This method sets the friction_coeff class attribute to the specified value and prints a confirmation message.\n",
      " |\n",
      " |  set_pressure(pressure) from builtins.type\n",
      " |      Class method to set the pressure for simulations.\n",
      " |\n",
      " |      Args:\n",
      " |          cls: The class itself.\n",
      " |          pressure (float): The pressure to set, in Atmospheres.\n",
      " |\n",
      " |      Returns:\n",
      " |          None\n",
      " |\n",
      " |      Notes:\n",
      " |          This method sets the pressure class attribute to the specified value and prints a confirmation message.\n",
      " |\n",
      " |  set_reporter_freq(reporter_freq) from builtins.type\n",
      " |      Class method to set the reporter_freq for simulations.\n",
      " |\n",
      " |      Args:\n",
      " |          cls: The class itself.\n",
      " |          reporter_freq (int): The reporter_freq to set, as an integer.\n",
      " |\n",
      " |      Returns:\n",
      " |          None\n",
      " |\n",
      " |      Notes:\n",
      " |          This method sets the reporter_freq class attribute to the specified value and prints a confirmation message.\n",
      " |\n",
      " |  set_temperature(temp) from builtins.type\n",
      " |      Class method to set the temperature for simulations.\n",
      " |\n",
      " |      Args:\n",
      " |          cls: The class itself.\n",
      " |          temp (float): The temperature to set, in Kelvin.\n",
      " |\n",
      " |      Returns:\n",
      " |          None\n",
      " |\n",
      " |      Notes:\n",
      " |          This method sets the temperature class attribute to the specified value and prints a confirmation message.\n",
      " |\n",
      " |  set_timestep(timestep) from builtins.type\n",
      " |      Class method to set the timestep for simulations.\n",
      " |\n",
      " |      Args:\n",
      " |          cls: The class itself.\n",
      " |          timestep (float): The timestep to set, in Femtoseconds.\n",
      " |\n",
      " |      Returns:\n",
      " |          None\n",
      " |\n",
      " |      Notes:\n",
      " |          This method sets the timestep class attribute to the specified value and prints a confirmation message.\n",
      " |\n",
      " |  set_total_steps(total_steps) from builtins.type\n",
      " |      Class method to set the total_steps for simulations.\n",
      " |\n",
      " |      Args:\n",
      " |          cls: The class itself.\n",
      " |          total_steps (int): The total_steps to set, as an integer.\n",
      " |\n",
      " |      Returns:\n",
      " |          None\n",
      " |\n",
      " |      Notes:\n",
      " |          This method sets the total_steps class attribute to the specified value and prints a confirmation message.\n",
      " |\n",
      " |  ----------------------------------------------------------------------\n",
      " |  Static methods inherited from BuildSimulation:\n",
      " |\n",
      " |  graph_state_data(data_file)\n",
      " |      Function to generate a plot from simulation data and save it as a PNG file.\n",
      " |\n",
      " |      USAGE:\n",
      " |          The variable used for this plot is the second element of the tuple coming from the following method:\n",
      " |              **anneal**\n",
      " |              **equilibrate**\n",
      " |              **production_run**\n",
      " |\n",
      " |          sim.graph_state_data(returned_simulation_variable)\n",
      " |\n",
      " |          An example of this returned_simulation_varaible is:\n",
      " |              sim.anneal(minimized_sim)[0]\n",
      " |\n",
      " |      Args:\n",
      " |          data_file (str): The path to the CSV file containing simulation data.\n",
      " |\n",
      " |      Notes:\n",
      " |          This method reads simulation data from a CSV file, creates plots for each column of data\n",
      " |          against time, and saves the resulting plot as a PNG file. The CSV file is expected to have\n",
      " |          a \"Time (ps)\" column and numerical data columns representing different states of the\n",
      " |          simulation over time.\n",
      " |\n",
      " |          The generated plot will contain multiple subplots, each showing a different state variable\n",
      " |          plotted against time. The number of rows and columns of subplots is determined automatically\n",
      " |          based on the number of data columns, with a maximum of 2 columns per row. If there are more\n",
      " |          data columns than can fit in the specified layout, some subplots may be omitted.\n",
      " |\n",
      " |          The PNG file containing the plot will be saved in the same directory as the data file with\n",
      " |          the same name, but with the extension changed to \".png\".\n",
      " |\n",
      " |  ----------------------------------------------------------------------\n",
      " |  Data descriptors inherited from BuildSimulation:\n",
      " |\n",
      " |  __dict__\n",
      " |      dictionary for instance variables (if defined)\n",
      " |\n",
      " |  __weakref__\n",
      " |      list of weak references to the object (if defined)\n",
      " |\n",
      " |  ----------------------------------------------------------------------\n",
      " |  Data and other attributes inherited from BuildSimulation:\n",
      " |\n",
      " |  anneal_parameters = [300, 700, 5, 3000, 100]\n",
      " |\n",
      " |  friction_coeff = 1.0\n",
      " |\n",
      " |  minimized_only = None\n",
      " |\n",
      " |  pressure = 1\n",
      " |\n",
      " |  reporter_freq = 1000\n",
      " |\n",
      " |  temp = 300\n",
      " |\n",
      " |  timestamp = '2024-09-05_115301'\n",
      " |\n",
      " |  timestep = 2.0\n",
      " |\n",
      " |  total_steps = 1000\n",
      "\n",
      "None\n"
     ]
    }
   ],
   "source": [
    "# Shows the functions and varaibles contained inside the BuildSimulation class\n",
    "print(help(AmberSimulation))"
   ]
  },
  {
   "cell_type": "markdown",
   "id": "c3da001b",
   "metadata": {},
   "source": [
    "Before investigating the class - the simulation object was initialized. <br>\n",
    "\n",
    "There are some useful methods to check the type of simulation and the parameters. <br>\n",
    "\n",
    "repr(sim) - this will return the current simulation parameters given. <br>\n",
    "str(sim) - this will return the type of object our simulation is.\n",
    "\n"
   ]
  },
  {
   "cell_type": "code",
   "execution_count": 8,
   "id": "30791d28",
   "metadata": {},
   "outputs": [
    {
     "name": "stdout",
     "output_type": "stream",
     "text": [
      "Simulation parameters: ('1', '300', '2.0, 1.0, 1000, 1000')\n"
     ]
    },
    {
     "data": {
      "text/plain": [
       "\"Simulation parameters given in the following format: ('pressure', 'temperature', 'timestep, friction coefficient, total steps, reporter freqeuncy')\""
      ]
     },
     "execution_count": 8,
     "metadata": {},
     "output_type": "execute_result"
    }
   ],
   "source": [
    "# Prints out the parameters defined for simulations\n",
    "repr(simulation)"
   ]
  },
  {
   "cell_type": "code",
   "execution_count": 9,
   "id": "e08cfc4e",
   "metadata": {
    "scrolled": true
   },
   "outputs": [
    {
     "data": {
      "text/plain": [
       "'Amber simulation object of - caftaric_acid_wat_solv_16'"
      ]
     },
     "execution_count": 9,
     "metadata": {},
     "output_type": "execute_result"
    }
   ],
   "source": [
    "# Prints out the type of simulation and what system is in the simulation object\n",
    "str(simulation)"
   ]
  },
  {
   "cell_type": "markdown",
   "id": "d364367a-ef0c-4482-bb80-aaaf9d65e5df",
   "metadata": {},
   "source": [
    "The timestamp of when the simulation was initiated can also be printed. Each simulation is given a unique timestamp so each simulation has its own unique identity. This is required to avoid simulations of the same system overwriting pre existing files"
   ]
  },
  {
   "cell_type": "code",
   "execution_count": 10,
   "id": "267b607c-343d-4c5c-8e84-385e062fe971",
   "metadata": {},
   "outputs": [
    {
     "name": "stdout",
     "output_type": "stream",
     "text": [
      "Simulation initiated at:  2024-09-05_115301\n"
     ]
    }
   ],
   "source": [
    "# Prints out the start time of the simulation in the format: year-month-day_hour-minute-second\n",
    "simulation.display_start_time()"
   ]
  },
  {
   "cell_type": "markdown",
   "id": "82549371",
   "metadata": {},
   "source": [
    " ## Setting parameters\n",
    "\n",
    "As mentioned when the class was investigated, there are some default parameters for simulation, these can be easily changed.\n",
    " \n",
    " The list of parameters we can change is: <br>\n",
    "> temperature <br>\n",
    "> pressure <br>\n",
    "> timestep <br>\n",
    "> friction coeffiecient (you should not need to change this) <br>\n",
    "> total steps <br>\n",
    "> reporter freqeuncy <br>\n",
    "> annealing parameters <br>\n",
    "     \n",
    "##### What is the friction coefficient? \n",
    "This is a parameter that indicates the strength of the coupling between the heat bath and the system being simulated. This parameter determines how quickly a particles velocity relaxes toward equilibrium. Don't alter this value unless you have a good reason to!"
   ]
  },
  {
   "cell_type": "markdown",
   "id": "79e8a85e",
   "metadata": {},
   "source": [
    "We can check our parameters by running: **simulation_object.parameter**. The list of parameters are: <br>\n",
    "- sim.temp\n",
    "- sim.pressure\n",
    "- sim.timestep\n",
    "- sim.friction_coeff\n",
    "- sim.total_steps\n",
    "- sim.reporter_freq\n",
    "- sim.anneal_parameters"
   ]
  },
  {
   "cell_type": "code",
   "execution_count": 11,
   "id": "87711a5d",
   "metadata": {},
   "outputs": [
    {
     "data": {
      "text/plain": [
       "(300, 1, 2.0, 1.0, 1000, 1000)"
      ]
     },
     "execution_count": 11,
     "metadata": {},
     "output_type": "execute_result"
    }
   ],
   "source": [
    "# Print out simulation paramaters - these are all retrieved from default variables set in the class\n",
    "simulation.temp, simulation.pressure, simulation.timestep, simulation.friction_coeff, simulation.total_steps, simulation.reporter_freq"
   ]
  },
  {
   "cell_type": "markdown",
   "id": "8f29486b",
   "metadata": {},
   "source": [
    "We can also look at our annealing parameters"
   ]
  },
  {
   "cell_type": "code",
   "execution_count": 12,
   "id": "db86a35d",
   "metadata": {},
   "outputs": [
    {
     "data": {
      "text/plain": [
       "[300, 700, 5, 3000, 100]"
      ]
     },
     "execution_count": 12,
     "metadata": {},
     "output_type": "execute_result"
    }
   ],
   "source": [
    "# Print out annealing parameters - annealing parameters are different to the standard parameters as heating cycles need to be managed\n",
    "simulation.anneal_parameters"
   ]
  },
  {
   "cell_type": "markdown",
   "id": "81fb7287",
   "metadata": {},
   "source": [
    "Now lets set some new parameters by running: **simulation_object.set_parameter(new_parameter)**"
   ]
  },
  {
   "cell_type": "code",
   "execution_count": 13,
   "id": "c7359325",
   "metadata": {},
   "outputs": [
    {
     "name": "stdout",
     "output_type": "stream",
     "text": [
      "Temperature set to:  400 kelvin\n"
     ]
    }
   ],
   "source": [
    "# Set a new temperature\n",
    "simulation.set_temperature(400)"
   ]
  },
  {
   "cell_type": "code",
   "execution_count": 14,
   "id": "1ad381cb",
   "metadata": {},
   "outputs": [
    {
     "name": "stdout",
     "output_type": "stream",
     "text": [
      "Pressure set to:  2  atmospheres\n"
     ]
    }
   ],
   "source": [
    "# Set a new pressure\n",
    "simulation.set_pressure(2)"
   ]
  },
  {
   "cell_type": "code",
   "execution_count": 15,
   "id": "936edd6d",
   "metadata": {},
   "outputs": [
    {
     "name": "stdout",
     "output_type": "stream",
     "text": [
      "Friction coeffiecent set to:  1.0\n"
     ]
    }
   ],
   "source": [
    "# Set a new friction coefficient - this was 1.0 anyway, but this is how you would change it\n",
    "simulation.set_friction_coeff(1.0)"
   ]
  },
  {
   "cell_type": "code",
   "execution_count": 16,
   "id": "fa77dc37",
   "metadata": {},
   "outputs": [
    {
     "name": "stdout",
     "output_type": "stream",
     "text": [
      "Total steps for simulation set to:  20000\n"
     ]
    }
   ],
   "source": [
    "# Set a new number of total steps\n",
    "simulation.set_total_steps(20000)"
   ]
  },
  {
   "cell_type": "code",
   "execution_count": 17,
   "id": "dfae28ad",
   "metadata": {},
   "outputs": [
    {
     "name": "stdout",
     "output_type": "stream",
     "text": [
      "Reporter frequency set to every:  100  steps\n"
     ]
    }
   ],
   "source": [
    "# Set a new reporter frequenct\n",
    "simulation.set_reporter_freq(100) # Sampling data every 100 steps is typically too often. However, for a small simulation example, more data means better graphs. "
   ]
  },
  {
   "cell_type": "markdown",
   "id": "bc38465f",
   "metadata": {},
   "source": [
    "Setting the parameters of annealing is the only method of setting parameters that is different. Here, we require a list of parameters - for example I will pass a single number to it."
   ]
  },
  {
   "cell_type": "code",
   "execution_count": 18,
   "id": "29ebb67f",
   "metadata": {},
   "outputs": [
    {
     "ename": "ValueError",
     "evalue": "Invalid parameters provided. Expected format: [start_temp, max_temp, cycles, holding_steps, steps_at_temp]",
     "output_type": "error",
     "traceback": [
      "\u001b[0;31m---------------------------------------------------------------------------\u001b[0m",
      "\u001b[0;31mValueError\u001b[0m                                Traceback (most recent call last)",
      "Cell \u001b[0;32mIn[18], line 2\u001b[0m\n\u001b[1;32m      1\u001b[0m \u001b[38;5;66;03m# Try passing a single number to the 'set_anneal_parameters' method\u001b[39;00m\n\u001b[0;32m----> 2\u001b[0m \u001b[43msimulation\u001b[49m\u001b[38;5;241;43m.\u001b[39;49m\u001b[43mset_anneal_parameters\u001b[49m\u001b[43m(\u001b[49m\u001b[43m[\u001b[49m\u001b[38;5;241;43m2\u001b[39;49m\u001b[43m]\u001b[49m\u001b[43m)\u001b[49m\n",
      "File \u001b[0;32m~/polymersimulator/modules/sw_openmm.py:1170\u001b[0m, in \u001b[0;36mBuildSimulation.set_anneal_parameters\u001b[0;34m(cls, new_anneal_parameters)\u001b[0m\n\u001b[1;32m   1168\u001b[0m \u001b[38;5;28;01mif\u001b[39;00m \u001b[38;5;28mlen\u001b[39m(new_anneal_parameters) \u001b[38;5;241m!=\u001b[39m \u001b[38;5;28mlen\u001b[39m(\u001b[38;5;28mcls\u001b[39m\u001b[38;5;241m.\u001b[39manneal_parameters):\n\u001b[1;32m   1169\u001b[0m     format_str \u001b[38;5;241m=\u001b[39m \u001b[38;5;124m\"\u001b[39m\u001b[38;5;124mExpected format: [start_temp, max_temp, cycles, holding_steps, steps_at_temp]\u001b[39m\u001b[38;5;124m\"\u001b[39m\n\u001b[0;32m-> 1170\u001b[0m     \u001b[38;5;28;01mraise\u001b[39;00m \u001b[38;5;167;01mValueError\u001b[39;00m(\u001b[38;5;124mf\u001b[39m\u001b[38;5;124m\"\u001b[39m\u001b[38;5;124mInvalid parameters provided. \u001b[39m\u001b[38;5;132;01m{\u001b[39;00mformat_str\u001b[38;5;132;01m}\u001b[39;00m\u001b[38;5;124m\"\u001b[39m)\n\u001b[1;32m   1171\u001b[0m \u001b[38;5;28;01melse\u001b[39;00m: \n\u001b[1;32m   1172\u001b[0m     \u001b[38;5;66;03m# new_anneal_parameters = [start_temp, max_temp, cycles, holding_steps]\u001b[39;00m\n\u001b[1;32m   1173\u001b[0m     \u001b[38;5;28mcls\u001b[39m\u001b[38;5;241m.\u001b[39manneal_parameters \u001b[38;5;241m=\u001b[39m new_anneal_parameters\n",
      "\u001b[0;31mValueError\u001b[0m: Invalid parameters provided. Expected format: [start_temp, max_temp, cycles, holding_steps, steps_at_temp]"
     ]
    }
   ],
   "source": [
    "# Try passing a single number to the 'set_anneal_parameters' method\n",
    "simulation.set_anneal_parameters([2])"
   ]
  },
  {
   "cell_type": "markdown",
   "id": "486306bc",
   "metadata": {},
   "source": [
    "We see an error that expected our parameters in a different format; **[start_temp, max_temp, cycles, holding_steps, steps_at_temp]** <br>\n",
    "\n",
    "**These parameters are:** <br>\n",
    "> *start_temp*: the starting temperature of each annealing cycles <br>\n",
    "> *max_temp*: the target temperature of each annealing cycle <br>\n",
    "> *cycles*: the number of annealing cycles <br>\n",
    "> *holding_steps*: the number of steps spent at the start_temp and max_temp during cylces <br>\n",
    "> *steps_at_temp*: the number of steps spent at each individual temperature during heating/cooling <br> \n",
    "    \n",
    "\n",
    "It is a good idea to set the start temp to the same temperature as the simulation.\n",
    "\n",
    "##### Why do we have holding steps?\n",
    "\n",
    "These aren't explicitly necessary, but ensure the simulation spends more than a few steps at the target temperature."
   ]
  },
  {
   "cell_type": "code",
   "execution_count": 19,
   "id": "7f3b6ccc-a65b-4ee6-afcf-01fe6d60afab",
   "metadata": {
    "scrolled": true
   },
   "outputs": [
    {
     "name": "stdout",
     "output_type": "stream",
     "text": [
      "\n",
      "        Class method to set annealing parameters.\n",
      "\n",
      "        Args:\n",
      "            cls: The class itself.\n",
      "            new_anneal_parameters (list): List of annealing parameters in the format [start_temp, max_temp, cycles, holding_steps, steps_at_temp].\n",
      "\n",
      "        Returns:\n",
      "            None\n",
      "\n",
      "        Raises:\n",
      "            ValueError: If the length of new_anneal_parameters does not match the expected length.\n",
      "\n",
      "        Notes:\n",
      "            This method sets the annealing parameters class attribute to the specified list. \n",
      "            It prints a confirmation message with the provided parameters.\n",
      "        \n"
     ]
    }
   ],
   "source": [
    "# Display help for setting annealing parameter - currently not working\n",
    "simulation.set_anneal_parameters_help()"
   ]
  },
  {
   "cell_type": "code",
   "execution_count": 20,
   "id": "12207691",
   "metadata": {},
   "outputs": [
    {
     "name": "stdout",
     "output_type": "stream",
     "text": [
      "Anneal parameters set.\n",
      "Starting temperature is:  400\n",
      "Target temperature is:  700\n",
      "Number of annealing cycles is:  5\n",
      "Steps at target/start temperature is:  1000\n",
      "Steps at each incremental temperature is:  100\n"
     ]
    }
   ],
   "source": [
    "# Method to set annealing paramters in the format: sim.set_anneal_parameters([start_temp, target_temp, cycles, steps_at_target_temp, steps_at_each temp])\n",
    "simulation.set_anneal_parameters([simulation.temp, 700, 5, 1000, 100])"
   ]
  },
  {
   "cell_type": "markdown",
   "id": "9e9218e8",
   "metadata": {},
   "source": [
    "Now we can check our new parameters by running: **repr(sim)**"
   ]
  },
  {
   "cell_type": "code",
   "execution_count": 21,
   "id": "a45d2f63",
   "metadata": {},
   "outputs": [
    {
     "name": "stdout",
     "output_type": "stream",
     "text": [
      "Simulation parameters: ('1', '400', '2.0, 1.0, 20000, 100')\n"
     ]
    },
    {
     "data": {
      "text/plain": [
       "\"Simulation parameters given in the following format: ('pressure', 'temperature', 'timestep, friction coefficient, total steps, reporter freqeuncy')\""
      ]
     },
     "execution_count": 21,
     "metadata": {},
     "output_type": "execute_result"
    }
   ],
   "source": [
    "# Prints out the parameters defined for simulations (this will not display annealing parameters)\n",
    "repr(simulation)"
   ]
  },
  {
   "cell_type": "markdown",
   "id": "f4664bf7",
   "metadata": {},
   "source": [
    "## Running simulations explained\n",
    "\n",
    "### Minimize energy\n",
    "\n",
    "Minimizing the energy of a system and finds the local minimum energy of the system and ensures a good starting structure. <br>\n",
    "\n",
    "This step is run with: **simulation_object.minimize_energy()**\n",
    "\n",
    "### Annealing\n",
    "\n",
    "Annealing ramps the temperature of the system to a given target temperature in a given number of cycles. This allows for components within the system to be mixed well and start from non-biased positions. This is an NVT ensemble. <br>\n",
    "\n",
    "This step is run with: **simulation.anneal()** <br>\n",
    "\n",
    "This uses the annealing parameters that were set with **sim.set_anneal_parameters(start_temp, max_temp, cycles, holding_steps, steps_at_temp)** <br>\n",
    "\n",
    "***Important:*** You can override the parameters set into the simulation object by specifying then individually when you are annealing the system. Howver, it is recommended to set the parameters and then anneal system in seperate steps.* <br>\n",
    "\n",
    "**simulation.anneal(start_temp, max_temp, cycles, holding_steps, steps_at_temp)** <br>\n",
    "\n",
    "*Note: sometimes you will not want to anneal a system - in cases where you want to investigate your starting structure and not a randomly distributed system*\n",
    "\n",
    "### Equilibration\n",
    "\n",
    "Equilibration applies pressure to a system and allows it to *equilibrate* to the correct density for that given pressure. This ensures our system starts from the correct density and the volume of our system is correct. This is an NPT ensemble .<br>\n",
    "\n",
    "*Note: it is key to check the density of your simulation after equilibration against any experimental data where possible*\n",
    "\n",
    "### Production run\n",
    "\n",
    "The production is the **meat** of the simulation. At this stage we have a minimized, equilibrated (and in some cases) and annealed a system; it is time to run a longer NVT simulation to see how the system evolves over a given period of time. These are the results we will analyse.\n",
    "\n",
    "#### Recommended recipes\n",
    "\n",
    "For a molecular dynamic simulation, you will want to create a *recipe*. This is series of steps you are taking to reach and run the production run.\n",
    "\n",
    "1. Minimization --> Annealing -- > Equilibration --> Production run <br>\n",
    "**For use with complex mixtures of molecules**<br>\n",
    "2. Minimization --> Equilibration --> Produciton run <br>\n",
    "**For use with systems where the initial structure is to be investigated**"
   ]
  },
  {
   "cell_type": "markdown",
   "id": "5f2b0b8d",
   "metadata": {},
   "source": [
    "### Help\n",
    "\n",
    "If you are unsure about the use of a function, helper functions can let us see how to use the function."
   ]
  },
  {
   "cell_type": "code",
   "execution_count": 22,
   "id": "8fbc2332",
   "metadata": {},
   "outputs": [
    {
     "name": "stdout",
     "output_type": "stream",
     "text": [
      "\n",
      "        Function to perform energy minimization of the system using Langevin dynamics.\n",
      "        \n",
      "        USAGE:\n",
      "            minimized_sim = simulation_object.minimize_energy()\n",
      "\n",
      "        Returns:\n",
      "            minimized_simulation_object\n",
      "        \n"
     ]
    }
   ],
   "source": [
    "# Display help for minimize energy method\n",
    "simulation.minimize_energy_help()"
   ]
  },
  {
   "cell_type": "code",
   "execution_count": 23,
   "id": "cab9534b",
   "metadata": {},
   "outputs": [
    {
     "name": "stdout",
     "output_type": "stream",
     "text": [
      "\n",
      "        Function to perform simulated annealing on the provided simulation system.\n",
      "        \n",
      "        USAGE: \n",
      "            annealed_sim = sim.anneal(simulation, start_temp, max_temp, cycles, holding_steps, steps_at_temp)            \n",
      "        \n",
      "        Recommended USAGE:\n",
      "            annealed_sim = sim.anneal(simulation)\n",
      "            \n",
      "            where annealing parameters are set with the following function:\n",
      "                \n",
      "            simulation_object.set_anneal_parameters([start_temp, max_temp, cycles, holding_steps, steps_at_each_temp])\n",
      "        \n",
      "        Args:\n",
      "            simulation (app.Simulation): The simulation object to perform annealing on.\n",
      "            \n",
      "            start_temp (float, optional): The starting temperature for annealing in Kelvin. Defaults to None, \n",
      "                in which case the value is fetched from self.anneal_parameters[0].\n",
      "                \n",
      "            max_temp (float, optional): The maximum temperature for annealing in Kelvin. Defaults to None, \n",
      "                in which case the value is fetched from self.anneal_parameters[1].\n",
      "                \n",
      "            cycles (int, optional): The number of annealing cycles to perform. Defaults to None, \n",
      "                in which case the value is fetched from self.anneal_parameters[2].\n",
      "                \n",
      "            holding_steps (int, optional): The number of steps to hold the system at each temperature. \n",
      "                Defaults to None, in which case the value is fetched from self.anneal_parameters[3].\n",
      "                \n",
      "            steps_at_temp (int, optional): The number of steps to perform at each temperature. \n",
      "                Defaults to None, in which case the value is fetched from self.anneal_parameters[4].\n",
      "\n",
      "        Returns:\n",
      "            A tuple containing the simulation object after annealing and the filename of the data file generated.\n",
      "                in the following format:\n",
      "        \n",
      "            (simulation_object, path_to_data_file)\n",
      "                    \n",
      "        Notes:\n",
      "            This method performs simulated annealing on the provided simulation object. It initializes the system with the \n",
      "        provided initial conditions and runs annealing cycles adjusting the temperature according to the specified parameters.\n",
      "        The system's state is updated throughout the annealing process, and reporters are set up to record trajectory and \n",
      "        simulation data.\n",
      "        \n"
     ]
    }
   ],
   "source": [
    "# Display help for running a simulated annealing of a given system\n",
    "simulation.anneal_help()"
   ]
  },
  {
   "cell_type": "code",
   "execution_count": 24,
   "id": "7c1fa882",
   "metadata": {},
   "outputs": [
    {
     "name": "stdout",
     "output_type": "stream",
     "text": [
      "\n",
      "        Function to equilibrate the provided simulation to reach a specified temperature and pressure.\n",
      "        \n",
      "        USAGE: \n",
      "            equilibrated_sim = sim.anneal(simulation, total_steps, temp, pressure)            \n",
      "        \n",
      "        Recommended USAGE:\n",
      "            equilibrated_sim = sim.anneal(simulation)\n",
      "            \n",
      "            where annealing parameters are set with the following functions:\n",
      "                \n",
      "            simulation_object.set_temperature(temperature)\n",
      "            simulation_object.set_pressure(pressure)\n",
      "            simulation_object.set_total_steps(total_steps)\n",
      "            \n",
      "        Args:\n",
      "            simulation (app.Simulation): The simulation object to equilibrate.\n",
      "            \n",
      "            total_steps (int, optional): The total number of steps to run for equilibration. Defaults to None, \n",
      "                in which case the value is fetched from self.total_steps.\n",
      "                \n",
      "            temp (float, optional): The target temperature for equilibration in Kelvin. Defaults to None, \n",
      "                in which case the value is fetched from self.temp.\n",
      "                \n",
      "            pressure (float, optional): The target pressure for equilibration in atmospheres. Defaults to None, \n",
      "                in which case the value is fetched from self.pressure.\n",
      "\n",
      "        Returns:\n",
      "            A tuple containing the simulation object after equilibration and the filename of the data file generated\n",
      "                in the following format:\n",
      "                    \n",
      "            (simulation_object, path_to_data_file)\n",
      "\n",
      "        Notes:\n",
      "            This method performs equilibration on the provided simulation object to reach the specified temperature and pressure.\n",
      "            It initializes the system with the provided initial conditions and runs the simulation for the specified number \n",
      "            of steps. The system's state is updated throughout the equilibration process, and reporters are set up to record \n",
      "            trajectory and simulation data.\n",
      "        \n"
     ]
    }
   ],
   "source": [
    "# Display help for equilibrating a system with molecular dynamics\n",
    "simulation.equilibrate_help()"
   ]
  },
  {
   "cell_type": "code",
   "execution_count": 25,
   "id": "e9aff414",
   "metadata": {},
   "outputs": [
    {
     "name": "stdout",
     "output_type": "stream",
     "text": [
      "\n",
      "        Function to perform a production run simulation with the provided parameters.\n",
      "        \n",
      "        USAGE: \n",
      "            production_run_sim = sim.anneal(simulation, total_steps, temp)            \n",
      "        \n",
      "        Recommended USAGE:\n",
      "            production_run_sim = sim.anneal(simulation)\n",
      "            \n",
      "            where annealing parameters are set with the following functions:\n",
      "                \n",
      "            simulation_object.set_temperature(temperature)\n",
      "            simulation_object.set_total_steps(total_steps)\n",
      "            \n",
      "        Args:\n",
      "            simulation (app.Simulation): The simulation object to run the production simulation on.\n",
      "            \n",
      "            total_steps (int, optional): The total number of steps to run for the production simulation. \n",
      "                Defaults to None, in which case the value is fetched from self.total_steps.\n",
      "            \n",
      "            temp (float, optional): The temperature for the production simulation in Kelvin. \n",
      "                Defaults to None, in which case the value is fetched from self.temp.\n",
      "\n",
      "        Returns:\n",
      "            A tuple containing the simulation object after the production run and the filename of the data file generated.\n",
      "                in the following format:\n",
      "                \n",
      "            (simulation_object, path_to_data_file)\n",
      "\n",
      "        Notes:\n",
      "            This method performs a production run simulation with the provided simulation object and parameters.\n",
      "            It initializes the system with the provided initial conditions and runs the simulation for the specified \n",
      "            number of steps. The system's state is updated throughout the production run, and reporters are set up to \n",
      "            record trajectory and simulation data.\n",
      "        \n"
     ]
    }
   ],
   "source": [
    "# Display help for the production run step of a molecular dynamics simulation\n",
    "simulation.production_run_help()"
   ]
  },
  {
   "cell_type": "code",
   "execution_count": 26,
   "id": "e83a8b4e",
   "metadata": {},
   "outputs": [
    {
     "name": "stdout",
     "output_type": "stream",
     "text": [
      "\n",
      "        Function to generate a plot from simulation data and save it as a PNG file.\n",
      "        \n",
      "        USAGE:\n",
      "            The variable used for this plot is the second element of the tuple coming from the following method:\n",
      "                **anneal**\n",
      "                **equilibrate**\n",
      "                **production_run**\n",
      "                \n",
      "            sim.graph_state_data(returned_simulation_variable)\n",
      "            \n",
      "            An example of this returned_simulation_varaible is:\n",
      "                sim.anneal(minimized_sim)[0]\n",
      "        \n",
      "        Args:\n",
      "            data_file (str): The path to the CSV file containing simulation data.\n",
      "            \n",
      "        Notes:\n",
      "            This method reads simulation data from a CSV file, creates plots for each column of data\n",
      "            against time, and saves the resulting plot as a PNG file. The CSV file is expected to have\n",
      "            a \"Time (ps)\" column and numerical data columns representing different states of the\n",
      "            simulation over time.\n",
      "\n",
      "            The generated plot will contain multiple subplots, each showing a different state variable\n",
      "            plotted against time. The number of rows and columns of subplots is determined automatically\n",
      "            based on the number of data columns, with a maximum of 2 columns per row. If there are more\n",
      "            data columns than can fit in the specified layout, some subplots may be omitted.\n",
      "\n",
      "            The PNG file containing the plot will be saved in the same directory as the data file with\n",
      "            the same name, but with the extension changed to \".png\".\n",
      "        \n"
     ]
    }
   ],
   "source": [
    "# Display help on how to use a function to generate graphs for the data\n",
    "simulation.graph_state_data_help()"
   ]
  },
  {
   "cell_type": "markdown",
   "id": "6cfb8db3",
   "metadata": {},
   "source": [
    "### Running simulations\n",
    "\n",
    "One thing to note - the initial object we loaded (in this case \"simulation\") is our simulation and is what we will call (and have been calling) when setting parameters and calling functions. Any new variables we define (as in the next cell) such as **minimized_simulation** are just variables and are used for inputs into our new functions - this will make sense as we carry on!"
   ]
  },
  {
   "cell_type": "code",
   "execution_count": 27,
   "id": "8456b58e",
   "metadata": {},
   "outputs": [],
   "source": [
    "# Minimize the energy of a system\n",
    "minimized_simulation = simulation.minimize_energy()"
   ]
  },
  {
   "cell_type": "code",
   "execution_count": 28,
   "id": "ebb128d3",
   "metadata": {},
   "outputs": [
    {
     "name": "stdout",
     "output_type": "stream",
     "text": [
      "Anneal parameters set.\n",
      "Starting temperature is:  300\n",
      "Target temperature is:  500\n",
      "Number of annealing cycles is:  3\n",
      "Steps at target/start temperature is:  1000\n",
      "Steps at each incremental temperature is:  10\n"
     ]
    }
   ],
   "source": [
    "# Set anneal parameters\n",
    "simulation.set_anneal_parameters([300, 500, 3, 1000, 10])"
   ]
  },
  {
   "cell_type": "markdown",
   "id": "c86a8ccd",
   "metadata": {},
   "source": [
    "When we carry out annealing, equilibration or a production run a tuple is returned: (simulation_object, simulation_data).<br>\n",
    "The line below unpacks the tuple into 2 variabled **annealed_simulation** and **annealed_simulation_data** straight from the class method."
   ]
  },
  {
   "cell_type": "code",
   "execution_count": 29,
   "id": "ae0fe314",
   "metadata": {},
   "outputs": [],
   "source": [
    "# Run an annealing simulation and retrieve the simulation and simulation data\n",
    "annealed_simulation, annealed_simulation_data = simulation.anneal(minimized_simulation)"
   ]
  },
  {
   "cell_type": "markdown",
   "id": "62bd10f8",
   "metadata": {},
   "source": [
    "Now we have unpacked our variable **annealed_simulation_data** we can plot it using the built in state data plotter."
   ]
  },
  {
   "cell_type": "code",
   "execution_count": 30,
   "id": "2c2cc23e",
   "metadata": {},
   "outputs": [
    {
     "data": {
      "image/png": "[encoded data removed]",
      "text/plain": [
       "<Figure size 1200x1200 with 6 Axes>"
      ]
     },
     "metadata": {},
     "output_type": "display_data"
    }
   ],
   "source": [
    "# Generate graphs for the annealing stage of the simulation\n",
    "simulation.graph_state_data(annealed_simulation_data)"
   ]
  },
  {
   "cell_type": "markdown",
   "id": "509e9328",
   "metadata": {},
   "source": [
    "And we can use the **annealed_simulation** variable for an input into the next stage of the simulation. <br>\n",
    "\n",
    "But first, lets set some variables - we can check them first to see what we want to change."
   ]
  },
  {
   "cell_type": "code",
   "execution_count": 31,
   "id": "14eb990a",
   "metadata": {},
   "outputs": [
    {
     "name": "stdout",
     "output_type": "stream",
     "text": [
      "Simulation parameters: ('1', '400', '2.0, 1.0, 20000, 100')\n"
     ]
    },
    {
     "data": {
      "text/plain": [
       "\"Simulation parameters given in the following format: ('pressure', 'temperature', 'timestep, friction coefficient, total steps, reporter freqeuncy')\""
      ]
     },
     "execution_count": 31,
     "metadata": {},
     "output_type": "execute_result"
    }
   ],
   "source": [
    "repr(simulation)"
   ]
  },
  {
   "cell_type": "code",
   "execution_count": 32,
   "id": "31d24879",
   "metadata": {},
   "outputs": [
    {
     "name": "stdout",
     "output_type": "stream",
     "text": [
      "Temperature set to:  300 kelvin\n",
      "Total steps for simulation set to:  50000\n",
      "Reporter frequency set to every:  100  steps\n",
      "Pressure set to:  1  atmospheres\n"
     ]
    }
   ],
   "source": [
    "# Set some of the simulation parameters\n",
    "simulation.set_temperature(300)\n",
    "simulation.set_total_steps(50000)\n",
    "simulation.set_reporter_freq(100)\n",
    "simulation.set_pressure(1)"
   ]
  },
  {
   "cell_type": "code",
   "execution_count": null,
   "id": "b112fb3f",
   "metadata": {},
   "outputs": [],
   "source": [
    "# Run an equilibration simualtion and retrieve the simulation and simulation data\n",
    "equilibrated_simulation, equilibrated_simulation_data = simulation.equilibrate(annealed_simulation)"
   ]
  },
  {
   "cell_type": "code",
   "execution_count": null,
   "id": "94d0549a",
   "metadata": {},
   "outputs": [],
   "source": [
    "# Generate graphs for the equilibration stage of the simulation\n",
    "simulation.graph_state_data(equilibrated_sim_data)"
   ]
  },
  {
   "cell_type": "markdown",
   "id": "5d8777b0",
   "metadata": {},
   "source": [
    "Now we can use the **equilibrated_simulation** variable to run our production run."
   ]
  },
  {
   "cell_type": "code",
   "execution_count": null,
   "id": "6e17ab19",
   "metadata": {},
   "outputs": [],
   "source": [
    "# Run a production simualtion and retrieve the simulation and simulation data\n",
    "production_simulation, production_simulation_data = simulation.production_run(equilibrated_simulation)"
   ]
  },
  {
   "cell_type": "code",
   "execution_count": null,
   "id": "9176db20",
   "metadata": {},
   "outputs": [],
   "source": [
    "# Generate graphs for the production stage of the simulation\n",
    "simulation.graph_state_data(production_sim_data)"
   ]
  },
  {
   "cell_type": "markdown",
   "id": "0fd37585-6764-4446-980e-9d116625f6ce",
   "metadata": {},
   "source": [
    "Now we have finsihed the simulation the last thing to do is check if we can access the topology and trajectory files for any analysis of the system."
   ]
  },
  {
   "cell_type": "code",
   "execution_count": null,
   "id": "df726d80",
   "metadata": {},
   "outputs": [],
   "source": [
    "# Load the files generated in the simulation assigned to a variable called 'output_files'\n",
    "output_files = manager.retrieve_files_for_MDanalysis(simulation.filename)"
   ]
  },
  {
   "cell_type": "code",
   "execution_count": null,
   "id": "3ce1946d",
   "metadata": {},
   "outputs": [],
   "source": [
    "# see what output files we have\n",
    "output_files"
   ]
  },
  {
   "cell_type": "code",
   "execution_count": null,
   "id": "6a6d25c7-9945-4415-8538-ddaccf888d24",
   "metadata": {},
   "outputs": [],
   "source": []
  },
  {
   "cell_type": "code",
   "execution_count": null,
   "id": "57e87b7f-2db9-4d1d-b7eb-651424b71b5f",
   "metadata": {},
   "outputs": [],
   "source": []
  },
  {
   "cell_type": "code",
   "execution_count": null,
   "id": "20c27d2a-aab4-4eb8-a437-ac755d6f68a3",
   "metadata": {},
   "outputs": [],
   "source": []
  }
 ],
 "metadata": {
  "kernelspec": {
   "display_name": "Python 3 (ipykernel)",
   "language": "python",
   "name": "python3"
  },
  "language_info": {
   "codemirror_mode": {
    "name": "ipython",
    "version": 3
   },
   "file_extension": ".py",
   "mimetype": "text/x-python",
   "name": "python",
   "nbconvert_exporter": "python",
   "pygments_lexer": "ipython3",
   "version": "3.12.0"
  }
 },
 "nbformat": 4,
 "nbformat_minor": 5
}
