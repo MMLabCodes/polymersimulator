{
 "cells": [
  {
   "cell_type": "markdown",
   "id": "4c88e1a4-7e7e-40ce-9407-17bd8049798d",
   "metadata": {},
   "source": [
    "# This notebook will detail the produiction of an analysis pipeline for molecular dynamic simulations carried out with openmmm"
   ]
  },
  {
   "cell_type": "markdown",
   "id": "1c1948fb-3da3-4578-a203-5b7bdde40029",
   "metadata": {},
   "source": [
    "The flow of the analysis is broken down and handled by classes as follows: <br>\n",
    "\n",
    "1. **master_anal** - this class contains information about an entire simulation carried out. <br>\n",
    "\n",
    "    - Dictionary of all files outputted from the simulation organised into their respective steps (i.e. groups all thermal ramping files, equilibration files, minimization files). The idea behind this is that these files can be called and mdanalysis universes can be created for each part of the simulation with ease. It also contains information about the residues in the simulation (it contains a list of unique residue codes and a dictionary matching residue codes to polymers - this part is necessary since the polymers made with amber are built from a series of residues, so a 10-mer will actually have 10 residue codes.) This dictionary makes selecting individual polymers much easier! <br>\n",
    "\n",
    "2. **universe** - this class creates a mdanalysis universe we can pass to the analysis methods <br>\n",
    "\n",
    "3. **anal_methods** - this class contains mdanalysis methods \n",
    "\n",
    "  \n",
    "   "
   ]
  },
  {
   "cell_type": "markdown",
   "id": "e7d0b9ab-b6af-46ca-8940-80c3784f2f34",
   "metadata": {},
   "source": [
    "The first thing to do is set up the manager class - something that is consistent across all of these notebooks!"
   ]
  },
  {
   "cell_type": "code",
   "execution_count": 1,
   "id": "a608617c-b22c-45ae-9d62-8e4074e94334",
   "metadata": {},
   "outputs": [],
   "source": [
    "from modules.sw_directories import *\n",
    "import os as os\n",
    "\n",
    "manager = SnippetSimManage(os.getcwd())"
   ]
  },
  {
   "cell_type": "markdown",
   "id": "4e335bfb-f0a7-4275-928f-b7d2443da2bb",
   "metadata": {},
   "source": [
    "The system I will be analysing is \"3HB_10_polymer_5_5_array_crystal\" however you can use any system name that has simulations associated with it. The first step is to locate the simulation files required and return paths. The function below could return filepaths to multiple directories if the simualtion has been carried out multiple times."
   ]
  },
  {
   "cell_type": "code",
   "execution_count": 7,
   "id": "200d9767-c276-4259-9f40-238326b63a7d",
   "metadata": {},
   "outputs": [
    {
     "name": "stdout",
     "output_type": "stream",
     "text": [
      "Output contains paths to simulation directories.\n"
     ]
    }
   ],
   "source": [
    "system_name = \"3HB_10_polymer_5_5_array_crystal\"\n",
    "sim_avail = manager.simulations_avail(system_name)"
   ]
  },
  {
   "cell_type": "markdown",
   "id": "0011c975-69b9-40d0-85c2-cfcad240c6d0",
   "metadata": {},
   "source": [
    "Print out the path of the simulation directories."
   ]
  },
  {
   "cell_type": "code",
   "execution_count": 6,
   "id": "3bd04f35-7911-48fc-abd6-254090ebcc5e",
   "metadata": {},
   "outputs": [
    {
     "data": {
      "text/plain": [
       "['/home/dan/polymersimulator/pdb_files/systems/3HB_10_polymer_5_5_array_crystal/2024-10-04_174036']"
      ]
     },
     "execution_count": 6,
     "metadata": {},
     "output_type": "execute_result"
    }
   ],
   "source": [
    "sim_avail"
   ]
  },
  {
   "cell_type": "markdown",
   "id": "d6f9851e-e51a-49df-9bc7-8fff021e8f72",
   "metadata": {},
   "source": [
    "Everything for the analysis is contained within this path with the exception of the topology file which can be returned in different ways using the manager class. <br>\n",
    "\n",
    "Now we want to set up *master_anal* class which will contain the steps of the simulation we want to analyse."
   ]
  },
  {
   "cell_type": "code",
   "execution_count": 167,
   "id": "455975b5-371e-49b6-b041-1b8dac8c620a",
   "metadata": {},
   "outputs": [],
   "source": [
    "from collections import defaultdict\n",
    "\n",
    "class master_anal():\n",
    "    def __init__(self, manager, system_name, simulation_directory, poly_length=None):\n",
    "        self.manager = manager\n",
    "        self.system_name = system_name\n",
    "        self.topology_file = self.manager.load_amber_filepaths(system_name)[0]\n",
    "        self.simulation_directory = simulation_directory\n",
    "        self.simulation_files = self.group_files()\n",
    "        self.min_filepath = os.path.join(self.simulation_directory, self.simulation_files[\"min\"][0])\n",
    "        # It is important to note that passing a polymer length is only appropriate where the system contains polymers of the same length\n",
    "        if poly_length is not None:\n",
    "            self.poly_length = poly_length\n",
    "            self.residue_codes = self.calculate_polymers_and_assign_residue_codes(self.min_filepath, self.poly_length)[2]\n",
    "            self.poly_sel_dict = self.calculate_polymers_and_assign_residue_codes(self.min_filepath, self.poly_length)[1]\n",
    "        else:\n",
    "            self.poly_length = None \n",
    "            self.residue_codes = self.extract_rescodes_and_resnums(self.min_filepath)[1]\n",
    "        self.simulation_steps = list(self.simulation_files.keys())\n",
    "    \n",
    "    def group_files(self):\n",
    "        grouped_files = defaultdict(list)\n",
    "\n",
    "        sim_step_strings = [\"1_atm\", \"temp_ramp_heat\", \"temp_ramp_cool\", \"min\"]\n",
    "\n",
    "        for file in os.listdir(self.simulation_directory):\n",
    "            if file.endswith(('.txt', '.dcd', '.pdb')):\n",
    "                base_name = os.path.splitext(file)[0]\n",
    "                for string in sim_step_strings:\n",
    "                    if string in base_name:\n",
    "                        grouped_files[string].append(file)\n",
    "\n",
    "        return(grouped_files)\n",
    "\n",
    "    def extract_rescodes_and_resnums(self, pdb_file_path):\n",
    "        largest_residue_number = None  # Variable to track the largest residue number\n",
    "        unique_residue_codes = set()    # Set to hold unique residue codes\n",
    "\n",
    "        with open(pdb_file_path, 'r') as pdb_file:\n",
    "            for line in pdb_file:\n",
    "                # Parse only lines that start with \"ATOM\" or \"HETATM\"\n",
    "                if line.startswith(\"ATOM\") or line.startswith(\"HETATM\"):\n",
    "                    # Extract the residue number (position 22-26)\n",
    "                    residue_number = int(line[22:26].strip())\n",
    "                    # Extract the residue code (position 17-20)\n",
    "                    residue_code = line[17:20].strip()\n",
    "\n",
    "                    # Update the largest residue number if this one is larger\n",
    "                    if largest_residue_number is None or residue_number > largest_residue_number:\n",
    "                        largest_residue_number = residue_number\n",
    "                \n",
    "                    # Add the residue code to the set for unique codes\n",
    "                    unique_residue_codes.add(residue_code)\n",
    "\n",
    "        return largest_residue_number, unique_residue_codes\n",
    "\n",
    "    def calculate_polymers_and_assign_residue_codes(self, pdb_file_path, poly_length):\n",
    "        # Find the largest residue number and unique residue codes\n",
    "        largest_residue_number, unique_residue_codes = self.extract_rescodes_and_resnums(pdb_file_path)\n",
    "\n",
    "        # Calculate the number of polymers\n",
    "        num_polymers = largest_residue_number // poly_length\n",
    "\n",
    "        # Create a dictionary to hold the polymer residue codes\n",
    "        polymers_dict = {}\n",
    "\n",
    "        # Assign residue codes based on the number of residues per polymer\n",
    "        for i in range(num_polymers):\n",
    "            # Calculate the start and end residue codes for this polymer\n",
    "            start_code = i * poly_length + 1\n",
    "            end_code = start_code + poly_length - 1\n",
    "            polymers_dict[f'Polymer_{i + 1}'] = list(range(start_code, end_code + 1))\n",
    "\n",
    "        return num_polymers, polymers_dict, unique_residue_codes   "
   ]
  },
  {
   "cell_type": "markdown",
   "id": "f2e4f04e-2acb-43d5-a9b3-3ddaffff14b2",
   "metadata": {},
   "source": [
    "# Set up masterclass for simulation analysis\n",
    "\n",
    "This class *master_anal* doesn't do analysis but contains information that is super useful for analysis. We need to pass the system name, the simulation folder we want to analyse and the length of the polymers (if this applicable)."
   ]
  },
  {
   "cell_type": "code",
   "execution_count": 168,
   "id": "293f37be-49ef-437f-b608-6f5dea77ce48",
   "metadata": {},
   "outputs": [],
   "source": [
    "# sim_avail[x] is from the mananger class and will be an entire filepath to a directory containing simulation outputs\n",
    "masterclass = master_anal(manager, system_name, sim_avail[0], 10)"
   ]
  },
  {
   "cell_type": "code",
   "execution_count": 169,
   "id": "7414df73-d374-4093-83d3-ff5318cb88d4",
   "metadata": {},
   "outputs": [
    {
     "data": {
      "text/plain": [
       "'/home/dan/polymersimulator/pdb_files/systems/3HB_10_polymer_5_5_array_crystal/3HB_10_polymer_5_5_array_crystal.prmtop'"
      ]
     },
     "execution_count": 169,
     "metadata": {},
     "output_type": "execute_result"
    }
   ],
   "source": [
    "masterclass.topology_file"
   ]
  },
  {
   "cell_type": "code",
   "execution_count": 170,
   "id": "db42bbc4-9ead-42b7-9ebc-7598346f0f05",
   "metadata": {},
   "outputs": [
    {
     "data": {
      "text/plain": [
       "defaultdict(list,\n",
       "            {'1_atm': ['3HB_10_polymer_5_5_array_crystal_1_atm_2024-10-04_174036.pdb',\n",
       "              '3HB_10_polymer_5_5_array_crystal_1_atm_2024-10-04_174036.dcd',\n",
       "              '3HB_10_polymer_5_5_array_crystal_1_atm_2024-10-04_174036.txt'],\n",
       "             'temp_ramp_heat': ['3HB_10_polymer_5_5_array_crystal_temp_ramp_heat_300_700_2024-10-04_174036.txt',\n",
       "              '3HB_10_polymer_5_5_array_crystal_temp_ramp_heat_300_700_2024-10-04_174036.pdb',\n",
       "              '3HB_10_polymer_5_5_array_crystal_temp_ramp_heat_300_700_2024-10-04_174036.dcd'],\n",
       "             'min': ['min_3HB_10_polymer_5_5_array_crystal.pdb'],\n",
       "             'temp_ramp_cool': ['3HB_10_polymer_5_5_array_crystal_temp_ramp_cool_300_700_2024-10-04_174036.dcd',\n",
       "              '3HB_10_polymer_5_5_array_crystal_temp_ramp_cool_300_700_2024-10-04_174036.txt',\n",
       "              '3HB_10_polymer_5_5_array_crystal_temp_ramp_cool_300_700_2024-10-04_174036.pdb']})"
      ]
     },
     "execution_count": 170,
     "metadata": {},
     "output_type": "execute_result"
    }
   ],
   "source": [
    "masterclass.simulation_files"
   ]
  },
  {
   "cell_type": "code",
   "execution_count": 171,
   "id": "74457e24-d64d-4440-abe5-066c3b3a1a7f",
   "metadata": {},
   "outputs": [
    {
     "data": {
      "text/plain": [
       "{'hAD', 'mAD', 'tAD'}"
      ]
     },
     "execution_count": 171,
     "metadata": {},
     "output_type": "execute_result"
    }
   ],
   "source": [
    "masterclass.residue_codes"
   ]
  },
  {
   "cell_type": "code",
   "execution_count": 172,
   "id": "be35d920-6e10-47cf-9a71-8934c47bcf06",
   "metadata": {
    "scrolled": true
   },
   "outputs": [
    {
     "data": {
      "text/plain": [
       "{'Polymer_1': [1, 2, 3, 4, 5, 6, 7, 8, 9, 10],\n",
       " 'Polymer_2': [11, 12, 13, 14, 15, 16, 17, 18, 19, 20],\n",
       " 'Polymer_3': [21, 22, 23, 24, 25, 26, 27, 28, 29, 30],\n",
       " 'Polymer_4': [31, 32, 33, 34, 35, 36, 37, 38, 39, 40],\n",
       " 'Polymer_5': [41, 42, 43, 44, 45, 46, 47, 48, 49, 50],\n",
       " 'Polymer_6': [51, 52, 53, 54, 55, 56, 57, 58, 59, 60],\n",
       " 'Polymer_7': [61, 62, 63, 64, 65, 66, 67, 68, 69, 70],\n",
       " 'Polymer_8': [71, 72, 73, 74, 75, 76, 77, 78, 79, 80],\n",
       " 'Polymer_9': [81, 82, 83, 84, 85, 86, 87, 88, 89, 90],\n",
       " 'Polymer_10': [91, 92, 93, 94, 95, 96, 97, 98, 99, 100],\n",
       " 'Polymer_11': [101, 102, 103, 104, 105, 106, 107, 108, 109, 110],\n",
       " 'Polymer_12': [111, 112, 113, 114, 115, 116, 117, 118, 119, 120],\n",
       " 'Polymer_13': [121, 122, 123, 124, 125, 126, 127, 128, 129, 130],\n",
       " 'Polymer_14': [131, 132, 133, 134, 135, 136, 137, 138, 139, 140],\n",
       " 'Polymer_15': [141, 142, 143, 144, 145, 146, 147, 148, 149, 150],\n",
       " 'Polymer_16': [151, 152, 153, 154, 155, 156, 157, 158, 159, 160],\n",
       " 'Polymer_17': [161, 162, 163, 164, 165, 166, 167, 168, 169, 170],\n",
       " 'Polymer_18': [171, 172, 173, 174, 175, 176, 177, 178, 179, 180],\n",
       " 'Polymer_19': [181, 182, 183, 184, 185, 186, 187, 188, 189, 190],\n",
       " 'Polymer_20': [191, 192, 193, 194, 195, 196, 197, 198, 199, 200],\n",
       " 'Polymer_21': [201, 202, 203, 204, 205, 206, 207, 208, 209, 210],\n",
       " 'Polymer_22': [211, 212, 213, 214, 215, 216, 217, 218, 219, 220],\n",
       " 'Polymer_23': [221, 222, 223, 224, 225, 226, 227, 228, 229, 230],\n",
       " 'Polymer_24': [231, 232, 233, 234, 235, 236, 237, 238, 239, 240],\n",
       " 'Polymer_25': [241, 242, 243, 244, 245, 246, 247, 248, 249, 250]}"
      ]
     },
     "execution_count": 172,
     "metadata": {},
     "output_type": "execute_result"
    }
   ],
   "source": [
    "masterclass.poly_sel_dict"
   ]
  },
  {
   "cell_type": "code",
   "execution_count": 173,
   "id": "0a81e17a-49e8-415d-8136-2c5ad3c5f406",
   "metadata": {},
   "outputs": [
    {
     "data": {
      "text/plain": [
       "['1_atm', 'temp_ramp_heat', 'min', 'temp_ramp_cool']"
      ]
     },
     "execution_count": 173,
     "metadata": {},
     "output_type": "execute_result"
    }
   ],
   "source": [
    "masterclass.simulation_steps"
   ]
  },
  {
   "cell_type": "markdown",
   "id": "9434bd1a-800d-4a34-b7a6-9d89c8a318bb",
   "metadata": {},
   "source": [
    "\n",
    "\n",
    "Now we can set up a universe for our simulation. We want to pass the masterclass class to **Universe** alongside a string coming from **masterclass.simulation_steps** as follows: <br>\n",
    "\n",
    "universe = Universe(masterclass, '1_atm') <br>\n",
    "\n",
    "This will create an mdanalysis for a specific part of the simulation using the .pdb trajectory. We can also specify the trajectory we want to use (i.e. '.pdb' or '.dcd' but if nothing is specified it will use the '.pdb' trajectory by default. <br>\n",
    "\n",
    "universe = Universe(masterclass, '1_atm', '.dcd') <br>"
   ]
  },
  {
   "cell_type": "code",
   "execution_count": 181,
   "id": "799b5940-abb5-42d6-9c5d-88f300d96ccd",
   "metadata": {},
   "outputs": [],
   "source": [
    "import matplotlib.pyplot as plt\n",
    "import seaborn as sns\n",
    "import numpy as np\n",
    "import nglview as nv\n",
    "import MDAnalysis as mda\n",
    "from MDAnalysis.lib import distances \n",
    "from MDAnalysis.analysis import rdf\n",
    "import MDAnalysisData as data\n",
    "from MDAnalysis.analysis.polymer import PersistenceLength\n",
    "\n",
    "import pandas as pd"
   ]
  },
  {
   "cell_type": "code",
   "execution_count": 194,
   "id": "99e38223-0669-4f24-a499-c17f09afade2",
   "metadata": {},
   "outputs": [],
   "source": [
    "class Universe():\n",
    "    def __init__(self, master_anal, sim_key, traj_format=None):\n",
    "        if traj_format is None:\n",
    "            self.traj_format = \".pdb\"\n",
    "        else:\n",
    "            if traj_format != \".pdb\" and traj_format != \".dcd\":\n",
    "                print(f\"{traj_format} is not supported\")\n",
    "                print(\"please enter '.pdb' or '.dcd' format.\")\n",
    "            else:\n",
    "                self.traj_format = traj_format\n",
    "        self.sim_key = sim_key\n",
    "        self.masterclass = master_anal\n",
    "        self.topology = self.masterclass.topology_file\n",
    "        # True tells 'select_file' we are searching for the traj\n",
    "        self.trajectory = os.path.join(self.masterclass.simulation_directory, self.select_file(True))\n",
    "        self.universe = mda.Universe(self.topology, self.trajectory)\n",
    "        self.output_filename = os.path.join(self.masterclass.simulation_directory, self.masterclass.system_name + f\"_{self.sim_key}\")\n",
    "        # False tells 'select_file' we are searching for the data file\n",
    "        self.data_file = os.path.join(self.masterclass.simulation_directory, self.select_file(False))\n",
    "        self.data = pd.read_csv(self.data_file)\n",
    "\n",
    "    def select_file(self, traj):\n",
    "        if self.sim_key in self.masterclass.simulation_files:\n",
    "            # Filter the files based on the specified extension\n",
    "            if traj == True:\n",
    "                matching_files = [filename for filename in self.masterclass.simulation_files[self.sim_key] if filename.endswith(self.traj_format)]\n",
    "            if traj == False:\n",
    "                matching_files = [filename for filename in self.masterclass.simulation_files[self.sim_key] if filename.endswith(\".txt\")]            \n",
    "            \n",
    "            if matching_files:\n",
    "                return matching_files[0]  # Return the first matching file\n",
    "            else:\n",
    "                return f\"No files with extension '{extension}' found for key '{self.sim_key}'.\"\n",
    "        else:\n",
    "            return f\"Key '{self.sim_key}' not found in the dictionary.\"\n",
    "        "
   ]
  },
  {
   "cell_type": "code",
   "execution_count": 195,
   "id": "2e44ccff-6974-4a8a-9b53-fc58d3b2ef0e",
   "metadata": {},
   "outputs": [],
   "source": [
    "universe = Universe(masterclass, 'temp_ramp_cool', \".pdb\")"
   ]
  },
  {
   "cell_type": "code",
   "execution_count": 196,
   "id": "c4a99456-c51f-4124-9aa9-f2301aaa67ae",
   "metadata": {
    "scrolled": true
   },
   "outputs": [
    {
     "data": {
      "text/plain": [
       "'/home/dan/polymersimulator/pdb_files/systems/3HB_10_polymer_5_5_array_crystal/3HB_10_polymer_5_5_array_crystal.prmtop'"
      ]
     },
     "execution_count": 196,
     "metadata": {},
     "output_type": "execute_result"
    }
   ],
   "source": [
    "universe.topology"
   ]
  },
  {
   "cell_type": "code",
   "execution_count": 197,
   "id": "7c15fdfb-0f19-4b8d-9a69-c87e2a2c0845",
   "metadata": {},
   "outputs": [
    {
     "data": {
      "text/plain": [
       "'/home/dan/polymersimulator/pdb_files/systems/3HB_10_polymer_5_5_array_crystal/2024-10-04_174036/3HB_10_polymer_5_5_array_crystal_temp_ramp_cool_300_700_2024-10-04_174036.pdb'"
      ]
     },
     "execution_count": 197,
     "metadata": {},
     "output_type": "execute_result"
    }
   ],
   "source": [
    "universe.trajectory"
   ]
  },
  {
   "cell_type": "code",
   "execution_count": 198,
   "id": "4f22fe6f-f6e0-4c4b-8b21-33c82f76820e",
   "metadata": {},
   "outputs": [
    {
     "data": {
      "text/plain": [
       "'/home/dan/polymersimulator/pdb_files/systems/3HB_10_polymer_5_5_array_crystal/2024-10-04_174036/3HB_10_polymer_5_5_array_crystal_temp_ramp_cool'"
      ]
     },
     "execution_count": 198,
     "metadata": {},
     "output_type": "execute_result"
    }
   ],
   "source": [
    "universe.output_filename"
   ]
  },
  {
   "cell_type": "code",
   "execution_count": 199,
   "id": "52607eae-6e43-49f7-ad2a-f64e9a6d9622",
   "metadata": {},
   "outputs": [
    {
     "data": {
      "text/plain": [
       "<Universe with 3075 atoms>"
      ]
     },
     "execution_count": 199,
     "metadata": {},
     "output_type": "execute_result"
    }
   ],
   "source": [
    "universe.universe"
   ]
  },
  {
   "cell_type": "code",
   "execution_count": 200,
   "id": "0adfd9b7-2b8b-4543-a192-be3b518f7917",
   "metadata": {},
   "outputs": [
    {
     "data": {
      "text/html": [
       "<div>\n",
       "<style scoped>\n",
       "    .dataframe tbody tr th:only-of-type {\n",
       "        vertical-align: middle;\n",
       "    }\n",
       "\n",
       "    .dataframe tbody tr th {\n",
       "        vertical-align: top;\n",
       "    }\n",
       "\n",
       "    .dataframe thead th {\n",
       "        text-align: right;\n",
       "    }\n",
       "</style>\n",
       "<table border=\"1\" class=\"dataframe\">\n",
       "  <thead>\n",
       "    <tr style=\"text-align: right;\">\n",
       "      <th></th>\n",
       "      <th>#\"Progress (%)\"</th>\n",
       "      <th>Step</th>\n",
       "      <th>Time (ps)</th>\n",
       "      <th>Potential Energy (kJ/mole)</th>\n",
       "      <th>Kinetic Energy (kJ/mole)</th>\n",
       "      <th>Total Energy (kJ/mole)</th>\n",
       "      <th>Temperature (K)</th>\n",
       "      <th>Box Volume (nm^3)</th>\n",
       "      <th>Density (g/mL)</th>\n",
       "      <th>Speed (ns/day)</th>\n",
       "      <th>Elapsed Time (s)</th>\n",
       "    </tr>\n",
       "  </thead>\n",
       "  <tbody>\n",
       "    <tr>\n",
       "      <th>0</th>\n",
       "      <td>0.0%</td>\n",
       "      <td>1000</td>\n",
       "      <td>1.000000</td>\n",
       "      <td>-25115.301993</td>\n",
       "      <td>18640.853699</td>\n",
       "      <td>-6474.448294</td>\n",
       "      <td>584.457605</td>\n",
       "      <td>38.765671</td>\n",
       "      <td>0.941194</td>\n",
       "      <td>0.00</td>\n",
       "      <td>0.000231</td>\n",
       "    </tr>\n",
       "    <tr>\n",
       "      <th>1</th>\n",
       "      <td>0.0%</td>\n",
       "      <td>2000</td>\n",
       "      <td>2.000000</td>\n",
       "      <td>-22984.163637</td>\n",
       "      <td>20445.845135</td>\n",
       "      <td>-2538.318502</td>\n",
       "      <td>641.050559</td>\n",
       "      <td>38.884793</td>\n",
       "      <td>0.938311</td>\n",
       "      <td>6.11</td>\n",
       "      <td>14.141430</td>\n",
       "    </tr>\n",
       "    <tr>\n",
       "      <th>2</th>\n",
       "      <td>0.0%</td>\n",
       "      <td>3000</td>\n",
       "      <td>3.000000</td>\n",
       "      <td>-22207.232071</td>\n",
       "      <td>21687.085684</td>\n",
       "      <td>-520.146388</td>\n",
       "      <td>679.967901</td>\n",
       "      <td>39.295464</td>\n",
       "      <td>0.928505</td>\n",
       "      <td>6.12</td>\n",
       "      <td>28.242461</td>\n",
       "    </tr>\n",
       "    <tr>\n",
       "      <th>3</th>\n",
       "      <td>0.0%</td>\n",
       "      <td>4000</td>\n",
       "      <td>4.000000</td>\n",
       "      <td>-21275.433820</td>\n",
       "      <td>22604.436956</td>\n",
       "      <td>1329.003136</td>\n",
       "      <td>708.730153</td>\n",
       "      <td>38.514641</td>\n",
       "      <td>0.947329</td>\n",
       "      <td>6.12</td>\n",
       "      <td>42.335292</td>\n",
       "    </tr>\n",
       "    <tr>\n",
       "      <th>4</th>\n",
       "      <td>0.1%</td>\n",
       "      <td>5000</td>\n",
       "      <td>5.000000</td>\n",
       "      <td>-21498.174381</td>\n",
       "      <td>22345.699989</td>\n",
       "      <td>847.525608</td>\n",
       "      <td>700.617821</td>\n",
       "      <td>39.464460</td>\n",
       "      <td>0.924529</td>\n",
       "      <td>6.13</td>\n",
       "      <td>56.420394</td>\n",
       "    </tr>\n",
       "    <tr>\n",
       "      <th>...</th>\n",
       "      <td>...</td>\n",
       "      <td>...</td>\n",
       "      <td>...</td>\n",
       "      <td>...</td>\n",
       "      <td>...</td>\n",
       "      <td>...</td>\n",
       "      <td>...</td>\n",
       "      <td>...</td>\n",
       "      <td>...</td>\n",
       "      <td>...</td>\n",
       "      <td>...</td>\n",
       "    </tr>\n",
       "    <tr>\n",
       "      <th>9994</th>\n",
       "      <td>100.0%</td>\n",
       "      <td>9995000</td>\n",
       "      <td>9995.000002</td>\n",
       "      <td>-36960.375464</td>\n",
       "      <td>9719.748180</td>\n",
       "      <td>-27240.627284</td>\n",
       "      <td>304.748958</td>\n",
       "      <td>31.623401</td>\n",
       "      <td>1.153767</td>\n",
       "      <td>6.05</td>\n",
       "      <td>142759.173750</td>\n",
       "    </tr>\n",
       "    <tr>\n",
       "      <th>9995</th>\n",
       "      <td>100.0%</td>\n",
       "      <td>9996000</td>\n",
       "      <td>9996.000002</td>\n",
       "      <td>-37217.966354</td>\n",
       "      <td>9361.407441</td>\n",
       "      <td>-27856.558913</td>\n",
       "      <td>293.513691</td>\n",
       "      <td>31.813964</td>\n",
       "      <td>1.146856</td>\n",
       "      <td>6.05</td>\n",
       "      <td>142773.638903</td>\n",
       "    </tr>\n",
       "    <tr>\n",
       "      <th>9996</th>\n",
       "      <td>100.0%</td>\n",
       "      <td>9997000</td>\n",
       "      <td>9997.000002</td>\n",
       "      <td>-37140.970462</td>\n",
       "      <td>9574.010816</td>\n",
       "      <td>-27566.959646</td>\n",
       "      <td>300.179569</td>\n",
       "      <td>31.824723</td>\n",
       "      <td>1.146468</td>\n",
       "      <td>6.05</td>\n",
       "      <td>142788.077985</td>\n",
       "    </tr>\n",
       "    <tr>\n",
       "      <th>9997</th>\n",
       "      <td>100.0%</td>\n",
       "      <td>9998000</td>\n",
       "      <td>9998.000002</td>\n",
       "      <td>-37093.903853</td>\n",
       "      <td>9411.511642</td>\n",
       "      <td>-27682.392211</td>\n",
       "      <td>295.084638</td>\n",
       "      <td>32.051156</td>\n",
       "      <td>1.138369</td>\n",
       "      <td>6.05</td>\n",
       "      <td>142802.541960</td>\n",
       "    </tr>\n",
       "    <tr>\n",
       "      <th>9998</th>\n",
       "      <td>100.0%</td>\n",
       "      <td>9999000</td>\n",
       "      <td>9999.000002</td>\n",
       "      <td>-37341.581536</td>\n",
       "      <td>9527.115653</td>\n",
       "      <td>-27814.465883</td>\n",
       "      <td>298.709238</td>\n",
       "      <td>31.294119</td>\n",
       "      <td>1.165907</td>\n",
       "      <td>6.05</td>\n",
       "      <td>142817.022293</td>\n",
       "    </tr>\n",
       "  </tbody>\n",
       "</table>\n",
       "<p>9999 rows × 11 columns</p>\n",
       "</div>"
      ],
      "text/plain": [
       "     #\"Progress (%)\"     Step    Time (ps)  Potential Energy (kJ/mole)  \\\n",
       "0               0.0%     1000     1.000000               -25115.301993   \n",
       "1               0.0%     2000     2.000000               -22984.163637   \n",
       "2               0.0%     3000     3.000000               -22207.232071   \n",
       "3               0.0%     4000     4.000000               -21275.433820   \n",
       "4               0.1%     5000     5.000000               -21498.174381   \n",
       "...              ...      ...          ...                         ...   \n",
       "9994          100.0%  9995000  9995.000002               -36960.375464   \n",
       "9995          100.0%  9996000  9996.000002               -37217.966354   \n",
       "9996          100.0%  9997000  9997.000002               -37140.970462   \n",
       "9997          100.0%  9998000  9998.000002               -37093.903853   \n",
       "9998          100.0%  9999000  9999.000002               -37341.581536   \n",
       "\n",
       "      Kinetic Energy (kJ/mole)  Total Energy (kJ/mole)  Temperature (K)  \\\n",
       "0                 18640.853699            -6474.448294       584.457605   \n",
       "1                 20445.845135            -2538.318502       641.050559   \n",
       "2                 21687.085684             -520.146388       679.967901   \n",
       "3                 22604.436956             1329.003136       708.730153   \n",
       "4                 22345.699989              847.525608       700.617821   \n",
       "...                        ...                     ...              ...   \n",
       "9994               9719.748180           -27240.627284       304.748958   \n",
       "9995               9361.407441           -27856.558913       293.513691   \n",
       "9996               9574.010816           -27566.959646       300.179569   \n",
       "9997               9411.511642           -27682.392211       295.084638   \n",
       "9998               9527.115653           -27814.465883       298.709238   \n",
       "\n",
       "      Box Volume (nm^3)  Density (g/mL)  Speed (ns/day)  Elapsed Time (s)  \n",
       "0             38.765671        0.941194            0.00          0.000231  \n",
       "1             38.884793        0.938311            6.11         14.141430  \n",
       "2             39.295464        0.928505            6.12         28.242461  \n",
       "3             38.514641        0.947329            6.12         42.335292  \n",
       "4             39.464460        0.924529            6.13         56.420394  \n",
       "...                 ...             ...             ...               ...  \n",
       "9994          31.623401        1.153767            6.05     142759.173750  \n",
       "9995          31.813964        1.146856            6.05     142773.638903  \n",
       "9996          31.824723        1.146468            6.05     142788.077985  \n",
       "9997          32.051156        1.138369            6.05     142802.541960  \n",
       "9998          31.294119        1.165907            6.05     142817.022293  \n",
       "\n",
       "[9999 rows x 11 columns]"
      ]
     },
     "execution_count": 200,
     "metadata": {},
     "output_type": "execute_result"
    }
   ],
   "source": [
    "universe.data"
   ]
  },
  {
   "cell_type": "code",
   "execution_count": null,
   "id": "1e1426ff-eedc-4328-84a5-e6723f7a1043",
   "metadata": {},
   "outputs": [],
   "source": []
  },
  {
   "cell_type": "code",
   "execution_count": null,
   "id": "8e5e349d-f6ad-4839-a9e8-6b444ac79e01",
   "metadata": {},
   "outputs": [],
   "source": []
  },
  {
   "cell_type": "code",
   "execution_count": null,
   "id": "578ea454-58c3-49bc-bf78-c2971f6c5cf4",
   "metadata": {},
   "outputs": [],
   "source": []
  },
  {
   "cell_type": "code",
   "execution_count": 43,
   "id": "85be46f6-9d78-4c2b-87f2-e63fa6bb9d4d",
   "metadata": {},
   "outputs": [
    {
     "data": {
      "text/plain": [
       "['min_3HB_10_polymer_5_5_array_crystal.pdb']"
      ]
     },
     "execution_count": 43,
     "metadata": {},
     "output_type": "execute_result"
    }
   ],
   "source": [
    "masterclass.simulation_files[\"min\"]\n"
   ]
  },
  {
   "cell_type": "code",
   "execution_count": 45,
   "id": "cd3ae081-f99e-4d98-9bc2-586cac2c2f3a",
   "metadata": {},
   "outputs": [],
   "source": [
    "min_filepath = os.path.join(masterclass.simulation_directory, masterclass.simulation_files[\"min\"][0])"
   ]
  },
  {
   "cell_type": "code",
   "execution_count": 86,
   "id": "9ee55608-3de0-4564-8e53-21101cbd53fb",
   "metadata": {},
   "outputs": [],
   "source": [
    "def parse_pdb_simple(pdb_file_path):\n",
    "    residues = []  # List to store all residue codes\n",
    "    unique_residues = set()  # Set to store unique residue codes\n",
    "    unique_resnums = []\n",
    "    largest_residue_number = None\n",
    "    \n",
    "    with open(pdb_file_path, 'r') as pdb_file:\n",
    "        for line in pdb_file:\n",
    "            # Parse only lines that start with \"ATOM\" or \"HETATM\"\n",
    "            if line.startswith(\"ATOM\") or line.startswith(\"HETATM\"):\n",
    "                \n",
    "                # Extract the residue code (position 17-19)\n",
    "                residue_code = line[17:20].strip()  # Residue code is in columns 18-20\n",
    "                # Append residue code to the list of residues\n",
    "                residues.append(residue_code)\n",
    "                # Add the residue code to the unique residues set\n",
    "                unique_residues.add(residue_code)\n",
    "\n",
    "                residue_number = int(line[22:26].strip())\n",
    "                # Update the largest residue number if this one is larger\n",
    "                if largest_residue_number is None or residue_number > largest_residue_number:\n",
    "                    largest_residue_number = residue_number\n",
    "    \n",
    "    # Return the sorted unique residues and the total count of residues\n",
    "    return sorted(unique_residues),largest_residue_number"
   ]
  },
  {
   "cell_type": "code",
   "execution_count": 87,
   "id": "69662ffb-4432-4f16-b5fd-d5eaaeabfb79",
   "metadata": {},
   "outputs": [],
   "source": [
    "a, b = parse_pdb_simple(min_filepath)"
   ]
  },
  {
   "cell_type": "code",
   "execution_count": 89,
   "id": "8d911288-bf49-47cc-ac9f-2fe87adb1914",
   "metadata": {},
   "outputs": [
    {
     "data": {
      "text/plain": [
       "250"
      ]
     },
     "execution_count": 89,
     "metadata": {},
     "output_type": "execute_result"
    }
   ],
   "source": [
    "b"
   ]
  },
  {
   "cell_type": "code",
   "execution_count": 97,
   "id": "c8c41e36-2936-4327-8aec-c81c63c8c945",
   "metadata": {},
   "outputs": [],
   "source": [
    "def extract_rescodes_and_resnums(pdb_file_path):\n",
    "    largest_residue_number = None  # Variable to track the largest residue number\n",
    "    unique_residue_codes = set()    # Set to hold unique residue codes\n",
    "\n",
    "    with open(pdb_file_path, 'r') as pdb_file:\n",
    "        for line in pdb_file:\n",
    "            # Parse only lines that start with \"ATOM\" or \"HETATM\"\n",
    "            if line.startswith(\"ATOM\") or line.startswith(\"HETATM\"):\n",
    "                # Extract the residue number (position 22-26)\n",
    "                residue_number = int(line[22:26].strip())\n",
    "                # Extract the residue code (position 17-20)\n",
    "                residue_code = line[17:20].strip()\n",
    "\n",
    "                # Update the largest residue number if this one is larger\n",
    "                if largest_residue_number is None or residue_number > largest_residue_number:\n",
    "                    largest_residue_number = residue_number\n",
    "                \n",
    "                # Add the residue code to the set for unique codes\n",
    "                unique_residue_codes.add(residue_code)\n",
    "\n",
    "    return largest_residue_number, unique_residue_codes\n",
    "\n",
    "def calculate_polymers_and_assign_residue_codes(pdb_file_path, poly_length):\n",
    "    # Find the largest residue number and unique residue codes\n",
    "    largest_residue_number, unique_residue_codes = fextract_rescodes_and_resnums(pdb_file_path)\n",
    "\n",
    "    # Calculate the number of polymers\n",
    "    num_polymers = largest_residue_number // poly_length\n",
    "\n",
    "    # Create a dictionary to hold the polymer residue codes\n",
    "    polymers_dict = {}\n",
    "\n",
    "    # Assign residue codes based on the number of residues per polymer\n",
    "    for i in range(num_polymers):\n",
    "        # Calculate the start and end residue codes for this polymer\n",
    "        start_code = i * poly_length + 1\n",
    "        end_code = start_code + poly_length - 1\n",
    "        polymers_dict[f'Polymer_{i + 1}'] = list(range(start_code, end_code + 1))\n",
    "\n",
    "    return num_polymers, polymers_dict, unique_residue_codes\n",
    "\n",
    "# Example usage\n",
    "pdb_file_path = min_filepath  # Replace with your actual PDB file path\n",
    "residues_per_polymer = 10  # Number of residues per polymer\n",
    "\n",
    "num_polymers, polymers_dict, rescodes = calculate_polymers_and_assign_residue_codes(pdb_file_path, residues_per_polymer)"
   ]
  },
  {
   "cell_type": "code",
   "execution_count": 98,
   "id": "84024478-1627-4d63-b810-5672f3d39c3d",
   "metadata": {},
   "outputs": [
    {
     "data": {
      "text/plain": [
       "{'hAD', 'mAD', 'tAD'}"
      ]
     },
     "execution_count": 98,
     "metadata": {},
     "output_type": "execute_result"
    }
   ],
   "source": [
    "rescodes"
   ]
  }
 ],
 "metadata": {
  "kernelspec": {
   "display_name": "Python 3 (ipykernel)",
   "language": "python",
   "name": "python3"
  },
  "language_info": {
   "codemirror_mode": {
    "name": "ipython",
    "version": 3
   },
   "file_extension": ".py",
   "mimetype": "text/x-python",
   "name": "python",
   "nbconvert_exporter": "python",
   "pygments_lexer": "ipython3",
   "version": "3.12.0"
  }
 },
 "nbformat": 4,
 "nbformat_minor": 5
}
