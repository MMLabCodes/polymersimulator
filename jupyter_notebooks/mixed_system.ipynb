{
 "cells": [
  {
   "cell_type": "markdown",
   "metadata": {},
   "source": [
    "# Installing openmm-ml\n",
    "\n",
    "Creating environment:\n",
    "\n",
    "```shell\n",
    "mamba create -n openmm\n",
    "mamba install -c conda-forge openmm-ml\n",
    "mamba install -c conda-forge jupyterlab \n",
    "mamba install -c conda-forge openmm-ml\n",
    " \n",
    "install parmed\n",
    "mamba install conda-forge::parmed\n",
    "mamba install --yes -c conda-forge openmmforcefields\n",
    "```\n",
    "\n"
   ]
  },
  {
   "cell_type": "code",
   "execution_count": 6,
   "metadata": {},
   "outputs": [],
   "source": [
    "import sys\n",
    "sys.path.append(\"/home/isvida/quimica/FRAN\")  # Replace with your module path"
   ]
  },
  {
   "cell_type": "code",
   "execution_count": 7,
   "metadata": {},
   "outputs": [
    {
     "name": "stdout",
     "output_type": "stream",
     "text": [
      "Created 1 chains\n",
      "Created 1 residues\n"
     ]
    }
   ],
   "source": [
    "from openmmml import MLPotential\n",
    "from openmm import *\n",
    "from openmm.app import *\n",
    "# Using OpenMM units definitions.\n",
    "from openmm.unit import *\n",
    "\n",
    "'''\n",
    "Due to errors with OpenMM reading PDBs files with non-standard residues or\n",
    "molecules, and taking into account that ANI only works with atomic positions,\n",
    "the sw_openmm library has been developed for holding python classes that generates OpenMM Toplogies and coordinates. \n",
    "'''\n",
    "from BCSW.modules.sw_openmm import TopologyML, PositionsML, DcdWriter, DataWriter\n",
    "\n",
    "input = '3HB.pdb'\n",
    "prefix = 'zigzag-gph'\n",
    "\n",
    "# Generating Topology from PDB\n",
    "topologyML = TopologyML(input)\n",
    "topology = topologyML.create_topo()\n",
    "# Extracting position from the PDB. The coordinate system is translated to the\n",
    "# origin [0, 0, 0]\n",
    "positionsML = PositionsML(input)\n",
    "coords = positionsML.coords"
   ]
  },
  {
   "cell_type": "code",
   "execution_count": null,
   "metadata": {},
   "outputs": [],
   "source": [
    "# Another MLPotential is ani1ccx.\n",
    "potential = MLPotential('ani2x')\n",
    "# Creating the OpenMM system object. View manual for definition.\n",
    "system = potential.createSystem(topology)\n",
    "\n"
   ]
  }
 ],
 "metadata": {
  "kernelspec": {
   "display_name": "Python 3",
   "language": "python",
   "name": "python3"
  },
  "language_info": {
   "codemirror_mode": {
    "name": "ipython",
    "version": 3
   },
   "file_extension": ".py",
   "mimetype": "text/x-python",
   "name": "python",
   "nbconvert_exporter": "python",
   "pygments_lexer": "ipython3",
   "version": "3.11.7"
  }
 },
 "nbformat": 4,
 "nbformat_minor": 2
}
