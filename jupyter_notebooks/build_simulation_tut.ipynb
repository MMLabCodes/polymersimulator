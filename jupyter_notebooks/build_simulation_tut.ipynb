{
 "cells": [
  {
   "cell_type": "markdown",
   "id": "b763b46f",
   "metadata": {},
   "source": [
    "## BuildSimulation class"
   ]
  },
  {
   "cell_type": "code",
   "execution_count": 1,
   "id": "98dc9390",
   "metadata": {},
   "outputs": [],
   "source": [
    "import parmed as pm\n",
    "import numpy as np\n",
    "import pandas as pd\n",
    "import csv\n",
    "import itertools"
   ]
  },
  {
   "cell_type": "code",
   "execution_count": 2,
   "id": "3ee25ce1",
   "metadata": {},
   "outputs": [
    {
     "name": "stderr",
     "output_type": "stream",
     "text": [
      "Warning: importing 'simtk.openmm' is deprecated.  Import 'openmm' instead.\n"
     ]
    }
   ],
   "source": [
    "from modules.sw_openmm import *\n",
    "from modules.sw_directories import *"
   ]
  },
  {
   "cell_type": "markdown",
   "id": "eb7412be",
   "metadata": {},
   "source": [
    "### Define topology and coordinate files\n",
    "\n",
    "First we define an amber topology and coordinate file.\n",
    "These are generated using the paramaterization codes."
   ]
  },
  {
   "cell_type": "code",
   "execution_count": 3,
   "id": "15498ea9",
   "metadata": {},
   "outputs": [],
   "source": [
    "topology_file = \"outputs/3HB.prmtop\"\n",
    "coordinate_file = \"outputs/3HB.rst7\""
   ]
  },
  {
   "cell_type": "markdown",
   "id": "5e68773a",
   "metadata": {},
   "source": [
    "### Investigate class\n",
    "\n",
    "Before carrying out any simulations or even setting them up, lets see what the simulation class includes."
   ]
  },
  {
   "cell_type": "code",
   "execution_count": 4,
   "id": "54af3d5f",
   "metadata": {
    "scrolled": false
   },
   "outputs": [
    {
     "name": "stdout",
     "output_type": "stream",
     "text": [
      "Help on class BuildSimulation in module modules.sw_openmm:\n",
      "\n",
      "class BuildSimulation(builtins.object)\n",
      " |  Class for building and managing molecular simulations.\n",
      " |  \n",
      " |  Attributes:\n",
      " |      pressure (float): The default pressure for simulations, in atmospheres.\n",
      " |      temp (float): The default temperature for simulations, in Kelvin.\n",
      " |      timestep (float): The default timestep for simulations, in femtoseconds.\n",
      " |      friction_coeff (float): The default friction coefficient for Langevin dynamics simulations, in units of 1/picoseconds.\n",
      " |      total_steps (int): The default total number of steps for simulations.\n",
      " |      reporter_freq (int): The default frequency for reporting data during simulations.\n",
      " |      anneal_parameters (list): Parameters for simulated annealing, including start temp, max temp, cycles, holding steps, \n",
      " |          and steps at each temperature.\n",
      " |  \n",
      " |  Methods:\n",
      " |      type_of_simulation(self): Determine the type of simulation.\n",
      " |      minimize_energy(self): Perform energy minimization of the system.\n",
      " |      minimize_energy_help(cls): Display help information for the minimize_energy method.\n",
      " |      anneal(self, simulation, start_temp=None, max_temp=None, cycles=None, holding_steps=None, steps_at_temp=None): \n",
      " |          Perform simulated annealing on the provided simulation system.\n",
      " |      anneal_help(cls): Display help information for the anneal method.\n",
      " |      equilibrate(self, simulation, total_steps=None, temp=None, pressure=None): Equilibrate the provided simulation.\n",
      " |      equilibrate_help(cls): Display help information for the equilibrate method.\n",
      " |      production_run(self, simulation, total_steps=None, temp=None): Perform a production run simulation.\n",
      " |      production_run_help(cls): Display help information for the production_run method.\n",
      " |      __repr__(self): Representation of the simulation parameters.\n",
      " |      __str__(self): String representation of the simulation object.\n",
      " |      set_temperature(cls, temp): Set the temperature for simulations.\n",
      " |      set_pressure(cls, pressure): Set the pressure for simulations.\n",
      " |      set_timestep(cls, timestep): Set the timestep for simulations.\n",
      " |      set_friction_coeff(cls, friction_coeff): Set the friction coefficient for simulations.\n",
      " |      set_total_steps(cls, total_steps): Set the total number of steps for simulations.\n",
      " |      set_reporter_freq(cls, reporter_freq): Set the reporter frequency for simulations.\n",
      " |      set_anneal_parameters(cls, new_anneal_parameters): Set annealing parameters.\n",
      " |      graph_state_data(data_file): Graph the state data from a data file.\n",
      " |  \n",
      " |  Notes:\n",
      " |      This class provides a comprehensive interface for setting up, running, and managing molecular simulations.\n",
      " |      It includes methods for energy minimization, simulated annealing, equilibration, production runs, and visualization of data.\n",
      " |  \n",
      " |  Methods defined here:\n",
      " |  \n",
      " |  __init__(self)\n",
      " |      Initialize self.  See help(type(self)) for accurate signature.\n",
      " |  \n",
      " |  __repr__(self)\n",
      " |      Return repr(self).\n",
      " |  \n",
      " |  __str__(self)\n",
      " |      Return str(self).\n",
      " |  \n",
      " |  anneal(self, simulation, start_temp=None, max_temp=None, cycles=None, holding_steps=None, steps_at_temp=None)\n",
      " |      Function to perform simulated annealing on the provided simulation system.\n",
      " |      \n",
      " |      USAGE: \n",
      " |          annealed_sim = sim.anneal(simulation, start_temp, max_temp, cycles, holding_steps, steps_at_temp)            \n",
      " |      \n",
      " |      Recommended USAGE:\n",
      " |          annealed_sim = sim.anneal(simulation)\n",
      " |          \n",
      " |          where annealing parameters are set with the following function:\n",
      " |              \n",
      " |          simulation_object.set_anneal_parameters([start_temp, max_temp, cycles, holding_steps, steps_at_each_temp])\n",
      " |      \n",
      " |      Args:\n",
      " |          simulation (app.Simulation): The simulation object to perform annealing on.\n",
      " |          \n",
      " |          start_temp (float, optional): The starting temperature for annealing in Kelvin. Defaults to None, \n",
      " |              in which case the value is fetched from self.anneal_parameters[0].\n",
      " |              \n",
      " |          max_temp (float, optional): The maximum temperature for annealing in Kelvin. Defaults to None, \n",
      " |              in which case the value is fetched from self.anneal_parameters[1].\n",
      " |              \n",
      " |          cycles (int, optional): The number of annealing cycles to perform. Defaults to None, \n",
      " |              in which case the value is fetched from self.anneal_parameters[2].\n",
      " |              \n",
      " |          holding_steps (int, optional): The number of steps to hold the system at each temperature. \n",
      " |              Defaults to None, in which case the value is fetched from self.anneal_parameters[3].\n",
      " |              \n",
      " |          steps_at_temp (int, optional): The number of steps to perform at each temperature. \n",
      " |              Defaults to None, in which case the value is fetched from self.anneal_parameters[4].\n",
      " |      \n",
      " |      Returns:\n",
      " |          A tuple containing the simulation object after annealing and the filename of the data file generated.\n",
      " |              in the following format:\n",
      " |      \n",
      " |          (simulation_object, path_to_data_file)\n",
      " |                  \n",
      " |      Notes:\n",
      " |          This method performs simulated annealing on the provided simulation object. It initializes the system with the \n",
      " |      provided initial conditions and runs annealing cycles adjusting the temperature according to the specified parameters.\n",
      " |      The system's state is updated throughout the annealing process, and reporters are set up to record trajectory and \n",
      " |      simulation data.\n",
      " |  \n",
      " |  equilibrate(self, simulation, total_steps=None, temp=None, pressure=None)\n",
      " |      Function to equilibrate the provided simulation to reach a specified temperature and pressure.\n",
      " |      \n",
      " |      USAGE: \n",
      " |          equilibrated_sim = sim.anneal(simulation, total_steps, temp, pressure)            \n",
      " |      \n",
      " |      Recommended USAGE:\n",
      " |          equilibrated_sim = sim.anneal(simulation)\n",
      " |          \n",
      " |          where annealing parameters are set with the following functions:\n",
      " |              \n",
      " |          simulation_object.set_temperature(temperature)\n",
      " |          simulation_object.set_pressure(pressure)\n",
      " |          simulation_object.set_total_steps(total_steps)\n",
      " |          \n",
      " |      Args:\n",
      " |          simulation (app.Simulation): The simulation object to equilibrate.\n",
      " |          \n",
      " |          total_steps (int, optional): The total number of steps to run for equilibration. Defaults to None, \n",
      " |              in which case the value is fetched from self.total_steps.\n",
      " |              \n",
      " |          temp (float, optional): The target temperature for equilibration in Kelvin. Defaults to None, \n",
      " |              in which case the value is fetched from self.temp.\n",
      " |              \n",
      " |          pressure (float, optional): The target pressure for equilibration in atmospheres. Defaults to None, \n",
      " |              in which case the value is fetched from self.pressure.\n",
      " |      \n",
      " |      Returns:\n",
      " |          A tuple containing the simulation object after equilibration and the filename of the data file generated\n",
      " |              in the following format:\n",
      " |                  \n",
      " |          (simulation_object, path_to_data_file)\n",
      " |      \n",
      " |      Notes:\n",
      " |          This method performs equilibration on the provided simulation object to reach the specified temperature and pressure.\n",
      " |          It initializes the system with the provided initial conditions and runs the simulation for the specified number \n",
      " |          of steps. The system's state is updated throughout the equilibration process, and reporters are set up to record \n",
      " |          trajectory and simulation data.\n",
      " |  \n",
      " |  minimize_energy(self)\n",
      " |      Function to perform energy minimization of the system using Langevin dynamics.\n",
      " |      \n",
      " |      USAGE:\n",
      " |          minimized_sim = simulation_object.minimize_energy()\n",
      " |      \n",
      " |      Returns:\n",
      " |          minimized_simulation_object\n",
      " |  \n",
      " |  production_run(self, simulation, total_steps=None, temp=None)\n",
      " |      Function to perform a production run simulation with the provided parameters.\n",
      " |      \n",
      " |      USAGE: \n",
      " |          production_run_sim = sim.anneal(simulation, total_steps, temp)            \n",
      " |      \n",
      " |      Recommended USAGE:\n",
      " |          production_run_sim = sim.anneal(simulation)\n",
      " |          \n",
      " |          where annealing parameters are set with the following functions:\n",
      " |              \n",
      " |          simulation_object.set_temperature(temperature)\n",
      " |          simulation_object.set_total_steps(total_steps)\n",
      " |          \n",
      " |      Args:\n",
      " |          simulation (app.Simulation): The simulation object to run the production simulation on.\n",
      " |          \n",
      " |          total_steps (int, optional): The total number of steps to run for the production simulation. \n",
      " |              Defaults to None, in which case the value is fetched from self.total_steps.\n",
      " |          \n",
      " |          temp (float, optional): The temperature for the production simulation in Kelvin. \n",
      " |              Defaults to None, in which case the value is fetched from self.temp.\n",
      " |      \n",
      " |      Returns:\n",
      " |          A tuple containing the simulation object after the production run and the filename of the data file generated.\n",
      " |              in the following format:\n",
      " |              \n",
      " |          (simulation_object, path_to_data_file)\n",
      " |      \n",
      " |      Notes:\n",
      " |          This method performs a production run simulation with the provided simulation object and parameters.\n",
      " |          It initializes the system with the provided initial conditions and runs the simulation for the specified \n",
      " |          number of steps. The system's state is updated throughout the production run, and reporters are set up to \n",
      " |          record trajectory and simulation data.\n",
      " |  \n",
      " |  type_of_simulation(self)\n",
      " |      Determine the type of simulation.\n",
      " |      \n",
      " |      Returns:\n",
      " |          str: A string indicating the type of simulation, either \"AMB\" for AmberSimulation or \"ANI\" for ANISimulation.\n",
      " |      \n",
      " |      Notes:\n",
      " |          This method inspects the type of the current object to determine the type of simulation.\n",
      " |          If the object is an instance of AmberSimulation, it returns \"AMB\".\n",
      " |          If the object is an instance of ANISimulation, it returns \"ANI\".\n",
      " |          If the object is neither, it returns a message prompting the user to specify the type of simulation by calling \n",
      " |          either AmberSimulation or ANISimulation classes.\n",
      " |          \n",
      " |          This function should never need to be called as we can we can the type of our simulation object with: repr(simulation_object)\n",
      " |  \n",
      " |  ----------------------------------------------------------------------\n",
      " |  Class methods defined here:\n",
      " |  \n",
      " |  anneal_help() from builtins.type\n",
      " |      Display help information for the anneal method.\n",
      " |  \n",
      " |  equilibrate_help() from builtins.type\n",
      " |      Display help information for the equilibrate method.\n",
      " |  \n",
      " |  graph_state_data_help() from builtins.type\n",
      " |      Display help information for the method to plot state data.\n",
      " |  \n",
      " |  minimize_energy_help() from builtins.type\n",
      " |      Display help information for the minimize_energy method.\n",
      " |  \n",
      " |  production_run_help() from builtins.type\n",
      " |      Display help information for the production run method.\n",
      " |  \n",
      " |  set_anneal_parameters(new_anneal_parameters) from builtins.type\n",
      " |  \n",
      " |  set_friction_coeff(friction_coeff) from builtins.type\n",
      " |  \n",
      " |  set_pressure(pressure) from builtins.type\n",
      " |  \n",
      " |  set_reporter_freq(reporter_freq) from builtins.type\n",
      " |  \n",
      " |  set_temperature(temp) from builtins.type\n",
      " |      # All class methods here change a variable in the following way\n",
      " |      # AmberSimulation.set_temperature(400)\n",
      " |      # AmberSimulation.temp\n",
      " |  \n",
      " |  set_timestep(timestep) from builtins.type\n",
      " |  \n",
      " |  set_total_steps(total_steps) from builtins.type\n",
      " |  \n",
      " |  ----------------------------------------------------------------------\n",
      " |  Static methods defined here:\n",
      " |  \n",
      " |  graph_state_data(data_file)\n",
      " |      Function to generate a plot from simulation data and save it as a PNG file.\n",
      " |      \n",
      " |      USAGE:\n",
      " |          The variable used for this plot is the second element of the tuple coming from the following method:\n",
      " |              **anneal**\n",
      " |              **equilibrate**\n",
      " |              **production_run**\n",
      " |              \n",
      " |          sim.graph_state_data(returned_simulation_variable)\n",
      " |          \n",
      " |          An example of this returned_simulation_varaible is:\n",
      " |              sim.anneal(minimized_sim)[0]\n",
      " |      \n",
      " |      Args:\n",
      " |          data_file (str): The path to the CSV file containing simulation data.\n",
      " |          \n",
      " |      Notes:\n",
      " |          This method reads simulation data from a CSV file, creates plots for each column of data\n",
      " |          against time, and saves the resulting plot as a PNG file. The CSV file is expected to have\n",
      " |          a \"Time (ps)\" column and numerical data columns representing different states of the\n",
      " |          simulation over time.\n",
      " |      \n",
      " |          The generated plot will contain multiple subplots, each showing a different state variable\n",
      " |          plotted against time. The number of rows and columns of subplots is determined automatically\n",
      " |          based on the number of data columns, with a maximum of 2 columns per row. If there are more\n",
      " |          data columns than can fit in the specified layout, some subplots may be omitted.\n",
      " |      \n",
      " |          The PNG file containing the plot will be saved in the same directory as the data file with\n",
      " |          the same name, but with the extension changed to \".png\".\n",
      " |  \n",
      " |  ----------------------------------------------------------------------\n",
      " |  Data descriptors defined here:\n",
      " |  \n",
      " |  __dict__\n",
      " |      dictionary for instance variables (if defined)\n",
      " |  \n",
      " |  __weakref__\n",
      " |      list of weak references to the object (if defined)\n",
      " |  \n",
      " |  ----------------------------------------------------------------------\n",
      " |  Data and other attributes defined here:\n",
      " |  \n",
      " |  anneal_parameters = [300, 700, 5, 3000, 100]\n",
      " |  \n",
      " |  friction_coeff = 1.0\n",
      " |  \n",
      " |  pressure = 1\n",
      " |  \n",
      " |  reporter_freq = 1000\n",
      " |  \n",
      " |  temp = 300\n",
      " |  \n",
      " |  timestep = 2.0\n",
      " |  \n",
      " |  total_steps = 1000\n",
      "\n",
      "None\n"
     ]
    }
   ],
   "source": [
    "print(help(BuildSimulation))"
   ]
  },
  {
   "cell_type": "code",
   "execution_count": 5,
   "id": "7467b3ad",
   "metadata": {},
   "outputs": [
    {
     "name": "stdout",
     "output_type": "stream",
     "text": [
      "Help on class AmberSimulation in module modules.sw_openmm:\n",
      "\n",
      "class AmberSimulation(BuildSimulation)\n",
      " |  AmberSimulation(topology_file, coordinates_file)\n",
      " |  \n",
      " |  Method resolution order:\n",
      " |      AmberSimulation\n",
      " |      BuildSimulation\n",
      " |      builtins.object\n",
      " |  \n",
      " |  Methods defined here:\n",
      " |  \n",
      " |  __init__(self, topology_file, coordinates_file)\n",
      " |      Initialize self.  See help(type(self)) for accurate signature.\n",
      " |  \n",
      " |  __str__(self)\n",
      " |      Return str(self).\n",
      " |  \n",
      " |  ----------------------------------------------------------------------\n",
      " |  Methods inherited from BuildSimulation:\n",
      " |  \n",
      " |  __repr__(self)\n",
      " |      Return repr(self).\n",
      " |  \n",
      " |  anneal(self, simulation, start_temp=None, max_temp=None, cycles=None, holding_steps=None, steps_at_temp=None)\n",
      " |      Function to perform simulated annealing on the provided simulation system.\n",
      " |      \n",
      " |      USAGE: \n",
      " |          annealed_sim = sim.anneal(simulation, start_temp, max_temp, cycles, holding_steps, steps_at_temp)            \n",
      " |      \n",
      " |      Recommended USAGE:\n",
      " |          annealed_sim = sim.anneal(simulation)\n",
      " |          \n",
      " |          where annealing parameters are set with the following function:\n",
      " |              \n",
      " |          simulation_object.set_anneal_parameters([start_temp, max_temp, cycles, holding_steps, steps_at_each_temp])\n",
      " |      \n",
      " |      Args:\n",
      " |          simulation (app.Simulation): The simulation object to perform annealing on.\n",
      " |          \n",
      " |          start_temp (float, optional): The starting temperature for annealing in Kelvin. Defaults to None, \n",
      " |              in which case the value is fetched from self.anneal_parameters[0].\n",
      " |              \n",
      " |          max_temp (float, optional): The maximum temperature for annealing in Kelvin. Defaults to None, \n",
      " |              in which case the value is fetched from self.anneal_parameters[1].\n",
      " |              \n",
      " |          cycles (int, optional): The number of annealing cycles to perform. Defaults to None, \n",
      " |              in which case the value is fetched from self.anneal_parameters[2].\n",
      " |              \n",
      " |          holding_steps (int, optional): The number of steps to hold the system at each temperature. \n",
      " |              Defaults to None, in which case the value is fetched from self.anneal_parameters[3].\n",
      " |              \n",
      " |          steps_at_temp (int, optional): The number of steps to perform at each temperature. \n",
      " |              Defaults to None, in which case the value is fetched from self.anneal_parameters[4].\n",
      " |      \n",
      " |      Returns:\n",
      " |          A tuple containing the simulation object after annealing and the filename of the data file generated.\n",
      " |              in the following format:\n",
      " |      \n",
      " |          (simulation_object, path_to_data_file)\n",
      " |                  \n",
      " |      Notes:\n",
      " |          This method performs simulated annealing on the provided simulation object. It initializes the system with the \n",
      " |      provided initial conditions and runs annealing cycles adjusting the temperature according to the specified parameters.\n",
      " |      The system's state is updated throughout the annealing process, and reporters are set up to record trajectory and \n",
      " |      simulation data.\n",
      " |  \n",
      " |  equilibrate(self, simulation, total_steps=None, temp=None, pressure=None)\n",
      " |      Function to equilibrate the provided simulation to reach a specified temperature and pressure.\n",
      " |      \n",
      " |      USAGE: \n",
      " |          equilibrated_sim = sim.anneal(simulation, total_steps, temp, pressure)            \n",
      " |      \n",
      " |      Recommended USAGE:\n",
      " |          equilibrated_sim = sim.anneal(simulation)\n",
      " |          \n",
      " |          where annealing parameters are set with the following functions:\n",
      " |              \n",
      " |          simulation_object.set_temperature(temperature)\n",
      " |          simulation_object.set_pressure(pressure)\n",
      " |          simulation_object.set_total_steps(total_steps)\n",
      " |          \n",
      " |      Args:\n",
      " |          simulation (app.Simulation): The simulation object to equilibrate.\n",
      " |          \n",
      " |          total_steps (int, optional): The total number of steps to run for equilibration. Defaults to None, \n",
      " |              in which case the value is fetched from self.total_steps.\n",
      " |              \n",
      " |          temp (float, optional): The target temperature for equilibration in Kelvin. Defaults to None, \n",
      " |              in which case the value is fetched from self.temp.\n",
      " |              \n",
      " |          pressure (float, optional): The target pressure for equilibration in atmospheres. Defaults to None, \n",
      " |              in which case the value is fetched from self.pressure.\n",
      " |      \n",
      " |      Returns:\n",
      " |          A tuple containing the simulation object after equilibration and the filename of the data file generated\n",
      " |              in the following format:\n",
      " |                  \n",
      " |          (simulation_object, path_to_data_file)\n",
      " |      \n",
      " |      Notes:\n",
      " |          This method performs equilibration on the provided simulation object to reach the specified temperature and pressure.\n",
      " |          It initializes the system with the provided initial conditions and runs the simulation for the specified number \n",
      " |          of steps. The system's state is updated throughout the equilibration process, and reporters are set up to record \n",
      " |          trajectory and simulation data.\n",
      " |  \n",
      " |  minimize_energy(self)\n",
      " |      Function to perform energy minimization of the system using Langevin dynamics.\n",
      " |      \n",
      " |      USAGE:\n",
      " |          minimized_sim = simulation_object.minimize_energy()\n",
      " |      \n",
      " |      Returns:\n",
      " |          minimized_simulation_object\n",
      " |  \n",
      " |  production_run(self, simulation, total_steps=None, temp=None)\n",
      " |      Function to perform a production run simulation with the provided parameters.\n",
      " |      \n",
      " |      USAGE: \n",
      " |          production_run_sim = sim.anneal(simulation, total_steps, temp)            \n",
      " |      \n",
      " |      Recommended USAGE:\n",
      " |          production_run_sim = sim.anneal(simulation)\n",
      " |          \n",
      " |          where annealing parameters are set with the following functions:\n",
      " |              \n",
      " |          simulation_object.set_temperature(temperature)\n",
      " |          simulation_object.set_total_steps(total_steps)\n",
      " |          \n",
      " |      Args:\n",
      " |          simulation (app.Simulation): The simulation object to run the production simulation on.\n",
      " |          \n",
      " |          total_steps (int, optional): The total number of steps to run for the production simulation. \n",
      " |              Defaults to None, in which case the value is fetched from self.total_steps.\n",
      " |          \n",
      " |          temp (float, optional): The temperature for the production simulation in Kelvin. \n",
      " |              Defaults to None, in which case the value is fetched from self.temp.\n",
      " |      \n",
      " |      Returns:\n",
      " |          A tuple containing the simulation object after the production run and the filename of the data file generated.\n",
      " |              in the following format:\n",
      " |              \n",
      " |          (simulation_object, path_to_data_file)\n",
      " |      \n",
      " |      Notes:\n",
      " |          This method performs a production run simulation with the provided simulation object and parameters.\n",
      " |          It initializes the system with the provided initial conditions and runs the simulation for the specified \n",
      " |          number of steps. The system's state is updated throughout the production run, and reporters are set up to \n",
      " |          record trajectory and simulation data.\n",
      " |  \n",
      " |  type_of_simulation(self)\n",
      " |      Determine the type of simulation.\n",
      " |      \n",
      " |      Returns:\n",
      " |          str: A string indicating the type of simulation, either \"AMB\" for AmberSimulation or \"ANI\" for ANISimulation.\n",
      " |      \n",
      " |      Notes:\n",
      " |          This method inspects the type of the current object to determine the type of simulation.\n",
      " |          If the object is an instance of AmberSimulation, it returns \"AMB\".\n",
      " |          If the object is an instance of ANISimulation, it returns \"ANI\".\n",
      " |          If the object is neither, it returns a message prompting the user to specify the type of simulation by calling \n",
      " |          either AmberSimulation or ANISimulation classes.\n",
      " |          \n",
      " |          This function should never need to be called as we can we can the type of our simulation object with: repr(simulation_object)\n",
      " |  \n",
      " |  ----------------------------------------------------------------------\n",
      " |  Class methods inherited from BuildSimulation:\n",
      " |  \n",
      " |  anneal_help() from builtins.type\n",
      " |      Display help information for the anneal method.\n",
      " |  \n",
      " |  equilibrate_help() from builtins.type\n",
      " |      Display help information for the equilibrate method.\n",
      " |  \n",
      " |  graph_state_data_help() from builtins.type\n",
      " |      Display help information for the method to plot state data.\n",
      " |  \n",
      " |  minimize_energy_help() from builtins.type\n",
      " |      Display help information for the minimize_energy method.\n",
      " |  \n",
      " |  production_run_help() from builtins.type\n",
      " |      Display help information for the production run method.\n",
      " |  \n",
      " |  set_anneal_parameters(new_anneal_parameters) from builtins.type\n",
      " |  \n",
      " |  set_friction_coeff(friction_coeff) from builtins.type\n",
      " |  \n",
      " |  set_pressure(pressure) from builtins.type\n",
      " |  \n",
      " |  set_reporter_freq(reporter_freq) from builtins.type\n",
      " |  \n",
      " |  set_temperature(temp) from builtins.type\n",
      " |      # All class methods here change a variable in the following way\n",
      " |      # AmberSimulation.set_temperature(400)\n",
      " |      # AmberSimulation.temp\n",
      " |  \n",
      " |  set_timestep(timestep) from builtins.type\n",
      " |  \n",
      " |  set_total_steps(total_steps) from builtins.type\n",
      " |  \n",
      " |  ----------------------------------------------------------------------\n",
      " |  Static methods inherited from BuildSimulation:\n",
      " |  \n",
      " |  graph_state_data(data_file)\n",
      " |      Function to generate a plot from simulation data and save it as a PNG file.\n",
      " |      \n",
      " |      USAGE:\n",
      " |          The variable used for this plot is the second element of the tuple coming from the following method:\n",
      " |              **anneal**\n",
      " |              **equilibrate**\n",
      " |              **production_run**\n",
      " |              \n",
      " |          sim.graph_state_data(returned_simulation_variable)\n",
      " |          \n",
      " |          An example of this returned_simulation_varaible is:\n",
      " |              sim.anneal(minimized_sim)[0]\n",
      " |      \n",
      " |      Args:\n",
      " |          data_file (str): The path to the CSV file containing simulation data.\n",
      " |          \n",
      " |      Notes:\n",
      " |          This method reads simulation data from a CSV file, creates plots for each column of data\n",
      " |          against time, and saves the resulting plot as a PNG file. The CSV file is expected to have\n",
      " |          a \"Time (ps)\" column and numerical data columns representing different states of the\n",
      " |          simulation over time.\n",
      " |      \n",
      " |          The generated plot will contain multiple subplots, each showing a different state variable\n",
      " |          plotted against time. The number of rows and columns of subplots is determined automatically\n",
      " |          based on the number of data columns, with a maximum of 2 columns per row. If there are more\n",
      " |          data columns than can fit in the specified layout, some subplots may be omitted.\n",
      " |      \n",
      " |          The PNG file containing the plot will be saved in the same directory as the data file with\n",
      " |          the same name, but with the extension changed to \".png\".\n",
      " |  \n",
      " |  ----------------------------------------------------------------------\n",
      " |  Data descriptors inherited from BuildSimulation:\n",
      " |  \n",
      " |  __dict__\n",
      " |      dictionary for instance variables (if defined)\n",
      " |  \n",
      " |  __weakref__\n",
      " |      list of weak references to the object (if defined)\n",
      " |  \n",
      " |  ----------------------------------------------------------------------\n",
      " |  Data and other attributes inherited from BuildSimulation:\n",
      " |  \n",
      " |  anneal_parameters = [300, 700, 5, 3000, 100]\n",
      " |  \n",
      " |  friction_coeff = 1.0\n",
      " |  \n",
      " |  pressure = 1\n",
      " |  \n",
      " |  reporter_freq = 1000\n",
      " |  \n",
      " |  temp = 300\n",
      " |  \n",
      " |  timestep = 2.0\n",
      " |  \n",
      " |  total_steps = 1000\n",
      "\n",
      "None\n"
     ]
    }
   ],
   "source": [
    "print(help(AmberSimulation))"
   ]
  },
  {
   "cell_type": "code",
   "execution_count": 6,
   "id": "1e87e7ca",
   "metadata": {},
   "outputs": [
    {
     "name": "stdout",
     "output_type": "stream",
     "text": [
      "Help on class ANISimulation in module modules.sw_openmm:\n",
      "\n",
      "class ANISimulation(BuildSimulation)\n",
      " |  ANISimulation(input_file)\n",
      " |  \n",
      " |  Method resolution order:\n",
      " |      ANISimulation\n",
      " |      BuildSimulation\n",
      " |      builtins.object\n",
      " |  \n",
      " |  Methods defined here:\n",
      " |  \n",
      " |  __init__(self, input_file)\n",
      " |      Initialize self.  See help(type(self)) for accurate signature.\n",
      " |  \n",
      " |  __str__(self)\n",
      " |      Return str(self).\n",
      " |  \n",
      " |  ----------------------------------------------------------------------\n",
      " |  Class methods defined here:\n",
      " |  \n",
      " |  set_potential(potential) from builtins.type\n",
      " |  \n",
      " |  ----------------------------------------------------------------------\n",
      " |  Data and other attributes defined here:\n",
      " |  \n",
      " |  potential = 'ani2x'\n",
      " |  \n",
      " |  ----------------------------------------------------------------------\n",
      " |  Methods inherited from BuildSimulation:\n",
      " |  \n",
      " |  __repr__(self)\n",
      " |      Return repr(self).\n",
      " |  \n",
      " |  anneal(self, simulation, start_temp=None, max_temp=None, cycles=None, holding_steps=None, steps_at_temp=None)\n",
      " |      Function to perform simulated annealing on the provided simulation system.\n",
      " |      \n",
      " |      USAGE: \n",
      " |          annealed_sim = sim.anneal(simulation, start_temp, max_temp, cycles, holding_steps, steps_at_temp)            \n",
      " |      \n",
      " |      Recommended USAGE:\n",
      " |          annealed_sim = sim.anneal(simulation)\n",
      " |          \n",
      " |          where annealing parameters are set with the following function:\n",
      " |              \n",
      " |          simulation_object.set_anneal_parameters([start_temp, max_temp, cycles, holding_steps, steps_at_each_temp])\n",
      " |      \n",
      " |      Args:\n",
      " |          simulation (app.Simulation): The simulation object to perform annealing on.\n",
      " |          \n",
      " |          start_temp (float, optional): The starting temperature for annealing in Kelvin. Defaults to None, \n",
      " |              in which case the value is fetched from self.anneal_parameters[0].\n",
      " |              \n",
      " |          max_temp (float, optional): The maximum temperature for annealing in Kelvin. Defaults to None, \n",
      " |              in which case the value is fetched from self.anneal_parameters[1].\n",
      " |              \n",
      " |          cycles (int, optional): The number of annealing cycles to perform. Defaults to None, \n",
      " |              in which case the value is fetched from self.anneal_parameters[2].\n",
      " |              \n",
      " |          holding_steps (int, optional): The number of steps to hold the system at each temperature. \n",
      " |              Defaults to None, in which case the value is fetched from self.anneal_parameters[3].\n",
      " |              \n",
      " |          steps_at_temp (int, optional): The number of steps to perform at each temperature. \n",
      " |              Defaults to None, in which case the value is fetched from self.anneal_parameters[4].\n",
      " |      \n",
      " |      Returns:\n",
      " |          A tuple containing the simulation object after annealing and the filename of the data file generated.\n",
      " |              in the following format:\n",
      " |      \n",
      " |          (simulation_object, path_to_data_file)\n",
      " |                  \n",
      " |      Notes:\n",
      " |          This method performs simulated annealing on the provided simulation object. It initializes the system with the \n",
      " |      provided initial conditions and runs annealing cycles adjusting the temperature according to the specified parameters.\n",
      " |      The system's state is updated throughout the annealing process, and reporters are set up to record trajectory and \n",
      " |      simulation data.\n",
      " |  \n",
      " |  equilibrate(self, simulation, total_steps=None, temp=None, pressure=None)\n",
      " |      Function to equilibrate the provided simulation to reach a specified temperature and pressure.\n",
      " |      \n",
      " |      USAGE: \n",
      " |          equilibrated_sim = sim.anneal(simulation, total_steps, temp, pressure)            \n",
      " |      \n",
      " |      Recommended USAGE:\n",
      " |          equilibrated_sim = sim.anneal(simulation)\n",
      " |          \n",
      " |          where annealing parameters are set with the following functions:\n",
      " |              \n",
      " |          simulation_object.set_temperature(temperature)\n",
      " |          simulation_object.set_pressure(pressure)\n",
      " |          simulation_object.set_total_steps(total_steps)\n",
      " |          \n",
      " |      Args:\n",
      " |          simulation (app.Simulation): The simulation object to equilibrate.\n",
      " |          \n",
      " |          total_steps (int, optional): The total number of steps to run for equilibration. Defaults to None, \n",
      " |              in which case the value is fetched from self.total_steps.\n",
      " |              \n",
      " |          temp (float, optional): The target temperature for equilibration in Kelvin. Defaults to None, \n",
      " |              in which case the value is fetched from self.temp.\n",
      " |              \n",
      " |          pressure (float, optional): The target pressure for equilibration in atmospheres. Defaults to None, \n",
      " |              in which case the value is fetched from self.pressure.\n",
      " |      \n",
      " |      Returns:\n",
      " |          A tuple containing the simulation object after equilibration and the filename of the data file generated\n",
      " |              in the following format:\n",
      " |                  \n",
      " |          (simulation_object, path_to_data_file)\n",
      " |      \n",
      " |      Notes:\n",
      " |          This method performs equilibration on the provided simulation object to reach the specified temperature and pressure.\n",
      " |          It initializes the system with the provided initial conditions and runs the simulation for the specified number \n",
      " |          of steps. The system's state is updated throughout the equilibration process, and reporters are set up to record \n",
      " |          trajectory and simulation data.\n",
      " |  \n",
      " |  minimize_energy(self)\n",
      " |      Function to perform energy minimization of the system using Langevin dynamics.\n",
      " |      \n",
      " |      USAGE:\n",
      " |          minimized_sim = simulation_object.minimize_energy()\n",
      " |      \n",
      " |      Returns:\n",
      " |          minimized_simulation_object\n",
      " |  \n",
      " |  production_run(self, simulation, total_steps=None, temp=None)\n",
      " |      Function to perform a production run simulation with the provided parameters.\n",
      " |      \n",
      " |      USAGE: \n",
      " |          production_run_sim = sim.anneal(simulation, total_steps, temp)            \n",
      " |      \n",
      " |      Recommended USAGE:\n",
      " |          production_run_sim = sim.anneal(simulation)\n",
      " |          \n",
      " |          where annealing parameters are set with the following functions:\n",
      " |              \n",
      " |          simulation_object.set_temperature(temperature)\n",
      " |          simulation_object.set_total_steps(total_steps)\n",
      " |          \n",
      " |      Args:\n",
      " |          simulation (app.Simulation): The simulation object to run the production simulation on.\n",
      " |          \n",
      " |          total_steps (int, optional): The total number of steps to run for the production simulation. \n",
      " |              Defaults to None, in which case the value is fetched from self.total_steps.\n",
      " |          \n",
      " |          temp (float, optional): The temperature for the production simulation in Kelvin. \n",
      " |              Defaults to None, in which case the value is fetched from self.temp.\n",
      " |      \n",
      " |      Returns:\n",
      " |          A tuple containing the simulation object after the production run and the filename of the data file generated.\n",
      " |              in the following format:\n",
      " |              \n",
      " |          (simulation_object, path_to_data_file)\n",
      " |      \n",
      " |      Notes:\n",
      " |          This method performs a production run simulation with the provided simulation object and parameters.\n",
      " |          It initializes the system with the provided initial conditions and runs the simulation for the specified \n",
      " |          number of steps. The system's state is updated throughout the production run, and reporters are set up to \n",
      " |          record trajectory and simulation data.\n",
      " |  \n",
      " |  type_of_simulation(self)\n",
      " |      Determine the type of simulation.\n",
      " |      \n",
      " |      Returns:\n",
      " |          str: A string indicating the type of simulation, either \"AMB\" for AmberSimulation or \"ANI\" for ANISimulation.\n",
      " |      \n",
      " |      Notes:\n",
      " |          This method inspects the type of the current object to determine the type of simulation.\n",
      " |          If the object is an instance of AmberSimulation, it returns \"AMB\".\n",
      " |          If the object is an instance of ANISimulation, it returns \"ANI\".\n",
      " |          If the object is neither, it returns a message prompting the user to specify the type of simulation by calling \n",
      " |          either AmberSimulation or ANISimulation classes.\n",
      " |          \n",
      " |          This function should never need to be called as we can we can the type of our simulation object with: repr(simulation_object)\n",
      " |  \n",
      " |  ----------------------------------------------------------------------\n",
      " |  Class methods inherited from BuildSimulation:\n",
      " |  \n",
      " |  anneal_help() from builtins.type\n",
      " |      Display help information for the anneal method.\n",
      " |  \n",
      " |  equilibrate_help() from builtins.type\n",
      " |      Display help information for the equilibrate method.\n",
      " |  \n",
      " |  graph_state_data_help() from builtins.type\n",
      " |      Display help information for the method to plot state data.\n",
      " |  \n",
      " |  minimize_energy_help() from builtins.type\n",
      " |      Display help information for the minimize_energy method.\n",
      " |  \n",
      " |  production_run_help() from builtins.type\n",
      " |      Display help information for the production run method.\n",
      " |  \n",
      " |  set_anneal_parameters(new_anneal_parameters) from builtins.type\n",
      " |  \n",
      " |  set_friction_coeff(friction_coeff) from builtins.type\n",
      " |  \n",
      " |  set_pressure(pressure) from builtins.type\n",
      " |  \n",
      " |  set_reporter_freq(reporter_freq) from builtins.type\n",
      " |  \n",
      " |  set_temperature(temp) from builtins.type\n",
      " |      # All class methods here change a variable in the following way\n",
      " |      # AmberSimulation.set_temperature(400)\n",
      " |      # AmberSimulation.temp\n",
      " |  \n",
      " |  set_timestep(timestep) from builtins.type\n",
      " |  \n",
      " |  set_total_steps(total_steps) from builtins.type\n",
      " |  \n",
      " |  ----------------------------------------------------------------------\n",
      " |  Static methods inherited from BuildSimulation:\n",
      " |  \n",
      " |  graph_state_data(data_file)\n",
      " |      Function to generate a plot from simulation data and save it as a PNG file.\n",
      " |      \n",
      " |      USAGE:\n",
      " |          The variable used for this plot is the second element of the tuple coming from the following method:\n",
      " |              **anneal**\n",
      " |              **equilibrate**\n",
      " |              **production_run**\n",
      " |              \n",
      " |          sim.graph_state_data(returned_simulation_variable)\n",
      " |          \n",
      " |          An example of this returned_simulation_varaible is:\n",
      " |              sim.anneal(minimized_sim)[0]\n",
      " |      \n",
      " |      Args:\n",
      " |          data_file (str): The path to the CSV file containing simulation data.\n",
      " |          \n",
      " |      Notes:\n",
      " |          This method reads simulation data from a CSV file, creates plots for each column of data\n",
      " |          against time, and saves the resulting plot as a PNG file. The CSV file is expected to have\n",
      " |          a \"Time (ps)\" column and numerical data columns representing different states of the\n",
      " |          simulation over time.\n",
      " |      \n",
      " |          The generated plot will contain multiple subplots, each showing a different state variable\n",
      " |          plotted against time. The number of rows and columns of subplots is determined automatically\n",
      " |          based on the number of data columns, with a maximum of 2 columns per row. If there are more\n",
      " |          data columns than can fit in the specified layout, some subplots may be omitted.\n",
      " |      \n",
      " |          The PNG file containing the plot will be saved in the same directory as the data file with\n",
      " |          the same name, but with the extension changed to \".png\".\n",
      " |  \n",
      " |  ----------------------------------------------------------------------\n",
      " |  Data descriptors inherited from BuildSimulation:\n",
      " |  \n",
      " |  __dict__\n",
      " |      dictionary for instance variables (if defined)\n",
      " |  \n",
      " |  __weakref__\n",
      " |      list of weak references to the object (if defined)\n",
      " |  \n",
      " |  ----------------------------------------------------------------------\n",
      " |  Data and other attributes inherited from BuildSimulation:\n",
      " |  \n",
      " |  anneal_parameters = [300, 700, 5, 3000, 100]\n",
      " |  \n",
      " |  friction_coeff = 1.0\n",
      " |  \n",
      " |  pressure = 1\n",
      " |  \n",
      " |  reporter_freq = 1000\n",
      " |  \n",
      " |  temp = 300\n",
      " |  \n",
      " |  timestep = 2.0\n",
      " |  \n",
      " |  total_steps = 1000\n",
      "\n",
      "None\n"
     ]
    }
   ],
   "source": [
    "print(help(ANISimulation))"
   ]
  },
  {
   "cell_type": "markdown",
   "id": "84550bbd",
   "metadata": {},
   "source": [
    "### Initialize simulation object\n",
    "\n",
    "Here we call \"AmberSimulation\" and pass the topology and coordinate file. <br>\n",
    "\n",
    "The simulation loads with some default parameters that we can change as we like (more on this further down)."
   ]
  },
  {
   "cell_type": "code",
   "execution_count": 7,
   "id": "22a39cce",
   "metadata": {},
   "outputs": [],
   "source": [
    "sim = AmberSimulation(topology_file, coordinate_file)"
   ]
  },
  {
   "cell_type": "markdown",
   "id": "c3da001b",
   "metadata": {},
   "source": [
    "There are some useful methods to check the type of simulation and the parameters. <br>\n",
    "\n",
    "repr(sim) - this will return the current simulation parameters given. <br>\n",
    "str(sim) - this will return the type of object our simulation is.\n",
    "\n"
   ]
  },
  {
   "cell_type": "code",
   "execution_count": 8,
   "id": "30791d28",
   "metadata": {},
   "outputs": [
    {
     "name": "stdout",
     "output_type": "stream",
     "text": [
      "Simulation parameters: ('1', '300', '2.0, 1.0, 1000, 1000')\n"
     ]
    },
    {
     "data": {
      "text/plain": [
       "\"Simulation parameters given in the following format: ('pressure', 'temperature', 'timestep, friction coefficient, total steps, reporter freqeuncy')\""
      ]
     },
     "execution_count": 8,
     "metadata": {},
     "output_type": "execute_result"
    }
   ],
   "source": [
    "repr(sim)"
   ]
  },
  {
   "cell_type": "code",
   "execution_count": 9,
   "id": "e08cfc4e",
   "metadata": {},
   "outputs": [
    {
     "data": {
      "text/plain": [
       "'Amber simulation object of - 3HB'"
      ]
     },
     "execution_count": 9,
     "metadata": {},
     "output_type": "execute_result"
    }
   ],
   "source": [
    "str(sim)"
   ]
  },
  {
   "cell_type": "markdown",
   "id": "82549371",
   "metadata": {},
   "source": [
    " ## Setting parameters\n",
    " \n",
    " The list of parameters we can change is: <br>\n",
    "> temperature <br>\n",
    "> pressure <br>\n",
    "> timestep <br>\n",
    "> friction coeffiecient (you should not need to change this) <br>\n",
    "> total steps <br>\n",
    "> reporter freqeuncy <br>\n",
    "> annealing parameters <br>\n",
    "     \n",
    "##### What is the friction coefficient? \n",
    "This is a parameter that indicates the strength of the coupling between the heat bath and the system being simulated. This paramerter determines how quickly a particles velocity relaxes toward equilibrium. Don't alter this value unless you have a good reason to!"
   ]
  },
  {
   "cell_type": "markdown",
   "id": "79e8a85e",
   "metadata": {},
   "source": [
    "We can check our parameters by running: **simulation_object.parameter**"
   ]
  },
  {
   "cell_type": "code",
   "execution_count": 10,
   "id": "87711a5d",
   "metadata": {},
   "outputs": [
    {
     "data": {
      "text/plain": [
       "(300, 1, 2.0, 1.0, 1000, 1000)"
      ]
     },
     "execution_count": 10,
     "metadata": {},
     "output_type": "execute_result"
    }
   ],
   "source": [
    "sim.temp, sim.pressure, sim.timestep, sim.friction_coeff, sim.total_steps, sim.reporter_freq"
   ]
  },
  {
   "cell_type": "markdown",
   "id": "8f29486b",
   "metadata": {},
   "source": [
    "We can also look at our annealing parameters"
   ]
  },
  {
   "cell_type": "code",
   "execution_count": 11,
   "id": "db86a35d",
   "metadata": {},
   "outputs": [
    {
     "data": {
      "text/plain": [
       "[300, 700, 5, 3000, 100]"
      ]
     },
     "execution_count": 11,
     "metadata": {},
     "output_type": "execute_result"
    }
   ],
   "source": [
    "sim.anneal_parameters"
   ]
  },
  {
   "cell_type": "markdown",
   "id": "81fb7287",
   "metadata": {},
   "source": [
    "Now lets set some new parameters by running: **simulation_object.set_parameter(new_parameter)**"
   ]
  },
  {
   "cell_type": "code",
   "execution_count": 12,
   "id": "c7359325",
   "metadata": {},
   "outputs": [
    {
     "name": "stdout",
     "output_type": "stream",
     "text": [
      "Temperature set to:  400 kelvin\n"
     ]
    }
   ],
   "source": [
    "sim.set_temperature(400)"
   ]
  },
  {
   "cell_type": "code",
   "execution_count": 13,
   "id": "1ad381cb",
   "metadata": {},
   "outputs": [
    {
     "name": "stdout",
     "output_type": "stream",
     "text": [
      "Pressure set to:  2  atmospheres\n"
     ]
    }
   ],
   "source": [
    "sim.set_pressure(2)"
   ]
  },
  {
   "cell_type": "code",
   "execution_count": 14,
   "id": "936edd6d",
   "metadata": {},
   "outputs": [
    {
     "name": "stdout",
     "output_type": "stream",
     "text": [
      "Friction coeffiecent set to:  1.0\n"
     ]
    }
   ],
   "source": [
    "sim.set_friction_coeff(1.0)"
   ]
  },
  {
   "cell_type": "code",
   "execution_count": 15,
   "id": "fa77dc37",
   "metadata": {},
   "outputs": [
    {
     "name": "stdout",
     "output_type": "stream",
     "text": [
      "Total steps for simulation set to:  20000\n"
     ]
    }
   ],
   "source": [
    "sim.set_total_steps(20000)"
   ]
  },
  {
   "cell_type": "code",
   "execution_count": 16,
   "id": "dfae28ad",
   "metadata": {},
   "outputs": [
    {
     "name": "stdout",
     "output_type": "stream",
     "text": [
      "Reporter frequency set to every:  100  steps\n"
     ]
    }
   ],
   "source": [
    "sim.set_reporter_freq(100)"
   ]
  },
  {
   "cell_type": "markdown",
   "id": "bc38465f",
   "metadata": {},
   "source": [
    "Setting the parameters of annealing is the only method of setting parameters that is different. Here, we require a list of parameters - for example I will pass a single number to it."
   ]
  },
  {
   "cell_type": "code",
   "execution_count": 17,
   "id": "29ebb67f",
   "metadata": {},
   "outputs": [],
   "source": [
    "#sim.set_anneal_parameters([2])"
   ]
  },
  {
   "cell_type": "markdown",
   "id": "486306bc",
   "metadata": {},
   "source": [
    "We see an error that expected our parameters in a different format; **[start_temp, max_temp, cycles, holding_steps, steps_at_temp]** <br>\n",
    "\n",
    "**These parameters are:** <br>\n",
    "> *start_temp*: the starting temperature of each annealing cycles <br>\n",
    "> *max_temp*: the target temperature of each annealing cycle <br>\n",
    "> *cycles*: the number of annealing cycles <br>\n",
    "> *holding_steps*: the number of steps spent at the start_temp and max_temp during cylces <br>\n",
    "> *steps_at_temp*: the number of steps spent at each individual temperature during heating/cooling <br> \n",
    "    \n",
    "\n",
    "It is a good idea to set the start temp to the same temperature as the simulation.\n",
    "\n",
    "##### Why do we have holding steps?\n",
    "\n",
    "These aren't explicitly necessary, but ensure the simulation spends more than a few steps at the target temperature."
   ]
  },
  {
   "cell_type": "code",
   "execution_count": 18,
   "id": "12207691",
   "metadata": {},
   "outputs": [
    {
     "name": "stdout",
     "output_type": "stream",
     "text": [
      "Anneal parameters set.\n",
      "Starting temperature is:  400\n",
      "Target temperature is:  700\n",
      "Number of annealing cycles is:  5\n",
      "Steps at target/start temperature is:  1000\n",
      "Steps at each incremental temperature is:  100\n"
     ]
    }
   ],
   "source": [
    "sim.set_anneal_parameters([sim.temp, 700, 5, 1000, 100])"
   ]
  },
  {
   "cell_type": "markdown",
   "id": "9e9218e8",
   "metadata": {},
   "source": [
    "Now we can check our new parameters by running: **repr(sim)**"
   ]
  },
  {
   "cell_type": "code",
   "execution_count": 19,
   "id": "a45d2f63",
   "metadata": {},
   "outputs": [
    {
     "name": "stdout",
     "output_type": "stream",
     "text": [
      "Simulation parameters: ('1', '400', '2.0, 1.0, 20000, 100')\n"
     ]
    },
    {
     "data": {
      "text/plain": [
       "\"Simulation parameters given in the following format: ('pressure', 'temperature', 'timestep, friction coefficient, total steps, reporter freqeuncy')\""
      ]
     },
     "execution_count": 19,
     "metadata": {},
     "output_type": "execute_result"
    }
   ],
   "source": [
    "repr(sim)"
   ]
  },
  {
   "cell_type": "markdown",
   "id": "f4664bf7",
   "metadata": {},
   "source": [
    "## Running simulations\n",
    "\n",
    "### Minize energy\n",
    "\n",
    "Minimizing the energy of a system and finds the local minimum energy of the system and ensures a good starting structure. <br>\n",
    "\n",
    "This step is run with: **simulation_object.minimize_energy()**\n",
    "\n",
    "### Annealing\n",
    "\n",
    "Annealing ramps the temperature of the system to a given target temperature in a given number of cycles. This allows for components within the system to be mixed well and start from non-biased positions. This is an NVT ensemble. <br>\n",
    "\n",
    "This step is run with: **simulation.anneal()** <br>\n",
    "\n",
    "This uses the annealing parameters that were set with **sim.set_anneal_parameters(start_temp, max_temp, cycles, holding_steps, steps_at_temp)** <br>\n",
    "\n",
    "***Important:*** You can override the parameters set into the simulation object by specifying then individually when you are annealing the system. Howver, it is recommended to set the parameters and then anneal system in seperate steps.* <br>\n",
    "\n",
    "**simulation.anneal(start_temp, max_temp, cycles, holding_steps, steps_at_temp)** <br>\n",
    "\n",
    "*Note: sometimes you will not want to anneal a system - in cases where you want to investigate your starting structure and not a randomly distributed system*\n",
    "\n",
    "### Equilibration\n",
    "\n",
    "Equilibration applies pressure to a system and allows it to *equilibrate* to the correct density for that given pressure. This ensures our system starts from the correct density and the volume of our system is correct. This is an NPT ensemble .<br>\n",
    "\n",
    "*Note: it is key to check the density of your simulation after equilibration against any experimental data where possible*\n",
    "\n",
    "### Production run\n",
    "\n",
    "The production is the **meat** of the simulation. At this stage we have a minimized, equilibrated (and in some cases) and annealed system. Now we run a longer NVT simulation to see how our system evolves over a given period of time. These are the results we will analyse.\n",
    "\n",
    "#### Recommended recipes\n",
    "\n",
    "For a molecular dynamic simulation, you will want to create a *recipe*. This is series of steps you are taking to reach and run the production run.\n",
    "\n",
    "1. Minimization --> Annealing -- > Equilibration --> Production run <br>\n",
    "**For use with complex mixtures of molecules**<br>\n",
    "2. Minimization --> Equilibration --> Produciton run <br>\n",
    "**For use with systems where the initial structure is to be investigated**"
   ]
  },
  {
   "cell_type": "markdown",
   "id": "5f2b0b8d",
   "metadata": {},
   "source": [
    "### Help\n",
    "\n",
    "If you are unsure about the use of a function, helper functions can let us see how to use the function."
   ]
  },
  {
   "cell_type": "code",
   "execution_count": 20,
   "id": "8fbc2332",
   "metadata": {},
   "outputs": [
    {
     "name": "stdout",
     "output_type": "stream",
     "text": [
      "\n",
      "        Function to perform energy minimization of the system using Langevin dynamics.\n",
      "        \n",
      "        USAGE:\n",
      "            minimized_sim = simulation_object.minimize_energy()\n",
      "\n",
      "        Returns:\n",
      "            minimized_simulation_object\n",
      "        \n"
     ]
    }
   ],
   "source": [
    "sim.minimize_energy_help()"
   ]
  },
  {
   "cell_type": "code",
   "execution_count": 21,
   "id": "cab9534b",
   "metadata": {},
   "outputs": [
    {
     "name": "stdout",
     "output_type": "stream",
     "text": [
      "\n",
      "        Function to perform simulated annealing on the provided simulation system.\n",
      "        \n",
      "        USAGE: \n",
      "            annealed_sim = sim.anneal(simulation, start_temp, max_temp, cycles, holding_steps, steps_at_temp)            \n",
      "        \n",
      "        Recommended USAGE:\n",
      "            annealed_sim = sim.anneal(simulation)\n",
      "            \n",
      "            where annealing parameters are set with the following function:\n",
      "                \n",
      "            simulation_object.set_anneal_parameters([start_temp, max_temp, cycles, holding_steps, steps_at_each_temp])\n",
      "        \n",
      "        Args:\n",
      "            simulation (app.Simulation): The simulation object to perform annealing on.\n",
      "            \n",
      "            start_temp (float, optional): The starting temperature for annealing in Kelvin. Defaults to None, \n",
      "                in which case the value is fetched from self.anneal_parameters[0].\n",
      "                \n",
      "            max_temp (float, optional): The maximum temperature for annealing in Kelvin. Defaults to None, \n",
      "                in which case the value is fetched from self.anneal_parameters[1].\n",
      "                \n",
      "            cycles (int, optional): The number of annealing cycles to perform. Defaults to None, \n",
      "                in which case the value is fetched from self.anneal_parameters[2].\n",
      "                \n",
      "            holding_steps (int, optional): The number of steps to hold the system at each temperature. \n",
      "                Defaults to None, in which case the value is fetched from self.anneal_parameters[3].\n",
      "                \n",
      "            steps_at_temp (int, optional): The number of steps to perform at each temperature. \n",
      "                Defaults to None, in which case the value is fetched from self.anneal_parameters[4].\n",
      "\n",
      "        Returns:\n",
      "            A tuple containing the simulation object after annealing and the filename of the data file generated.\n",
      "                in the following format:\n",
      "        \n",
      "            (simulation_object, path_to_data_file)\n",
      "                    \n",
      "        Notes:\n",
      "            This method performs simulated annealing on the provided simulation object. It initializes the system with the \n",
      "        provided initial conditions and runs annealing cycles adjusting the temperature according to the specified parameters.\n",
      "        The system's state is updated throughout the annealing process, and reporters are set up to record trajectory and \n",
      "        simulation data.\n",
      "        \n"
     ]
    }
   ],
   "source": [
    "sim.anneal_help()"
   ]
  },
  {
   "cell_type": "code",
   "execution_count": 22,
   "id": "7c1fa882",
   "metadata": {},
   "outputs": [
    {
     "name": "stdout",
     "output_type": "stream",
     "text": [
      "\n",
      "        Function to equilibrate the provided simulation to reach a specified temperature and pressure.\n",
      "        \n",
      "        USAGE: \n",
      "            equilibrated_sim = sim.anneal(simulation, total_steps, temp, pressure)            \n",
      "        \n",
      "        Recommended USAGE:\n",
      "            equilibrated_sim = sim.anneal(simulation)\n",
      "            \n",
      "            where annealing parameters are set with the following functions:\n",
      "                \n",
      "            simulation_object.set_temperature(temperature)\n",
      "            simulation_object.set_pressure(pressure)\n",
      "            simulation_object.set_total_steps(total_steps)\n",
      "            \n",
      "        Args:\n",
      "            simulation (app.Simulation): The simulation object to equilibrate.\n",
      "            \n",
      "            total_steps (int, optional): The total number of steps to run for equilibration. Defaults to None, \n",
      "                in which case the value is fetched from self.total_steps.\n",
      "                \n",
      "            temp (float, optional): The target temperature for equilibration in Kelvin. Defaults to None, \n",
      "                in which case the value is fetched from self.temp.\n",
      "                \n",
      "            pressure (float, optional): The target pressure for equilibration in atmospheres. Defaults to None, \n",
      "                in which case the value is fetched from self.pressure.\n",
      "\n",
      "        Returns:\n",
      "            A tuple containing the simulation object after equilibration and the filename of the data file generated\n",
      "                in the following format:\n",
      "                    \n",
      "            (simulation_object, path_to_data_file)\n",
      "\n",
      "        Notes:\n",
      "            This method performs equilibration on the provided simulation object to reach the specified temperature and pressure.\n",
      "            It initializes the system with the provided initial conditions and runs the simulation for the specified number \n",
      "            of steps. The system's state is updated throughout the equilibration process, and reporters are set up to record \n",
      "            trajectory and simulation data.\n",
      "        \n"
     ]
    }
   ],
   "source": [
    "sim.equilibrate_help()"
   ]
  },
  {
   "cell_type": "code",
   "execution_count": 23,
   "id": "e9aff414",
   "metadata": {},
   "outputs": [
    {
     "name": "stdout",
     "output_type": "stream",
     "text": [
      "\n",
      "        Function to perform a production run simulation with the provided parameters.\n",
      "        \n",
      "        USAGE: \n",
      "            production_run_sim = sim.anneal(simulation, total_steps, temp)            \n",
      "        \n",
      "        Recommended USAGE:\n",
      "            production_run_sim = sim.anneal(simulation)\n",
      "            \n",
      "            where annealing parameters are set with the following functions:\n",
      "                \n",
      "            simulation_object.set_temperature(temperature)\n",
      "            simulation_object.set_total_steps(total_steps)\n",
      "            \n",
      "        Args:\n",
      "            simulation (app.Simulation): The simulation object to run the production simulation on.\n",
      "            \n",
      "            total_steps (int, optional): The total number of steps to run for the production simulation. \n",
      "                Defaults to None, in which case the value is fetched from self.total_steps.\n",
      "            \n",
      "            temp (float, optional): The temperature for the production simulation in Kelvin. \n",
      "                Defaults to None, in which case the value is fetched from self.temp.\n",
      "\n",
      "        Returns:\n",
      "            A tuple containing the simulation object after the production run and the filename of the data file generated.\n",
      "                in the following format:\n",
      "                \n",
      "            (simulation_object, path_to_data_file)\n",
      "\n",
      "        Notes:\n",
      "            This method performs a production run simulation with the provided simulation object and parameters.\n",
      "            It initializes the system with the provided initial conditions and runs the simulation for the specified \n",
      "            number of steps. The system's state is updated throughout the production run, and reporters are set up to \n",
      "            record trajectory and simulation data.\n",
      "        \n"
     ]
    }
   ],
   "source": [
    "sim.production_run_help()"
   ]
  },
  {
   "cell_type": "code",
   "execution_count": 24,
   "id": "e83a8b4e",
   "metadata": {},
   "outputs": [
    {
     "name": "stdout",
     "output_type": "stream",
     "text": [
      "\n",
      "        Function to generate a plot from simulation data and save it as a PNG file.\n",
      "        \n",
      "        USAGE:\n",
      "            The variable used for this plot is the second element of the tuple coming from the following method:\n",
      "                **anneal**\n",
      "                **equilibrate**\n",
      "                **production_run**\n",
      "                \n",
      "            sim.graph_state_data(returned_simulation_variable)\n",
      "            \n",
      "            An example of this returned_simulation_varaible is:\n",
      "                sim.anneal(minimized_sim)[0]\n",
      "        \n",
      "        Args:\n",
      "            data_file (str): The path to the CSV file containing simulation data.\n",
      "            \n",
      "        Notes:\n",
      "            This method reads simulation data from a CSV file, creates plots for each column of data\n",
      "            against time, and saves the resulting plot as a PNG file. The CSV file is expected to have\n",
      "            a \"Time (ps)\" column and numerical data columns representing different states of the\n",
      "            simulation over time.\n",
      "\n",
      "            The generated plot will contain multiple subplots, each showing a different state variable\n",
      "            plotted against time. The number of rows and columns of subplots is determined automatically\n",
      "            based on the number of data columns, with a maximum of 2 columns per row. If there are more\n",
      "            data columns than can fit in the specified layout, some subplots may be omitted.\n",
      "\n",
      "            The PNG file containing the plot will be saved in the same directory as the data file with\n",
      "            the same name, but with the extension changed to \".png\".\n",
      "        \n"
     ]
    }
   ],
   "source": [
    "sim.graph_state_data_help()\n"
   ]
  },
  {
   "cell_type": "markdown",
   "id": "6cfb8db3",
   "metadata": {},
   "source": [
    "### Running simulations\n",
    "\n",
    "One thing to note - the initial object we loaded (in this case \"sim\") is our simulation and is what we will call when setting parameters and calling functions. Any new variables we define (as in the next cell) such as **minimized sim** are just varaibles and are used for inputs into our new functions - this will make sense as we carry on!"
   ]
  },
  {
   "cell_type": "code",
   "execution_count": 25,
   "id": "84da6b00",
   "metadata": {},
   "outputs": [
    {
     "ename": "NameError",
     "evalue": "name 'sdasdfjinasdpivn' is not defined",
     "output_type": "error",
     "traceback": [
      "\u001b[1;31m---------------------------------------------------------------------------\u001b[0m",
      "\u001b[1;31mNameError\u001b[0m                                 Traceback (most recent call last)",
      "Cell \u001b[1;32mIn[25], line 1\u001b[0m\n\u001b[1;32m----> 1\u001b[0m \u001b[43msdasdfjinasdpivn\u001b[49m\n",
      "\u001b[1;31mNameError\u001b[0m: name 'sdasdfjinasdpivn' is not defined"
     ]
    }
   ],
   "source": [
    "sdasdfjinasdpivn"
   ]
  },
  {
   "cell_type": "code",
   "execution_count": 26,
   "id": "8456b58e",
   "metadata": {},
   "outputs": [],
   "source": [
    "minimized_sim = sim.minimize_energy()"
   ]
  },
  {
   "cell_type": "code",
   "execution_count": 27,
   "id": "ebb128d3",
   "metadata": {},
   "outputs": [
    {
     "name": "stdout",
     "output_type": "stream",
     "text": [
      "Anneal parameters set.\n",
      "Starting temperature is:  300\n",
      "Target temperature is:  500\n",
      "Number of annealing cycles is:  3\n",
      "Steps at target/start temperature is:  1000\n",
      "Steps at each incremental temperature is:  10\n"
     ]
    }
   ],
   "source": [
    "sim.set_anneal_parameters([300, 500, 3, 1000, 10])"
   ]
  },
  {
   "cell_type": "markdown",
   "id": "c86a8ccd",
   "metadata": {},
   "source": [
    "When we carry out annealing, equilibration or a production run a tuple is returned: (simulation_object, simulation_data).<br>\n",
    "The line below unpacks the tuple into 2 variabled **annealed_sim** and **annealed_sim_data** straight from the class method."
   ]
  },
  {
   "cell_type": "code",
   "execution_count": 28,
   "id": "ae0fe314",
   "metadata": {},
   "outputs": [],
   "source": [
    "annealed_sim, annealed_sim_data = sim.anneal(minimized_sim)"
   ]
  },
  {
   "cell_type": "markdown",
   "id": "62bd10f8",
   "metadata": {},
   "source": [
    "Now we have unpacked our variable **annealed_sim_data** we can plot it using the built in state data plotter."
   ]
  },
  {
   "cell_type": "code",
   "execution_count": 29,
   "id": "2c2cc23e",
   "metadata": {
    "scrolled": false
   },
   "outputs": [
    {
     "data": {
      "image/png": "[encoded data removed]",
      "text/plain": [
       "<Figure size 1200x1200 with 6 Axes>"
      ]
     },
     "metadata": {},
     "output_type": "display_data"
    }
   ],
   "source": [
    "sim.graph_state_data(annealed_sim_data)"
   ]
  },
  {
   "cell_type": "markdown",
   "id": "509e9328",
   "metadata": {},
   "source": [
    "And we can use the **annealed_sim** variable for an input into the next stage of the simulation. <br>\n",
    "\n",
    "But first, lets set some variables - we can check them first to see what we want to change."
   ]
  },
  {
   "cell_type": "code",
   "execution_count": null,
   "id": "14eb990a",
   "metadata": {},
   "outputs": [],
   "source": [
    "repr(sim)"
   ]
  },
  {
   "cell_type": "code",
   "execution_count": null,
   "id": "31d24879",
   "metadata": {},
   "outputs": [],
   "source": [
    "sim.set_temperature(300)\n",
    "sim.set_total_steps(50000)\n",
    "sim.set_reporter_freq(100)\n",
    "sim.set_pressure(1)"
   ]
  },
  {
   "cell_type": "code",
   "execution_count": null,
   "id": "b112fb3f",
   "metadata": {},
   "outputs": [],
   "source": [
    "equilibrated_sim, equilibrated_sim_data = sim.equilibrate(annealed_sim)"
   ]
  },
  {
   "cell_type": "code",
   "execution_count": null,
   "id": "94d0549a",
   "metadata": {},
   "outputs": [],
   "source": [
    "sim.graph_state_data(equilibrated_sim_data)"
   ]
  },
  {
   "cell_type": "markdown",
   "id": "5d8777b0",
   "metadata": {},
   "source": [
    "Now we can use the **equilibrated_sim** variable to run our production run."
   ]
  },
  {
   "cell_type": "code",
   "execution_count": null,
   "id": "6e17ab19",
   "metadata": {},
   "outputs": [],
   "source": [
    "production_sim, production_sim_data = sim.production_run(equilibrated_sim)"
   ]
  },
  {
   "cell_type": "code",
   "execution_count": null,
   "id": "9176db20",
   "metadata": {},
   "outputs": [],
   "source": [
    "sim.graph_state_data(production_sim_data)"
   ]
  },
  {
   "cell_type": "code",
   "execution_count": null,
   "id": "6794fa19",
   "metadata": {},
   "outputs": [],
   "source": []
  },
  {
   "cell_type": "code",
   "execution_count": null,
   "id": "df726d80",
   "metadata": {},
   "outputs": [],
   "source": []
  },
  {
   "cell_type": "code",
   "execution_count": null,
   "id": "3ce1946d",
   "metadata": {},
   "outputs": [],
   "source": []
  }
 ],
 "metadata": {
  "kernelspec": {
   "display_name": "Python 3 (ipykernel)",
   "language": "python",
   "name": "python3"
  },
  "language_info": {
   "codemirror_mode": {
    "name": "ipython",
    "version": 3
   },
   "file_extension": ".py",
   "mimetype": "text/x-python",
   "name": "python",
   "nbconvert_exporter": "python",
   "pygments_lexer": "ipython3",
   "version": "3.9.18"
  }
 },
 "nbformat": 4,
 "nbformat_minor": 5
}
