{
 "cells": [
  {
   "cell_type": "code",
   "execution_count": 25,
   "id": "444f45aa-6f17-4471-ae07-2f34810d5136",
   "metadata": {},
   "outputs": [],
   "source": [
    "from modules.sw_build_systems import *\n",
    "from modules.sw_directories import *"
   ]
  },
  {
   "cell_type": "markdown",
   "id": "963de544-5647-4336-a43e-18a910b4f069",
   "metadata": {},
   "source": [
    "# 1. Setting up directory path object\n",
    "\n",
    "First of all we need to set up our base directories - this is recommended to do first in each script to handle filepathing easily.\n",
    "\n",
    "We use a class called 'PolymerSimulatorDirs' and assign it to a variable called 'directories' so we can call certain paths eaily.\n",
    "\n",
    "As you carry out more tutorials and work on your own scripts the reasons for this variable will become apparent.\n",
    "\n",
    "##### Note: \n",
    "\n",
    "You will not need to generate any of these folders as they will be generated automatically (but only if they do not exist in the first place). There are also some functions explained here that you may not really need to run the code - but are useful to know about."
   ]
  },
  {
   "cell_type": "code",
   "execution_count": 26,
   "id": "60bdd715-658c-4e83-9d08-e68dda3c8a3c",
   "metadata": {},
   "outputs": [],
   "source": [
    "# Set up filepath manager\n",
    "main_dir = !pwd\n",
    "main_dir = main_dir[0]\n",
    "directories = PolymerSimulatorDirs(main_dir)"
   ]
  },
  {
   "cell_type": "markdown",
   "id": "33ee9cac-cc82-4123-b7b9-9a65718791bb",
   "metadata": {},
   "source": [
    "## Now we can call the paths to certain directories with ease\n",
    "\n",
    "A mini tutorial is given below with explanations of what should be found at each path.\n",
    "\n",
    "We can use the 'directories' variable we just defined to call certain filepaths back using the commands below - this will generate filepaths unique to your own pc!"
   ]
  },
  {
   "cell_type": "code",
   "execution_count": 27,
   "id": "cf671fce-643b-4925-9523-e9b073fdb71e",
   "metadata": {},
   "outputs": [
    {
     "data": {
      "text/plain": [
       "'/home/dan/polymersimulator/pdb_files/molecules/3HB_trimer'"
      ]
     },
     "execution_count": 27,
     "metadata": {},
     "output_type": "execute_result"
    }
   ],
   "source": [
    "# A hashtag indicates a comment (i.e. code that will not be executed)\n",
    "# directories.main_dir will provide the path to the main directory\n",
    "directories.main_dir"
   ]
  },
  {
   "cell_type": "code",
   "execution_count": 28,
   "id": "851b130c-9f47-46cc-9652-462984087778",
   "metadata": {},
   "outputs": [
    {
     "data": {
      "text/plain": [
       "'/home/dan/polymersimulator/pdb_files/molecules/3HB_trimer/pdb_files'"
      ]
     },
     "execution_count": 28,
     "metadata": {},
     "output_type": "execute_result"
    }
   ],
   "source": [
    "# directories.pdb_file_dir will provide the path to where pdb files will be stored\n",
    "directories.pdb_file_dir"
   ]
  },
  {
   "cell_type": "code",
   "execution_count": 29,
   "id": "56746dab-1374-42f9-8c12-5fe0aad670c5",
   "metadata": {},
   "outputs": [
    {
     "data": {
      "text/plain": [
       "'/home/dan/polymersimulator/pdb_files/molecules/3HB_trimer/csvs_to_pdb'"
      ]
     },
     "execution_count": 29,
     "metadata": {},
     "output_type": "execute_result"
    }
   ],
   "source": [
    "# directories.csv_to_pdb_dir will provide the path to the directory containing csv files for pdb generation. You will not require this, so don't worry about this one!\n",
    "directories.csv_to_pdb_dir"
   ]
  },
  {
   "cell_type": "code",
   "execution_count": 30,
   "id": "086f197a-94e1-4f53-b0b5-aa939e85b67c",
   "metadata": {},
   "outputs": [
    {
     "data": {
      "text/plain": [
       "'/home/dan/polymersimulator/pdb_files/molecules/3HB_trimer/pdb_files/molecules'"
      ]
     },
     "execution_count": 30,
     "metadata": {},
     "output_type": "execute_result"
    }
   ],
   "source": [
    "# directories.molecules_dir will provide the path to the molecules directory\n",
    "# This is a subfolder of directories.pdb_file_dir and molecules that are parameterized will generate their own folder here with all required files\n",
    "directories.molecules_dir"
   ]
  },
  {
   "cell_type": "code",
   "execution_count": 31,
   "id": "a8cba9a8-4201-45ab-ad00-a4a9f7419cc6",
   "metadata": {},
   "outputs": [
    {
     "data": {
      "text/plain": [
       "'/home/dan/polymersimulator/pdb_files/molecules/3HB_trimer/pdb_files/systems'"
      ]
     },
     "execution_count": 31,
     "metadata": {},
     "output_type": "execute_result"
    }
   ],
   "source": [
    "# directories.systems_dir will provide the path to the systems directory\n",
    "# This is a subfolder of the directories.pdb_file_dir and systems generated for MD will be placed here\n",
    "directories.systems_dir"
   ]
  },
  {
   "cell_type": "code",
   "execution_count": 32,
   "id": "e397f5c5-1beb-4dac-90c5-ec82a4528d4f",
   "metadata": {},
   "outputs": [
    {
     "data": {
      "text/plain": [
       "'/home/dan/polymersimulator/pdb_files/molecules/3HB_trimer/pdb_files/residue_codes.csv'"
      ]
     },
     "execution_count": 32,
     "metadata": {},
     "output_type": "execute_result"
    }
   ],
   "source": [
    "# directories.residue_code_csv will provide the path to a csv file containing residue codes for each molecules\n",
    "# These residue codes will be used later on during analysis to track specific molecules during simulations\n",
    "directories.residue_code_csv"
   ]
  },
  {
   "cell_type": "markdown",
   "id": "1771ce95-a099-47ed-a950-7e7c3b9e52fe",
   "metadata": {},
   "source": [
    "# 2. Set up buildsystems object\n",
    "\n",
    "This will be used to build systems in future tutorials, but for now we will use it to generate pdb files from SMILES strings.\n",
    "\n",
    "##### Glossary:\n",
    "\n",
    "pdb file = protein data bank file, this is a file containing atomic positions and connectivity of these atoms within the molecules\n",
    "SMILES string = simplified molecular-input line-entry system, this is a string of letters representing a molecules (i.e. ethane is represented as 'CC')"
   ]
  },
  {
   "cell_type": "code",
   "execution_count": 33,
   "id": "3c7807b5-1a5c-463f-b6f2-6206b6e88908",
   "metadata": {},
   "outputs": [],
   "source": [
    "# Initiate a build systems object\n",
    "build = BuildAmberSystems()"
   ]
  },
  {
   "cell_type": "code",
   "execution_count": 34,
   "id": "69a2ebc8-71d8-4ed3-a099-b7f6a045c75d",
   "metadata": {
    "scrolled": true
   },
   "outputs": [
    {
     "data": {
      "text/plain": [
       "()"
      ]
     },
     "execution_count": 34,
     "metadata": {},
     "output_type": "execute_result"
    }
   ],
   "source": [
    "# We use the following below to generate pdb files for for the given molecule.\n",
    "# Just swap 'CC' for the desired SMILES string and swap 'ethane' for the name of that molecule\n",
    "build.SmilesToPDB_GenerateRescode('CC', 'ethane', directories)"
   ]
  },
  {
   "cell_type": "markdown",
   "id": "ab76d493-b3eb-46ca-83c4-8cd72f53c677",
   "metadata": {},
   "source": [
    "## Finding SMILES strings\n",
    "\n",
    "A useful website for finding SMILES strings is https://molview.org/ , in this site you can search for molecules and find the associated SMILES under \"Tools --> Information card\" at the top of the page."
   ]
  },
  {
   "attachments": {},
   "cell_type": "markdown",
   "id": "82f3e2e8-c5e1-4dde-ae79-15a4cce1cd88",
   "metadata": {},
   "source": [
    "The Smiles for some PHA monomers are given below:\n",
    "\n",
    "3HB_monomer: OC(C)CC(=O)O <br>\n",
    "4HB_monomer: OCCCC(=O)O \n",
    "\n",
    "We will be using these molecules to build some systems, in this case a 2x2 and a 3x3 array of these molecules solvated in water. "
   ]
  },
  {
   "cell_type": "markdown",
   "id": "6ada366e-b1fe-479c-b247-923c2607b053",
   "metadata": {},
   "source": [
    "# Parameterizing 3HB - a monomer for PHAs"
   ]
  },
  {
   "cell_type": "markdown",
   "id": "c8f993a0-edd6-41d3-b7c0-459965813b3f",
   "metadata": {},
   "source": [
    "1. We first nead to generate the PDB for 3HB. Call the \"SmilesToPDB_GenerateRescode\" function from the build instance we set up earlier. We provide the SMIlES, molecule name and our directories to the function to generate the pdb file with a unique residue code."
   ]
  },
  {
   "cell_type": "code",
   "execution_count": 35,
   "id": "007717c7-4dda-46c3-8ced-6e4625d4922e",
   "metadata": {},
   "outputs": [
    {
     "data": {
      "text/plain": [
       "()"
      ]
     },
     "execution_count": 35,
     "metadata": {},
     "output_type": "execute_result"
    }
   ],
   "source": [
    "# Generate a pdb from specified SMILES string and molecule name\n",
    "build.SmilesToPDB_GenerateRescode('CCCC', 'butane', directories)"
   ]
  },
  {
   "cell_type": "markdown",
   "id": "81425bec-0eab-4b37-bd32-4e7b6325898a",
   "metadata": {},
   "source": [
    "Calling the \"pdb_files_avail(directories)\" command from our directory manager will show us what pdb files are available. This will be the 3HB_monomer and the enthane file from earlier."
   ]
  },
  {
   "cell_type": "code",
   "execution_count": 36,
   "id": "6b1f786d-5717-4517-ab81-b9dacc5b7cca",
   "metadata": {},
   "outputs": [
    {
     "ename": "TypeError",
     "evalue": "PolymerSimulatorDirs.pdb_files_avail() takes 1 positional argument but 2 were given",
     "output_type": "error",
     "traceback": [
      "\u001b[0;31m---------------------------------------------------------------------------\u001b[0m",
      "\u001b[0;31mTypeError\u001b[0m                                 Traceback (most recent call last)",
      "Cell \u001b[0;32mIn[36], line 2\u001b[0m\n\u001b[1;32m      1\u001b[0m \u001b[38;5;66;03m# Display available pdb files\u001b[39;00m\n\u001b[0;32m----> 2\u001b[0m \u001b[43mdirectories\u001b[49m\u001b[38;5;241;43m.\u001b[39;49m\u001b[43mpdb_files_avail\u001b[49m\u001b[43m(\u001b[49m\u001b[43mdirectories\u001b[49m\u001b[43m)\u001b[49m\n",
      "\u001b[0;31mTypeError\u001b[0m: PolymerSimulatorDirs.pdb_files_avail() takes 1 positional argument but 2 were given"
     ]
    }
   ],
   "source": [
    "# Display available pdb files\n",
    "directories.pdb_files_avail()"
   ]
  },
  {
   "cell_type": "markdown",
   "id": "6d3d9516-0741-47fa-84a6-c159d463e586",
   "metadata": {},
   "source": [
    "There is also a command to return the filepaths of these pdb_files, this could be useful if you need the pdb_file path for anything else:"
   ]
  },
  {
   "cell_type": "code",
   "execution_count": 13,
   "id": "4d0c2e13-cc65-4265-b1d8-2293a9f16f9d",
   "metadata": {},
   "outputs": [
    {
     "ename": "TypeError",
     "evalue": "PolymerSimulatorDirs.load_pdb_filepath() takes 2 positional arguments but 3 were given",
     "output_type": "error",
     "traceback": [
      "\u001b[0;31m---------------------------------------------------------------------------\u001b[0m",
      "\u001b[0;31mTypeError\u001b[0m                                 Traceback (most recent call last)",
      "Cell \u001b[0;32mIn[13], line 2\u001b[0m\n\u001b[1;32m      1\u001b[0m \u001b[38;5;66;03m# Return a pdb filepath \u001b[39;00m\n\u001b[0;32m----> 2\u001b[0m \u001b[43mdirectories\u001b[49m\u001b[38;5;241;43m.\u001b[39;49m\u001b[43mload_pdb_filepath\u001b[49m\u001b[43m(\u001b[49m\u001b[43mdirectories\u001b[49m\u001b[43m,\u001b[49m\u001b[43m \u001b[49m\u001b[38;5;124;43m\"\u001b[39;49m\u001b[38;5;124;43methane\u001b[39;49m\u001b[38;5;124;43m\"\u001b[39;49m\u001b[43m)\u001b[49m\n",
      "\u001b[0;31mTypeError\u001b[0m: PolymerSimulatorDirs.load_pdb_filepath() takes 2 positional arguments but 3 were given"
     ]
    }
   ],
   "source": [
    "# Return a pdb filepath \n",
    "directories.load_pdb_filepath(directories, \"ethane\")"
   ]
  },
  {
   "cell_type": "markdown",
   "id": "881dde87-1a47-4841-86b3-a8875e1361cd",
   "metadata": {},
   "source": [
    "It may also be useful to check what parametrized are available with the command below:"
   ]
  },
  {
   "cell_type": "code",
   "execution_count": 14,
   "id": "181c1dc0-14ee-43cf-8699-afaf88d4b675",
   "metadata": {},
   "outputs": [
    {
     "name": "stdout",
     "output_type": "stream",
     "text": [
      "3HB_monomer.mol2\n",
      "butane.mol2\n",
      "3HB_trimer.mol2\n"
     ]
    }
   ],
   "source": [
    "# Checks what molecules are parameterized\n",
    "directories.parametrized_mols_avail(directories)"
   ]
  },
  {
   "cell_type": "markdown",
   "id": "61766378-2fec-4619-b0e8-1133a202b8d8",
   "metadata": {},
   "source": [
    "There are none avaialbe so lets parameterize some!"
   ]
  },
  {
   "cell_type": "code",
   "execution_count": 15,
   "id": "32349d86-790b-4e30-a103-aca303896b42",
   "metadata": {},
   "outputs": [],
   "source": [
    "# Parameaterize a mole - pdb file must be available\n",
    "build.parametrize_mol(directories, \"butane\")"
   ]
  },
  {
   "cell_type": "markdown",
   "id": "85eadfc4-fb09-4dce-ba3e-2197688bbedf",
   "metadata": {},
   "source": [
    "We check if it is available"
   ]
  },
  {
   "cell_type": "code",
   "execution_count": 16,
   "id": "e068956c-489b-4a43-b5c2-54f95986cfbf",
   "metadata": {},
   "outputs": [
    {
     "name": "stdout",
     "output_type": "stream",
     "text": [
      "3HB_monomer.mol2\n",
      "butane.mol2\n",
      "3HB_trimer.mol2\n"
     ]
    }
   ],
   "source": [
    "# Checks what molecules are parameterized\n",
    "directories.parametrized_mols_avail(directories)"
   ]
  },
  {
   "cell_type": "markdown",
   "id": "cdfb09c0-b7f5-481f-9313-1533a1a4225f",
   "metadata": {},
   "source": [
    "We could also parameterize ethane right now - but don't do that yet!"
   ]
  },
  {
   "cell_type": "markdown",
   "id": "e4858ba8-6f30-4c11-a376-3869476b047d",
   "metadata": {},
   "source": [
    "# Building systems for 3HB\n",
    "\n",
    "Now we can build some arrays of these systems."
   ]
  },
  {
   "cell_type": "code",
   "execution_count": 17,
   "id": "a920a1f7-ba38-4a0e-b343-eab9cd7618c2",
   "metadata": {},
   "outputs": [],
   "source": [
    "# This will build a 2x2_array of the desired molecule in water\n",
    "build.gen_2_2_array(directories, \"3HB_monomer\")"
   ]
  },
  {
   "cell_type": "markdown",
   "id": "c3b5102a-b229-4499-ab2c-34845f6b1706",
   "metadata": {},
   "source": [
    "We can check to see what sytems are available for simulation now."
   ]
  },
  {
   "cell_type": "code",
   "execution_count": 18,
   "id": "8c879aa2-de0f-4c2c-badf-0493d8b2bd6e",
   "metadata": {},
   "outputs": [
    {
     "ename": "TypeError",
     "evalue": "PolymerSimulatorDirs.systems_avail() takes 1 positional argument but 2 were given",
     "output_type": "error",
     "traceback": [
      "\u001b[0;31m---------------------------------------------------------------------------\u001b[0m",
      "\u001b[0;31mTypeError\u001b[0m                                 Traceback (most recent call last)",
      "Cell \u001b[0;32mIn[18], line 2\u001b[0m\n\u001b[1;32m      1\u001b[0m \u001b[38;5;66;03m# See what MD 'systems' are available\u001b[39;00m\n\u001b[0;32m----> 2\u001b[0m \u001b[43mdirectories\u001b[49m\u001b[38;5;241;43m.\u001b[39;49m\u001b[43msystems_avail\u001b[49m\u001b[43m(\u001b[49m\u001b[43mdirectories\u001b[49m\u001b[43m)\u001b[49m\n",
      "\u001b[0;31mTypeError\u001b[0m: PolymerSimulatorDirs.systems_avail() takes 1 positional argument but 2 were given"
     ]
    }
   ],
   "source": [
    "# See what MD 'systems' are available\n",
    "directories.systems_avail(directories)"
   ]
  },
  {
   "cell_type": "markdown",
   "id": "ef7dc092-116d-4330-80cd-aa465ccbaa34",
   "metadata": {},
   "source": [
    "No lets try and build the 2x2 array of ethane."
   ]
  },
  {
   "cell_type": "code",
   "execution_count": 19,
   "id": "9cc0af58-179f-4b72-abc7-e016e6d84c0f",
   "metadata": {},
   "outputs": [
    {
     "name": "stdout",
     "output_type": "stream",
     "text": [
      "Molecule not parametrized. Please parametrize pdb_file.\n"
     ]
    },
    {
     "data": {
      "text/plain": [
       "()"
      ]
     },
     "execution_count": 19,
     "metadata": {},
     "output_type": "execute_result"
    }
   ],
   "source": [
    "# Build a 2x2 array of solvated ethane molecules\n",
    "build.gen_2_2_array(directories, \"ethane\")"
   ]
  },
  {
   "cell_type": "markdown",
   "id": "f972a6db-9cd6-4759-963e-92588a0f15df",
   "metadata": {},
   "source": [
    "We will not be able to build an array if our molecule is not parametrized - parameterize ethane below the same way we did for 3HB and the check the required files exist."
   ]
  },
  {
   "cell_type": "code",
   "execution_count": 20,
   "id": "a70c4bc7-4898-4525-a420-fffe11aaa056",
   "metadata": {},
   "outputs": [],
   "source": [
    "# Code here for parameteizing ethane."
   ]
  },
  {
   "cell_type": "code",
   "execution_count": 21,
   "id": "3d9d1e68-2d71-4171-845b-a91e188953f3",
   "metadata": {},
   "outputs": [],
   "source": [
    "# Code here for parameteizing ethane."
   ]
  },
  {
   "cell_type": "code",
   "execution_count": 22,
   "id": "306ad0de-efcd-4609-a416-f22a6898ea7c",
   "metadata": {},
   "outputs": [],
   "source": [
    "# Code here for parameteizing ethane."
   ]
  },
  {
   "cell_type": "markdown",
   "id": "39366cb2-c4f4-4778-95c4-6863ecc59ac4",
   "metadata": {},
   "source": [
    "We can also generate a 3x3 array of a desired molecule in water. "
   ]
  },
  {
   "cell_type": "code",
   "execution_count": 24,
   "id": "d44da8e3-ceb8-42b4-858e-490e9eac8708",
   "metadata": {},
   "outputs": [
    {
     "name": "stdout",
     "output_type": "stream",
     "text": [
      "cd /home/dan/polymersimulator/pdb_files/molecules/3HB_trimer\n",
      "Current directory: /home/dan/polymersimulator/pdb_files/molecules/3HB_trimer\n",
      "Current working directory: /home/dan/polymersimulator/pdb_files/molecules/3HB_trimer\n",
      "monomer max dist is:  4.815444008603984\n",
      "polymer max dist is:  52.96988409464382\n",
      "3HB_3_3_array8polymer.intleap\n",
      "Output: -I: Adding /home/dan/miniconda3/envs/AmberTools23/dat/leap/prep to search path.\n",
      "-I: Adding /home/dan/miniconda3/envs/AmberTools23/dat/leap/lib to search path.\n",
      "-I: Adding /home/dan/miniconda3/envs/AmberTools23/dat/leap/parm to search path.\n",
      "-I: Adding /home/dan/miniconda3/envs/AmberTools23/dat/leap/cmd to search path.\n",
      "-f: Source 3HB_3_3_array8polymer.intleap.\n",
      "\n",
      "Welcome to LEaP!\n",
      "(no leaprc in search path)\n",
      "Sourcing: ./3HB_3_3_array8polymer.intleap\n",
      "----- Source: /home/dan/miniconda3/envs/AmberTools23/dat/leap/cmd/leaprc.gaff\n",
      "----- Source of /home/dan/miniconda3/envs/AmberTools23/dat/leap/cmd/leaprc.gaff done\n",
      "Log file: ./leap.log\n",
      "Loading parameters: /home/dan/miniconda3/envs/AmberTools23/dat/leap/parm/gaff.dat\n",
      "Reading title:\n",
      "AMBER General Force Field for organic molecules (Version 1.81, May 2017)\n",
      "----- Source: /home/dan/miniconda3/envs/AmberTools23/dat/leap/cmd/leaprc.water.fb3\n",
      "----- Source of /home/dan/miniconda3/envs/AmberTools23/dat/leap/cmd/leaprc.water.fb3 done\n",
      "Loading library: /home/dan/miniconda3/envs/AmberTools23/dat/leap/lib/atomic_ions.lib\n",
      "Loading library: /home/dan/miniconda3/envs/AmberTools23/dat/leap/lib/solvents.lib\n",
      "Loading parameters: /home/dan/miniconda3/envs/AmberTools23/dat/leap/parm/frcmod.tip3pfb\n",
      "Reading force field modification type file (frcmod)\n",
      "Reading title:\n",
      "TIP3P-FB Water Model (Wang, Martinez, Pande, J. Phys. Chem. Lett., 5:1885, 2014)\n",
      "Loading parameters: /home/dan/miniconda3/envs/AmberTools23/dat/leap/parm/frcmod.ionslm_126_fb3\n",
      "Reading force field modification type file (frcmod)\n",
      "Reading title:\n",
      "Li/Merz ion parameters of atomic ions for the TIP3P-FB water model (12-6 set)\n",
      "Loading Prep file: ./head_3HB_trimer.prepi\n",
      "Loading Prep file: ./mainchain_3HB_trimer.prepi\n",
      "Loading Prep file: ./tail_3HB_trimer.prepi\n",
      "Checking Unit.\n",
      "Building topology.\n",
      "Building atom parameters.\n",
      "Building bond parameters.\n",
      "Building angle parameters.\n",
      "Building proper torsion parameters.\n",
      "Building improper torsion parameters.\n",
      "old PREP-specified impropers:\n",
      " <tAAD 9>:  C28  O29  C27  O5  \n",
      " <mAAD 8>:  C2   O9   C8   O16 \n",
      " <mAAD 7>:  C2   O9   C8   O16 \n",
      " <mAAD 6>:  C2   O9   C8   O16 \n",
      " <mAAD 5>:  C2   O9   C8   O16 \n",
      " <mAAD 4>:  C2   O9   C8   O16 \n",
      " <mAAD 3>:  C2   O9   C8   O16 \n",
      " <mAAD 2>:  C2   O9   C8   O16 \n",
      " <hAAD 1>:  C18  O12  C13  O14 \n",
      " <hAAD 10>:  C18  O12  C13  O14 \n",
      " <mAAD 11>:  C2   O9   C8   O16 \n",
      " <mAAD 12>:  C2   O9   C8   O16 \n",
      " <mAAD 13>:  C2   O9   C8   O16 \n",
      " <mAAD 14>:  C2   O9   C8   O16 \n",
      " <mAAD 15>:  C2   O9   C8   O16 \n",
      " <mAAD 16>:  C2   O9   C8   O16 \n",
      " <mAAD 17>:  C2   O9   C8   O16 \n",
      " <tAAD 18>:  C28  O29  C27  O5  \n",
      " <hAAD 19>:  C18  O12  C13  O14 \n",
      " <mAAD 20>:  C2   O9   C8   O16 \n",
      " <mAAD 21>:  C2   O9   C8   O16 \n",
      " <mAAD 22>:  C2   O9   C8   O16 \n",
      " <mAAD 23>:  C2   O9   C8   O16 \n",
      " <mAAD 24>:  C2   O9   C8   O16 \n",
      " <mAAD 25>:  C2   O9   C8   O16 \n",
      " <mAAD 26>:  C2   O9   C8   O16 \n",
      " <tAAD 27>:  C28  O29  C27  O5  \n",
      " <hAAD 28>:  C18  O12  C13  O14 \n",
      " <mAAD 29>:  C2   O9   C8   O16 \n",
      " <mAAD 30>:  C2   O9   C8   O16 \n",
      " <mAAD 31>:  C2   O9   C8   O16 \n",
      " <mAAD 32>:  C2   O9   C8   O16 \n",
      " <mAAD 33>:  C2   O9   C8   O16 \n",
      " <mAAD 34>:  C2   O9   C8   O16 \n",
      " <mAAD 35>:  C2   O9   C8   O16 \n",
      " <tAAD 36>:  C28  O29  C27  O5  \n",
      " <hAAD 37>:  C18  O12  C13  O14 \n",
      " <mAAD 38>:  C2   O9   C8   O16 \n",
      " <mAAD 39>:  C2   O9   C8   O16 \n",
      " <mAAD 40>:  C2   O9   C8   O16 \n",
      " <mAAD 41>:  C2   O9   C8   O16 \n",
      " <mAAD 42>:  C2   O9   C8   O16 \n",
      " <mAAD 43>:  C2   O9   C8   O16 \n",
      " <mAAD 44>:  C2   O9   C8   O16 \n",
      " <tAAD 45>:  C28  O29  C27  O5  \n",
      " <hAAD 46>:  C18  O12  C13  O14 \n",
      " <mAAD 47>:  C2   O9   C8   O16 \n",
      " <mAAD 48>:  C2   O9   C8   O16 \n",
      " <mAAD 49>:  C2   O9   C8   O16 \n",
      " <mAAD 50>:  C2   O9   C8   O16 \n",
      " <mAAD 51>:  C2   O9   C8   O16 \n",
      " <mAAD 52>:  C2   O9   C8   O16 \n",
      " <mAAD 53>:  C2   O9   C8   O16 \n",
      " <tAAD 54>:  C28  O29  C27  O5  \n",
      " <hAAD 55>:  C18  O12  C13  O14 \n",
      " <mAAD 56>:  C2   O9   C8   O16 \n",
      " <mAAD 57>:  C2   O9   C8   O16 \n",
      " <mAAD 58>:  C2   O9   C8   O16 \n",
      " <mAAD 59>:  C2   O9   C8   O16 \n",
      " <mAAD 60>:  C2   O9   C8   O16 \n",
      " <mAAD 61>:  C2   O9   C8   O16 \n",
      " <mAAD 62>:  C2   O9   C8   O16 \n",
      " <tAAD 63>:  C28  O29  C27  O5  \n",
      " <hAAD 64>:  C18  O12  C13  O14 \n",
      " <mAAD 65>:  C2   O9   C8   O16 \n",
      " <mAAD 66>:  C2   O9   C8   O16 \n",
      " <mAAD 67>:  C2   O9   C8   O16 \n",
      " <mAAD 68>:  C2   O9   C8   O16 \n",
      " <mAAD 69>:  C2   O9   C8   O16 \n",
      " <mAAD 70>:  C2   O9   C8   O16 \n",
      " <mAAD 71>:  C2   O9   C8   O16 \n",
      " <tAAD 72>:  C28  O29  C27  O5  \n",
      " <hAAD 73>:  C18  O12  C13  O14 \n",
      " <mAAD 74>:  C2   O9   C8   O16 \n",
      " <mAAD 75>:  C2   O9   C8   O16 \n",
      " <mAAD 76>:  C2   O9   C8   O16 \n",
      " <mAAD 77>:  C2   O9   C8   O16 \n",
      " <mAAD 78>:  C2   O9   C8   O16 \n",
      " <mAAD 79>:  C2   O9   C8   O16 \n",
      " <mAAD 80>:  C2   O9   C8   O16 \n",
      " <tAAD 81>:  C28  O29  C27  O5  \n",
      " total 99 improper torsions applied\n",
      " 81 improper torsions in old prep form\n",
      "Building H-Bond parameters.\n",
      "Incorporating Non-Bonded adjustments.\n",
      "Not Marking per-residue atom chain types.\n",
      "Marking per-residue atom chain types.\n",
      " (no restraints)\n",
      "Writing pdb file: /home/dan/polymersimulator/pdb_files/systems/3HB_3_3_array8polymer/unsolved_3HB_3_3_array8polymer.pdb\n",
      "\n",
      "/home/dan/miniconda3/envs/AmberTools23/bin/teLeap: Warning!\n",
      " Truncating residue name for PDB format: hAAD -> hAA\n",
      "\n",
      "/home/dan/miniconda3/envs/AmberTools23/bin/teLeap: Warning!\n",
      " Truncating residue name for PDB format: mAAD -> mAA\n",
      "\n",
      "/home/dan/miniconda3/envs/AmberTools23/bin/teLeap: Warning!\n",
      " Truncating residue name for PDB format: mAAD -> mAA\n",
      "\n",
      "/home/dan/miniconda3/envs/AmberTools23/bin/teLeap: Warning!\n",
      " Truncating residue name for PDB format: mAAD -> mAA\n",
      "\n",
      "/home/dan/miniconda3/envs/AmberTools23/bin/teLeap: Warning!\n",
      " Truncating residue name for PDB format: mAAD -> mAA\n",
      "\n",
      "/home/dan/miniconda3/envs/AmberTools23/bin/teLeap: Warning!\n",
      " Truncating residue name for PDB format: mAAD -> mAA\n",
      "\n",
      "/home/dan/miniconda3/envs/AmberTools23/bin/teLeap: Warning!\n",
      " Truncating residue name for PDB format: mAAD -> mAA\n",
      "\n",
      "/home/dan/miniconda3/envs/AmberTools23/bin/teLeap: Warning!\n",
      " Truncating residue name for PDB format: mAAD -> mAA\n",
      "\n",
      "/home/dan/miniconda3/envs/AmberTools23/bin/teLeap: Warning!\n",
      " Truncating residue name for PDB format: tAAD -> tAA\n",
      "\n",
      "/home/dan/miniconda3/envs/AmberTools23/bin/teLeap: Warning!\n",
      " Truncating residue name for PDB format: hAAD -> hAA\n",
      "\n",
      "/home/dan/miniconda3/envs/AmberTools23/bin/teLeap: Warning!\n",
      " Truncating residue name for PDB format: mAAD -> mAA\n",
      "\n",
      "/home/dan/miniconda3/envs/AmberTools23/bin/teLeap: Warning!\n",
      " Truncating residue name for PDB format: mAAD -> mAA\n",
      "\n",
      "/home/dan/miniconda3/envs/AmberTools23/bin/teLeap: Warning!\n",
      " Truncating residue name for PDB format: mAAD -> mAA\n",
      "\n",
      "/home/dan/miniconda3/envs/AmberTools23/bin/teLeap: Warning!\n",
      " Truncating residue name for PDB format: mAAD -> mAA\n",
      "\n",
      "/home/dan/miniconda3/envs/AmberTools23/bin/teLeap: Warning!\n",
      " Truncating residue name for PDB format: mAAD -> mAA\n",
      "\n",
      "/home/dan/miniconda3/envs/AmberTools23/bin/teLeap: Warning!\n",
      " Truncating residue name for PDB format: mAAD -> mAA\n",
      "\n",
      "/home/dan/miniconda3/envs/AmberTools23/bin/teLeap: Warning!\n",
      " Truncating residue name for PDB format: mAAD -> mAA\n",
      "\n",
      "/home/dan/miniconda3/envs/AmberTools23/bin/teLeap: Warning!\n",
      " Truncating residue name for PDB format: tAAD -> tAA\n",
      "\n",
      "/home/dan/miniconda3/envs/AmberTools23/bin/teLeap: Warning!\n",
      " Truncating residue name for PDB format: hAAD -> hAA\n",
      "\n",
      "/home/dan/miniconda3/envs/AmberTools23/bin/teLeap: Warning!\n",
      " Truncating residue name for PDB format: mAAD -> mAA\n",
      "\n",
      "/home/dan/miniconda3/envs/AmberTools23/bin/teLeap: Warning!\n",
      " Truncating residue name for PDB format: mAAD -> mAA\n",
      "\n",
      "/home/dan/miniconda3/envs/AmberTools23/bin/teLeap: Warning!\n",
      " Truncating residue name for PDB format: mAAD -> mAA\n",
      "\n",
      "/home/dan/miniconda3/envs/AmberTools23/bin/teLeap: Warning!\n",
      " Truncating residue name for PDB format: mAAD -> mAA\n",
      "\n",
      "/home/dan/miniconda3/envs/AmberTools23/bin/teLeap: Warning!\n",
      " Truncating residue name for PDB format: mAAD -> mAA\n",
      "\n",
      "/home/dan/miniconda3/envs/AmberTools23/bin/teLeap: Warning!\n",
      " Truncating residue name for PDB format: mAAD -> mAA\n",
      "\n",
      "/home/dan/miniconda3/envs/AmberTools23/bin/teLeap: Warning!\n",
      " Truncating residue name for PDB format: mAAD -> mAA\n",
      "\n",
      "/home/dan/miniconda3/envs/AmberTools23/bin/teLeap: Warning!\n",
      " Truncating residue name for PDB format: tAAD -> tAA\n",
      "\n",
      "/home/dan/miniconda3/envs/AmberTools23/bin/teLeap: Warning!\n",
      " Truncating residue name for PDB format: hAAD -> hAA\n",
      "\n",
      "/home/dan/miniconda3/envs/AmberTools23/bin/teLeap: Warning!\n",
      " Truncating residue name for PDB format: mAAD -> mAA\n",
      "\n",
      "/home/dan/miniconda3/envs/AmberTools23/bin/teLeap: Warning!\n",
      " Truncating residue name for PDB format: mAAD -> mAA\n",
      "\n",
      "/home/dan/miniconda3/envs/AmberTools23/bin/teLeap: Warning!\n",
      " Truncating residue name for PDB format: mAAD -> mAA\n",
      "\n",
      "/home/dan/miniconda3/envs/AmberTools23/bin/teLeap: Warning!\n",
      " Truncating residue name for PDB format: mAAD -> mAA\n",
      "\n",
      "/home/dan/miniconda3/envs/AmberTools23/bin/teLeap: Warning!\n",
      " Truncating residue name for PDB format: mAAD -> mAA\n",
      "\n",
      "/home/dan/miniconda3/envs/AmberTools23/bin/teLeap: Warning!\n",
      " Truncating residue name for PDB format: mAAD -> mAA\n",
      "\n",
      "/home/dan/miniconda3/envs/AmberTools23/bin/teLeap: Warning!\n",
      " Truncating residue name for PDB format: mAAD -> mAA\n",
      "\n",
      "/home/dan/miniconda3/envs/AmberTools23/bin/teLeap: Warning!\n",
      " Truncating residue name for PDB format: tAAD -> tAA\n",
      "\n",
      "/home/dan/miniconda3/envs/AmberTools23/bin/teLeap: Warning!\n",
      " Truncating residue name for PDB format: hAAD -> hAA\n",
      "\n",
      "/home/dan/miniconda3/envs/AmberTools23/bin/teLeap: Warning!\n",
      " Truncating residue name for PDB format: mAAD -> mAA\n",
      "\n",
      "/home/dan/miniconda3/envs/AmberTools23/bin/teLeap: Warning!\n",
      " Truncating residue name for PDB format: mAAD -> mAA\n",
      "\n",
      "/home/dan/miniconda3/envs/AmberTools23/bin/teLeap: Warning!\n",
      " Truncating residue name for PDB format: mAAD -> mAA\n",
      "\n",
      "/home/dan/miniconda3/envs/AmberTools23/bin/teLeap: Warning!\n",
      " Truncating residue name for PDB format: mAAD -> mAA\n",
      "\n",
      "/home/dan/miniconda3/envs/AmberTools23/bin/teLeap: Warning!\n",
      " Truncating residue name for PDB format: mAAD -> mAA\n",
      "\n",
      "/home/dan/miniconda3/envs/AmberTools23/bin/teLeap: Warning!\n",
      " Truncating residue name for PDB format: mAAD -> mAA\n",
      "\n",
      "/home/dan/miniconda3/envs/AmberTools23/bin/teLeap: Warning!\n",
      " Truncating residue name for PDB format: mAAD -> mAA\n",
      "\n",
      "/home/dan/miniconda3/envs/AmberTools23/bin/teLeap: Warning!\n",
      " Truncating residue name for PDB format: tAAD -> tAA\n",
      "\n",
      "/home/dan/miniconda3/envs/AmberTools23/bin/teLeap: Warning!\n",
      " Truncating residue name for PDB format: hAAD -> hAA\n",
      "\n",
      "/home/dan/miniconda3/envs/AmberTools23/bin/teLeap: Warning!\n",
      " Truncating residue name for PDB format: mAAD -> mAA\n",
      "\n",
      "/home/dan/miniconda3/envs/AmberTools23/bin/teLeap: Warning!\n",
      " Truncating residue name for PDB format: mAAD -> mAA\n",
      "\n",
      "/home/dan/miniconda3/envs/AmberTools23/bin/teLeap: Warning!\n",
      " Truncating residue name for PDB format: mAAD -> mAA\n",
      "\n",
      "/home/dan/miniconda3/envs/AmberTools23/bin/teLeap: Warning!\n",
      " Truncating residue name for PDB format: mAAD -> mAA\n",
      "\n",
      "/home/dan/miniconda3/envs/AmberTools23/bin/teLeap: Warning!\n",
      " Truncating residue name for PDB format: mAAD -> mAA\n",
      "\n",
      "/home/dan/miniconda3/envs/AmberTools23/bin/teLeap: Warning!\n",
      " Truncating residue name for PDB format: mAAD -> mAA\n",
      "\n",
      "/home/dan/miniconda3/envs/AmberTools23/bin/teLeap: Warning!\n",
      " Truncating residue name for PDB format: mAAD -> mAA\n",
      "\n",
      "/home/dan/miniconda3/envs/AmberTools23/bin/teLeap: Warning!\n",
      " Truncating residue name for PDB format: tAAD -> tAA\n",
      "\n",
      "/home/dan/miniconda3/envs/AmberTools23/bin/teLeap: Warning!\n",
      " Truncating residue name for PDB format: hAAD -> hAA\n",
      "\n",
      "/home/dan/miniconda3/envs/AmberTools23/bin/teLeap: Warning!\n",
      " Truncating residue name for PDB format: mAAD -> mAA\n",
      "\n",
      "/home/dan/miniconda3/envs/AmberTools23/bin/teLeap: Warning!\n",
      " Truncating residue name for PDB format: mAAD -> mAA\n",
      "\n",
      "/home/dan/miniconda3/envs/AmberTools23/bin/teLeap: Warning!\n",
      " Truncating residue name for PDB format: mAAD -> mAA\n",
      "\n",
      "/home/dan/miniconda3/envs/AmberTools23/bin/teLeap: Warning!\n",
      " Truncating residue name for PDB format: mAAD -> mAA\n",
      "\n",
      "/home/dan/miniconda3/envs/AmberTools23/bin/teLeap: Warning!\n",
      " Truncating residue name for PDB format: mAAD -> mAA\n",
      "\n",
      "/home/dan/miniconda3/envs/AmberTools23/bin/teLeap: Warning!\n",
      " Truncating residue name for PDB format: mAAD -> mAA\n",
      "\n",
      "/home/dan/miniconda3/envs/AmberTools23/bin/teLeap: Warning!\n",
      " Truncating residue name for PDB format: mAAD -> mAA\n",
      "\n",
      "/home/dan/miniconda3/envs/AmberTools23/bin/teLeap: Warning!\n",
      " Truncating residue name for PDB format: tAAD -> tAA\n",
      "\n",
      "/home/dan/miniconda3/envs/AmberTools23/bin/teLeap: Warning!\n",
      " Truncating residue name for PDB format: hAAD -> hAA\n",
      "\n",
      "/home/dan/miniconda3/envs/AmberTools23/bin/teLeap: Warning!\n",
      " Truncating residue name for PDB format: mAAD -> mAA\n",
      "\n",
      "/home/dan/miniconda3/envs/AmberTools23/bin/teLeap: Warning!\n",
      " Truncating residue name for PDB format: mAAD -> mAA\n",
      "\n",
      "/home/dan/miniconda3/envs/AmberTools23/bin/teLeap: Warning!\n",
      " Truncating residue name for PDB format: mAAD -> mAA\n",
      "\n",
      "/home/dan/miniconda3/envs/AmberTools23/bin/teLeap: Warning!\n",
      " Truncating residue name for PDB format: mAAD -> mAA\n",
      "\n",
      "/home/dan/miniconda3/envs/AmberTools23/bin/teLeap: Warning!\n",
      " Truncating residue name for PDB format: mAAD -> mAA\n",
      "\n",
      "/home/dan/miniconda3/envs/AmberTools23/bin/teLeap: Warning!\n",
      " Truncating residue name for PDB format: mAAD -> mAA\n",
      "\n",
      "/home/dan/miniconda3/envs/AmberTools23/bin/teLeap: Warning!\n",
      " Truncating residue name for PDB format: mAAD -> mAA\n",
      "\n",
      "/home/dan/miniconda3/envs/AmberTools23/bin/teLeap: Warning!\n",
      " Truncating residue name for PDB format: tAAD -> tAA\n",
      "\n",
      "/home/dan/miniconda3/envs/AmberTools23/bin/teLeap: Warning!\n",
      " Truncating residue name for PDB format: hAAD -> hAA\n",
      "\n",
      "/home/dan/miniconda3/envs/AmberTools23/bin/teLeap: Warning!\n",
      " Truncating residue name for PDB format: mAAD -> mAA\n",
      "\n",
      "/home/dan/miniconda3/envs/AmberTools23/bin/teLeap: Warning!\n",
      " Truncating residue name for PDB format: mAAD -> mAA\n",
      "\n",
      "/home/dan/miniconda3/envs/AmberTools23/bin/teLeap: Warning!\n",
      " Truncating residue name for PDB format: mAAD -> mAA\n",
      "\n",
      "/home/dan/miniconda3/envs/AmberTools23/bin/teLeap: Warning!\n",
      " Truncating residue name for PDB format: mAAD -> mAA\n",
      "\n",
      "/home/dan/miniconda3/envs/AmberTools23/bin/teLeap: Warning!\n",
      " Truncating residue name for PDB format: mAAD -> mAA\n",
      "\n",
      "/home/dan/miniconda3/envs/AmberTools23/bin/teLeap: Warning!\n",
      " Truncating residue name for PDB format: mAAD -> mAA\n",
      "\n",
      "/home/dan/miniconda3/envs/AmberTools23/bin/teLeap: Warning!\n",
      " Truncating residue name for PDB format: mAAD -> mAA\n",
      "\n",
      "/home/dan/miniconda3/envs/AmberTools23/bin/teLeap: Warning!\n",
      " Truncating residue name for PDB format: tAAD -> tAA\n",
      "  Solute vdw bounding box:              29.943 25.777 40.531\n",
      "  Total bounding box for atom centers:  135.943 131.777 146.531\n",
      "  Solvent unit box:                     18.774 18.774 18.774\n",
      "  Total vdw box size:                   138.578 134.988 149.871 angstroms.\n",
      "  Volume: 2803536.675 A^3 \n",
      "  Total mass 1507759.976 amu,  Density 0.893 g/cc\n",
      "  Added 83294 residues.\n",
      "Checking Unit.\n",
      "Building topology.\n",
      "Building atom parameters.\n",
      "Building bond parameters.\n",
      "Building angle parameters.\n",
      "Building proper torsion parameters.\n",
      "Building improper torsion parameters.\n",
      "old PREP-specified impropers:\n",
      " <tAAD 9>:  C28  O29  C27  O5  \n",
      " <mAAD 8>:  C2   O9   C8   O16 \n",
      " <mAAD 7>:  C2   O9   C8   O16 \n",
      " <mAAD 6>:  C2   O9   C8   O16 \n",
      " <mAAD 5>:  C2   O9   C8   O16 \n",
      " <mAAD 4>:  C2   O9   C8   O16 \n",
      " <mAAD 3>:  C2   O9   C8   O16 \n",
      " <mAAD 2>:  C2   O9   C8   O16 \n",
      " <hAAD 1>:  C18  O12  C13  O14 \n",
      " <hAAD 10>:  C18  O12  C13  O14 \n",
      " <mAAD 11>:  C2   O9   C8   O16 \n",
      " <mAAD 12>:  C2   O9   C8   O16 \n",
      " <mAAD 13>:  C2   O9   C8   O16 \n",
      " <mAAD 14>:  C2   O9   C8   O16 \n",
      " <mAAD 15>:  C2   O9   C8   O16 \n",
      " <mAAD 16>:  C2   O9   C8   O16 \n",
      " <mAAD 17>:  C2   O9   C8   O16 \n",
      " <tAAD 18>:  C28  O29  C27  O5  \n",
      " <hAAD 19>:  C18  O12  C13  O14 \n",
      " <mAAD 20>:  C2   O9   C8   O16 \n",
      " <mAAD 21>:  C2   O9   C8   O16 \n",
      " <mAAD 22>:  C2   O9   C8   O16 \n",
      " <mAAD 23>:  C2   O9   C8   O16 \n",
      " <mAAD 24>:  C2   O9   C8   O16 \n",
      " <mAAD 25>:  C2   O9   C8   O16 \n",
      " <mAAD 26>:  C2   O9   C8   O16 \n",
      " <tAAD 27>:  C28  O29  C27  O5  \n",
      " <hAAD 28>:  C18  O12  C13  O14 \n",
      " <mAAD 29>:  C2   O9   C8   O16 \n",
      " <mAAD 30>:  C2   O9   C8   O16 \n",
      " <mAAD 31>:  C2   O9   C8   O16 \n",
      " <mAAD 32>:  C2   O9   C8   O16 \n",
      " <mAAD 33>:  C2   O9   C8   O16 \n",
      " <mAAD 34>:  C2   O9   C8   O16 \n",
      " <mAAD 35>:  C2   O9   C8   O16 \n",
      " <tAAD 36>:  C28  O29  C27  O5  \n",
      " <hAAD 37>:  C18  O12  C13  O14 \n",
      " <mAAD 38>:  C2   O9   C8   O16 \n",
      " <mAAD 39>:  C2   O9   C8   O16 \n",
      " <mAAD 40>:  C2   O9   C8   O16 \n",
      " <mAAD 41>:  C2   O9   C8   O16 \n",
      " <mAAD 42>:  C2   O9   C8   O16 \n",
      " <mAAD 43>:  C2   O9   C8   O16 \n",
      " <mAAD 44>:  C2   O9   C8   O16 \n",
      " <tAAD 45>:  C28  O29  C27  O5  \n",
      " <hAAD 46>:  C18  O12  C13  O14 \n",
      " <mAAD 47>:  C2   O9   C8   O16 \n",
      " <mAAD 48>:  C2   O9   C8   O16 \n",
      " <mAAD 49>:  C2   O9   C8   O16 \n",
      " <mAAD 50>:  C2   O9   C8   O16 \n",
      " <mAAD 51>:  C2   O9   C8   O16 \n",
      " <mAAD 52>:  C2   O9   C8   O16 \n",
      " <mAAD 53>:  C2   O9   C8   O16 \n",
      " <tAAD 54>:  C28  O29  C27  O5  \n",
      " <hAAD 55>:  C18  O12  C13  O14 \n",
      " <mAAD 56>:  C2   O9   C8   O16 \n",
      " <mAAD 57>:  C2   O9   C8   O16 \n",
      " <mAAD 58>:  C2   O9   C8   O16 \n",
      " <mAAD 59>:  C2   O9   C8   O16 \n",
      " <mAAD 60>:  C2   O9   C8   O16 \n",
      " <mAAD 61>:  C2   O9   C8   O16 \n",
      " <mAAD 62>:  C2   O9   C8   O16 \n",
      " <tAAD 63>:  C28  O29  C27  O5  \n",
      " <hAAD 64>:  C18  O12  C13  O14 \n",
      " <mAAD 65>:  C2   O9   C8   O16 \n",
      " <mAAD 66>:  C2   O9   C8   O16 \n",
      " <mAAD 67>:  C2   O9   C8   O16 \n",
      " <mAAD 68>:  C2   O9   C8   O16 \n",
      " <mAAD 69>:  C2   O9   C8   O16 \n",
      " <mAAD 70>:  C2   O9   C8   O16 \n",
      " <mAAD 71>:  C2   O9   C8   O16 \n",
      " <tAAD 72>:  C28  O29  C27  O5  \n",
      " <hAAD 73>:  C18  O12  C13  O14 \n",
      " <mAAD 74>:  C2   O9   C8   O16 \n",
      " <mAAD 75>:  C2   O9   C8   O16 \n",
      " <mAAD 76>:  C2   O9   C8   O16 \n",
      " <mAAD 77>:  C2   O9   C8   O16 \n",
      " <mAAD 78>:  C2   O9   C8   O16 \n",
      " <mAAD 79>:  C2   O9   C8   O16 \n",
      " <mAAD 80>:  C2   O9   C8   O16 \n",
      " <tAAD 81>:  C28  O29  C27  O5  \n",
      " total 99 improper torsions applied\n",
      " 81 improper torsions in old prep form\n",
      "Building H-Bond parameters.\n",
      "Incorporating Non-Bonded adjustments.\n",
      "Not Marking per-residue atom chain types.\n",
      "Marking per-residue atom chain types.\n",
      "  (Residues lacking connect0/connect1 - \n",
      "   these don't have chain types marked:\n",
      "\n",
      "\tres\ttotal affected\n",
      "\n",
      "\tWAT\t83294\n",
      "  )\n",
      " (no restraints)\n",
      "Writing pdb file: /home/dan/polymersimulator/pdb_files/systems/3HB_3_3_array8polymer/3HB_3_3_array8polymer.pdb\n",
      "   printing CRYST1 record to PDB file with box info\n",
      "\n",
      "/home/dan/miniconda3/envs/AmberTools23/bin/teLeap: Warning!\n",
      " Truncating residue name for PDB format: hAAD -> hAA\n",
      "\n",
      "/home/dan/miniconda3/envs/AmberTools23/bin/teLeap: Warning!\n",
      " Truncating residue name for PDB format: mAAD -> mAA\n",
      "\n",
      "/home/dan/miniconda3/envs/AmberTools23/bin/teLeap: Warning!\n",
      " Truncating residue name for PDB format: mAAD -> mAA\n",
      "\n",
      "/home/dan/miniconda3/envs/AmberTools23/bin/teLeap: Warning!\n",
      " Truncating residue name for PDB format: mAAD -> mAA\n",
      "\n",
      "/home/dan/miniconda3/envs/AmberTools23/bin/teLeap: Warning!\n",
      " Truncating residue name for PDB format: mAAD -> mAA\n",
      "\n",
      "/home/dan/miniconda3/envs/AmberTools23/bin/teLeap: Warning!\n",
      " Truncating residue name for PDB format: mAAD -> mAA\n",
      "\n",
      "/home/dan/miniconda3/envs/AmberTools23/bin/teLeap: Warning!\n",
      " Truncating residue name for PDB format: mAAD -> mAA\n",
      "\n",
      "/home/dan/miniconda3/envs/AmberTools23/bin/teLeap: Warning!\n",
      " Truncating residue name for PDB format: mAAD -> mAA\n",
      "\n",
      "/home/dan/miniconda3/envs/AmberTools23/bin/teLeap: Warning!\n",
      " Truncating residue name for PDB format: tAAD -> tAA\n",
      "\n",
      "/home/dan/miniconda3/envs/AmberTools23/bin/teLeap: Warning!\n",
      " Truncating residue name for PDB format: hAAD -> hAA\n",
      "\n",
      "/home/dan/miniconda3/envs/AmberTools23/bin/teLeap: Warning!\n",
      " Truncating residue name for PDB format: mAAD -> mAA\n",
      "\n",
      "/home/dan/miniconda3/envs/AmberTools23/bin/teLeap: Warning!\n",
      " Truncating residue name for PDB format: mAAD -> mAA\n",
      "\n",
      "/home/dan/miniconda3/envs/AmberTools23/bin/teLeap: Warning!\n",
      " Truncating residue name for PDB format: mAAD -> mAA\n",
      "\n",
      "/home/dan/miniconda3/envs/AmberTools23/bin/teLeap: Warning!\n",
      " Truncating residue name for PDB format: mAAD -> mAA\n",
      "\n",
      "/home/dan/miniconda3/envs/AmberTools23/bin/teLeap: Warning!\n",
      " Truncating residue name for PDB format: mAAD -> mAA\n",
      "\n",
      "/home/dan/miniconda3/envs/AmberTools23/bin/teLeap: Warning!\n",
      " Truncating residue name for PDB format: mAAD -> mAA\n",
      "\n",
      "/home/dan/miniconda3/envs/AmberTools23/bin/teLeap: Warning!\n",
      " Truncating residue name for PDB format: mAAD -> mAA\n",
      "\n",
      "/home/dan/miniconda3/envs/AmberTools23/bin/teLeap: Warning!\n",
      " Truncating residue name for PDB format: tAAD -> tAA\n",
      "\n",
      "/home/dan/miniconda3/envs/AmberTools23/bin/teLeap: Warning!\n",
      " Truncating residue name for PDB format: hAAD -> hAA\n",
      "\n",
      "/home/dan/miniconda3/envs/AmberTools23/bin/teLeap: Warning!\n",
      " Truncating residue name for PDB format: mAAD -> mAA\n",
      "\n",
      "/home/dan/miniconda3/envs/AmberTools23/bin/teLeap: Warning!\n",
      " Truncating residue name for PDB format: mAAD -> mAA\n",
      "\n",
      "/home/dan/miniconda3/envs/AmberTools23/bin/teLeap: Warning!\n",
      " Truncating residue name for PDB format: mAAD -> mAA\n",
      "\n",
      "/home/dan/miniconda3/envs/AmberTools23/bin/teLeap: Warning!\n",
      " Truncating residue name for PDB format: mAAD -> mAA\n",
      "\n",
      "/home/dan/miniconda3/envs/AmberTools23/bin/teLeap: Warning!\n",
      " Truncating residue name for PDB format: mAAD -> mAA\n",
      "\n",
      "/home/dan/miniconda3/envs/AmberTools23/bin/teLeap: Warning!\n",
      " Truncating residue name for PDB format: mAAD -> mAA\n",
      "\n",
      "/home/dan/miniconda3/envs/AmberTools23/bin/teLeap: Warning!\n",
      " Truncating residue name for PDB format: mAAD -> mAA\n",
      "\n",
      "/home/dan/miniconda3/envs/AmberTools23/bin/teLeap: Warning!\n",
      " Truncating residue name for PDB format: tAAD -> tAA\n",
      "\n",
      "/home/dan/miniconda3/envs/AmberTools23/bin/teLeap: Warning!\n",
      " Truncating residue name for PDB format: hAAD -> hAA\n",
      "\n",
      "/home/dan/miniconda3/envs/AmberTools23/bin/teLeap: Warning!\n",
      " Truncating residue name for PDB format: mAAD -> mAA\n",
      "\n",
      "/home/dan/miniconda3/envs/AmberTools23/bin/teLeap: Warning!\n",
      " Truncating residue name for PDB format: mAAD -> mAA\n",
      "\n",
      "/home/dan/miniconda3/envs/AmberTools23/bin/teLeap: Warning!\n",
      " Truncating residue name for PDB format: mAAD -> mAA\n",
      "\n",
      "/home/dan/miniconda3/envs/AmberTools23/bin/teLeap: Warning!\n",
      " Truncating residue name for PDB format: mAAD -> mAA\n",
      "\n",
      "/home/dan/miniconda3/envs/AmberTools23/bin/teLeap: Warning!\n",
      " Truncating residue name for PDB format: mAAD -> mAA\n",
      "\n",
      "/home/dan/miniconda3/envs/AmberTools23/bin/teLeap: Warning!\n",
      " Truncating residue name for PDB format: mAAD -> mAA\n",
      "\n",
      "/home/dan/miniconda3/envs/AmberTools23/bin/teLeap: Warning!\n",
      " Truncating residue name for PDB format: mAAD -> mAA\n",
      "\n",
      "/home/dan/miniconda3/envs/AmberTools23/bin/teLeap: Warning!\n",
      " Truncating residue name for PDB format: tAAD -> tAA\n",
      "\n",
      "/home/dan/miniconda3/envs/AmberTools23/bin/teLeap: Warning!\n",
      " Truncating residue name for PDB format: hAAD -> hAA\n",
      "\n",
      "/home/dan/miniconda3/envs/AmberTools23/bin/teLeap: Warning!\n",
      " Truncating residue name for PDB format: mAAD -> mAA\n",
      "\n",
      "/home/dan/miniconda3/envs/AmberTools23/bin/teLeap: Warning!\n",
      " Truncating residue name for PDB format: mAAD -> mAA\n",
      "\n",
      "/home/dan/miniconda3/envs/AmberTools23/bin/teLeap: Warning!\n",
      " Truncating residue name for PDB format: mAAD -> mAA\n",
      "\n",
      "/home/dan/miniconda3/envs/AmberTools23/bin/teLeap: Warning!\n",
      " Truncating residue name for PDB format: mAAD -> mAA\n",
      "\n",
      "/home/dan/miniconda3/envs/AmberTools23/bin/teLeap: Warning!\n",
      " Truncating residue name for PDB format: mAAD -> mAA\n",
      "\n",
      "/home/dan/miniconda3/envs/AmberTools23/bin/teLeap: Warning!\n",
      " Truncating residue name for PDB format: mAAD -> mAA\n",
      "\n",
      "/home/dan/miniconda3/envs/AmberTools23/bin/teLeap: Warning!\n",
      " Truncating residue name for PDB format: mAAD -> mAA\n",
      "\n",
      "/home/dan/miniconda3/envs/AmberTools23/bin/teLeap: Warning!\n",
      " Truncating residue name for PDB format: tAAD -> tAA\n",
      "\n",
      "/home/dan/miniconda3/envs/AmberTools23/bin/teLeap: Warning!\n",
      " Truncating residue name for PDB format: hAAD -> hAA\n",
      "\n",
      "/home/dan/miniconda3/envs/AmberTools23/bin/teLeap: Warning!\n",
      " Truncating residue name for PDB format: mAAD -> mAA\n",
      "\n",
      "/home/dan/miniconda3/envs/AmberTools23/bin/teLeap: Warning!\n",
      " Truncating residue name for PDB format: mAAD -> mAA\n",
      "\n",
      "/home/dan/miniconda3/envs/AmberTools23/bin/teLeap: Warning!\n",
      " Truncating residue name for PDB format: mAAD -> mAA\n",
      "\n",
      "/home/dan/miniconda3/envs/AmberTools23/bin/teLeap: Warning!\n",
      " Truncating residue name for PDB format: mAAD -> mAA\n",
      "\n",
      "/home/dan/miniconda3/envs/AmberTools23/bin/teLeap: Warning!\n",
      " Truncating residue name for PDB format: mAAD -> mAA\n",
      "\n",
      "/home/dan/miniconda3/envs/AmberTools23/bin/teLeap: Warning!\n",
      " Truncating residue name for PDB format: mAAD -> mAA\n",
      "\n",
      "/home/dan/miniconda3/envs/AmberTools23/bin/teLeap: Warning!\n",
      " Truncating residue name for PDB format: mAAD -> mAA\n",
      "\n",
      "/home/dan/miniconda3/envs/AmberTools23/bin/teLeap: Warning!\n",
      " Truncating residue name for PDB format: tAAD -> tAA\n",
      "\n",
      "/home/dan/miniconda3/envs/AmberTools23/bin/teLeap: Warning!\n",
      " Truncating residue name for PDB format: hAAD -> hAA\n",
      "\n",
      "/home/dan/miniconda3/envs/AmberTools23/bin/teLeap: Warning!\n",
      " Truncating residue name for PDB format: mAAD -> mAA\n",
      "\n",
      "/home/dan/miniconda3/envs/AmberTools23/bin/teLeap: Warning!\n",
      " Truncating residue name for PDB format: mAAD -> mAA\n",
      "\n",
      "/home/dan/miniconda3/envs/AmberTools23/bin/teLeap: Warning!\n",
      " Truncating residue name for PDB format: mAAD -> mAA\n",
      "\n",
      "/home/dan/miniconda3/envs/AmberTools23/bin/teLeap: Warning!\n",
      " Truncating residue name for PDB format: mAAD -> mAA\n",
      "\n",
      "/home/dan/miniconda3/envs/AmberTools23/bin/teLeap: Warning!\n",
      " Truncating residue name for PDB format: mAAD -> mAA\n",
      "\n",
      "/home/dan/miniconda3/envs/AmberTools23/bin/teLeap: Warning!\n",
      " Truncating residue name for PDB format: mAAD -> mAA\n",
      "\n",
      "/home/dan/miniconda3/envs/AmberTools23/bin/teLeap: Warning!\n",
      " Truncating residue name for PDB format: mAAD -> mAA\n",
      "\n",
      "/home/dan/miniconda3/envs/AmberTools23/bin/teLeap: Warning!\n",
      " Truncating residue name for PDB format: tAAD -> tAA\n",
      "\n",
      "/home/dan/miniconda3/envs/AmberTools23/bin/teLeap: Warning!\n",
      " Truncating residue name for PDB format: hAAD -> hAA\n",
      "\n",
      "/home/dan/miniconda3/envs/AmberTools23/bin/teLeap: Warning!\n",
      " Truncating residue name for PDB format: mAAD -> mAA\n",
      "\n",
      "/home/dan/miniconda3/envs/AmberTools23/bin/teLeap: Warning!\n",
      " Truncating residue name for PDB format: mAAD -> mAA\n",
      "\n",
      "/home/dan/miniconda3/envs/AmberTools23/bin/teLeap: Warning!\n",
      " Truncating residue name for PDB format: mAAD -> mAA\n",
      "\n",
      "/home/dan/miniconda3/envs/AmberTools23/bin/teLeap: Warning!\n",
      " Truncating residue name for PDB format: mAAD -> mAA\n",
      "\n",
      "/home/dan/miniconda3/envs/AmberTools23/bin/teLeap: Warning!\n",
      " Truncating residue name for PDB format: mAAD -> mAA\n",
      "\n",
      "/home/dan/miniconda3/envs/AmberTools23/bin/teLeap: Warning!\n",
      " Truncating residue name for PDB format: mAAD -> mAA\n",
      "\n",
      "/home/dan/miniconda3/envs/AmberTools23/bin/teLeap: Warning!\n",
      " Truncating residue name for PDB format: mAAD -> mAA\n",
      "\n",
      "/home/dan/miniconda3/envs/AmberTools23/bin/teLeap: Warning!\n",
      " Truncating residue name for PDB format: tAAD -> tAA\n",
      "\n",
      "/home/dan/miniconda3/envs/AmberTools23/bin/teLeap: Warning!\n",
      " Truncating residue name for PDB format: hAAD -> hAA\n",
      "\n",
      "/home/dan/miniconda3/envs/AmberTools23/bin/teLeap: Warning!\n",
      " Truncating residue name for PDB format: mAAD -> mAA\n",
      "\n",
      "/home/dan/miniconda3/envs/AmberTools23/bin/teLeap: Warning!\n",
      " Truncating residue name for PDB format: mAAD -> mAA\n",
      "\n",
      "/home/dan/miniconda3/envs/AmberTools23/bin/teLeap: Warning!\n",
      " Truncating residue name for PDB format: mAAD -> mAA\n",
      "\n",
      "/home/dan/miniconda3/envs/AmberTools23/bin/teLeap: Warning!\n",
      " Truncating residue name for PDB format: mAAD -> mAA\n",
      "\n",
      "/home/dan/miniconda3/envs/AmberTools23/bin/teLeap: Warning!\n",
      " Truncating residue name for PDB format: mAAD -> mAA\n",
      "\n",
      "/home/dan/miniconda3/envs/AmberTools23/bin/teLeap: Warning!\n",
      " Truncating residue name for PDB format: mAAD -> mAA\n",
      "\n",
      "/home/dan/miniconda3/envs/AmberTools23/bin/teLeap: Warning!\n",
      " Truncating residue name for PDB format: mAAD -> mAA\n",
      "\n",
      "/home/dan/miniconda3/envs/AmberTools23/bin/teLeap: Warning!\n",
      " Truncating residue name for PDB format: tAAD -> tAA\n",
      "\tQuit\n",
      "\n",
      "Exiting LEaP: Errors = 0; Warnings = 162; Notes = 0.\n",
      "\n"
     ]
    },
    {
     "data": {
      "text/plain": [
       "()"
      ]
     },
     "execution_count": 24,
     "metadata": {},
     "output_type": "execute_result"
    }
   ],
   "source": [
    "build.build_3_3_polymer_array(build, directories, \"3HB_trimer\", 8)"
   ]
  },
  {
   "cell_type": "code",
   "execution_count": 23,
   "id": "0dd2460a-2923-45c6-8157-bec181aa4da9",
   "metadata": {},
   "outputs": [
    {
     "ename": "TypeError",
     "evalue": "PolymerSimulatorDirs.systems_avail() takes 1 positional argument but 2 were given",
     "output_type": "error",
     "traceback": [
      "\u001b[0;31m---------------------------------------------------------------------------\u001b[0m",
      "\u001b[0;31mTypeError\u001b[0m                                 Traceback (most recent call last)",
      "Cell \u001b[0;32mIn[23], line 3\u001b[0m\n\u001b[1;32m      1\u001b[0m \u001b[38;5;66;03m# Build a 3x3 array of solvated 3HB_monomers\u001b[39;00m\n\u001b[1;32m      2\u001b[0m build\u001b[38;5;241m.\u001b[39mgen_3_3_array(directories, \u001b[38;5;124m\"\u001b[39m\u001b[38;5;124m3HB_monomer\u001b[39m\u001b[38;5;124m\"\u001b[39m)\n\u001b[0;32m----> 3\u001b[0m \u001b[43mdirectories\u001b[49m\u001b[38;5;241;43m.\u001b[39;49m\u001b[43msystems_avail\u001b[49m\u001b[43m(\u001b[49m\u001b[43mdirectories\u001b[49m\u001b[43m)\u001b[49m\n",
      "\u001b[0;31mTypeError\u001b[0m: PolymerSimulatorDirs.systems_avail() takes 1 positional argument but 2 were given"
     ]
    }
   ],
   "source": [
    "a# Build a 3x3 array of solvated 3HB_monomers\n",
    "build.gen_3_3_array(directories, \"3HB_monomer\")\n",
    "directories.systems_avail(directories)"
   ]
  },
  {
   "cell_type": "markdown",
   "id": "bbd05ebd-b57d-4c1e-a112-a7ae64ec9d89",
   "metadata": {},
   "source": [
    "No lets do the same for ethane and generate arrays of ethane in water and use commands to show they exist."
   ]
  },
  {
   "cell_type": "code",
   "execution_count": 24,
   "id": "58adb758-2ca3-4bf2-a048-1de1d714112b",
   "metadata": {},
   "outputs": [],
   "source": [
    "# Code here to generate 2x2 and 3x3 arrays of ethane"
   ]
  },
  {
   "cell_type": "code",
   "execution_count": 25,
   "id": "fd503226-85af-458f-b777-b2cca193f84a",
   "metadata": {},
   "outputs": [],
   "source": [
    "# Code here to generate 2x2 and 3x3 arrays of ethane"
   ]
  },
  {
   "cell_type": "code",
   "execution_count": 26,
   "id": "829a1348-c8e7-47da-a656-7c61f09ca35c",
   "metadata": {},
   "outputs": [],
   "source": [
    "# Code here to generate 2x2 and 3x3 arrays of ethane"
   ]
  },
  {
   "cell_type": "markdown",
   "id": "ef9d37f3-9a1c-40d0-9a69-6f8767f9bc04",
   "metadata": {},
   "source": [
    "# Move on to tutorial 2!"
   ]
  }
 ],
 "metadata": {
  "kernelspec": {
   "display_name": "Python 3 (ipykernel)",
   "language": "python",
   "name": "python3"
  },
  "language_info": {
   "codemirror_mode": {
    "name": "ipython",
    "version": 3
   },
   "file_extension": ".py",
   "mimetype": "text/x-python",
   "name": "python",
   "nbconvert_exporter": "python",
   "pygments_lexer": "ipython3",
   "version": "3.12.1"
  }
 },
 "nbformat": 4,
 "nbformat_minor": 5
}
