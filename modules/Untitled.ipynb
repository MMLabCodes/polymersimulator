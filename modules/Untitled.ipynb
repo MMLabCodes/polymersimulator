{
 "cells": [
  {
   "cell_type": "code",
   "execution_count": 31,
   "id": "d780d5ac-f936-437f-acab-a25ba02367e3",
   "metadata": {},
   "outputs": [
    {
     "data": {
      "text/plain": [
       "12.67"
      ]
     },
     "execution_count": 31,
     "metadata": {},
     "output_type": "execute_result"
    }
   ],
   "source": [
    "Liam = ((38*2)/6)\n",
    "Liam = round(Liam, 2)\n",
    "Liam"
   ]
  },
  {
   "cell_type": "code",
   "execution_count": 33,
   "id": "5d6189ba-58f5-47f9-8e42-19649f5cfbd7",
   "metadata": {},
   "outputs": [
    {
     "data": {
      "text/plain": [
       "22.67"
      ]
     },
     "execution_count": 33,
     "metadata": {},
     "output_type": "execute_result"
    }
   ],
   "source": [
    "Ioan = (((38*2)+40)/6) + 20/6\n",
    "Ioan = round(Ioan, 2)\n",
    "Ioan"
   ]
  },
  {
   "cell_type": "code",
   "execution_count": 16,
   "id": "34283dd6-9a0f-4762-b50f-2fecfa1a577a",
   "metadata": {},
   "outputs": [
    {
     "data": {
      "text/plain": [
       "6.666666666666667"
      ]
     },
     "execution_count": 16,
     "metadata": {},
     "output_type": "execute_result"
    }
   ],
   "source": [
    "Bailey = 40/6\n",
    "Bailey"
   ]
  },
  {
   "cell_type": "code",
   "execution_count": 34,
   "id": "658c63af-eaf5-4d44-8a90-07f4001265c9",
   "metadata": {},
   "outputs": [
    {
     "data": {
      "text/plain": [
       "22.67"
      ]
     },
     "execution_count": 34,
     "metadata": {},
     "output_type": "execute_result"
    }
   ],
   "source": [
    "Morgan = Ioan\n",
    "Morgan"
   ]
  },
  {
   "cell_type": "code",
   "execution_count": 35,
   "id": "ab7337e0-dd78-46f7-8ad1-e896ae8473ad",
   "metadata": {
    "scrolled": true
   },
   "outputs": [
    {
     "data": {
      "text/plain": [
       "22.67"
      ]
     },
     "execution_count": 35,
     "metadata": {},
     "output_type": "execute_result"
    }
   ],
   "source": [
    "Rhys = Ioan\n",
    "Rhys"
   ]
  },
  {
   "cell_type": "code",
   "execution_count": 36,
   "id": "4e4afd1d-5cd1-461b-9366-20bf23a8dcd7",
   "metadata": {},
   "outputs": [
    {
     "data": {
      "text/plain": [
       "22.67"
      ]
     },
     "execution_count": 36,
     "metadata": {},
     "output_type": "execute_result"
    }
   ],
   "source": [
    "Beth = Ioan\n",
    "Beth"
   ]
  },
  {
   "cell_type": "code",
   "execution_count": 37,
   "id": "08f534cd-c7e2-4914-99fe-0b95c0e2436a",
   "metadata": {},
   "outputs": [],
   "source": [
    "Dan = Ioan"
   ]
  },
  {
   "cell_type": "code",
   "execution_count": 41,
   "id": "bdfaec7d-ae48-47ff-8210-e8949dab5fb6",
   "metadata": {},
   "outputs": [
    {
     "data": {
      "text/plain": [
       "126.02000000000001"
      ]
     },
     "execution_count": 41,
     "metadata": {},
     "output_type": "execute_result"
    }
   ],
   "source": [
    "total = Dan + Beth + Rhys + Ioan + Liam  + Morgan\n",
    "total"
   ]
  },
  {
   "cell_type": "code",
   "execution_count": 40,
   "id": "a4a3a511-be9e-43d6-bf24-04c03b211f48",
   "metadata": {},
   "outputs": [
    {
     "name": "stdout",
     "output_type": "stream",
     "text": [
      "Dan: £22.67, Beth: £22.67, Rhys: £22.67, Ioan: £22.67, Liam: £12.67, Morgan: £22.67\n"
     ]
    }
   ],
   "source": [
    "print(f\"Dan: £{Dan}, Beth: £{Beth}, Rhys: £{Rhys}, Ioan: £{Ioan}, Liam: £{Liam}, Morgan: £{Morgan}\")"
   ]
  },
  {
   "cell_type": "code",
   "execution_count": null,
   "id": "58fb5afe-5200-4f8b-b8c1-e1fc125afec2",
   "metadata": {},
   "outputs": [],
   "source": []
  }
 ],
 "metadata": {
  "kernelspec": {
   "display_name": "Python 3 (ipykernel)",
   "language": "python",
   "name": "python3"
  },
  "language_info": {
   "codemirror_mode": {
    "name": "ipython",
    "version": 3
   },
   "file_extension": ".py",
   "mimetype": "text/x-python",
   "name": "python",
   "nbconvert_exporter": "python",
   "pygments_lexer": "ipython3",
   "version": "3.12.0"
  }
 },
 "nbformat": 4,
 "nbformat_minor": 5
}
