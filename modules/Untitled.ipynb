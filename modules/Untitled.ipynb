{
 "cells": [
  {
   "cell_type": "code",
   "execution_count": 31,
   "id": "d780d5ac-f936-437f-acab-a25ba02367e3",
   "metadata": {},
   "outputs": [
    {
     "data": {
      "text/plain": [
       "12.67"
      ]
     },
     "execution_count": 31,
     "metadata": {},
     "output_type": "execute_result"
    }
   ],
   "source": [
    "Liam = ((38*2)/6)\n",
    "Liam = round(Liam, 2)\n",
    "Liam"
   ]
  },
  {
   "cell_type": "code",
   "execution_count": 33,
   "id": "5d6189ba-58f5-47f9-8e42-19649f5cfbd7",
   "metadata": {},
   "outputs": [
    {
     "data": {
      "text/plain": [
       "22.67"
      ]
     },
     "execution_count": 33,
     "metadata": {},
     "output_type": "execute_result"
    }
   ],
   "source": [
    "Ioan = (((38*2)+40)/6) + 20/6\n",
    "Ioan = round(Ioan, 2)\n",
    "Ioan"
   ]
  },
  {
   "cell_type": "code",
   "execution_count": 16,
   "id": "34283dd6-9a0f-4762-b50f-2fecfa1a577a",
   "metadata": {},
   "outputs": [
    {
     "data": {
      "text/plain": [
       "6.666666666666667"
      ]
     },
     "execution_count": 16,
     "metadata": {},
     "output_type": "execute_result"
    }
   ],
   "source": [
    "Bailey = 40/6\n",
    "Bailey"
   ]
  },
  {
   "cell_type": "code",
   "execution_count": 34,
   "id": "658c63af-eaf5-4d44-8a90-07f4001265c9",
   "metadata": {},
   "outputs": [
    {
     "data": {
      "text/plain": [
       "22.67"
      ]
     },
     "execution_count": 34,
     "metadata": {},
     "output_type": "execute_result"
    }
   ],
   "source": [
    "Morgan = Ioan\n",
    "Morgan"
   ]
  },
  {
   "cell_type": "code",
   "execution_count": 35,
   "id": "ab7337e0-dd78-46f7-8ad1-e896ae8473ad",
   "metadata": {
    "scrolled": true
   },
   "outputs": [
    {
     "data": {
      "text/plain": [
       "22.67"
      ]
     },
     "execution_count": 35,
     "metadata": {},
     "output_type": "execute_result"
    }
   ],
   "source": [
    "Rhys = Ioan\n",
    "Rhys"
   ]
  },
  {
   "cell_type": "code",
   "execution_count": 36,
   "id": "4e4afd1d-5cd1-461b-9366-20bf23a8dcd7",
   "metadata": {},
   "outputs": [
    {
     "data": {
      "text/plain": [
       "22.67"
      ]
     },
     "execution_count": 36,
     "metadata": {},
     "output_type": "execute_result"
    }
   ],
   "source": [
    "Beth = Ioan\n",
    "Beth"
   ]
  },
  {
   "cell_type": "code",
   "execution_count": 37,
   "id": "08f534cd-c7e2-4914-99fe-0b95c0e2436a",
   "metadata": {},
   "outputs": [],
   "source": [
    "Dan = Ioan"
   ]
  },
  {
   "cell_type": "code",
   "execution_count": 41,
   "id": "bdfaec7d-ae48-47ff-8210-e8949dab5fb6",
   "metadata": {},
   "outputs": [
    {
     "data": {
      "text/plain": [
       "126.02000000000001"
      ]
     },
     "execution_count": 41,
     "metadata": {},
     "output_type": "execute_result"
    }
   ],
   "source": [
    "total = Dan + Beth + Rhys + Ioan + Liam  + Morgan\n",
    "total"
   ]
  },
  {
   "cell_type": "code",
   "execution_count": 40,
   "id": "a4a3a511-be9e-43d6-bf24-04c03b211f48",
   "metadata": {},
   "outputs": [
    {
     "name": "stdout",
     "output_type": "stream",
     "text": [
      "Dan: £22.67, Beth: £22.67, Rhys: £22.67, Ioan: £22.67, Liam: £12.67, Morgan: £22.67\n"
     ]
    }
   ],
   "source": [
    "print(f\"Dan: £{Dan}, Beth: £{Beth}, Rhys: £{Rhys}, Ioan: £{Ioan}, Liam: £{Liam}, Morgan: £{Morgan}\")"
   ]
  },
  {
   "cell_type": "code",
   "execution_count": null,
   "id": "58fb5afe-5200-4f8b-b8c1-e1fc125afec2",
   "metadata": {},
   "outputs": [],
   "source": [
    "    def anneal_NVT(self, simulation, start_temp=None, max_temp=None, cycles=None, quench_rate=None, steps_per_cycle=None):\n",
    "        \"\"\"\n",
    "        Function to perform simulated annealing on the provided simulation system.\n",
    "        \n",
    "        USAGE: \n",
    "            annealed_sim = sim.anneal(simulation, start_temp, max_temp, cycles, holding_steps, steps_at_temp)            \n",
    "        \n",
    "        Recommended USAGE:\n",
    "            annealed_sim = sim.anneal(simulation)\n",
    "            \n",
    "            where annealing parameters are set with the following function:\n",
    "                \n",
    "            simulation_object.set_anneal_parameters([start_temp, max_temp, cycles, holding_steps, steps_at_each_temp])\n",
    "        \n",
    "        Args:\n",
    "            simulation (app.Simulation): The simulation object to perform annealing on.\n",
    "            \n",
    "            start_temp (float, optional): The starting temperature for annealing in Kelvin. Defaults to None, \n",
    "                in which case the value is fetched from self.anneal_parameters[0].\n",
    "                \n",
    "            max_temp (float, optional): The maximum temperature for annealing in Kelvin. Defaults to None, \n",
    "                in which case the value is fetched from self.anneal_parameters[1].\n",
    "                \n",
    "            cycles (int, optional): The number of annealing cycles to perform. Defaults to None, \n",
    "                in which case the value is fetched from self.anneal_parameters[2].\n",
    "                \n",
    "            holding_steps (int, optional): The number of steps to hold the system at each temperature. \n",
    "                Defaults to None, in which case the value is fetched from self.anneal_parameters[3].\n",
    "                \n",
    "            steps_at_temp (int, optional): The number of steps to perform at each temperature. \n",
    "                Defaults to None, in which case the value is fetched from self.anneal_parameters[4].\n",
    "\n",
    "        Returns:\n",
    "            A tuple containing the simulation object after annealing and the filename of the data file generated.\n",
    "                in the following format:\n",
    "        \n",
    "            (simulation_object, path_to_data_file)\n",
    "                    \n",
    "        Notes:\n",
    "            This method performs simulated annealing on the provided simulation object. It initializes the system with the \n",
    "        provided initial conditions and runs annealing cycles adjusting the temperature according to the specified parameters.\n",
    "        The system's state is updated throughout the annealing process, and reporters are set up to record trajectory and \n",
    "        simulation data.\n",
    "        \"\"\"\n",
    "        anneal_start_time = time.time()\n",
    "        \n",
    "        if start_temp is None:\n",
    "            start_temp = self.anneal_parameters[0]\n",
    "        if max_temp is None:\n",
    "            max_temp = self.anneal_parameters[1]\n",
    "        if cycles is None:\n",
    "            cycles = self.anneal_parameters[2]\n",
    "        if quench_rate is None:\n",
    "            holding_steps = self.anneal_parameters[3]\n",
    "        if steps_per_cycle is None:\n",
    "            steps_at_temp = self.anneal_parameters[4]\n",
    "         \n",
    "        # Extract positional info\n",
    "        state = simulation.context.getState(getPositions=True, getEnergy=True, enforcePeriodicBox=True) # Define state object \n",
    "        xyz = state.getPositions() # Obtain positions of the particles from previous step\n",
    "        vx, vy, vz = state.getPeriodicBoxVectors() # Obtain periodc box vectors of the previous step\n",
    "        \n",
    "        # Set up integrator\n",
    "        integrator = LangevinIntegrator(start_temp*kelvin, self.friction_coeff/picoseconds, self.timestep*femtoseconds)\n",
    "        \n",
    "        if BuildSimulation.type_of_simulation(self) == \"AMB\":\n",
    "            system = self.amb_topology.createSystem(nonbondedMethod=app.PME, nonbondedCutoff=self.nonbondedcutoff*nanometers, constraints=app.HBonds)\n",
    "            simulation = app.Simulation(self.amb_topology.topology, system, integrator)\n",
    "        \n",
    "        if BuildSimulation.type_of_simulation(self) == \"ANI\":\n",
    "            system = self.potential.createSystem(self.ani_topology, nonbondedMethod=app.PME, nonbondedCutoff=self.nonbondedcutoff*nanometers, constraints=app.HBonds)\n",
    "            platform = PLatform.getPlatformByName('CUDA')\n",
    "            simulation = app.Simulation(self.ani_topology, system, integrator, platform)\n",
    "\n",
    "        # Update the xyz of each atom\n",
    "        simulation.context.setPeriodicBoxVectors(vx, vy, vz)\n",
    "        simulation.context.setPositions(xyz)\n",
    "        \n",
    "        # Total up all steps of the equilibration so the rpeorters record properly\n",
    "        total_steps = steps_per_cycle*cycles\n",
    "        \n",
    "        # Set up reporters\n",
    "        # PDB trajectory - this is slighlty redundant with the addition of the DCD trajectory, but it is still useful for \n",
    "        if self.savepdb_traj == True:\n",
    "            output_pdbname = os.path.join(self.output_dir, (self.filename + \"_anneal_\" + str(self.timestamp) + \".pdb\" ))\n",
    "            simulation.reporters.append(app.PDBReporter(output_pdbname, self.reporter_freq))\n",
    "        \n",
    "        # DCD trajectory\n",
    "        #output_dcdname = os.path.join(directories.systems_dir, self.filename, (self.filename + \"_anneal\"))\n",
    "        output_dcdname = os.path.join(self.output_dir, (self.filename + \"_anneal_\" + str(self.timestamp)))\n",
    "        dcdWriter = DcdWriter(output_dcdname, self.reporter_freq)\n",
    "        simulation.reporters.append(dcdWriter.dcdReporter)\n",
    "    \n",
    "        # Datawriter - This is a more complete data writer than previously used, the file generated is a comma delimited text file\n",
    "        #output_dataname = os.path.join(directories.systems_dir, self.filename, (self.filename + \"_anneal_data\"))\n",
    "        output_dataname = os.path.join(self.output_dir, (self.filename + \"_anneal_\" + str(self.timestamp)))\n",
    "        dataWriter = DataWriter(output_dataname, self.reporter_freq, total_steps)\n",
    "        simulation.reporters.append(dataWriter.stateDataReporter)\n",
    "        \n",
    "        increments = int(max_temp-start_temp)/quench_rate\n",
    "        steps_per_slope = int(steps_per_cycle*0.4)\n",
    "        holding_steps = int(steps_per_cycle*0.1) \n",
    "        steps_at_increment = int(steps_per_slope/increments)\n",
    "\n",
    "        def cycle(start_temp, max_temp, steps_at_increment, holding_steps, increments, quench_rate):\n",
    "            integrator.setTemperature(start_temp)\n",
    "            simulation.step(steps_at_increment)\n",
    "\n",
    "            for i in range(increments):\n",
    "                integrator.setTemperature(start_temp + (i*quench_rate))\n",
    "                simulation.step(steps_at_increment)\n",
    "\n",
    "            integrator.setTemperature(max_temp)\n",
    "            simulation.step(holding_steps)\n",
    "            \n",
    "            for i in range(increments):\n",
    "                integrator.setTemperature(max_temp - (i*quench_rate))\n",
    "                simulation.step(steps_at_increment)                \n",
    "\n",
    "            integrator.setTemperature(start_temp)\n",
    "            simulation.step(holding_steps)\n",
    "                \n",
    "        for i in range(cycles):\n",
    "            cycle(start_temp, max_temp, steps_at_increment, holding_steps, increments, quench_rate)\n",
    "            \n",
    "        anneal_end_time = time.time()  \n",
    "        time_taken = anneal_end_time - anneal_start_time\n",
    "\n",
    "        self.log_info['Annealing_NVT']['Time taken'] = time_taken\n",
    "        self.log_info['Annealing_NVT']['Simulation time'] = total_steps*self.timestep\n",
    "        self.log_info['Annealing_NVT']['Start temp'] = start_temp\n",
    "        self.log_info['Annealing_NVT']['Target temp'] = max_temp\n",
    "        self.log_info['Annealing_NVT']['Cycles'] = cycles\n",
    "        self.log_info['Annealing_NVT']['Steps at plateaus'] = holding_steps\n",
    "        self.log_info['Annealing_NVT']['Steps at incremental temps'] = steps_at_temp\n",
    "        self.log_info['Annealing_NVT']['Timestep'] = self.timestep\n",
    "\n",
    "        # Write the final structure to pdb\n",
    "        self.final_pdbname = os.path.join(self.output_dir, (\"final_anneal_\" + self.filename + \".pdb\"))\n",
    "        with open(self.final_pdbname, 'w') as output:\n",
    "            PDBFile.writeFile(simulation.topology, state.getPositions(), output)\n",
    "        \n",
    "        return(simulation, (output_dataname + \".txt\"))"
   ]
  },
  {
   "cell_type": "code",
   "execution_count": null,
   "id": "f752a85c-1758-4380-92fe-c12d688ef0b7",
   "metadata": {},
   "outputs": [],
   "source": [
    "    @classmethod\n",
    "    def set_anneal_parameters(cls, new_anneal_parameters): \n",
    "        \"\"\"\n",
    "        Class method to set annealing parameters.\n",
    "\n",
    "        Args:\n",
    "            cls: The class itself.\n",
    "            new_anneal_parameters (list): List of annealing parameters in the format [start_temp, max_temp, cycles, holding_steps, steps_at_temp].\n",
    "\n",
    "        Returns:\n",
    "            None\n",
    "\n",
    "        Raises:\n",
    "            ValueError: If the length of new_anneal_parameters does not match the expected length.\n",
    "\n",
    "        Notes:\n",
    "            This method sets the annealing parameters class attribute to the specified list. \n",
    "            It prints a confirmation message with the provided parameters.\n",
    "        \"\"\"\n",
    "        if len(new_anneal_parameters) != len(cls.anneal_parameters):\n",
    "            format_str = \"Expected format: [start_temp, max_temp, cycles, quench_rate, steps_per_cycle]\"\n",
    "            raise ValueError(f\"Invalid parameters provided. {format_str}\")\n",
    "        else: \n",
    "            # new_anneal_parameters = [start_temp, max_temp, cycles, holding_steps]\n",
    "            cls.anneal_parameters = new_anneal_parameters\n",
    "            print(\"Anneal parameters set.\")\n",
    "            print(\"Starting temperature is: \", str(new_anneal_parameters[0]))\n",
    "            print(\"Target temperature is: \", str(new_anneal_parameters[1]))\n",
    "            print(\"Number of annealing cycles is: \", str(new_anneal_parameters[2]))\n",
    "            print(\"The quench rate is: \", str(new_anneal_parameters[3]))\n",
    "            print(\"The number of steps per cycle is: \", str(new_anneal_parameters[4]))"
   ]
  }
 ],
 "metadata": {
  "kernelspec": {
   "display_name": "Python 3 (ipykernel)",
   "language": "python",
   "name": "python3"
  },
  "language_info": {
   "codemirror_mode": {
    "name": "ipython",
    "version": 3
   },
   "file_extension": ".py",
   "mimetype": "text/x-python",
   "name": "python",
   "nbconvert_exporter": "python",
   "pygments_lexer": "ipython3",
   "version": "3.12.0"
  }
 },
 "nbformat": 4,
 "nbformat_minor": 5
}
