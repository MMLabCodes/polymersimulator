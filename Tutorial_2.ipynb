{
 "cells": [
  {
   "cell_type": "markdown",
   "id": "7d38ca5a-3d7f-4b19-ad4a-9832096f6c90",
   "metadata": {},
   "source": [
    "We will set up everything as we did in tutorial 1 except we no longer need sw_build_systems and instead now need to work with sw_openmm"
   ]
  },
  {
   "cell_type": "code",
   "execution_count": null,
   "id": "c5030a16-5b27-40db-9e6d-27153a9bcceb",
   "metadata": {},
   "outputs": [],
   "source": [
    "from modules.sw_build_systems import *\n",
    "from modules.sw_openmm import *"
   ]
  },
  {
   "cell_type": "code",
   "execution_count": null,
   "id": "a3c8c7cf-c01e-459c-bc8f-80a26952691a",
   "metadata": {},
   "outputs": [],
   "source": [
    "main_dir = !pwd\n",
    "main_dir = main_dir[0]\n",
    "directories = PolymerSimulatorDirs(main_dir)"
   ]
  },
  {
   "cell_type": "markdown",
   "id": "639cbed4-1cf4-446b-91ae-e42c4e8fb6da",
   "metadata": {},
   "source": [
    "We will define our sw_openmm object as 'simulation' and use this to build and run simulations."
   ]
  },
  {
   "cell_type": "code",
   "execution_count": null,
   "id": "2d546f60-e7f3-45ff-bdf4-8a5a7b9bcdde",
   "metadata": {},
   "outputs": [],
   "source": []
  },
  {
   "cell_type": "code",
   "execution_count": null,
   "id": "b7f080fe-b7cb-4812-ab72-fb987f8ff951",
   "metadata": {},
   "outputs": [],
   "source": []
  },
  {
   "cell_type": "code",
   "execution_count": null,
   "id": "3710fd5b-0b71-45e7-9143-976d7e53637b",
   "metadata": {},
   "outputs": [],
   "source": []
  },
  {
   "cell_type": "code",
   "execution_count": null,
   "id": "ab5160eb-104d-487a-b12e-87a1a86325f8",
   "metadata": {},
   "outputs": [],
   "source": []
  },
  {
   "cell_type": "code",
   "execution_count": null,
   "id": "477f61a4-12b3-4a50-9cb2-e8618ded4cd2",
   "metadata": {},
   "outputs": [],
   "source": []
  }
 ],
 "metadata": {
  "kernelspec": {
   "display_name": "Python 3 (ipykernel)",
   "language": "python",
   "name": "python3"
  },
  "language_info": {
   "codemirror_mode": {
    "name": "ipython",
    "version": 3
   },
   "file_extension": ".py",
   "mimetype": "text/x-python",
   "name": "python",
   "nbconvert_exporter": "python",
   "pygments_lexer": "ipython3",
   "version": "3.12.1"
  }
 },
 "nbformat": 4,
 "nbformat_minor": 5
}
