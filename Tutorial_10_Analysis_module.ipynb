{
 "cells": [
  {
   "cell_type": "markdown",
   "id": "fdf5c520-7043-437b-831a-0827b0ba8db1",
   "metadata": {},
   "source": [
    "# SW_analysis\n",
    "\n",
    "This notebook will cover the basics of the SW_analysis module and how to set up an analysis pipeline. <br>\n",
    "\n",
    "We will first need to import some modules:"
   ]
  },
  {
   "cell_type": "code",
   "execution_count": 1,
   "id": "8b9b9734-be4e-452e-a75c-4d8254538bd2",
   "metadata": {},
   "outputs": [
    {
     "data": {
      "application/vnd.jupyter.widget-view+json": {
       "model_id": "af0336f2e0de4522ae6e7f30ca8b45d9",
       "version_major": 2,
       "version_minor": 0
      },
      "text/plain": []
     },
     "metadata": {},
     "output_type": "display_data"
    },
    {
     "name": "stderr",
     "output_type": "stream",
     "text": [
      "/home/dan/miniconda3/envs/AmberTools23/lib/python3.12/site-packages/MDAnalysisData/base.py:34: DeprecationWarning: pkg_resources is deprecated as an API. See https://setuptools.pypa.io/en/latest/pkg_resources.html\n",
      "  from pkg_resources import resource_string\n"
     ]
    }
   ],
   "source": [
    "from modules.sw_directories import *\n",
    "from modules.sw_analysis import *\n",
    "import os as os"
   ]
  },
  {
   "cell_type": "markdown",
   "id": "83e98eb9-7523-4e34-baeb-8186cb9c3cca",
   "metadata": {},
   "source": [
    "we will setup the manager as always"
   ]
  },
  {
   "cell_type": "code",
   "execution_count": 4,
   "id": "9c1decb6-6402-4866-aa1d-4e336e3d6b70",
   "metadata": {},
   "outputs": [],
   "source": [
    "manager = SnippetSimManage(os.getcwd())"
   ]
  },
  {
   "cell_type": "markdown",
   "id": "41383bd6-e440-4fda-a1dc-a8b303f11f8b",
   "metadata": {},
   "source": [
    "Now we need to pass the name of a simulated system along with its base polymers as given below. <br>\n",
    "\n",
    "*universe = initialise_analysis(manager, \"system_name\", \"polymer_name\", number_of_polymeric_units, sim_index)* <br>\n",
    "\n",
    "**manager** = filepath manager object <br>\n",
    "**system_name** = System name (str) <br>\n",
    "**polymer_name** = Base polymer name (str) <br>\n",
    "**number_of_polymeric_units** = number of polymeric units (int) <br>\n",
    "**sim_index** = which simulation file you want to analyse (int) <br>\n",
    "\n",
    "Explanation of **sim_index**: <br>\n",
    "\n",
    "All simulation files are contained within their own timestamped directory within the directory containing information about that specific system (\"~/polymer_simulator/pdb_files/systems/system_dir\"). If you have only run one simulation leave this blank, but if you have multiple simulation directories put the index of that directory in the **initialise_analysis** command.\n",
    "\n",
    "Do not get confused with MDanalysis' universe object as that is contained the universe object just created. This will be explained more further down.\n",
    "\n",
    "*Note: this analysis pipeline has currently been developed specifally for arrays of polymers that are the same*"
   ]
  },
  {
   "cell_type": "code",
   "execution_count": 6,
   "id": "9418613e-d95d-459e-85c3-558519eff41b",
   "metadata": {},
   "outputs": [
    {
     "name": "stdout",
     "output_type": "stream",
     "text": [
      "Output contains paths to simulation directories.\n"
     ]
    },
    {
     "name": "stderr",
     "output_type": "stream",
     "text": [
      "/home/dan/miniconda3/envs/AmberTools23/lib/python3.12/site-packages/MDAnalysis/coordinates/DCD.py:165: DeprecationWarning: DCDReader currently makes independent timesteps by copying self.ts while other readers update self.ts inplace. This behavior will be changed in 3.0 to be the same as other readers. Read more at https://github.com/MDAnalysis/mdanalysis/issues/3889 to learn if this change in behavior might affect you.\n",
      "  warnings.warn(\"DCDReader currently makes independent timesteps\"\n"
     ]
    }
   ],
   "source": [
    "universe = initialise_analysis(manager, \"3HV_10_polymer_5_5_array_crystal\", \"3HV_10_polymer\", 10)"
   ]
  },
  {
   "cell_type": "markdown",
   "id": "0d9b4655-c4a4-4580-b83d-a4fff92a5673",
   "metadata": {},
   "source": [
    "Now lets see what the **universe** object contains."
   ]
  },
  {
   "cell_type": "code",
   "execution_count": 8,
   "id": "fce0334e-ebc2-40a8-9d76-092990bfeea4",
   "metadata": {},
   "outputs": [
    {
     "data": {
      "text/plain": [
       "'/home/dan/polymersimulator/pdb_files/systems/3HV_10_polymer_5_5_array_crystal/2024-10-19_101153/3HV_10_polymer_5_5_array_crystal_temp_ramp_cool'"
      ]
     },
     "execution_count": 8,
     "metadata": {},
     "output_type": "execute_result"
    }
   ],
   "source": [
    "# Filepath including the filename that will be used to save any graphs\n",
    "universe.output_filename"
   ]
  },
  {
   "cell_type": "code",
   "execution_count": 12,
   "id": "557953c5-0dc8-459b-b460-0a32e26bf972",
   "metadata": {},
   "outputs": [
    {
     "data": {
      "text/plain": [
       "'temp_ramp_cool'"
      ]
     },
     "execution_count": 12,
     "metadata": {},
     "output_type": "execute_result"
    }
   ],
   "source": [
    "# The stage of the simulation we are analysing - current selects 'temp_ramp_cool' by default\n",
    "universe.sim_stage"
   ]
  },
  {
   "cell_type": "code",
   "execution_count": 9,
   "id": "0e6997fa-c036-4e49-91b0-d5d3789e3ac6",
   "metadata": {},
   "outputs": [
    {
     "data": {
      "text/plain": [
       "'/home/dan/polymersimulator/pdb_files/systems/3HV_10_polymer_5_5_array_crystal/2024-10-19_101153/3HV_10_polymer_5_5_array_crystal_temp_ramp_cool_200_700_2024-10-19_101153.txt'"
      ]
     },
     "execution_count": 9,
     "metadata": {},
     "output_type": "execute_result"
    }
   ],
   "source": [
    "# Path to the data file for this stage of the simulation\n",
    "universe.data_file"
   ]
  },
  {
   "cell_type": "code",
   "execution_count": 14,
   "id": "b2ee9ff2-78c0-4062-add5-cdf37b69130c",
   "metadata": {},
   "outputs": [
    {
     "data": {
      "text/html": [
       "<div>\n",
       "<style scoped>\n",
       "    .dataframe tbody tr th:only-of-type {\n",
       "        vertical-align: middle;\n",
       "    }\n",
       "\n",
       "    .dataframe tbody tr th {\n",
       "        vertical-align: top;\n",
       "    }\n",
       "\n",
       "    .dataframe thead th {\n",
       "        text-align: right;\n",
       "    }\n",
       "</style>\n",
       "<table border=\"1\" class=\"dataframe\">\n",
       "  <thead>\n",
       "    <tr style=\"text-align: right;\">\n",
       "      <th></th>\n",
       "      <th>#\"Progress (%)\"</th>\n",
       "      <th>Step</th>\n",
       "      <th>Time (ps)</th>\n",
       "      <th>Potential Energy (kJ/mole)</th>\n",
       "      <th>Kinetic Energy (kJ/mole)</th>\n",
       "      <th>Total Energy (kJ/mole)</th>\n",
       "      <th>Temperature (K)</th>\n",
       "      <th>Box Volume (nm^3)</th>\n",
       "      <th>Density (g/mL)</th>\n",
       "      <th>Speed (ns/day)</th>\n",
       "      <th>Elapsed Time (s)</th>\n",
       "    </tr>\n",
       "  </thead>\n",
       "  <tbody>\n",
       "    <tr>\n",
       "      <th>0</th>\n",
       "      <td>0.0%</td>\n",
       "      <td>1000</td>\n",
       "      <td>1.000000</td>\n",
       "      <td>-16747.627133</td>\n",
       "      <td>22797.933367</td>\n",
       "      <td>6050.306234</td>\n",
       "      <td>582.033780</td>\n",
       "      <td>49.616954</td>\n",
       "      <td>0.852707</td>\n",
       "      <td>0.00</td>\n",
       "      <td>0.000178</td>\n",
       "    </tr>\n",
       "    <tr>\n",
       "      <th>1</th>\n",
       "      <td>0.0%</td>\n",
       "      <td>2000</td>\n",
       "      <td>2.000000</td>\n",
       "      <td>-14414.638988</td>\n",
       "      <td>25615.940873</td>\n",
       "      <td>11201.301886</td>\n",
       "      <td>653.977825</td>\n",
       "      <td>49.619706</td>\n",
       "      <td>0.852659</td>\n",
       "      <td>5.02</td>\n",
       "      <td>17.198891</td>\n",
       "    </tr>\n",
       "    <tr>\n",
       "      <th>2</th>\n",
       "      <td>0.0%</td>\n",
       "      <td>3000</td>\n",
       "      <td>3.000000</td>\n",
       "      <td>-12865.942920</td>\n",
       "      <td>26737.564084</td>\n",
       "      <td>13871.621164</td>\n",
       "      <td>682.612991</td>\n",
       "      <td>50.401552</td>\n",
       "      <td>0.839433</td>\n",
       "      <td>5.02</td>\n",
       "      <td>34.427428</td>\n",
       "    </tr>\n",
       "    <tr>\n",
       "      <th>3</th>\n",
       "      <td>0.0%</td>\n",
       "      <td>4000</td>\n",
       "      <td>4.000000</td>\n",
       "      <td>-12598.692225</td>\n",
       "      <td>27028.011022</td>\n",
       "      <td>14429.318796</td>\n",
       "      <td>690.028134</td>\n",
       "      <td>50.493387</td>\n",
       "      <td>0.837906</td>\n",
       "      <td>5.02</td>\n",
       "      <td>51.604559</td>\n",
       "    </tr>\n",
       "    <tr>\n",
       "      <th>4</th>\n",
       "      <td>0.1%</td>\n",
       "      <td>5000</td>\n",
       "      <td>5.000000</td>\n",
       "      <td>-12255.823126</td>\n",
       "      <td>27422.873402</td>\n",
       "      <td>15167.050276</td>\n",
       "      <td>700.109014</td>\n",
       "      <td>50.660524</td>\n",
       "      <td>0.835142</td>\n",
       "      <td>5.02</td>\n",
       "      <td>68.809031</td>\n",
       "    </tr>\n",
       "    <tr>\n",
       "      <th>...</th>\n",
       "      <td>...</td>\n",
       "      <td>...</td>\n",
       "      <td>...</td>\n",
       "      <td>...</td>\n",
       "      <td>...</td>\n",
       "      <td>...</td>\n",
       "      <td>...</td>\n",
       "      <td>...</td>\n",
       "      <td>...</td>\n",
       "      <td>...</td>\n",
       "      <td>...</td>\n",
       "    </tr>\n",
       "    <tr>\n",
       "      <th>9994</th>\n",
       "      <td>100.0%</td>\n",
       "      <td>9995000</td>\n",
       "      <td>9995.000002</td>\n",
       "      <td>-36765.676237</td>\n",
       "      <td>8010.294958</td>\n",
       "      <td>-28755.381279</td>\n",
       "      <td>204.503723</td>\n",
       "      <td>37.989522</td>\n",
       "      <td>1.113694</td>\n",
       "      <td>4.97</td>\n",
       "      <td>173827.726923</td>\n",
       "    </tr>\n",
       "    <tr>\n",
       "      <th>9995</th>\n",
       "      <td>100.0%</td>\n",
       "      <td>9996000</td>\n",
       "      <td>9996.000002</td>\n",
       "      <td>-36817.173135</td>\n",
       "      <td>7759.087932</td>\n",
       "      <td>-29058.085203</td>\n",
       "      <td>198.090380</td>\n",
       "      <td>37.982612</td>\n",
       "      <td>1.113897</td>\n",
       "      <td>4.97</td>\n",
       "      <td>173845.263016</td>\n",
       "    </tr>\n",
       "    <tr>\n",
       "      <th>9996</th>\n",
       "      <td>100.0%</td>\n",
       "      <td>9997000</td>\n",
       "      <td>9997.000002</td>\n",
       "      <td>-36432.558084</td>\n",
       "      <td>7721.347826</td>\n",
       "      <td>-28711.210258</td>\n",
       "      <td>197.126871</td>\n",
       "      <td>37.682414</td>\n",
       "      <td>1.122771</td>\n",
       "      <td>4.97</td>\n",
       "      <td>173862.941502</td>\n",
       "    </tr>\n",
       "    <tr>\n",
       "      <th>9997</th>\n",
       "      <td>100.0%</td>\n",
       "      <td>9998000</td>\n",
       "      <td>9998.000002</td>\n",
       "      <td>-36645.544708</td>\n",
       "      <td>7719.197581</td>\n",
       "      <td>-28926.347127</td>\n",
       "      <td>197.071975</td>\n",
       "      <td>37.840875</td>\n",
       "      <td>1.118069</td>\n",
       "      <td>4.97</td>\n",
       "      <td>173880.484054</td>\n",
       "    </tr>\n",
       "    <tr>\n",
       "      <th>9998</th>\n",
       "      <td>100.0%</td>\n",
       "      <td>9999000</td>\n",
       "      <td>9999.000002</td>\n",
       "      <td>-36720.422548</td>\n",
       "      <td>7662.998313</td>\n",
       "      <td>-29057.424234</td>\n",
       "      <td>195.637201</td>\n",
       "      <td>37.933947</td>\n",
       "      <td>1.115326</td>\n",
       "      <td>4.97</td>\n",
       "      <td>173898.068154</td>\n",
       "    </tr>\n",
       "  </tbody>\n",
       "</table>\n",
       "<p>9999 rows × 11 columns</p>\n",
       "</div>"
      ],
      "text/plain": [
       "     #\"Progress (%)\"     Step    Time (ps)  Potential Energy (kJ/mole)  \\\n",
       "0               0.0%     1000     1.000000               -16747.627133   \n",
       "1               0.0%     2000     2.000000               -14414.638988   \n",
       "2               0.0%     3000     3.000000               -12865.942920   \n",
       "3               0.0%     4000     4.000000               -12598.692225   \n",
       "4               0.1%     5000     5.000000               -12255.823126   \n",
       "...              ...      ...          ...                         ...   \n",
       "9994          100.0%  9995000  9995.000002               -36765.676237   \n",
       "9995          100.0%  9996000  9996.000002               -36817.173135   \n",
       "9996          100.0%  9997000  9997.000002               -36432.558084   \n",
       "9997          100.0%  9998000  9998.000002               -36645.544708   \n",
       "9998          100.0%  9999000  9999.000002               -36720.422548   \n",
       "\n",
       "      Kinetic Energy (kJ/mole)  Total Energy (kJ/mole)  Temperature (K)  \\\n",
       "0                 22797.933367             6050.306234       582.033780   \n",
       "1                 25615.940873            11201.301886       653.977825   \n",
       "2                 26737.564084            13871.621164       682.612991   \n",
       "3                 27028.011022            14429.318796       690.028134   \n",
       "4                 27422.873402            15167.050276       700.109014   \n",
       "...                        ...                     ...              ...   \n",
       "9994               8010.294958           -28755.381279       204.503723   \n",
       "9995               7759.087932           -29058.085203       198.090380   \n",
       "9996               7721.347826           -28711.210258       197.126871   \n",
       "9997               7719.197581           -28926.347127       197.071975   \n",
       "9998               7662.998313           -29057.424234       195.637201   \n",
       "\n",
       "      Box Volume (nm^3)  Density (g/mL)  Speed (ns/day)  Elapsed Time (s)  \n",
       "0             49.616954        0.852707            0.00          0.000178  \n",
       "1             49.619706        0.852659            5.02         17.198891  \n",
       "2             50.401552        0.839433            5.02         34.427428  \n",
       "3             50.493387        0.837906            5.02         51.604559  \n",
       "4             50.660524        0.835142            5.02         68.809031  \n",
       "...                 ...             ...             ...               ...  \n",
       "9994          37.989522        1.113694            4.97     173827.726923  \n",
       "9995          37.982612        1.113897            4.97     173845.263016  \n",
       "9996          37.682414        1.122771            4.97     173862.941502  \n",
       "9997          37.840875        1.118069            4.97     173880.484054  \n",
       "9998          37.933947        1.115326            4.97     173898.068154  \n",
       "\n",
       "[9999 rows x 11 columns]"
      ]
     },
     "execution_count": 14,
     "metadata": {},
     "output_type": "execute_result"
    }
   ],
   "source": [
    "# The datafile as a pandas dataframe\n",
    "universe.data"
   ]
  },
  {
   "cell_type": "code",
   "execution_count": 16,
   "id": "7e769ccd-bff7-483a-abde-9ab64a1e488b",
   "metadata": {},
   "outputs": [
    {
     "data": {
      "text/plain": [
       "'/home/dan/polymersimulator/pdb_files/systems/3HV_10_polymer_5_5_array_crystal/3HV_10_polymer_5_5_array_crystal.prmtop'"
      ]
     },
     "execution_count": 16,
     "metadata": {},
     "output_type": "execute_result"
    }
   ],
   "source": [
    "# Path to the topology file for this simulation\n",
    "universe.topology"
   ]
  },
  {
   "cell_type": "code",
   "execution_count": 17,
   "id": "f6b7bdd3-a4cc-40df-867d-1c9201c16def",
   "metadata": {},
   "outputs": [
    {
     "data": {
      "text/plain": [
       "'.dcd'"
      ]
     },
     "execution_count": 17,
     "metadata": {},
     "output_type": "execute_result"
    }
   ],
   "source": [
    "# Format of the trajectory file - .dcd by default but this can be changed if you want to analyse .pdb trajectories\n",
    "universe.traj_format"
   ]
  },
  {
   "cell_type": "markdown",
   "id": "f63a5524-75f4-4889-8058-e1783d46dad8",
   "metadata": {},
   "source": [
    "There are also a couple of methods shown below included in this class."
   ]
  },
  {
   "cell_type": "code",
   "execution_count": 19,
   "id": "2ff2627e-c938-4e15-a7db-6d7170fdb9c5",
   "metadata": {},
   "outputs": [
    {
     "data": {
      "text/plain": [
       "<AtomGroup with 153 atoms>"
      ]
     },
     "execution_count": 19,
     "metadata": {},
     "output_type": "execute_result"
    }
   ],
   "source": [
    "# Function to select of of the atoms within an individual polymer within the system\n",
    "universe.select_polymer(\"Polymer_1\")"
   ]
  },
  {
   "cell_type": "code",
   "execution_count": 22,
   "id": "1d263d3a-61e1-4f8d-a14b-a45f0b175dca",
   "metadata": {},
   "outputs": [
    {
     "data": {
      "text/plain": [
       "'3HV_10_polymer_5_5_array_crystal_temp_ramp_cool_200_700_2024-10-19_101153.txt'"
      ]
     },
     "execution_count": 22,
     "metadata": {},
     "output_type": "execute_result"
    }
   ],
   "source": [
    "# Function to select data file (if False) or trajectory file (if True)\n",
    "universe.select_file(False)"
   ]
  },
  {
   "cell_type": "code",
   "execution_count": 24,
   "id": "e986a691-0402-47da-8bd3-3b85d6e02f94",
   "metadata": {},
   "outputs": [
    {
     "data": {
      "text/plain": [
       "'3HV_10_polymer_5_5_array_crystal_temp_ramp_cool_200_700_2024-10-19_101153.dcd'"
      ]
     },
     "execution_count": 24,
     "metadata": {},
     "output_type": "execute_result"
    }
   ],
   "source": [
    "# Function to select data file (if False) or trajectory file (if True)\n",
    "universe.select_file(True)"
   ]
  },
  {
   "cell_type": "markdown",
   "id": "c0efe6d2-6a5f-43c3-bf7c-66aacd853bc0",
   "metadata": {},
   "source": [
    "# universe.masterclass\n",
    "\n",
    "The above attributes and methods are associated with the specific universe for a specific stage of the simualtion. However, we also have a **masterclass** attribute that contains information about the system that is independant of any specific simulation."
   ]
  },
  {
   "cell_type": "code",
   "execution_count": 25,
   "id": "781f786d-53e4-499d-b76d-5404dfc5730c",
   "metadata": {},
   "outputs": [
    {
     "data": {
      "text/plain": [
       "<modules.sw_analysis.master_anal at 0x7f6e4a5544a0>"
      ]
     },
     "execution_count": 25,
     "metadata": {},
     "output_type": "execute_result"
    }
   ],
   "source": [
    "# Calling the masterclass attribute\n",
    "universe.masterclass"
   ]
  },
  {
   "cell_type": "code",
   "execution_count": 26,
   "id": "9177fb2e-679b-4a6e-9e2d-d68e4d6126f8",
   "metadata": {},
   "outputs": [
    {
     "data": {
      "text/plain": [
       "'3HV_10_polymer_5_5_array_crystal'"
      ]
     },
     "execution_count": 26,
     "metadata": {},
     "output_type": "execute_result"
    }
   ],
   "source": [
    "# System name\n",
    "universe.masterclass.system_name"
   ]
  },
  {
   "cell_type": "code",
   "execution_count": 27,
   "id": "f90cded5-043c-458a-95de-700e0e097510",
   "metadata": {},
   "outputs": [
    {
     "data": {
      "text/plain": [
       "defaultdict(list,\n",
       "            {'1_atm': ['3HV_10_polymer_5_5_array_crystal_1_atm_2024-10-19_101153.txt',\n",
       "              '3HV_10_polymer_5_5_array_crystal_1_atm_2024-10-19_101153.dcd',\n",
       "              '3HV_10_polymer_5_5_array_crystal_1_atm_2024-10-19_101153.pdb'],\n",
       "             'temp_ramp_heat': ['3HV_10_polymer_5_5_array_crystal_temp_ramp_heat_300_700_2024-10-19_101153.txt',\n",
       "              '3HV_10_polymer_5_5_array_crystal_temp_ramp_heat_300_700_2024-10-19_101153.pdb',\n",
       "              '3HV_10_polymer_5_5_array_crystal_temp_ramp_heat_300_700_2024-10-19_101153.dcd'],\n",
       "             'min': ['min_3HV_10_polymer_5_5_array_crystal.pdb',\n",
       "              '3HV_10_polymer_5_5_array_crystal_temp_ramp_cool_min_energy.pdb',\n",
       "              'temp_ramp_cool_min_energy.pdb'],\n",
       "             'temp_ramp_cool': ['3HV_10_polymer_5_5_array_crystal_temp_ramp_cool_200_700_2024-10-19_101153.txt',\n",
       "              '3HV_10_polymer_5_5_array_crystal_temp_ramp_cool_200_700_2024-10-19_101153.pdb',\n",
       "              '3HV_10_polymer_5_5_array_crystal_temp_ramp_cool_min_energy.pdb',\n",
       "              '3HV_10_polymer_5_5_array_crystal_temp_ramp_cool_200_700_2024-10-19_101153.dcd',\n",
       "              'temp_ramp_cool_min_energy.pdb']})"
      ]
     },
     "execution_count": 27,
     "metadata": {},
     "output_type": "execute_result"
    }
   ],
   "source": [
    "# The files available in this simulation directory for analysis\n",
    "universe.masterclass.simulation_files"
   ]
  },
  {
   "cell_type": "code",
   "execution_count": 28,
   "id": "01b99fb3-71ce-440e-ba0f-6e728a7e9c88",
   "metadata": {},
   "outputs": [
    {
     "data": {
      "text/plain": [
       "['1_atm', 'temp_ramp_heat', 'min', 'temp_ramp_cool']"
      ]
     },
     "execution_count": 28,
     "metadata": {},
     "output_type": "execute_result"
    }
   ],
   "source": [
    "# The simulation stages in this simulation\n",
    "universe.masterclass.simulation_stages"
   ]
  },
  {
   "cell_type": "code",
   "execution_count": 29,
   "id": "adef4f42-6dd3-4fa4-bb6f-b0e5fcbc29fd",
   "metadata": {},
   "outputs": [
    {
     "data": {
      "text/plain": [
       "'/home/dan/polymersimulator/pdb_files/systems/3HV_10_polymer_5_5_array_crystal/2024-10-19_101153'"
      ]
     },
     "execution_count": 29,
     "metadata": {},
     "output_type": "execute_result"
    }
   ],
   "source": [
    "# The directory for this specific simulation\n",
    "universe.masterclass.simulation_directory"
   ]
  },
  {
   "cell_type": "code",
   "execution_count": 30,
   "id": "11c13432-a4ba-462f-925a-d894d0b3337d",
   "metadata": {},
   "outputs": [
    {
     "data": {
      "text/plain": [
       "10"
      ]
     },
     "execution_count": 30,
     "metadata": {},
     "output_type": "execute_result"
    }
   ],
   "source": [
    "# The length of polymers within the system\n",
    "universe.masterclass.poly_length"
   ]
  },
  {
   "cell_type": "code",
   "execution_count": 31,
   "id": "05cb8be3-57ca-4822-84b9-384d58b1d0b0",
   "metadata": {},
   "outputs": [
    {
     "data": {
      "text/plain": [
       "'/home/dan/polymersimulator/pdb_files/systems/3HV_10_polymer/3HV_10_polymer.pdb'"
      ]
     },
     "execution_count": 31,
     "metadata": {},
     "output_type": "execute_result"
    }
   ],
   "source": [
    "# Filepath of the base polymer pdb\n",
    "universe.masterclass.base_pdb"
   ]
  },
  {
   "cell_type": "code",
   "execution_count": 32,
   "id": "9ab17c65-0fee-466a-9745-2ac5cf1fab59",
   "metadata": {},
   "outputs": [
    {
     "data": {
      "text/plain": [
       "965.7129483222452"
      ]
     },
     "execution_count": 32,
     "metadata": {},
     "output_type": "execute_result"
    }
   ],
   "source": [
    "# The volume in Angstroms cubed of the base polymer\n",
    "universe.masterclass.base_poly_vol"
   ]
  },
  {
   "cell_type": "code",
   "execution_count": 33,
   "id": "08398481-bd68-487e-9c00-242304037356",
   "metadata": {},
   "outputs": [
    {
     "data": {
      "text/plain": [
       "'/home/dan/polymersimulator/pdb_files/systems/3HV_10_polymer_5_5_array_crystal/2024-10-19_101153/min_3HV_10_polymer_5_5_array_crystal.pdb'"
      ]
     },
     "execution_count": 33,
     "metadata": {},
     "output_type": "execute_result"
    }
   ],
   "source": [
    "# Filepath of the minized energy structure at the beginning of the simulation\n",
    "universe.masterclass.min_filepath"
   ]
  },
  {
   "cell_type": "code",
   "execution_count": 34,
   "id": "509edea3-f1ab-4162-aa47-caf07df862c5",
   "metadata": {},
   "outputs": [
    {
     "data": {
      "text/plain": [
       "25"
      ]
     },
     "execution_count": 34,
     "metadata": {},
     "output_type": "execute_result"
    }
   ],
   "source": [
    "# The number of polymers in the system\n",
    "universe.masterclass.number_of_polymers"
   ]
  },
  {
   "cell_type": "code",
   "execution_count": 35,
   "id": "809c330d-d186-4683-b5b4-755ed2824ec5",
   "metadata": {},
   "outputs": [
    {
     "data": {
      "text/plain": [
       "{'Polymer_1': [1, 2, 3, 4, 5, 6, 7, 8, 9, 10],\n",
       " 'Polymer_2': [11, 12, 13, 14, 15, 16, 17, 18, 19, 20],\n",
       " 'Polymer_3': [21, 22, 23, 24, 25, 26, 27, 28, 29, 30],\n",
       " 'Polymer_4': [31, 32, 33, 34, 35, 36, 37, 38, 39, 40],\n",
       " 'Polymer_5': [41, 42, 43, 44, 45, 46, 47, 48, 49, 50],\n",
       " 'Polymer_6': [51, 52, 53, 54, 55, 56, 57, 58, 59, 60],\n",
       " 'Polymer_7': [61, 62, 63, 64, 65, 66, 67, 68, 69, 70],\n",
       " 'Polymer_8': [71, 72, 73, 74, 75, 76, 77, 78, 79, 80],\n",
       " 'Polymer_9': [81, 82, 83, 84, 85, 86, 87, 88, 89, 90],\n",
       " 'Polymer_10': [91, 92, 93, 94, 95, 96, 97, 98, 99, 100],\n",
       " 'Polymer_11': [101, 102, 103, 104, 105, 106, 107, 108, 109, 110],\n",
       " 'Polymer_12': [111, 112, 113, 114, 115, 116, 117, 118, 119, 120],\n",
       " 'Polymer_13': [121, 122, 123, 124, 125, 126, 127, 128, 129, 130],\n",
       " 'Polymer_14': [131, 132, 133, 134, 135, 136, 137, 138, 139, 140],\n",
       " 'Polymer_15': [141, 142, 143, 144, 145, 146, 147, 148, 149, 150],\n",
       " 'Polymer_16': [151, 152, 153, 154, 155, 156, 157, 158, 159, 160],\n",
       " 'Polymer_17': [161, 162, 163, 164, 165, 166, 167, 168, 169, 170],\n",
       " 'Polymer_18': [171, 172, 173, 174, 175, 176, 177, 178, 179, 180],\n",
       " 'Polymer_19': [181, 182, 183, 184, 185, 186, 187, 188, 189, 190],\n",
       " 'Polymer_20': [191, 192, 193, 194, 195, 196, 197, 198, 199, 200],\n",
       " 'Polymer_21': [201, 202, 203, 204, 205, 206, 207, 208, 209, 210],\n",
       " 'Polymer_22': [211, 212, 213, 214, 215, 216, 217, 218, 219, 220],\n",
       " 'Polymer_23': [221, 222, 223, 224, 225, 226, 227, 228, 229, 230],\n",
       " 'Polymer_24': [231, 232, 233, 234, 235, 236, 237, 238, 239, 240],\n",
       " 'Polymer_25': [241, 242, 243, 244, 245, 246, 247, 248, 249, 250]}"
      ]
     },
     "execution_count": 35,
     "metadata": {},
     "output_type": "execute_result"
    }
   ],
   "source": [
    "# List of polymers we can select and their res ids\n",
    "universe.masterclass.poly_sel_dict"
   ]
  },
  {
   "cell_type": "code",
   "execution_count": 36,
   "id": "f6d37c9a-df72-4c0a-a658-27d3c14d0e67",
   "metadata": {},
   "outputs": [
    {
     "data": {
      "text/plain": [
       "{'hDY', 'mDY', 'tDY'}"
      ]
     },
     "execution_count": 36,
     "metadata": {},
     "output_type": "execute_result"
    }
   ],
   "source": [
    "# The residue codes found in the system\n",
    "universe.masterclass.residue_codes"
   ]
  },
  {
   "cell_type": "code",
   "execution_count": 38,
   "id": "0c74b9f7-280b-47ca-ac83-2224bb0c15a6",
   "metadata": {},
   "outputs": [
    {
     "data": {
      "text/plain": [
       "24142.82370805613"
      ]
     },
     "execution_count": 38,
     "metadata": {},
     "output_type": "execute_result"
    }
   ],
   "source": [
    "# The volume of all of the atoms within the system\n",
    "universe.masterclass.system_vol"
   ]
  }
 ],
 "metadata": {
  "kernelspec": {
   "display_name": "Python 3 (ipykernel)",
   "language": "python",
   "name": "python3"
  },
  "language_info": {
   "codemirror_mode": {
    "name": "ipython",
    "version": 3
   },
   "file_extension": ".py",
   "mimetype": "text/x-python",
   "name": "python",
   "nbconvert_exporter": "python",
   "pygments_lexer": "ipython3",
   "version": "3.12.0"
  }
 },
 "nbformat": 4,
 "nbformat_minor": 5
}
