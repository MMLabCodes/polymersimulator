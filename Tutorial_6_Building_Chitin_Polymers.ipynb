{
 "cells": [
  {
   "cell_type": "markdown",
   "id": "92221352-fc0a-4be2-9096-2c0759999650",
   "metadata": {},
   "source": [
    "# This notebook will cover the parameterization of chitin polymers\n",
    "Parameterization is carried out using AmberTools and GAFF (generalized amber forcefield)"
   ]
  },
  {
   "cell_type": "markdown",
   "id": "016cd4e7-0cb0-4d58-9030-186d055aeca2",
   "metadata": {},
   "source": [
    "# Importing python modules\n",
    "\n",
    "The first module to import is **sw_directories** so we can use the **SnippetSimManage** class.\n",
    "\n",
    "The second module to import is **sw_build_systems** so we can use the **BuildAmberSystems** class. \n",
    "\n",
    "The preceeding tutorials explain these python classes and how to use them."
   ]
  },
  {
   "cell_type": "code",
   "execution_count": 2,
   "id": "91174a52-98d4-4c45-844f-71f301970dea",
   "metadata": {},
   "outputs": [],
   "source": [
    "from modules.sw_directories import *\n",
    "from modules.sw_build_systems import *\n",
    "import os as os"
   ]
  },
  {
   "cell_type": "markdown",
   "id": "9a0a8c57-d742-44c7-8863-8a1216d8d8da",
   "metadata": {},
   "source": [
    "# Setting up *Manager* and *Builder* classes"
   ]
  },
  {
   "cell_type": "code",
   "execution_count": 3,
   "id": "5f899113-69ed-4d7c-9225-116698e371b1",
   "metadata": {},
   "outputs": [],
   "source": [
    "# Retrieve the path to our main directory\n",
    "main_dir = os.getcwd()\n",
    "\n",
    "# Pass this main directory to the SnippetSimManage class and assign it an appropriate variable name.\n",
    "manager = SnippetSimManage(main_dir)"
   ]
  },
  {
   "cell_type": "code",
   "execution_count": 4,
   "id": "8fbbcc64-2abf-4248-8a53-3d07f150968a",
   "metadata": {},
   "outputs": [],
   "source": [
    "# Set up the builder by passing the manager to the \"BuildAmberSystems\" class\n",
    "builder = BuildAmberSystems(manager)"
   ]
  },
  {
   "attachments": {
    "7fafbe71-8547-4db2-856d-92526375e1ed.png": {
     "image/png": "[encoded data removed]"
    }
   },
   "cell_type": "markdown",
   "id": "f1181c67-2800-42d5-85c2-8aecf387d5dd",
   "metadata": {},
   "source": [
    "Now we can generate the chitin trimer\n",
    "\n",
    "![image.png](attachment:7fafbe71-8547-4db2-856d-92526375e1ed.png)"
   ]
  },
  {
   "cell_type": "code",
   "execution_count": 6,
   "id": "9f290c42-6946-4b75-8270-5dca4d66cef8",
   "metadata": {},
   "outputs": [],
   "source": [
    "# Method to build a pdb file for the trimer and generate a residue code for it\n",
    "builder.SmilesToPDB_GenResCode('CC(=O)NC1C(OC(C(C1O)COCC2C(C(C(C(O2)CO)O)O)NC(=O)C)CO)COCC3C(OC(C(C3O)NC(=O)C)O)CO', 'chitin_trimer')"
   ]
  },
  {
   "cell_type": "code",
   "execution_count": 7,
   "id": "c3152295-d027-4b76-a176-cf28871dc2fb",
   "metadata": {},
   "outputs": [
    {
     "name": "stdout",
     "output_type": "stream",
     "text": [
      "/home/dan/polymersimulator/pdb_files/chitin_trimer.pdb\n"
     ]
    }
   ],
   "source": [
    "# Now we can check if this .pdb file exists using a method from tutorial 1\n",
    "pdb_file = manager.load_pdb_filepath(\"chitin_trimer\")\n",
    "\n",
    "# Print the pdb filepath\n",
    "print(pdb_file)"
   ]
  },
  {
   "cell_type": "markdown",
   "id": "f7d9812e-1458-418f-a1c3-3902013d75dd",
   "metadata": {},
   "source": [
    "Now we need to parameterize the chitin trimer"
   ]
  },
  {
   "cell_type": "code",
   "execution_count": null,
   "id": "2aef69df-3a82-493a-a170-08bc8f4603b1",
   "metadata": {
    "scrolled": true
   },
   "outputs": [],
   "source": [
    "# Parameterize the chitin trimer\n",
    "builder.parameterize_mol(\"chitin_trimer\")"
   ]
  },
  {
   "cell_type": "markdown",
   "id": "ce799d25-3319-438a-a941-5df371f664e9",
   "metadata": {},
   "source": [
    "Now we need to generate polymeric unit residue codes"
   ]
  },
  {
   "cell_type": "code",
   "execution_count": null,
   "id": "0a9ab8f0-bb27-4ae5-8585-62321a6a258a",
   "metadata": {},
   "outputs": [],
   "source": [
    "# Method for generating residue codes for different polymeric units - pass a trimer that has a residue code assigned\n",
    "builder.GenRescode_4_PolyUnits(\"chitin_trimer\")"
   ]
  },
  {
   "cell_type": "code",
   "execution_count": null,
   "id": "8b7848dc-f7b1-4fcf-afcc-56ad0dd2666b",
   "metadata": {},
   "outputs": [],
   "source": [
    "# Check if the chitin trimer was parameterized by seeing if the mol2 file was generated\n",
    "output = manager.load_mol2_filepath(\"chitin_trimer\")\n",
    "output"
   ]
  },
  {
   "cell_type": "markdown",
   "id": "8f2de019-4610-4983-80ac-2a9feabca60e",
   "metadata": {},
   "source": [
    "Now we need to load the molecule in xleap and see what atoms need to be contained in the text files that will be passed to prepgen"
   ]
  },
  {
   "cell_type": "code",
   "execution_count": null,
   "id": "daf7160c-b4e6-4d92-9423-f8455594704a",
   "metadata": {},
   "outputs": [],
   "source": []
  },
  {
   "cell_type": "code",
   "execution_count": null,
   "id": "629702b1-6283-4826-95a4-6e908f24f454",
   "metadata": {},
   "outputs": [],
   "source": []
  },
  {
   "cell_type": "code",
   "execution_count": null,
   "id": "4f10573b-e90e-4ce4-88d8-979f75e376b6",
   "metadata": {},
   "outputs": [],
   "source": []
  },
  {
   "cell_type": "code",
   "execution_count": null,
   "id": "abd6604a-ddba-424a-8cb0-67fcdbd40f33",
   "metadata": {},
   "outputs": [],
   "source": []
  }
 ],
 "metadata": {
  "kernelspec": {
   "display_name": "Python 3 (ipykernel)",
   "language": "python",
   "name": "python3"
  },
  "language_info": {
   "codemirror_mode": {
    "name": "ipython",
    "version": 3
   },
   "file_extension": ".py",
   "mimetype": "text/x-python",
   "name": "python",
   "nbconvert_exporter": "python",
   "pygments_lexer": "ipython3",
   "version": "3.12.0"
  }
 },
 "nbformat": 4,
 "nbformat_minor": 5
}
