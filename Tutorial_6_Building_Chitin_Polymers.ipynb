{
 "cells": [
  {
   "cell_type": "markdown",
   "id": "92221352-fc0a-4be2-9096-2c0759999650",
   "metadata": {},
   "source": [
    "# This notebook will cover the parameterization of chitin polymers\n",
    "Parameterization is carried out using AmberTools and GAFF (generalized amber forcefield)"
   ]
  },
  {
   "cell_type": "markdown",
   "id": "016cd4e7-0cb0-4d58-9030-186d055aeca2",
   "metadata": {},
   "source": [
    "# Importing python modules\n",
    "\n",
    "The first module to import is **sw_directories** so we can use the **SnippetSimManage** class.\n",
    "\n",
    "The second module to import is **sw_build_systems** so we can use the **BuildAmberSystems** class. \n",
    "\n",
    "The preceeding tutorials explain these python classes and how to use them."
   ]
  },
  {
   "cell_type": "code",
   "execution_count": 1,
   "id": "91174a52-98d4-4c45-844f-71f301970dea",
   "metadata": {},
   "outputs": [],
   "source": [
    "from modules.sw_directories import *\n",
    "from modules.sw_build_systems import *\n",
    "import os as os"
   ]
  },
  {
   "cell_type": "markdown",
   "id": "9a0a8c57-d742-44c7-8863-8a1216d8d8da",
   "metadata": {},
   "source": [
    "# Setting up *Manager* and *Builder* classes"
   ]
  },
  {
   "cell_type": "code",
   "execution_count": 2,
   "id": "5f899113-69ed-4d7c-9225-116698e371b1",
   "metadata": {},
   "outputs": [],
   "source": [
    "# Retrieve the path to our main directory\n",
    "main_dir = os.getcwd()\n",
    "\n",
    "# Pass this main directory to the SnippetSimManage class and assign it an appropriate variable name.\n",
    "manager = SnippetSimManage(main_dir)"
   ]
  },
  {
   "cell_type": "code",
   "execution_count": 3,
   "id": "8fbbcc64-2abf-4248-8a53-3d07f150968a",
   "metadata": {},
   "outputs": [],
   "source": [
    "# Set up the builder by passing the manager to the \"BuildAmberSystems\" class\n",
    "builder = BuildAmberSystems(manager)"
   ]
  },
  {
   "attachments": {
    "7fafbe71-8547-4db2-856d-92526375e1ed.png": {
     "image/png": "[encoded data removed]"
    }
   },
   "cell_type": "markdown",
   "id": "f1181c67-2800-42d5-85c2-8aecf387d5dd",
   "metadata": {},
   "source": [
    "Now we can generate the chitin trimer\n",
    "\n",
    "![image.png](attachment:7fafbe71-8547-4db2-856d-92526375e1ed.png)"
   ]
  },
  {
   "cell_type": "code",
   "execution_count": 4,
   "id": "9f290c42-6946-4b75-8270-5dca4d66cef8",
   "metadata": {},
   "outputs": [],
   "source": [
    "# Method to build a pdb file for the trimer and generate a residue code for it\n",
    "builder.SmilesToPDB_GenResCode('CC(=O)NC1C(OC(C(C1O)COCC2C(C(C(C(O2)CO)O)O)NC(=O)C)CO)COCC3C(OC(C(C3O)NC(=O)C)O)CO', 'chitin_trimer')"
   ]
  },
  {
   "cell_type": "code",
   "execution_count": 5,
   "id": "c3152295-d027-4b76-a176-cf28871dc2fb",
   "metadata": {},
   "outputs": [
    {
     "name": "stdout",
     "output_type": "stream",
     "text": [
      "/home/dan/polymersimulator/pdb_files/chitin_trimer.pdb\n"
     ]
    }
   ],
   "source": [
    "# Now we can check if this .pdb file exists using a method from tutorial 1\n",
    "pdb_file = manager.load_pdb_filepath(\"chitin_trimer\")\n",
    "\n",
    "# Print the pdb filepath\n",
    "print(pdb_file)"
   ]
  },
  {
   "cell_type": "markdown",
   "id": "f7d9812e-1458-418f-a1c3-3902013d75dd",
   "metadata": {},
   "source": [
    "Now we need to parameterize the chitin trimer"
   ]
  },
  {
   "cell_type": "code",
   "execution_count": 6,
   "id": "2aef69df-3a82-493a-a170-08bc8f4603b1",
   "metadata": {
    "scrolled": true
   },
   "outputs": [
    {
     "name": "stdout",
     "output_type": "stream",
     "text": [
      "Output: \n",
      "Welcome to antechamber 22.0: molecular input file processor.\n",
      "\n",
      "Info: acdoctor mode is on: check and diagnose problems in the input file.\n",
      "Info: The atom type is set to gaff; the options available to the -at flag are\n",
      "      gaff, gaff2, amber, bcc, and sybyl.\n",
      "\n",
      "-- Check Format for pdb File --\n",
      "   Status: pass\n",
      "Info: Determining atomic numbers from atomic symbols which are case sensitive.\n",
      "-- Check Unusual Elements --\n",
      "   Status: pass\n",
      "-- Check Open Valences --\n",
      "   Status: pass\n",
      "-- Check Geometry --\n",
      "      for those bonded   \n",
      "      for those not bonded   \n",
      "   Status: pass\n",
      "-- Check Weird Bonds --\n",
      "   Status: pass\n",
      "-- Check Number of Units --\n",
      "   Status: pass\n",
      "acdoctor mode has completed checking the input file.\n",
      "\n",
      "Running: /home/dan/miniconda3/envs/AmberTools23/bin/bondtype -j full -i ANTECHAMBER_BOND_TYPE.AC0 -o ANTECHAMBER_BOND_TYPE.AC -f ac\n",
      "\n",
      "Running: /home/dan/miniconda3/envs/AmberTools23/bin/atomtype -i ANTECHAMBER_AC.AC0 -o ANTECHAMBER_AC.AC -p gaff\n",
      "Info: Total number of electrons: 366; net charge: 0\n",
      "\n",
      "Running: /home/dan/miniconda3/envs/AmberTools23/bin/sqm -O -i sqm.in -o sqm.out\n",
      "\n",
      "Running: /home/dan/miniconda3/envs/AmberTools23/bin/am1bcc -i ANTECHAMBER_AM1BCC_PRE.AC -o ANTECHAMBER_AM1BCC.AC -f ac -p /home/dan/miniconda3/envs/AmberTools23/dat/antechamber/BCCPARM.DAT -s 2 -j 1\n",
      "\n",
      "Running: /home/dan/miniconda3/envs/AmberTools23/bin/atomtype -f ac -p bcc -o ANTECHAMBER_AM1BCC.AC -i ANTECHAMBER_AM1BCC_PRE.AC\n",
      "\n",
      "Running: /home/dan/miniconda3/envs/AmberTools23/bin/prepgen -i ANTECHAMBER_PREP.AC -f int -o /home/dan/polymersimulator/pdb_files/molecules/chitin_trimer/chitin_trimer.prepi -rn \"ADH\" -rf molecule.res\n",
      "\n",
      "\n",
      "Output: \n",
      "Welcome to antechamber 22.0: molecular input file processor.\n",
      "\n",
      "Info: acdoctor mode is on: check and diagnose problems in the input file.\n",
      "Info: The atom type is set to gaff; the options available to the -at flag are\n",
      "      gaff, gaff2, amber, bcc, and sybyl.\n",
      "\n",
      "-- Check Format for pdb File --\n",
      "   Status: pass\n",
      "Info: Determining atomic numbers from atomic symbols which are case sensitive.\n",
      "-- Check Unusual Elements --\n",
      "   Status: pass\n",
      "-- Check Open Valences --\n",
      "   Status: pass\n",
      "-- Check Geometry --\n",
      "      for those bonded   \n",
      "      for those not bonded   \n",
      "   Status: pass\n",
      "-- Check Weird Bonds --\n",
      "   Status: pass\n",
      "-- Check Number of Units --\n",
      "   Status: pass\n",
      "acdoctor mode has completed checking the input file.\n",
      "\n",
      "Running: /home/dan/miniconda3/envs/AmberTools23/bin/bondtype -j full -i ANTECHAMBER_BOND_TYPE.AC0 -o ANTECHAMBER_BOND_TYPE.AC -f ac\n",
      "\n",
      "Running: /home/dan/miniconda3/envs/AmberTools23/bin/atomtype -i ANTECHAMBER_AC.AC0 -o ANTECHAMBER_AC.AC -p gaff\n",
      "Info: Total number of electrons: 366; net charge: 0\n",
      "\n",
      "Running: /home/dan/miniconda3/envs/AmberTools23/bin/sqm -O -i sqm.in -o sqm.out\n",
      "\n",
      "Running: /home/dan/miniconda3/envs/AmberTools23/bin/am1bcc -i ANTECHAMBER_AM1BCC_PRE.AC -o ANTECHAMBER_AM1BCC.AC -f ac -p /home/dan/miniconda3/envs/AmberTools23/dat/antechamber/BCCPARM.DAT -s 2 -j 1\n",
      "\n",
      "Running: /home/dan/miniconda3/envs/AmberTools23/bin/atomtype -f ac -p bcc -o ANTECHAMBER_AM1BCC.AC -i ANTECHAMBER_AM1BCC_PRE.AC\n",
      "\n",
      "Running: /home/dan/miniconda3/envs/AmberTools23/bin/prepgen -i ANTECHAMBER_PREP.AC -f int -o /home/dan/polymersimulator/pdb_files/molecules/chitin_trimer/chitin_trimer.prepi -rn \"ADH\" -rf molecule.res\n",
      "\n",
      "\n"
     ]
    }
   ],
   "source": [
    "# Parameterize the chitin trimer\n",
    "builder.parameterize_mol(\"chitin_trimer\")"
   ]
  },
  {
   "cell_type": "markdown",
   "id": "ce799d25-3319-438a-a941-5df371f664e9",
   "metadata": {},
   "source": [
    "Now we need to generate polymeric unit residue codes"
   ]
  },
  {
   "cell_type": "code",
   "execution_count": 7,
   "id": "0a9ab8f0-bb27-4ae5-8585-62321a6a258a",
   "metadata": {},
   "outputs": [
    {
     "name": "stdout",
     "output_type": "stream",
     "text": [
      "Head code assigned:  hDH\n",
      "Mainchain code assigned:  mDH\n",
      "Tail code assigned:  tDH\n"
     ]
    }
   ],
   "source": [
    "# Method for generating residue codes for different polymeric units - pass a trimer that has a residue code assigned\n",
    "builder.GenRescode_4_PolyUnits(\"chitin_trimer\")"
   ]
  },
  {
   "cell_type": "code",
   "execution_count": 8,
   "id": "8b7848dc-f7b1-4fcf-afcc-56ad0dd2666b",
   "metadata": {},
   "outputs": [
    {
     "data": {
      "text/plain": [
       "'/home/dan/polymersimulator/pdb_files/molecules/chitin_trimer/chitin_trimer.mol2'"
      ]
     },
     "execution_count": 8,
     "metadata": {},
     "output_type": "execute_result"
    }
   ],
   "source": [
    "# Check if the chitin trimer was parameterized by seeing if the mol2 file was generated\n",
    "output = manager.load_mol2_filepath(\"chitin_trimer\")\n",
    "output"
   ]
  },
  {
   "attachments": {
    "cc87e6cd-7eb3-4f48-b774-c5223fc8a9db.png": {
     "image/png": "[encoded data removed]"
    }
   },
   "cell_type": "markdown",
   "id": "8f2de019-4610-4983-80ac-2a9feabca60e",
   "metadata": {},
   "source": [
    "Now we need to load the molecule in xleap and see what atoms need to be contained in the text files that will be passed to prepgen\n",
    "\n",
    "![image.png](attachment:cc87e6cd-7eb3-4f48-b774-c5223fc8a9db.png)\n",
    "\n",
    "This is rather quite difficult - but mainly because the atom number are very hard to see."
   ]
  },
  {
   "cell_type": "code",
   "execution_count": null,
   "id": "daf7160c-b4e6-4d92-9423-f8455594704a",
   "metadata": {},
   "outputs": [],
   "source": []
  },
  {
   "cell_type": "code",
   "execution_count": null,
   "id": "629702b1-6283-4826-95a4-6e908f24f454",
   "metadata": {},
   "outputs": [],
   "source": []
  },
  {
   "cell_type": "code",
   "execution_count": null,
   "id": "4f10573b-e90e-4ce4-88d8-979f75e376b6",
   "metadata": {},
   "outputs": [],
   "source": []
  },
  {
   "cell_type": "code",
   "execution_count": null,
   "id": "abd6604a-ddba-424a-8cb0-67fcdbd40f33",
   "metadata": {},
   "outputs": [],
   "source": []
  }
 ],
 "metadata": {
  "kernelspec": {
   "display_name": "Python 3 (ipykernel)",
   "language": "python",
   "name": "python3"
  },
  "language_info": {
   "codemirror_mode": {
    "name": "ipython",
    "version": 3
   },
   "file_extension": ".py",
   "mimetype": "text/x-python",
   "name": "python",
   "nbconvert_exporter": "python",
   "pygments_lexer": "ipython3",
   "version": "3.12.0"
  }
 },
 "nbformat": 4,
 "nbformat_minor": 5
}
