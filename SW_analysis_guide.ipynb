{
 "cells": [
  {
   "cell_type": "markdown",
   "id": "4c88e1a4-7e7e-40ce-9407-17bd8049798d",
   "metadata": {},
   "source": [
    "# This notebook will detail the produiction of an analysis pipeline for molecular dynamic simulations carried out with openmmm"
   ]
  },
  {
   "cell_type": "markdown",
   "id": "1c1948fb-3da3-4578-a203-5b7bdde40029",
   "metadata": {},
   "source": [
    "The flow of the analysis is broken down and handled by classes as follows: <br>\n",
    "\n",
    "1. **master_anal** - this class contains information about an entire simulation carried out. <br>\n",
    "\n",
    "    - Dictionary of all files outputted from the simulation organised into their respective steps (i.e. groups all thermal ramping files, equilibration files, minimization files). The idea behind this is that these files can be called and mdanalysis universes can be created for each part of the simulation with ease. It also contains information about the residues in the simulation (it contains a list of unique residue codes and a dictionary matching residue codes to polymers - this part is necessary since the polymers made with amber are built from a series of residues, so a 10-mer will actually have 10 residue codes.) This dictionary makes selecting individual polymers much easier! <br>\n",
    "\n",
    "2. **universe** - this class creates a mdanalysis universe we can pass to the analysis methods <br>\n",
    "\n",
    "3. **anal_methods** - this class contains mdanalysis methods \n",
    "\n",
    "  \n",
    "   "
   ]
  },
  {
   "cell_type": "markdown",
   "id": "e7d0b9ab-b6af-46ca-8940-80c3784f2f34",
   "metadata": {},
   "source": [
    "The first thing to do is set up the manager class - something that is consistent across all of these notebooks!"
   ]
  },
  {
   "cell_type": "code",
   "execution_count": 1,
   "id": "a608617c-b22c-45ae-9d62-8e4074e94334",
   "metadata": {},
   "outputs": [
    {
     "data": {
      "application/vnd.jupyter.widget-view+json": {
       "model_id": "0745326cb1b04a24b0b7428ae8d04a27",
       "version_major": 2,
       "version_minor": 0
      },
      "text/plain": []
     },
     "metadata": {},
     "output_type": "display_data"
    },
    {
     "name": "stderr",
     "output_type": "stream",
     "text": [
      "/home/dan/miniconda3/envs/AmberTools23/lib/python3.12/site-packages/MDAnalysisData/base.py:34: DeprecationWarning: pkg_resources is deprecated as an API. See https://setuptools.pypa.io/en/latest/pkg_resources.html\n",
      "  from pkg_resources import resource_string\n"
     ]
    }
   ],
   "source": [
    "from modules.sw_directories import *\n",
    "from modules.sw_basic_functions import *\n",
    "from modules.sw_analysis import *\n",
    "import os as os\n",
    "\n",
    "manager = SnippetSimManage(os.getcwd())"
   ]
  },
  {
   "cell_type": "markdown",
   "id": "4e335bfb-f0a7-4275-928f-b7d2443da2bb",
   "metadata": {},
   "source": [
    "The system I will be analysing is \"3HB_10_polymer_5_5_array_crystal\" however you can use any system name that has simulations associated with it. The first step is to locate the simulation files required and return paths. The function below could return filepaths to multiple directories if the simualtion has been carried out multiple times."
   ]
  },
  {
   "cell_type": "code",
   "execution_count": 2,
   "id": "200d9767-c276-4259-9f40-238326b63a7d",
   "metadata": {},
   "outputs": [
    {
     "name": "stdout",
     "output_type": "stream",
     "text": [
      "Output contains paths to simulation directories.\n"
     ]
    }
   ],
   "source": [
    "system_name = \"3HB_10_polymer_5_5_array_crystal\"\n",
    "base_molecule_name = \"3HB_10_polymer\"\n",
    "sim_avail = manager.simulations_avail(system_name)"
   ]
  },
  {
   "cell_type": "markdown",
   "id": "0011c975-69b9-40d0-85c2-cfcad240c6d0",
   "metadata": {},
   "source": [
    "Print out the path of the simulation directories - this is a list and will contain unique simulation runs."
   ]
  },
  {
   "cell_type": "code",
   "execution_count": 3,
   "id": "3bd04f35-7911-48fc-abd6-254090ebcc5e",
   "metadata": {},
   "outputs": [
    {
     "data": {
      "text/plain": [
       "['/home/dan/polymersimulator/pdb_files/systems/3HB_10_polymer_5_5_array_crystal/2024-10-04_174036']"
      ]
     },
     "execution_count": 3,
     "metadata": {},
     "output_type": "execute_result"
    }
   ],
   "source": [
    "sim_avail"
   ]
  },
  {
   "cell_type": "markdown",
   "id": "d6f9851e-e51a-49df-9bc7-8fff021e8f72",
   "metadata": {},
   "source": [
    "Everything for the analysis is contained within this path with the exception of the topology file which can be returned in different ways using the manager class. <br>\n",
    "\n",
    "Now we want to set up *master_anal* class which will contain the steps of the simulation we want to analyse. This class requires: <br>\n",
    "\n",
    "    - Manger object\n",
    "    - System name (i.e. \"3HB_10_polymer_5_5_array_crystal\")\n",
    "    - Base molecule name (i.e. \"3HB_10_polymer\")\n",
    "    - Simulation directory (a directory from the list returned by \"manager.simulations_avail(system_name)\"\n",
    "    - poly length (i.e., 10)\n",
    "\n",
    "We can set this up with the following line: *masterclass = master_anal(manager, system_name, base_molecule_name, sim_avail[i], poly_length)*\n",
    "\n",
    "There are lots of attributes returned by this class that can be returned with *masterclass.attribute*: <br>\n",
    "\n",
    "    - masterclass.manager : *will load the manager object, but it is passed to the class so its function can be used within the range of methods implemented here*\n",
    "    - masterclass.system_name : *returns the system name* \n",
    "    - masterclass.topology_file : *returns the filepath to the topology file for the given system name* \n",
    "    - masterclass.simulation_directory : *returns the path the direcotry where all simulation files are located* \n",
    "    - masterclass.simulation_files : *returns a dictionary where simulation files are grouped based on their simulation stage* \n",
    "    - masterclass.min_filepath : *returns the filepath to the minimized pdb at the first stage of the simulation* \n",
    "    - masterclass.simulation_stages : *returns a list of the stages the simulation carried out*\n",
    "    - masterclass.base_pdb : *returns a filepath to the pdb file of the base polymer*\n",
    "    - masterclass.base_poly_vol: *returns the volume of the base polymer*\n",
    "    - mastercalss.system_vol: *returns the volume of the system (i.e. base_poly_vol * number_of_polymers)*\n",
    "\n",
    "*Poly_length* can be omitted when this class is initialised, but if it is specified we gain access to these attributes: <br>\n",
    "\n",
    "    - masterclass.poly_length : *returns length of the polymers in the system*\n",
    "    - masterclass.residues_codes : *returns residue codes of the polymer units* \n",
    "    - masterclass.poly_sel_dict : *returns resids of the individual polymers so we can get the values of each*\n",
    "    - masterclass.number_of_polymers : *returns the number of polymers in the system*\n",
    "\n",
    "Examples of each of these will be included below."
   ]
  },
  {
   "cell_type": "markdown",
   "id": "f2e4f04e-2acb-43d5-a9b3-3ddaffff14b2",
   "metadata": {},
   "source": [
    "# Set up masterclass for simulation analysis\n",
    "\n",
    "This class *master_anal* doesn't do analysis but contains information that is super useful for analysis. We need to pass the system name, the simulation folder we want to analyse and the length of the polymers (if this applicable). Below will be an example of each attribute that is described above."
   ]
  },
  {
   "cell_type": "code",
   "execution_count": 4,
   "id": "293f37be-49ef-437f-b608-6f5dea77ce48",
   "metadata": {},
   "outputs": [],
   "source": [
    "# sim_avail[x] is from the mananger class and will be an entire filepath to a directory containing simulation outputs\n",
    "masterclass = master_anal(manager, system_name, base_molecule_name, sim_avail[0], 10)"
   ]
  },
  {
   "cell_type": "code",
   "execution_count": 30,
   "id": "b2074d94-3ad5-4af2-840e-ad0ce9b3d1be",
   "metadata": {},
   "outputs": [
    {
     "data": {
      "text/plain": [
       "'3HB_10_polymer_5_5_array_crystal'"
      ]
     },
     "execution_count": 30,
     "metadata": {},
     "output_type": "execute_result"
    }
   ],
   "source": [
    "# System name\n",
    "masterclass.system_name"
   ]
  },
  {
   "cell_type": "code",
   "execution_count": 5,
   "id": "7414df73-d374-4093-83d3-ff5318cb88d4",
   "metadata": {},
   "outputs": [
    {
     "data": {
      "text/plain": [
       "'/home/dan/polymersimulator/pdb_files/systems/3HB_10_polymer_5_5_array_crystal/3HB_10_polymer_5_5_array_crystal.prmtop'"
      ]
     },
     "execution_count": 5,
     "metadata": {},
     "output_type": "execute_result"
    }
   ],
   "source": [
    "# Topology file\n",
    "masterclass.topology_file"
   ]
  },
  {
   "cell_type": "code",
   "execution_count": 31,
   "id": "4bfb77fd-366d-47d8-9557-d5946d1aa526",
   "metadata": {},
   "outputs": [
    {
     "data": {
      "text/plain": [
       "'/home/dan/polymersimulator/pdb_files/systems/3HB_10_polymer_5_5_array_crystal/2024-10-04_174036'"
      ]
     },
     "execution_count": 31,
     "metadata": {},
     "output_type": "execute_result"
    }
   ],
   "source": [
    "# Simulation directory\n",
    "masterclass.simulation_directory"
   ]
  },
  {
   "cell_type": "code",
   "execution_count": 6,
   "id": "db42bbc4-9ead-42b7-9ebc-7598346f0f05",
   "metadata": {},
   "outputs": [
    {
     "data": {
      "text/plain": [
       "defaultdict(list,\n",
       "            {'1_atm': ['3HB_10_polymer_5_5_array_crystal_1_atm_2024-10-04_174036.pdb',\n",
       "              '3HB_10_polymer_5_5_array_crystal_1_atm_2024-10-04_174036.dcd',\n",
       "              '3HB_10_polymer_5_5_array_crystal_1_atm_2024-10-04_174036.txt'],\n",
       "             'temp_ramp_heat': ['3HB_10_polymer_5_5_array_crystal_temp_ramp_heat_300_700_2024-10-04_174036.txt',\n",
       "              '3HB_10_polymer_5_5_array_crystal_temp_ramp_heat_300_700_2024-10-04_174036.pdb',\n",
       "              '3HB_10_polymer_5_5_array_crystal_temp_ramp_heat_300_700_2024-10-04_174036.dcd'],\n",
       "             'min': ['min_3HB_10_polymer_5_5_array_crystal.pdb'],\n",
       "             'temp_ramp_cool': ['3HB_10_polymer_5_5_array_crystal_temp_ramp_cool_300_700_2024-10-04_174036.dcd',\n",
       "              '3HB_10_polymer_5_5_array_crystal_temp_ramp_cool_300_700_2024-10-04_174036.txt',\n",
       "              '3HB_10_polymer_5_5_array_crystal_temp_ramp_cool_300_700_2024-10-04_174036.pdb']})"
      ]
     },
     "execution_count": 6,
     "metadata": {},
     "output_type": "execute_result"
    }
   ],
   "source": [
    "# Simulation files\n",
    "masterclass.simulation_files"
   ]
  },
  {
   "cell_type": "code",
   "execution_count": 32,
   "id": "9895a3d3-0a82-4612-8d90-707e5fe10621",
   "metadata": {},
   "outputs": [
    {
     "data": {
      "text/plain": [
       "'/home/dan/polymersimulator/pdb_files/systems/3HB_10_polymer_5_5_array_crystal/2024-10-04_174036/min_3HB_10_polymer_5_5_array_crystal.pdb'"
      ]
     },
     "execution_count": 32,
     "metadata": {},
     "output_type": "execute_result"
    }
   ],
   "source": [
    "# Filepath to minimized pdb\n",
    "masterclass.min_filepath"
   ]
  },
  {
   "cell_type": "code",
   "execution_count": 34,
   "id": "1b3887e4-fe5d-4d5e-83dd-b10cee77b628",
   "metadata": {},
   "outputs": [
    {
     "data": {
      "text/plain": [
       "['1_atm', 'temp_ramp_heat', 'min', 'temp_ramp_cool']"
      ]
     },
     "execution_count": 34,
     "metadata": {},
     "output_type": "execute_result"
    }
   ],
   "source": [
    "# Simulations stages\n",
    "masterclass.simulation_stages"
   ]
  },
  {
   "cell_type": "code",
   "execution_count": 36,
   "id": "2173f681-3f65-4b2e-8e3c-6f39effece14",
   "metadata": {},
   "outputs": [
    {
     "data": {
      "text/plain": [
       "'/home/dan/polymersimulator/pdb_files/systems/3HB_10_polymer/3HB_10_polymer.pdb'"
      ]
     },
     "execution_count": 36,
     "metadata": {},
     "output_type": "execute_result"
    }
   ],
   "source": [
    "# Filepath to base polymer pdb\n",
    "masterclass.base_pdb"
   ]
  },
  {
   "cell_type": "code",
   "execution_count": 38,
   "id": "554c4a4d-5a77-4238-bc9c-ac4b4840ebf2",
   "metadata": {},
   "outputs": [
    {
     "data": {
      "text/plain": [
       "863.8880000000003"
      ]
     },
     "execution_count": 38,
     "metadata": {},
     "output_type": "execute_result"
    }
   ],
   "source": [
    "# Volume of the base polymer in angstroms cubed\n",
    "masterclass.base_poly_vol"
   ]
  },
  {
   "cell_type": "code",
   "execution_count": 40,
   "id": "8ac746f4-6c52-4d63-a1e6-6bdbe49ad7cb",
   "metadata": {},
   "outputs": [
    {
     "data": {
      "text/plain": [
       "21597.200000000008"
      ]
     },
     "execution_count": 40,
     "metadata": {},
     "output_type": "execute_result"
    }
   ],
   "source": [
    "# Volume of all the polymers in the system\n",
    "masterclass.system_vol"
   ]
  },
  {
   "cell_type": "code",
   "execution_count": 41,
   "id": "779c591f-8cf5-46c2-a3e1-698bd2505f55",
   "metadata": {},
   "outputs": [
    {
     "data": {
      "text/plain": [
       "10"
      ]
     },
     "execution_count": 41,
     "metadata": {},
     "output_type": "execute_result"
    }
   ],
   "source": [
    "# Length of the polymers\n",
    "masterclass.poly_length"
   ]
  },
  {
   "cell_type": "code",
   "execution_count": 7,
   "id": "74457e24-d64d-4440-abe5-066c3b3a1a7f",
   "metadata": {},
   "outputs": [
    {
     "data": {
      "text/plain": [
       "{'hAD', 'mAD', 'tAD'}"
      ]
     },
     "execution_count": 7,
     "metadata": {},
     "output_type": "execute_result"
    }
   ],
   "source": [
    "# Residue codes of the polymers\n",
    "masterclass.residue_codes"
   ]
  },
  {
   "cell_type": "code",
   "execution_count": 43,
   "id": "be35d920-6e10-47cf-9a71-8934c47bcf06",
   "metadata": {
    "scrolled": true
   },
   "outputs": [
    {
     "data": {
      "text/plain": [
       "{'Polymer_1': [1, 2, 3, 4, 5, 6, 7, 8, 9, 10],\n",
       " 'Polymer_2': [11, 12, 13, 14, 15, 16, 17, 18, 19, 20],\n",
       " 'Polymer_3': [21, 22, 23, 24, 25, 26, 27, 28, 29, 30],\n",
       " 'Polymer_4': [31, 32, 33, 34, 35, 36, 37, 38, 39, 40],\n",
       " 'Polymer_5': [41, 42, 43, 44, 45, 46, 47, 48, 49, 50],\n",
       " 'Polymer_6': [51, 52, 53, 54, 55, 56, 57, 58, 59, 60],\n",
       " 'Polymer_7': [61, 62, 63, 64, 65, 66, 67, 68, 69, 70],\n",
       " 'Polymer_8': [71, 72, 73, 74, 75, 76, 77, 78, 79, 80],\n",
       " 'Polymer_9': [81, 82, 83, 84, 85, 86, 87, 88, 89, 90],\n",
       " 'Polymer_10': [91, 92, 93, 94, 95, 96, 97, 98, 99, 100],\n",
       " 'Polymer_11': [101, 102, 103, 104, 105, 106, 107, 108, 109, 110],\n",
       " 'Polymer_12': [111, 112, 113, 114, 115, 116, 117, 118, 119, 120],\n",
       " 'Polymer_13': [121, 122, 123, 124, 125, 126, 127, 128, 129, 130],\n",
       " 'Polymer_14': [131, 132, 133, 134, 135, 136, 137, 138, 139, 140],\n",
       " 'Polymer_15': [141, 142, 143, 144, 145, 146, 147, 148, 149, 150],\n",
       " 'Polymer_16': [151, 152, 153, 154, 155, 156, 157, 158, 159, 160],\n",
       " 'Polymer_17': [161, 162, 163, 164, 165, 166, 167, 168, 169, 170],\n",
       " 'Polymer_18': [171, 172, 173, 174, 175, 176, 177, 178, 179, 180],\n",
       " 'Polymer_19': [181, 182, 183, 184, 185, 186, 187, 188, 189, 190],\n",
       " 'Polymer_20': [191, 192, 193, 194, 195, 196, 197, 198, 199, 200],\n",
       " 'Polymer_21': [201, 202, 203, 204, 205, 206, 207, 208, 209, 210],\n",
       " 'Polymer_22': [211, 212, 213, 214, 215, 216, 217, 218, 219, 220],\n",
       " 'Polymer_23': [221, 222, 223, 224, 225, 226, 227, 228, 229, 230],\n",
       " 'Polymer_24': [231, 232, 233, 234, 235, 236, 237, 238, 239, 240],\n",
       " 'Polymer_25': [241, 242, 243, 244, 245, 246, 247, 248, 249, 250]}"
      ]
     },
     "execution_count": 43,
     "metadata": {},
     "output_type": "execute_result"
    }
   ],
   "source": [
    "# Resids for the different polymers we can select\n",
    "masterclass.poly_sel_dict"
   ]
  },
  {
   "cell_type": "code",
   "execution_count": 42,
   "id": "e8a56f7d-b2e2-48f3-8691-88ee6c25954f",
   "metadata": {},
   "outputs": [
    {
     "data": {
      "text/plain": [
       "25"
      ]
     },
     "execution_count": 42,
     "metadata": {},
     "output_type": "execute_result"
    }
   ],
   "source": [
    "masterclass.number_of_polymers"
   ]
  },
  {
   "cell_type": "markdown",
   "id": "9434bd1a-800d-4a34-b7a6-9d89c8a318bb",
   "metadata": {},
   "source": [
    "# Universe class\n",
    "\n",
    "Now we can set up a universe for our simulation. We want to pass the masterclass class to **Universe** alongside a string coming from **masterclass.simulation_stages** as follows: <br>\n",
    "\n",
    "universe = Universe(masterclass, '1_atm') <br>\n",
    "\n",
    "This will create an mdanalysis for a specific part of the simulation using the .pdb trajectory. We can also specify the trajectory we want to use (i.e. '.pdb' or '.dcd' but if nothing is specified it will use the '.pdb' trajectory by default. <br>\n",
    "\n",
    "universe = Universe(masterclass, '1_atm', '.dcd') <br>"
   ]
  },
  {
   "cell_type": "code",
   "execution_count": 45,
   "id": "2e44ccff-6974-4a8a-9b53-fc58d3b2ef0e",
   "metadata": {},
   "outputs": [
    {
     "name": "stderr",
     "output_type": "stream",
     "text": [
      "/home/dan/miniconda3/envs/AmberTools23/lib/python3.12/site-packages/MDAnalysis/coordinates/DCD.py:165: DeprecationWarning: DCDReader currently makes independent timesteps by copying self.ts while other readers update self.ts inplace. This behavior will be changed in 3.0 to be the same as other readers. Read more at https://github.com/MDAnalysis/mdanalysis/issues/3889 to learn if this change in behavior might affect you.\n",
      "  warnings.warn(\"DCDReader currently makes independent timesteps\"\n"
     ]
    }
   ],
   "source": [
    "# Pass a simulation stage and file format, the simulation stage lets us know what trajectory file we want to access\n",
    "universe = Universe(masterclass, 'temp_ramp_cool', \".dcd\")"
   ]
  },
  {
   "cell_type": "markdown",
   "id": "9d29e01a-7c3a-41a2-8d70-c7838b169e1e",
   "metadata": {},
   "source": [
    "The **universe** object contains manay attributes. This is in additionl to all of the attributes from the **master_anal** class as all of those attributes are passed down to the **universe** object. The attributes in the universe class are: <br>\n",
    "\n",
    "    - universe.traj_format : *returns the format of the trajectory file - supports .pdb and .dcd*\n",
    "    - universe.sim_stage\n",
    "    - universe.masterclass : *the masterclass instance we have already intialised*\n",
    "    - universe.topology_file : *the topology file*\n",
    "    - universe.trajectory : *the trajectory file*\n",
    "    - universe.output_filename : *an output file for any graphs generated throughout the analysis - this is attached to a specific simulation direcotry*\n",
    "    - universe.universe : *the classic mdanalysis universe object*\n",
    "    - universe.data_file : *filepath to the data file outputted for the given stage of a simulation*\n",
    "    - universe.data : *the data from the datafile but loaded up in a pandas dataframe*\n",
    "    "
   ]
  },
  {
   "cell_type": "code",
   "execution_count": 46,
   "id": "e471b9e0-e8ee-4c11-908a-aeed109d58a8",
   "metadata": {},
   "outputs": [
    {
     "data": {
      "text/plain": [
       "'.dcd'"
      ]
     },
     "execution_count": 46,
     "metadata": {},
     "output_type": "execute_result"
    }
   ],
   "source": [
    "# Trajectory format\n",
    "universe.traj_format"
   ]
  },
  {
   "cell_type": "code",
   "execution_count": 47,
   "id": "9142e7a0-657f-4aa5-8965-30f94c888f47",
   "metadata": {},
   "outputs": [
    {
     "data": {
      "text/plain": [
       "'temp_ramp_cool'"
      ]
     },
     "execution_count": 47,
     "metadata": {},
     "output_type": "execute_result"
    }
   ],
   "source": [
    "# The simualtion stage we are analysing\n",
    "universe.sim_stage"
   ]
  },
  {
   "cell_type": "code",
   "execution_count": 48,
   "id": "c4a99456-c51f-4124-9aa9-f2301aaa67ae",
   "metadata": {
    "scrolled": true
   },
   "outputs": [
    {
     "data": {
      "text/plain": [
       "<modules.sw_analysis.master_anal at 0x7f4cebe57350>"
      ]
     },
     "execution_count": 48,
     "metadata": {},
     "output_type": "execute_result"
    }
   ],
   "source": [
    "# The original masterclass object\n",
    "universe.masterclass"
   ]
  },
  {
   "cell_type": "code",
   "execution_count": 49,
   "id": "e74e9eed-83e8-4704-9201-487860a869db",
   "metadata": {},
   "outputs": [
    {
     "data": {
      "text/plain": [
       "'/home/dan/polymersimulator/pdb_files/systems/3HB_10_polymer_5_5_array_crystal/3HB_10_polymer_5_5_array_crystal.prmtop'"
      ]
     },
     "execution_count": 49,
     "metadata": {},
     "output_type": "execute_result"
    }
   ],
   "source": [
    "# Topology file\n",
    "universe.topology"
   ]
  },
  {
   "cell_type": "code",
   "execution_count": 50,
   "id": "7c15fdfb-0f19-4b8d-9a69-c87e2a2c0845",
   "metadata": {},
   "outputs": [
    {
     "data": {
      "text/plain": [
       "'/home/dan/polymersimulator/pdb_files/systems/3HB_10_polymer_5_5_array_crystal/2024-10-04_174036/3HB_10_polymer_5_5_array_crystal_temp_ramp_cool_300_700_2024-10-04_174036.dcd'"
      ]
     },
     "execution_count": 50,
     "metadata": {},
     "output_type": "execute_result"
    }
   ],
   "source": [
    "# Trajectory file\n",
    "universe.trajectory"
   ]
  },
  {
   "cell_type": "code",
   "execution_count": 15,
   "id": "4f22fe6f-f6e0-4c4b-8b21-33c82f76820e",
   "metadata": {},
   "outputs": [
    {
     "data": {
      "text/plain": [
       "'/home/dan/polymersimulator/pdb_files/systems/3HB_10_polymer_5_5_array_crystal/2024-10-04_174036/3HB_10_polymer_5_5_array_crystal_temp_ramp_cool'"
      ]
     },
     "execution_count": 15,
     "metadata": {},
     "output_type": "execute_result"
    }
   ],
   "source": [
    "# Path where any outputted graphs will end up\n",
    "universe.output_filename"
   ]
  },
  {
   "cell_type": "code",
   "execution_count": 16,
   "id": "52607eae-6e43-49f7-ad2a-f64e9a6d9622",
   "metadata": {},
   "outputs": [
    {
     "data": {
      "text/plain": [
       "<Universe with 3075 atoms>"
      ]
     },
     "execution_count": 16,
     "metadata": {},
     "output_type": "execute_result"
    }
   ],
   "source": [
    "# MDanalysis universe object\n",
    "universe.universe"
   ]
  },
  {
   "cell_type": "code",
   "execution_count": 17,
   "id": "0adfd9b7-2b8b-4543-a192-be3b518f7917",
   "metadata": {},
   "outputs": [
    {
     "data": {
      "text/html": [
       "<div>\n",
       "<style scoped>\n",
       "    .dataframe tbody tr th:only-of-type {\n",
       "        vertical-align: middle;\n",
       "    }\n",
       "\n",
       "    .dataframe tbody tr th {\n",
       "        vertical-align: top;\n",
       "    }\n",
       "\n",
       "    .dataframe thead th {\n",
       "        text-align: right;\n",
       "    }\n",
       "</style>\n",
       "<table border=\"1\" class=\"dataframe\">\n",
       "  <thead>\n",
       "    <tr style=\"text-align: right;\">\n",
       "      <th></th>\n",
       "      <th>#\"Progress (%)\"</th>\n",
       "      <th>Step</th>\n",
       "      <th>Time (ps)</th>\n",
       "      <th>Potential Energy (kJ/mole)</th>\n",
       "      <th>Kinetic Energy (kJ/mole)</th>\n",
       "      <th>Total Energy (kJ/mole)</th>\n",
       "      <th>Temperature (K)</th>\n",
       "      <th>Box Volume (nm^3)</th>\n",
       "      <th>Density (g/mL)</th>\n",
       "      <th>Speed (ns/day)</th>\n",
       "      <th>Elapsed Time (s)</th>\n",
       "    </tr>\n",
       "  </thead>\n",
       "  <tbody>\n",
       "    <tr>\n",
       "      <th>0</th>\n",
       "      <td>0.0%</td>\n",
       "      <td>1000</td>\n",
       "      <td>1.000000</td>\n",
       "      <td>-25115.301993</td>\n",
       "      <td>18640.853699</td>\n",
       "      <td>-6474.448294</td>\n",
       "      <td>584.457605</td>\n",
       "      <td>38.765671</td>\n",
       "      <td>0.941194</td>\n",
       "      <td>0.00</td>\n",
       "      <td>0.000231</td>\n",
       "    </tr>\n",
       "    <tr>\n",
       "      <th>1</th>\n",
       "      <td>0.0%</td>\n",
       "      <td>2000</td>\n",
       "      <td>2.000000</td>\n",
       "      <td>-22984.163637</td>\n",
       "      <td>20445.845135</td>\n",
       "      <td>-2538.318502</td>\n",
       "      <td>641.050559</td>\n",
       "      <td>38.884793</td>\n",
       "      <td>0.938311</td>\n",
       "      <td>6.11</td>\n",
       "      <td>14.141430</td>\n",
       "    </tr>\n",
       "    <tr>\n",
       "      <th>2</th>\n",
       "      <td>0.0%</td>\n",
       "      <td>3000</td>\n",
       "      <td>3.000000</td>\n",
       "      <td>-22207.232071</td>\n",
       "      <td>21687.085684</td>\n",
       "      <td>-520.146388</td>\n",
       "      <td>679.967901</td>\n",
       "      <td>39.295464</td>\n",
       "      <td>0.928505</td>\n",
       "      <td>6.12</td>\n",
       "      <td>28.242461</td>\n",
       "    </tr>\n",
       "    <tr>\n",
       "      <th>3</th>\n",
       "      <td>0.0%</td>\n",
       "      <td>4000</td>\n",
       "      <td>4.000000</td>\n",
       "      <td>-21275.433820</td>\n",
       "      <td>22604.436956</td>\n",
       "      <td>1329.003136</td>\n",
       "      <td>708.730153</td>\n",
       "      <td>38.514641</td>\n",
       "      <td>0.947329</td>\n",
       "      <td>6.12</td>\n",
       "      <td>42.335292</td>\n",
       "    </tr>\n",
       "    <tr>\n",
       "      <th>4</th>\n",
       "      <td>0.1%</td>\n",
       "      <td>5000</td>\n",
       "      <td>5.000000</td>\n",
       "      <td>-21498.174381</td>\n",
       "      <td>22345.699989</td>\n",
       "      <td>847.525608</td>\n",
       "      <td>700.617821</td>\n",
       "      <td>39.464460</td>\n",
       "      <td>0.924529</td>\n",
       "      <td>6.13</td>\n",
       "      <td>56.420394</td>\n",
       "    </tr>\n",
       "    <tr>\n",
       "      <th>...</th>\n",
       "      <td>...</td>\n",
       "      <td>...</td>\n",
       "      <td>...</td>\n",
       "      <td>...</td>\n",
       "      <td>...</td>\n",
       "      <td>...</td>\n",
       "      <td>...</td>\n",
       "      <td>...</td>\n",
       "      <td>...</td>\n",
       "      <td>...</td>\n",
       "      <td>...</td>\n",
       "    </tr>\n",
       "    <tr>\n",
       "      <th>9994</th>\n",
       "      <td>100.0%</td>\n",
       "      <td>9995000</td>\n",
       "      <td>9995.000002</td>\n",
       "      <td>-36960.375464</td>\n",
       "      <td>9719.748180</td>\n",
       "      <td>-27240.627284</td>\n",
       "      <td>304.748958</td>\n",
       "      <td>31.623401</td>\n",
       "      <td>1.153767</td>\n",
       "      <td>6.05</td>\n",
       "      <td>142759.173750</td>\n",
       "    </tr>\n",
       "    <tr>\n",
       "      <th>9995</th>\n",
       "      <td>100.0%</td>\n",
       "      <td>9996000</td>\n",
       "      <td>9996.000002</td>\n",
       "      <td>-37217.966354</td>\n",
       "      <td>9361.407441</td>\n",
       "      <td>-27856.558913</td>\n",
       "      <td>293.513691</td>\n",
       "      <td>31.813964</td>\n",
       "      <td>1.146856</td>\n",
       "      <td>6.05</td>\n",
       "      <td>142773.638903</td>\n",
       "    </tr>\n",
       "    <tr>\n",
       "      <th>9996</th>\n",
       "      <td>100.0%</td>\n",
       "      <td>9997000</td>\n",
       "      <td>9997.000002</td>\n",
       "      <td>-37140.970462</td>\n",
       "      <td>9574.010816</td>\n",
       "      <td>-27566.959646</td>\n",
       "      <td>300.179569</td>\n",
       "      <td>31.824723</td>\n",
       "      <td>1.146468</td>\n",
       "      <td>6.05</td>\n",
       "      <td>142788.077985</td>\n",
       "    </tr>\n",
       "    <tr>\n",
       "      <th>9997</th>\n",
       "      <td>100.0%</td>\n",
       "      <td>9998000</td>\n",
       "      <td>9998.000002</td>\n",
       "      <td>-37093.903853</td>\n",
       "      <td>9411.511642</td>\n",
       "      <td>-27682.392211</td>\n",
       "      <td>295.084638</td>\n",
       "      <td>32.051156</td>\n",
       "      <td>1.138369</td>\n",
       "      <td>6.05</td>\n",
       "      <td>142802.541960</td>\n",
       "    </tr>\n",
       "    <tr>\n",
       "      <th>9998</th>\n",
       "      <td>100.0%</td>\n",
       "      <td>9999000</td>\n",
       "      <td>9999.000002</td>\n",
       "      <td>-37341.581536</td>\n",
       "      <td>9527.115653</td>\n",
       "      <td>-27814.465883</td>\n",
       "      <td>298.709238</td>\n",
       "      <td>31.294119</td>\n",
       "      <td>1.165907</td>\n",
       "      <td>6.05</td>\n",
       "      <td>142817.022293</td>\n",
       "    </tr>\n",
       "  </tbody>\n",
       "</table>\n",
       "<p>9999 rows × 11 columns</p>\n",
       "</div>"
      ],
      "text/plain": [
       "     #\"Progress (%)\"     Step    Time (ps)  Potential Energy (kJ/mole)  \\\n",
       "0               0.0%     1000     1.000000               -25115.301993   \n",
       "1               0.0%     2000     2.000000               -22984.163637   \n",
       "2               0.0%     3000     3.000000               -22207.232071   \n",
       "3               0.0%     4000     4.000000               -21275.433820   \n",
       "4               0.1%     5000     5.000000               -21498.174381   \n",
       "...              ...      ...          ...                         ...   \n",
       "9994          100.0%  9995000  9995.000002               -36960.375464   \n",
       "9995          100.0%  9996000  9996.000002               -37217.966354   \n",
       "9996          100.0%  9997000  9997.000002               -37140.970462   \n",
       "9997          100.0%  9998000  9998.000002               -37093.903853   \n",
       "9998          100.0%  9999000  9999.000002               -37341.581536   \n",
       "\n",
       "      Kinetic Energy (kJ/mole)  Total Energy (kJ/mole)  Temperature (K)  \\\n",
       "0                 18640.853699            -6474.448294       584.457605   \n",
       "1                 20445.845135            -2538.318502       641.050559   \n",
       "2                 21687.085684             -520.146388       679.967901   \n",
       "3                 22604.436956             1329.003136       708.730153   \n",
       "4                 22345.699989              847.525608       700.617821   \n",
       "...                        ...                     ...              ...   \n",
       "9994               9719.748180           -27240.627284       304.748958   \n",
       "9995               9361.407441           -27856.558913       293.513691   \n",
       "9996               9574.010816           -27566.959646       300.179569   \n",
       "9997               9411.511642           -27682.392211       295.084638   \n",
       "9998               9527.115653           -27814.465883       298.709238   \n",
       "\n",
       "      Box Volume (nm^3)  Density (g/mL)  Speed (ns/day)  Elapsed Time (s)  \n",
       "0             38.765671        0.941194            0.00          0.000231  \n",
       "1             38.884793        0.938311            6.11         14.141430  \n",
       "2             39.295464        0.928505            6.12         28.242461  \n",
       "3             38.514641        0.947329            6.12         42.335292  \n",
       "4             39.464460        0.924529            6.13         56.420394  \n",
       "...                 ...             ...             ...               ...  \n",
       "9994          31.623401        1.153767            6.05     142759.173750  \n",
       "9995          31.813964        1.146856            6.05     142773.638903  \n",
       "9996          31.824723        1.146468            6.05     142788.077985  \n",
       "9997          32.051156        1.138369            6.05     142802.541960  \n",
       "9998          31.294119        1.165907            6.05     142817.022293  \n",
       "\n",
       "[9999 rows x 11 columns]"
      ]
     },
     "execution_count": 17,
     "metadata": {},
     "output_type": "execute_result"
    }
   ],
   "source": [
    "# Dataframe containing all the data from this stage of the simulation\n",
    "universe.data"
   ]
  }
 ],
 "metadata": {
  "kernelspec": {
   "display_name": "Python 3 (ipykernel)",
   "language": "python",
   "name": "python3"
  },
  "language_info": {
   "codemirror_mode": {
    "name": "ipython",
    "version": 3
   },
   "file_extension": ".py",
   "mimetype": "text/x-python",
   "name": "python",
   "nbconvert_exporter": "python",
   "pygments_lexer": "ipython3",
   "version": "3.12.0"
  }
 },
 "nbformat": 4,
 "nbformat_minor": 5
}
