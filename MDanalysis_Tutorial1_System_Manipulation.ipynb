{
 "cells": [
  {
   "cell_type": "markdown",
   "metadata": {},
   "source": [
    "# Tutorial 1: System Manipulation and Atom Selection\n",
    "\n",
    "<a rel=\"license\" href=\"http://creativecommons.org/licenses/by/4.0/\"><img alt=\"Creative Commons Licence\" style=\"border-width:0\" src=\"https://i.creativecommons.org/l/by/4.0/88x31.png\" title='This work is licensed under a Creative Commons Attribution 4.0 International License.' align=\"right\"/></a>\n",
    "\n",
    "Authors: \n",
    "\n",
    "- Dr Micaela Matta - micaela.matta@kcl.ac.uk \n",
    "- Dr Richard Gowers - richardjgowers@gmail.com\n",
    "- Dr Irfan Alibay - ialibay@gmail.com\n",
    "\n",
    "This notebook is adapted from materials developed for the [2022 CCPBioSim Workshop](https://github.com/MDAnalysis/WorkshopMDMLEdinburgh2022), which was in turn adapted from the [2021 PRACE Workshop](https://github.com/MDAnalysis/WorkshopPrace2021) and the [2018 Workshop/Hackathon](https://github.com/MDAnalysis/WorkshopHackathon2018)."
   ]
  },
  {
   "cell_type": "markdown",
   "metadata": {},
   "source": [
    "## Google Colab package installs\n",
    "\n",
    "This installs the necessary packages for Google Colab. **Please only run these if you are using Colab.**"
   ]
  },
  {
   "cell_type": "markdown",
   "metadata": {},
   "source": [
    "### **Jupyter cheat sheet**:\n",
    "- to run the currently highlighted cell, hold <kbd>&#x21E7; Shift</kbd> and press <kbd>&#x23ce; Enter</kbd>;\n",
    "- to get help for a specific function, place the cursor within the function's brackets, hold <kbd>&#x21E7; Shift</kbd>, and press <kbd>&#x21E5; Tab</kbd>;"
   ]
  },
  {
   "cell_type": "markdown",
   "metadata": {},
   "source": [
    "<div class=\"alert alert-warning\"><b> REMEMBER: variables persist between cells</b> \n",
    "    \n",
    "Be aware that it is the order of execution of cells that is important in a Jupyter notebook, not the <em>order</em> in which they appear. Python will remember <em>all</em> the code that was run previously, including any variables you have defined, irrespective of the order in the notebook. Therefore if you define variables lower down the notebook and then (re)run cells further up, those defined further down will still be present. </div> "
   ]
  },
  {
   "cell_type": "markdown",
   "metadata": {},
   "source": [
    "## Learning outcomes:\n",
    "* How to load your molecular simulation data into MDAnalysis\n",
    "* Basic features of the `MDAnalysis.Universe`\n",
    "* Visualise your simulation data with `nglview`\n",
    "* Working with `AtomGroup`s\n",
    "* Select atoms of interest using `select_atoms`\n",
    "* Selecting bonds\n",
    "\n",
    "\n",
    "**This notebook introduces the fundamental objects of `MDAnalysis`:**\n",
    "\n",
    " - the `Universe`,\n",
    " - `AtomGroup`, and `Atom` objects.\n",
    " - selecting and manipulating `AtomGroup`s\n",
    " - `Residue`s and `Segment`s\n",
    " - `Bond` `Angle` and `Dihedral`\n",
    "\n",
    "\n",
    "**Additional resources**\n",
    " - During the workshop, feel free to ask questions at any time\n",
    " - For more on how to use MDAnalysis, see the [User Guide](https://userguide.mdanalysis.org/2.0.0-dev0/) and [documentation](https://docs.mdanalysis.org/2.0.0-dev0/)\n",
    " - Ask questions on the [user mailing list](https://groups.google.com/group/mdnalysis-discussion) or on [Discord](https://discord.gg/fXTSfDJyxE)\n",
    " - Report bugs on [GitHub](https://github.com/MDAnalysis/mdanalysis/issues?)"
   ]
  },
  {
   "cell_type": "markdown",
   "metadata": {},
   "source": [
    "## Table of Contents\n",
    "\n",
    "1. [Fundamental MDAnalysis objects](#fundamentals)  \n",
    "2. [Selecting Atoms](#selections)    \n",
    "3. [Visualising systems](#visualisation)     \n",
    "4. [Bonds, angles and dihedrals](#bonds)\n",
    "5. [Transformations](#transformations)"
   ]
  },
  {
   "cell_type": "markdown",
   "metadata": {},
   "source": [
    "<a id='fundamentals'></a>\n",
    "# 1. Fundamental MDAnalysis objects\n",
    "\n",
    "\n",
    "## Universe loading 101\n",
    "\n",
    "> \"If you wish to make an apple pie from scratch, you must first invent the Universe.\" \n",
    "\n",
    "> ~ Carl Sagan\n",
    "\n",
    "First, we need to import `MDAnalysis`, giving us access to all the components in its namespace:"
   ]
  },
  {
   "cell_type": "code",
   "execution_count": 1,
   "metadata": {},
   "outputs": [],
   "source": [
    "import MDAnalysis as mda"
   ]
  },
  {
   "cell_type": "markdown",
   "metadata": {},
   "source": [
    "One of the most fundamental objects in the `MDAnalysis` data model is the `Universe` object.\n",
    "A `Universe` can be thought of as an interface to all the data of a simulation;\n",
    "it contains all of a simulations' topology information (names, charges, masses etc) at the least,\n",
    "but usually also includes trajectory information (positions, velocities etc) as well.\n",
    "\n",
    "In order to do anything, we do need some actual molecular dynamics data to work with. Let's load an example (the protein adenylate kinase, or AdK) from the MDAnalysis tests data:"
   ]
  },
  {
   "cell_type": "code",
   "execution_count": 2,
   "metadata": {},
   "outputs": [],
   "source": [
    "from MDAnalysis.tests.datafiles import PSF, DCD"
   ]
  },
  {
   "cell_type": "markdown",
   "metadata": {},
   "source": [
    "To make a `Universe`, we need at the very least a topology file - see the [topology readers](https://docs.mdanalysis.org/2.0.0-dev0/documentation_pages/topology/init.html) documentation for a list of supported file formats. \n",
    "\n",
    "Since the type of topology file we're using in this example (a PSF file) doesn't contain coordinates, we'll also need to load a trajectory file (in this case a DCD file) so we have some position data to work with later. You'll learn more about working with trajectories in the next session. \n"
   ]
  },
  {
   "cell_type": "code",
   "execution_count": 3,
   "metadata": {},
   "outputs": [
    {
     "name": "stdout",
     "output_type": "stream",
     "text": [
      "<Universe with 3341 atoms>\n"
     ]
    }
   ],
   "source": [
    "u = mda.Universe(PSF, DCD)\n",
    "\n",
    "print(u)"
   ]
  },
  {
   "cell_type": "markdown",
   "metadata": {},
   "source": [
    "## AtomGroups"
   ]
  },
  {
   "cell_type": "markdown",
   "metadata": {},
   "source": [
    "We now have a `Universe` object. Since the topology (PSF) file we loaded contained both atom identities and bond information, the `Universe` is able to access these details.\n",
    "\n"
   ]
  },
  {
   "cell_type": "markdown",
   "metadata": {},
   "source": [
    "We can access all atoms in the `Universe` through the `Universe.atoms` attribute.\n",
    "This returns an `AtomGroup`, which is probably the most important class we will learn about."
   ]
  },
  {
   "cell_type": "code",
   "execution_count": 4,
   "metadata": {},
   "outputs": [
    {
     "data": {
      "text/plain": [
       "MDAnalysis.core.groups.AtomGroup"
      ]
     },
     "execution_count": 4,
     "metadata": {},
     "output_type": "execute_result"
    }
   ],
   "source": [
    "ag = u.atoms\n",
    "type(ag)"
   ]
  },
  {
   "cell_type": "markdown",
   "metadata": {},
   "source": [
    "An `AtomGroup` is like an array of atoms, and offers access to the data of these atoms through various attributes:"
   ]
  },
  {
   "cell_type": "code",
   "execution_count": 5,
   "metadata": {},
   "outputs": [
    {
     "data": {
      "text/plain": [
       "array([   0,    1,    2, ..., 3338, 3339, 3340], dtype=int64)"
      ]
     },
     "execution_count": 5,
     "metadata": {},
     "output_type": "execute_result"
    }
   ],
   "source": [
    "ag.indices"
   ]
  },
  {
   "cell_type": "code",
   "execution_count": 6,
   "metadata": {},
   "outputs": [
    {
     "data": {
      "text/plain": [
       "array(['N', 'HT1', 'HT2', ..., 'C', 'OT1', 'OT2'], dtype=object)"
      ]
     },
     "execution_count": 6,
     "metadata": {},
     "output_type": "execute_result"
    }
   ],
   "source": [
    "ag.names"
   ]
  },
  {
   "cell_type": "code",
   "execution_count": 7,
   "metadata": {},
   "outputs": [
    {
     "data": {
      "text/plain": [
       "array(['MET', 'MET', 'MET', ..., 'GLY', 'GLY', 'GLY'], dtype=object)"
      ]
     },
     "execution_count": 7,
     "metadata": {},
     "output_type": "execute_result"
    }
   ],
   "source": [
    "ag.resnames"
   ]
  },
  {
   "cell_type": "code",
   "execution_count": 8,
   "metadata": {},
   "outputs": [
    {
     "data": {
      "text/plain": [
       "array([  1,   1,   1, ..., 214, 214, 214])"
      ]
     },
     "execution_count": 8,
     "metadata": {},
     "output_type": "execute_result"
    }
   ],
   "source": [
    "ag.resids"
   ]
  },
  {
   "cell_type": "code",
   "execution_count": 9,
   "metadata": {},
   "outputs": [
    {
     "data": {
      "text/plain": [
       "array([-0.30000001,  0.33000001,  0.33000001, ...,  0.34      ,\n",
       "       -0.67000002, -0.67000002])"
      ]
     },
     "execution_count": 9,
     "metadata": {},
     "output_type": "execute_result"
    }
   ],
   "source": [
    "ag.charges"
   ]
  },
  {
   "cell_type": "code",
   "execution_count": 10,
   "metadata": {},
   "outputs": [
    {
     "data": {
      "text/plain": [
       "array([14.007,  1.008,  1.008, ..., 12.011, 15.999, 15.999])"
      ]
     },
     "execution_count": 10,
     "metadata": {},
     "output_type": "execute_result"
    }
   ],
   "source": [
    "ag.masses"
   ]
  },
  {
   "cell_type": "code",
   "execution_count": 11,
   "metadata": {},
   "outputs": [
    {
     "data": {
      "text/plain": [
       "array(['56', '2', '2', ..., '32', '72', '72'], dtype=object)"
      ]
     },
     "execution_count": 11,
     "metadata": {},
     "output_type": "execute_result"
    }
   ],
   "source": [
    "ag.types"
   ]
  },
  {
   "cell_type": "markdown",
   "metadata": {},
   "source": [
    "All of these attributes of an `AtomGroup` return numpy arrays of the same length as the `AtomGroup` itself;\n",
    "that is, each element corresponds to each atom in the `AtomGroup`, in order."
   ]
  },
  {
   "cell_type": "code",
   "execution_count": 12,
   "metadata": {},
   "outputs": [
    {
     "name": "stdout",
     "output_type": "stream",
     "text": [
      "3341\n",
      "3341\n"
     ]
    }
   ],
   "source": [
    "print(ag.n_atoms)\n",
    "print(len(ag.names))"
   ]
  },
  {
   "cell_type": "markdown",
   "metadata": {},
   "source": [
    "In general, `MDAnalysis` will try and extract as much information as possible from the files given to `Universe`. The [topology readers](https://docs.mdanalysis.org/2.0.0-dev0/documentation_pages/topology/init.html) documentation lists the attributes that are extracted from each filetype."
   ]
  },
  {
   "cell_type": "markdown",
   "metadata": {},
   "source": [
    "## Working with individual atoms\n",
    "\n",
    "By slicing an `AtomGroup` we can access individual `Atom` objects.\n",
    "These `Atom` objects will have singular versions of the various attributes of `AtomGroup`s.\n",
    "\n",
    "In general working with individual `Atom` objects is discouraged as it is inefficient and will lead to poor performance."
   ]
  },
  {
   "cell_type": "code",
   "execution_count": 13,
   "metadata": {},
   "outputs": [
    {
     "name": "stdout",
     "output_type": "stream",
     "text": [
      "<Atom 1: N of type 56 of resname MET, resid 1 and segid 4AKE>\n"
     ]
    }
   ],
   "source": [
    "u = mda.Universe(PSF, DCD)\n",
    "a = u.atoms[0]\n",
    "print(a)"
   ]
  },
  {
   "cell_type": "code",
   "execution_count": 14,
   "metadata": {},
   "outputs": [
    {
     "name": "stdout",
     "output_type": "stream",
     "text": [
      "name: N\n",
      "resid: 1\n",
      "resname: MET\n"
     ]
    }
   ],
   "source": [
    "print(\"name:\", a.name)\n",
    "print(\"resid:\", a.resid)\n",
    "print(\"resname:\", a.resname)"
   ]
  },
  {
   "cell_type": "code",
   "execution_count": 15,
   "metadata": {},
   "outputs": [
    {
     "name": "stdout",
     "output_type": "stream",
     "text": [
      "<AtomGroup [<Atom 2: HT1 of type 2 of resname MET, resid 1 and segid 4AKE>, <Atom 3: HT2 of type 2 of resname MET, resid 1 and segid 4AKE>, <Atom 4: HT3 of type 2 of resname MET, resid 1 and segid 4AKE>]>\n"
     ]
    }
   ],
   "source": [
    "b = u.atoms[1:4]\n",
    "print(b)"
   ]
  },
  {
   "cell_type": "code",
   "execution_count": 16,
   "metadata": {},
   "outputs": [
    {
     "name": "stdout",
     "output_type": "stream",
     "text": [
      "name: ['HT1' 'HT2' 'HT3']\n",
      "resid: [1 1 1]\n",
      "resname: ['MET' 'MET' 'MET']\n"
     ]
    }
   ],
   "source": [
    "print(\"name:\", b.names)\n",
    "print(\"resid:\", b.resids)\n",
    "print(\"resname:\", b.resnames)"
   ]
  },
  {
   "cell_type": "markdown",
   "metadata": {},
   "source": [
    "## ResidueGroups and SegmentGroups"
   ]
  },
  {
   "cell_type": "markdown",
   "metadata": {},
   "source": [
    "The `Universe` also gives higher-order topology objects, including `ResidueGroups` and `SegmentGroups`. We can access all residues in the `Universe` with:"
   ]
  },
  {
   "cell_type": "code",
   "execution_count": 17,
   "metadata": {},
   "outputs": [
    {
     "data": {
      "text/plain": [
       "<ResidueGroup with 214 residues>"
      ]
     },
     "execution_count": 17,
     "metadata": {},
     "output_type": "execute_result"
    }
   ],
   "source": [
    "u.residues"
   ]
  },
  {
   "cell_type": "markdown",
   "metadata": {},
   "source": [
    "And all segments with:"
   ]
  },
  {
   "cell_type": "code",
   "execution_count": 18,
   "metadata": {},
   "outputs": [
    {
     "data": {
      "text/plain": [
       "<SegmentGroup with 1 segment>"
      ]
     },
     "execution_count": 18,
     "metadata": {},
     "output_type": "execute_result"
    }
   ],
   "source": [
    "u.segments"
   ]
  },
  {
   "cell_type": "markdown",
   "metadata": {},
   "source": [
    "`ResidueGroups` and `SegmentGroups` also behave similarly to `AtomGroups`, with many of their methods returning `numpy` arrays with each element corresponding to a single residue or segment, respectively."
   ]
  },
  {
   "cell_type": "code",
   "execution_count": 19,
   "metadata": {},
   "outputs": [
    {
     "data": {
      "text/plain": [
       "array(['MET', 'ARG', 'ILE', 'ILE', 'LEU', 'LEU', 'GLY', 'ALA', 'PRO',\n",
       "       'GLY', 'ALA', 'GLY', 'LYS', 'GLY', 'THR', 'GLN', 'ALA', 'GLN',\n",
       "       'PHE', 'ILE', 'MET', 'GLU', 'LYS', 'TYR', 'GLY', 'ILE', 'PRO',\n",
       "       'GLN', 'ILE', 'SER', 'THR', 'GLY', 'ASP', 'MET', 'LEU', 'ARG',\n",
       "       'ALA', 'ALA', 'VAL', 'LYS', 'SER', 'GLY', 'SER', 'GLU', 'LEU',\n",
       "       'GLY', 'LYS', 'GLN', 'ALA', 'LYS', 'ASP', 'ILE', 'MET', 'ASP',\n",
       "       'ALA', 'GLY', 'LYS', 'LEU', 'VAL', 'THR', 'ASP', 'GLU', 'LEU',\n",
       "       'VAL', 'ILE', 'ALA', 'LEU', 'VAL', 'LYS', 'GLU', 'ARG', 'ILE',\n",
       "       'ALA', 'GLN', 'GLU', 'ASP', 'CYS', 'ARG', 'ASN', 'GLY', 'PHE',\n",
       "       'LEU', 'LEU', 'ASP', 'GLY', 'PHE', 'PRO', 'ARG', 'THR', 'ILE',\n",
       "       'PRO', 'GLN', 'ALA', 'ASP', 'ALA', 'MET', 'LYS', 'GLU', 'ALA',\n",
       "       'GLY', 'ILE', 'ASN', 'VAL', 'ASP', 'TYR', 'VAL', 'LEU', 'GLU',\n",
       "       'PHE', 'ASP', 'VAL', 'PRO', 'ASP', 'GLU', 'LEU', 'ILE', 'VAL',\n",
       "       'ASP', 'ARG', 'ILE', 'VAL', 'GLY', 'ARG', 'ARG', 'VAL', 'HSD',\n",
       "       'ALA', 'PRO', 'SER', 'GLY', 'ARG', 'VAL', 'TYR', 'HSD', 'VAL',\n",
       "       'LYS', 'PHE', 'ASN', 'PRO', 'PRO', 'LYS', 'VAL', 'GLU', 'GLY',\n",
       "       'LYS', 'ASP', 'ASP', 'VAL', 'THR', 'GLY', 'GLU', 'GLU', 'LEU',\n",
       "       'THR', 'THR', 'ARG', 'LYS', 'ASP', 'ASP', 'GLN', 'GLU', 'GLU',\n",
       "       'THR', 'VAL', 'ARG', 'LYS', 'ARG', 'LEU', 'VAL', 'GLU', 'TYR',\n",
       "       'HSD', 'GLN', 'MET', 'THR', 'ALA', 'PRO', 'LEU', 'ILE', 'GLY',\n",
       "       'TYR', 'TYR', 'SER', 'LYS', 'GLU', 'ALA', 'GLU', 'ALA', 'GLY',\n",
       "       'ASN', 'THR', 'LYS', 'TYR', 'ALA', 'LYS', 'VAL', 'ASP', 'GLY',\n",
       "       'THR', 'LYS', 'PRO', 'VAL', 'ALA', 'GLU', 'VAL', 'ARG', 'ALA',\n",
       "       'ASP', 'LEU', 'GLU', 'LYS', 'ILE', 'LEU', 'GLY'], dtype=object)"
      ]
     },
     "execution_count": 19,
     "metadata": {},
     "output_type": "execute_result"
    }
   ],
   "source": [
    "u.residues.resnames"
   ]
  },
  {
   "cell_type": "code",
   "execution_count": 20,
   "metadata": {},
   "outputs": [
    {
     "data": {
      "text/plain": [
       "array(['MET', 'ARG', 'ILE', 'ILE', 'LEU', 'LEU', 'GLY', 'ALA', 'PRO',\n",
       "       'GLY', 'ALA', 'GLY', 'LYS', 'GLY', 'THR', 'GLN', 'ALA', 'GLN',\n",
       "       'PHE', 'ILE'], dtype=object)"
      ]
     },
     "execution_count": 20,
     "metadata": {},
     "output_type": "execute_result"
    }
   ],
   "source": [
    "u.residues.resnames[:20]"
   ]
  },
  {
   "cell_type": "code",
   "execution_count": 21,
   "metadata": {},
   "outputs": [
    {
     "data": {
      "text/plain": [
       "array(['4AKE'], dtype=object)"
      ]
     },
     "execution_count": 21,
     "metadata": {},
     "output_type": "execute_result"
    }
   ],
   "source": [
    "u.segments.segids"
   ]
  },
  {
   "cell_type": "markdown",
   "metadata": {},
   "source": [
    "You can also create a `ResidueGroup` from an `AtomGroup`:"
   ]
  },
  {
   "cell_type": "code",
   "execution_count": 22,
   "metadata": {},
   "outputs": [
    {
     "name": "stdout",
     "output_type": "stream",
     "text": [
      "['MET' 'ARG' 'ILE' 'ILE' 'LEU' 'LEU' 'GLY' 'ALA' 'PRO' 'GLY' 'ALA' 'GLY'\n",
      " 'LYS' 'GLY' 'THR' 'GLN' 'ALA' 'GLN' 'PHE' 'ILE' 'MET' 'GLU' 'LYS' 'TYR'\n",
      " 'GLY' 'ILE' 'PRO' 'GLN' 'ILE' 'SER' 'THR' 'GLY' 'ASP' 'MET' 'LEU' 'ARG'\n",
      " 'ALA' 'ALA' 'VAL' 'LYS' 'SER' 'GLY' 'SER' 'GLU' 'LEU' 'GLY' 'LYS' 'GLN'\n",
      " 'ALA' 'LYS' 'ASP' 'ILE' 'MET' 'ASP' 'ALA' 'GLY' 'LYS' 'LEU' 'VAL' 'THR'\n",
      " 'ASP' 'GLU' 'LEU' 'VAL' 'ILE' 'ALA' 'LEU' 'VAL' 'LYS' 'GLU' 'ARG' 'ILE'\n",
      " 'ALA' 'GLN' 'GLU' 'ASP' 'CYS' 'ARG' 'ASN' 'GLY' 'PHE' 'LEU' 'LEU' 'ASP'\n",
      " 'GLY' 'PHE' 'PRO' 'ARG' 'THR' 'ILE' 'PRO' 'GLN' 'ALA' 'ASP' 'ALA' 'MET'\n",
      " 'LYS' 'GLU' 'ALA' 'GLY' 'ILE' 'ASN' 'VAL' 'ASP' 'TYR' 'VAL' 'LEU' 'GLU'\n",
      " 'PHE' 'ASP' 'VAL' 'PRO' 'ASP' 'GLU' 'LEU' 'ILE' 'VAL' 'ASP' 'ARG' 'ILE'\n",
      " 'VAL' 'GLY' 'ARG' 'ARG' 'VAL' 'HSD' 'ALA' 'PRO' 'SER' 'GLY' 'ARG' 'VAL'\n",
      " 'TYR' 'HSD' 'VAL' 'LYS' 'PHE' 'ASN' 'PRO' 'PRO' 'LYS' 'VAL' 'GLU' 'GLY'\n",
      " 'LYS' 'ASP' 'ASP' 'VAL' 'THR' 'GLY' 'GLU' 'GLU' 'LEU' 'THR' 'THR' 'ARG'\n",
      " 'LYS' 'ASP' 'ASP' 'GLN' 'GLU' 'GLU' 'THR' 'VAL' 'ARG' 'LYS' 'ARG' 'LEU'\n",
      " 'VAL' 'GLU' 'TYR' 'HSD' 'GLN' 'MET' 'THR' 'ALA' 'PRO' 'LEU' 'ILE' 'GLY'\n",
      " 'TYR' 'TYR' 'SER' 'LYS' 'GLU' 'ALA' 'GLU' 'ALA' 'GLY' 'ASN' 'THR' 'LYS'\n",
      " 'TYR' 'ALA' 'LYS' 'VAL' 'ASP' 'GLY' 'THR' 'LYS' 'PRO' 'VAL' 'ALA' 'GLU'\n",
      " 'VAL' 'ARG' 'ALA' 'ASP' 'LEU' 'GLU' 'LYS' 'ILE' 'LEU' 'GLY']\n"
     ]
    }
   ],
   "source": [
    "rg = ag.residues\n",
    "print(rg.resnames)"
   ]
  },
  {
   "cell_type": "markdown",
   "metadata": {},
   "source": [
    "## Exercise 1\n",
    "\n",
    "### 1a. Load the GRO topology file from `MDAnalysis.tests.datafiles` and count how many atoms, residues and segments it contains.**"
   ]
  },
  {
   "cell_type": "code",
   "execution_count": 23,
   "metadata": {},
   "outputs": [],
   "source": [
    "# Exercise 1a"
   ]
  },
  {
   "cell_type": "markdown",
   "metadata": {
    "solution2": "hidden",
    "solution2_first": true
   },
   "source": [
    "### Solution 1a"
   ]
  },
  {
   "cell_type": "code",
   "execution_count": 24,
   "metadata": {
    "solution2": "hidden"
   },
   "outputs": [
    {
     "name": "stdout",
     "output_type": "stream",
     "text": [
      "Atoms:  47681\n",
      "Residues:  11302\n",
      "Segments:  1\n"
     ]
    }
   ],
   "source": [
    "from MDAnalysis.tests.datafiles import GRO\n",
    "u_gro = mda.Universe(GRO)\n",
    "print('Atoms: ', u_gro.atoms.n_atoms)\n",
    "print('Residues: ', u_gro.residues.n_residues)\n",
    "print('Segments: ', u_gro.segments.n_segments)"
   ]
  },
  {
   "cell_type": "markdown",
   "metadata": {},
   "source": [
    "### 1b. From the above universe, find the name of the:\n",
    "  - first segment\n",
    "  - last atom\n",
    "  - 10th residue."
   ]
  },
  {
   "cell_type": "code",
   "execution_count": 25,
   "metadata": {},
   "outputs": [
    {
     "name": "stdout",
     "output_type": "stream",
     "text": [
      "Last atom:  NA\n",
      "First segment: SYSTEM\n",
      "115th residue:  LEU\n"
     ]
    }
   ],
   "source": [
    "# Exercise 1b\n",
    "print(\"Last atom: \", u_gro.atoms[-1].name)\n",
    "print('First segment:', u_gro.segments[0].segid)\n",
    "print('115th residue: ', u_gro.residues[114].resname)"
   ]
  },
  {
   "cell_type": "markdown",
   "metadata": {
    "solution2": "hidden",
    "solution2_first": true
   },
   "source": [
    "### Solution 1b"
   ]
  },
  {
   "cell_type": "code",
   "execution_count": 26,
   "metadata": {
    "solution2": "hidden"
   },
   "outputs": [
    {
     "name": "stdout",
     "output_type": "stream",
     "text": [
      "First segment: SYSTEM\n",
      "Last atom:  NA\n",
      "10th residue:  GLY\n"
     ]
    }
   ],
   "source": [
    "print('First segment:', u_gro.segments[0].segid)\n",
    "print('Last atom: ', u_gro.atoms[-1].name)\n",
    "print('10th residue: ', u_gro.residues[9].resname)"
   ]
  },
  {
   "cell_type": "markdown",
   "metadata": {},
   "source": [
    "<a id='selections'></a>\n",
    "# 2. Selecting atoms\n",
    "\n",
    "It is also rare that we want to operate on all atoms in the system!\n",
    "\n",
    "`MDAnalysis` offers a few different ways to select atoms,\n",
    "in this section we will go over the most useful methods."
   ]
  },
  {
   "cell_type": "markdown",
   "metadata": {},
   "source": [
    "## Numpy style selections\n",
    "\n",
    "As previously mentioned, an `AtomGroup` is like an array of atoms,\n",
    "and therefore we can slice it exactly like we would slice a `numpy` array.\n",
    "\n",
    "### Fancy indexing\n",
    "\n",
    "The simplest option to select specific atom is to use fancy indexing. You can specify the atoms in a list"
   ]
  },
  {
   "cell_type": "code",
   "execution_count": 27,
   "metadata": {},
   "outputs": [
    {
     "data": {
      "text/plain": [
       "<AtomGroup with 4 atoms>"
      ]
     },
     "execution_count": 27,
     "metadata": {},
     "output_type": "execute_result"
    }
   ],
   "source": [
    "u = mda.Universe(PSF, DCD)\n",
    "u.atoms[[1, 4, 5 , 0]]"
   ]
  },
  {
   "cell_type": "markdown",
   "metadata": {},
   "source": [
    "or as a range"
   ]
  },
  {
   "cell_type": "code",
   "execution_count": 28,
   "metadata": {},
   "outputs": [
    {
     "data": {
      "text/plain": [
       "<AtomGroup with 9 atoms>"
      ]
     },
     "execution_count": 28,
     "metadata": {},
     "output_type": "execute_result"
    }
   ],
   "source": [
    "u.atoms[1:10]"
   ]
  },
  {
   "cell_type": "markdown",
   "metadata": {},
   "source": [
    "### Boolean indexing\n",
    "\n",
    "You can also create an array with `True`/`False` values of the same length as the `AtomGroup`. Every atom for which the array is set to `True` will be selected.\n",
    "\n",
    "We can create such a boolean array by doing a comparison of a `numpy` array:"
   ]
  },
  {
   "cell_type": "code",
   "execution_count": 29,
   "metadata": {},
   "outputs": [
    {
     "name": "stdout",
     "output_type": "stream",
     "text": [
      "selection array =  [False False False ...  True  True  True]\n"
     ]
    }
   ],
   "source": [
    "selection_ar = u.atoms.resnames == 'GLY'\n",
    "print(\"selection array = \", selection_ar)\n",
    "glys = u.atoms[selection_ar]"
   ]
  },
  {
   "cell_type": "code",
   "execution_count": 30,
   "metadata": {},
   "outputs": [
    {
     "name": "stdout",
     "output_type": "stream",
     "text": [
      "141\n"
     ]
    },
    {
     "data": {
      "text/plain": [
       "array(['GLY', 'GLY', 'GLY', 'GLY', 'GLY', 'GLY', 'GLY', 'GLY', 'GLY',\n",
       "       'GLY', 'GLY', 'GLY', 'GLY', 'GLY', 'GLY', 'GLY', 'GLY', 'GLY',\n",
       "       'GLY', 'GLY', 'GLY', 'GLY', 'GLY', 'GLY', 'GLY', 'GLY', 'GLY',\n",
       "       'GLY', 'GLY', 'GLY', 'GLY', 'GLY', 'GLY', 'GLY', 'GLY', 'GLY',\n",
       "       'GLY', 'GLY', 'GLY', 'GLY', 'GLY', 'GLY', 'GLY', 'GLY', 'GLY',\n",
       "       'GLY', 'GLY', 'GLY', 'GLY', 'GLY', 'GLY', 'GLY', 'GLY', 'GLY',\n",
       "       'GLY', 'GLY', 'GLY', 'GLY', 'GLY', 'GLY', 'GLY', 'GLY', 'GLY',\n",
       "       'GLY', 'GLY', 'GLY', 'GLY', 'GLY', 'GLY', 'GLY', 'GLY', 'GLY',\n",
       "       'GLY', 'GLY', 'GLY', 'GLY', 'GLY', 'GLY', 'GLY', 'GLY', 'GLY',\n",
       "       'GLY', 'GLY', 'GLY', 'GLY', 'GLY', 'GLY', 'GLY', 'GLY', 'GLY',\n",
       "       'GLY', 'GLY', 'GLY', 'GLY', 'GLY', 'GLY', 'GLY', 'GLY', 'GLY',\n",
       "       'GLY', 'GLY', 'GLY', 'GLY', 'GLY', 'GLY', 'GLY', 'GLY', 'GLY',\n",
       "       'GLY', 'GLY', 'GLY', 'GLY', 'GLY', 'GLY', 'GLY', 'GLY', 'GLY',\n",
       "       'GLY', 'GLY', 'GLY', 'GLY', 'GLY', 'GLY', 'GLY', 'GLY', 'GLY',\n",
       "       'GLY', 'GLY', 'GLY', 'GLY', 'GLY', 'GLY', 'GLY', 'GLY', 'GLY',\n",
       "       'GLY', 'GLY', 'GLY', 'GLY', 'GLY', 'GLY'], dtype=object)"
      ]
     },
     "execution_count": 30,
     "metadata": {},
     "output_type": "execute_result"
    }
   ],
   "source": [
    "print(len(glys.resids))\n",
    "glys.resnames"
   ]
  },
  {
   "cell_type": "markdown",
   "metadata": {},
   "source": [
    "or shorter:"
   ]
  },
  {
   "cell_type": "code",
   "execution_count": 31,
   "metadata": {},
   "outputs": [
    {
     "name": "stdout",
     "output_type": "stream",
     "text": [
      "[ 119  120  121  122  123  124  125  150  151  152  153  154  155  156\n",
      "  167  168  169  170  171  172  173  196  197  198  199  200  201  202\n",
      "  375  376  377  378  379  380  381  476  477  478  479  480  481  482\n",
      "  624  625  626  627  628  629  630  676  677  678  679  680  681  682\n",
      "  824  825  826  827  828  829  830 1211 1212 1213 1214 1215 1216 1217\n",
      " 1288 1289 1290 1291 1292 1293 1294 1513 1514 1515 1516 1517 1518 1519\n",
      " 1866 1867 1868 1869 1870 1871 1872 1989 1990 1991 1992 1993 1994 1995\n",
      " 2227 2228 2229 2230 2231 2232 2233 2310 2311 2312 2313 2314 2315 2316\n",
      " 2809 2810 2811 2812 2813 2814 2815 2941 2942 2943 2944 2945 2946 2947\n",
      " 3079 3080 3081 3082 3083 3084 3085 3333 3334 3335 3336 3337 3338 3339\n",
      " 3340]\n"
     ]
    }
   ],
   "source": [
    "print(u.atoms[u.atoms.resnames == 'GLY'].indices)"
   ]
  },
  {
   "cell_type": "code",
   "execution_count": 32,
   "metadata": {},
   "outputs": [
    {
     "name": "stdout",
     "output_type": "stream",
     "text": [
      "['GLY' 'GLY' 'GLY' 'GLY' 'GLY' 'GLY' 'GLY' 'GLY' 'GLY' 'GLY' 'GLY' 'GLY'\n",
      " 'GLY' 'GLY' 'GLY' 'GLY' 'GLY' 'GLY' 'GLY' 'GLY' 'GLY' 'GLY' 'GLY' 'GLY'\n",
      " 'GLY' 'GLY' 'GLY' 'GLY' 'GLY' 'GLY' 'GLY' 'GLY' 'GLY' 'GLY' 'GLY' 'GLY'\n",
      " 'GLY' 'GLY' 'GLY' 'GLY' 'GLY' 'GLY' 'GLY' 'GLY' 'GLY' 'GLY' 'GLY' 'GLY'\n",
      " 'GLY' 'GLY' 'GLY' 'GLY' 'GLY' 'GLY' 'GLY' 'GLY' 'GLY' 'GLY' 'GLY' 'GLY'\n",
      " 'GLY' 'GLY' 'GLY' 'GLY' 'GLY' 'GLY' 'GLY' 'GLY' 'GLY' 'GLY' 'GLY' 'GLY'\n",
      " 'GLY' 'GLY' 'GLY' 'GLY' 'GLY' 'GLY' 'GLY' 'GLY' 'GLY' 'GLY' 'GLY' 'GLY'\n",
      " 'GLY' 'GLY' 'GLY' 'GLY' 'GLY' 'GLY' 'GLY' 'GLY' 'GLY' 'GLY' 'GLY' 'GLY'\n",
      " 'GLY' 'GLY' 'GLY' 'GLY' 'GLY' 'GLY' 'GLY' 'GLY' 'GLY' 'GLY' 'GLY' 'GLY'\n",
      " 'GLY' 'GLY' 'GLY' 'GLY' 'GLY' 'GLY' 'GLY' 'GLY' 'GLY' 'GLY' 'GLY' 'GLY'\n",
      " 'GLY' 'GLY' 'GLY' 'GLY' 'GLY' 'GLY' 'GLY' 'GLY' 'GLY' 'GLY' 'GLY' 'GLY'\n",
      " 'GLY' 'GLY' 'GLY' 'GLY' 'GLY' 'GLY' 'GLY' 'GLY' 'GLY']\n"
     ]
    }
   ],
   "source": [
    "glys = u.atoms[u.atoms.resnames == 'GLY']\n",
    "print(glys.resnames)"
   ]
  },
  {
   "cell_type": "markdown",
   "metadata": {},
   "source": [
    "We can also do this with `ResidueGroup`s and `SegmentGroup`s, e.g.:"
   ]
  },
  {
   "cell_type": "code",
   "execution_count": 33,
   "metadata": {},
   "outputs": [
    {
     "data": {
      "text/plain": [
       "<ResidueGroup with 20 residues>"
      ]
     },
     "execution_count": 33,
     "metadata": {},
     "output_type": "execute_result"
    }
   ],
   "source": [
    "u.residues[u.residues.resnames == 'GLY']"
   ]
  },
  {
   "cell_type": "markdown",
   "metadata": {},
   "source": [
    "## Selection Strings and `select_atoms`\n",
    "\n",
    "We've already seen that complex selections can be performed on `AtomGroups` using numpy style indexing.\n",
    "However, `MDAnalysis` also features a CHARMM-style atom selection mechanism that is often more convenient.\n",
    "We can consult the docstring for `select_atoms` to see the available selection keywords:"
   ]
  },
  {
   "cell_type": "code",
   "execution_count": 34,
   "metadata": {},
   "outputs": [],
   "source": [
    "u.atoms.select_atoms?"
   ]
  },
  {
   "cell_type": "markdown",
   "metadata": {},
   "source": [
    "You can also see them in the docs [here](https://docs.mdanalysis.org/2.0.0-dev0/documentation_pages/selections.html).\n",
    "\n",
    "Although boolean selections work well enough for selecting out atoms from AtomGroups, the selection language makes more complex selections possible with probably less effort.\n",
    "\n",
    "For example, we can select all glycines by:"
   ]
  },
  {
   "cell_type": "code",
   "execution_count": 35,
   "metadata": {},
   "outputs": [
    {
     "data": {
      "text/plain": [
       "array([14.007,  1.008, 12.011,  1.008,  1.008, 12.011, 15.999, 14.007,\n",
       "        1.008, 12.011,  1.008,  1.008, 12.011, 15.999, 14.007,  1.008,\n",
       "       12.011,  1.008,  1.008, 12.011, 15.999, 14.007,  1.008, 12.011,\n",
       "        1.008,  1.008, 12.011, 15.999, 14.007,  1.008, 12.011,  1.008,\n",
       "        1.008, 12.011, 15.999, 14.007,  1.008, 12.011,  1.008,  1.008,\n",
       "       12.011, 15.999, 14.007,  1.008, 12.011,  1.008,  1.008, 12.011,\n",
       "       15.999, 14.007,  1.008, 12.011,  1.008,  1.008, 12.011, 15.999,\n",
       "       14.007,  1.008, 12.011,  1.008,  1.008, 12.011, 15.999, 14.007,\n",
       "        1.008, 12.011,  1.008,  1.008, 12.011, 15.999, 14.007,  1.008,\n",
       "       12.011,  1.008,  1.008, 12.011, 15.999, 14.007,  1.008, 12.011,\n",
       "        1.008,  1.008, 12.011, 15.999, 14.007,  1.008, 12.011,  1.008,\n",
       "        1.008, 12.011, 15.999, 14.007,  1.008, 12.011,  1.008,  1.008,\n",
       "       12.011, 15.999, 14.007,  1.008, 12.011,  1.008,  1.008, 12.011,\n",
       "       15.999, 14.007,  1.008, 12.011,  1.008,  1.008, 12.011, 15.999,\n",
       "       14.007,  1.008, 12.011,  1.008,  1.008, 12.011, 15.999, 14.007,\n",
       "        1.008, 12.011,  1.008,  1.008, 12.011, 15.999, 14.007,  1.008,\n",
       "       12.011,  1.008,  1.008, 12.011, 15.999, 14.007,  1.008, 12.011,\n",
       "        1.008,  1.008, 12.011, 15.999, 15.999])"
      ]
     },
     "execution_count": 35,
     "metadata": {},
     "output_type": "execute_result"
    }
   ],
   "source": [
    "glycines = u.select_atoms(\"resname GLY\")\n",
    "glycines.masses"
   ]
  },
  {
   "cell_type": "markdown",
   "metadata": {},
   "source": [
    "If selecting by residue number, we can specify a range:"
   ]
  },
  {
   "cell_type": "code",
   "execution_count": 36,
   "metadata": {},
   "outputs": [
    {
     "name": "stdout",
     "output_type": "stream",
     "text": [
      "['MET' 'MET' 'MET' 'MET' 'MET' 'MET' 'MET' 'MET' 'MET' 'MET' 'MET' 'MET'\n",
      " 'MET' 'MET' 'MET' 'MET' 'MET' 'MET' 'MET' 'ARG' 'ARG' 'ARG' 'ARG' 'ARG'\n",
      " 'ARG' 'ARG' 'ARG' 'ARG' 'ARG' 'ARG' 'ARG' 'ARG' 'ARG' 'ARG' 'ARG' 'ARG'\n",
      " 'ARG' 'ARG' 'ARG' 'ARG' 'ARG' 'ARG' 'ARG' 'ILE' 'ILE' 'ILE' 'ILE' 'ILE'\n",
      " 'ILE' 'ILE' 'ILE' 'ILE' 'ILE' 'ILE' 'ILE' 'ILE' 'ILE' 'ILE' 'ILE' 'ILE'\n",
      " 'ILE' 'ILE' 'ILE' 'ILE' 'ILE' 'ILE' 'ILE' 'ILE' 'ILE' 'ILE' 'ILE' 'ILE'\n",
      " 'ILE' 'ILE' 'ILE' 'ILE' 'ILE' 'ILE' 'ILE' 'ILE' 'ILE' 'LEU' 'LEU' 'LEU'\n",
      " 'LEU' 'LEU' 'LEU' 'LEU' 'LEU' 'LEU' 'LEU' 'LEU' 'LEU' 'LEU' 'LEU' 'LEU'\n",
      " 'LEU' 'LEU' 'LEU' 'LEU' 'LEU' 'LEU' 'LEU' 'LEU' 'LEU' 'LEU' 'LEU' 'LEU'\n",
      " 'LEU' 'LEU' 'LEU' 'LEU' 'LEU' 'LEU' 'LEU' 'LEU' 'LEU' 'LEU' 'LEU' 'GLY'\n",
      " 'GLY' 'GLY' 'GLY' 'GLY' 'GLY' 'GLY' 'ALA' 'ALA' 'ALA' 'ALA' 'ALA' 'ALA'\n",
      " 'ALA' 'ALA' 'ALA' 'ALA' 'PRO' 'PRO' 'PRO' 'PRO' 'PRO' 'PRO' 'PRO' 'PRO'\n",
      " 'PRO' 'PRO' 'PRO' 'PRO' 'PRO' 'PRO' 'GLY' 'GLY' 'GLY' 'GLY' 'GLY' 'GLY'\n",
      " 'GLY']\n"
     ]
    }
   ],
   "source": [
    "first10resids = u.select_atoms(\"resid 1-10\")\n",
    "print(first10resids.resnames)"
   ]
  },
  {
   "cell_type": "markdown",
   "metadata": {},
   "source": [
    "We can use `and`/`or`/`not` with [logical conjunctions](https://en.wikipedia.org/wiki/Logical_conjunction):"
   ]
  },
  {
   "cell_type": "code",
   "execution_count": 37,
   "metadata": {},
   "outputs": [
    {
     "data": {
      "text/plain": [
       "array(['GLU', 'GLU', 'GLU', 'GLU', 'GLU', 'GLU', 'GLU', 'GLU', 'GLU',\n",
       "       'GLU', 'GLU', 'GLU', 'GLU', 'GLU', 'GLU', 'ASP', 'ASP', 'ASP',\n",
       "       'ASP', 'ASP', 'ASP', 'ASP', 'ASP', 'ASP', 'ASP', 'ASP', 'ASP',\n",
       "       'GLU', 'GLU', 'GLU', 'GLU', 'GLU', 'GLU', 'GLU', 'GLU', 'GLU',\n",
       "       'GLU', 'GLU', 'GLU', 'GLU', 'GLU', 'GLU', 'ASP', 'ASP', 'ASP',\n",
       "       'ASP', 'ASP', 'ASP', 'ASP', 'ASP', 'ASP', 'ASP', 'ASP', 'ASP',\n",
       "       'ASP', 'ASP', 'ASP', 'ASP', 'ASP', 'ASP', 'ASP', 'ASP', 'ASP',\n",
       "       'ASP', 'ASP', 'ASP', 'ASP', 'ASP', 'ASP', 'ASP', 'ASP', 'ASP',\n",
       "       'ASP', 'ASP', 'ASP', 'ASP', 'ASP', 'ASP', 'GLU', 'GLU', 'GLU',\n",
       "       'GLU', 'GLU', 'GLU', 'GLU', 'GLU', 'GLU', 'GLU', 'GLU', 'GLU',\n",
       "       'GLU', 'GLU', 'GLU', 'GLU', 'GLU', 'GLU', 'GLU', 'GLU', 'GLU',\n",
       "       'GLU', 'GLU', 'GLU', 'GLU', 'GLU', 'GLU', 'GLU', 'GLU', 'GLU',\n",
       "       'GLU', 'GLU', 'GLU', 'GLU', 'GLU', 'GLU', 'GLU', 'GLU', 'GLU',\n",
       "       'GLU', 'GLU', 'GLU', 'GLU', 'GLU', 'GLU', 'ASP', 'ASP', 'ASP',\n",
       "       'ASP', 'ASP', 'ASP', 'ASP', 'ASP', 'ASP', 'ASP', 'ASP', 'ASP',\n",
       "       'ASP', 'ASP', 'ASP', 'ASP', 'ASP', 'ASP', 'ASP', 'ASP', 'ASP',\n",
       "       'ASP', 'ASP', 'ASP', 'ASP', 'ASP', 'ASP', 'ASP', 'ASP', 'ASP',\n",
       "       'ASP', 'ASP', 'ASP', 'ASP', 'ASP', 'ASP', 'GLU', 'GLU', 'GLU',\n",
       "       'GLU', 'GLU', 'GLU', 'GLU', 'GLU', 'GLU', 'GLU', 'GLU', 'GLU',\n",
       "       'GLU', 'GLU', 'GLU', 'ASP', 'ASP', 'ASP', 'ASP', 'ASP', 'ASP',\n",
       "       'ASP', 'ASP', 'ASP', 'ASP', 'ASP', 'ASP', 'GLU', 'GLU', 'GLU',\n",
       "       'GLU', 'GLU', 'GLU', 'GLU', 'GLU', 'GLU', 'GLU', 'GLU', 'GLU',\n",
       "       'GLU', 'GLU', 'GLU', 'ASP', 'ASP', 'ASP', 'ASP', 'ASP', 'ASP',\n",
       "       'ASP', 'ASP', 'ASP', 'ASP', 'ASP', 'ASP', 'ASP', 'ASP', 'ASP',\n",
       "       'ASP', 'ASP', 'ASP', 'ASP', 'ASP', 'ASP', 'ASP', 'ASP', 'ASP',\n",
       "       'GLU', 'GLU', 'GLU', 'GLU', 'GLU', 'GLU', 'GLU', 'GLU', 'GLU',\n",
       "       'GLU', 'GLU', 'GLU', 'GLU', 'GLU', 'GLU', 'ASP', 'ASP', 'ASP',\n",
       "       'ASP', 'ASP', 'ASP', 'ASP', 'ASP', 'ASP', 'ASP', 'ASP', 'ASP',\n",
       "       'GLU', 'GLU', 'GLU', 'GLU', 'GLU', 'GLU', 'GLU', 'GLU', 'GLU',\n",
       "       'GLU', 'GLU', 'GLU', 'GLU', 'GLU', 'GLU', 'ASP', 'ASP', 'ASP',\n",
       "       'ASP', 'ASP', 'ASP', 'ASP', 'ASP', 'ASP', 'ASP', 'ASP', 'ASP',\n",
       "       'ASP', 'ASP', 'ASP', 'ASP', 'ASP', 'ASP', 'ASP', 'ASP', 'ASP',\n",
       "       'ASP', 'ASP', 'ASP', 'GLU', 'GLU', 'GLU', 'GLU', 'GLU', 'GLU',\n",
       "       'GLU', 'GLU', 'GLU', 'GLU', 'GLU', 'GLU', 'GLU', 'GLU', 'GLU',\n",
       "       'GLU', 'GLU', 'GLU', 'GLU', 'GLU', 'GLU', 'GLU', 'GLU', 'GLU',\n",
       "       'GLU', 'GLU', 'GLU', 'GLU', 'GLU', 'GLU', 'ASP', 'ASP', 'ASP',\n",
       "       'ASP', 'ASP', 'ASP', 'ASP', 'ASP', 'ASP', 'ASP', 'ASP', 'ASP',\n",
       "       'ASP', 'ASP', 'ASP', 'ASP', 'ASP', 'ASP', 'ASP', 'ASP', 'ASP',\n",
       "       'ASP', 'ASP', 'ASP', 'GLU', 'GLU', 'GLU', 'GLU', 'GLU', 'GLU',\n",
       "       'GLU', 'GLU', 'GLU', 'GLU', 'GLU', 'GLU', 'GLU', 'GLU', 'GLU',\n",
       "       'GLU', 'GLU', 'GLU', 'GLU', 'GLU', 'GLU', 'GLU', 'GLU', 'GLU',\n",
       "       'GLU', 'GLU', 'GLU', 'GLU', 'GLU', 'GLU', 'GLU', 'GLU', 'GLU',\n",
       "       'GLU', 'GLU', 'GLU', 'GLU', 'GLU', 'GLU', 'GLU', 'GLU', 'GLU',\n",
       "       'GLU', 'GLU', 'GLU', 'GLU', 'GLU', 'GLU', 'GLU', 'GLU', 'GLU',\n",
       "       'GLU', 'GLU', 'GLU', 'GLU', 'GLU', 'GLU', 'GLU', 'GLU', 'GLU',\n",
       "       'GLU', 'GLU', 'GLU', 'GLU', 'GLU', 'GLU', 'GLU', 'GLU', 'GLU',\n",
       "       'GLU', 'GLU', 'GLU', 'GLU', 'GLU', 'GLU', 'ASP', 'ASP', 'ASP',\n",
       "       'ASP', 'ASP', 'ASP', 'ASP', 'ASP', 'ASP', 'ASP', 'ASP', 'ASP',\n",
       "       'GLU', 'GLU', 'GLU', 'GLU', 'GLU', 'GLU', 'GLU', 'GLU', 'GLU',\n",
       "       'GLU', 'GLU', 'GLU', 'GLU', 'GLU', 'GLU', 'ASP', 'ASP', 'ASP',\n",
       "       'ASP', 'ASP', 'ASP', 'ASP', 'ASP', 'ASP', 'ASP', 'ASP', 'ASP',\n",
       "       'GLU', 'GLU', 'GLU', 'GLU', 'GLU', 'GLU', 'GLU', 'GLU', 'GLU',\n",
       "       'GLU', 'GLU', 'GLU', 'GLU', 'GLU', 'GLU'], dtype=object)"
      ]
     },
     "execution_count": 37,
     "metadata": {},
     "output_type": "execute_result"
    }
   ],
   "source": [
    "acidic = u.select_atoms(\"resname GLU or resname ASP\")\n",
    "acidic.resnames"
   ]
  },
  {
   "cell_type": "markdown",
   "metadata": {},
   "source": [
    "For name like selections, we can also Unix shell-style wildcards such as `*`. Here for example `name OD*` would select atoms named `OD1, OD2, OD3` etc:"
   ]
  },
  {
   "cell_type": "code",
   "execution_count": 38,
   "metadata": {},
   "outputs": [
    {
     "data": {
      "text/plain": [
       "array(['OE1', 'OE2', 'OD1', 'OD2', 'OE1', 'OE2', 'OD1', 'OD2', 'OD1',\n",
       "       'OD2', 'OD1', 'OD2', 'OE1', 'OE2', 'OE1', 'OE2', 'OE1', 'OE2',\n",
       "       'OD1', 'OD2', 'OD1', 'OD2', 'OD1', 'OD2', 'OE1', 'OE2', 'OD1',\n",
       "       'OD2', 'OE1', 'OE2', 'OD1', 'OD2', 'OD1', 'OD2', 'OE1', 'OE2',\n",
       "       'OD1', 'OD2', 'OE1', 'OE2', 'OD1', 'OD2', 'OD1', 'OD2', 'OE1',\n",
       "       'OE2', 'OE1', 'OE2', 'OD1', 'OD2', 'OD1', 'OD2', 'OE1', 'OE2',\n",
       "       'OE1', 'OE2', 'OE1', 'OE2', 'OE1', 'OE2', 'OE1', 'OE2', 'OD1',\n",
       "       'OD2', 'OE1', 'OE2', 'OD1', 'OD2', 'OE1', 'OE2'], dtype=object)"
      ]
     },
     "execution_count": 38,
     "metadata": {},
     "output_type": "execute_result"
    }
   ],
   "source": [
    "acidic_o = acidic.select_atoms('name OD* or name OE*')\n",
    "acidic_o.names"
   ]
  },
  {
   "cell_type": "markdown",
   "metadata": {},
   "source": [
    "As a shortcut, multiple values can be given and these will be implicitly OR'd together.\n",
    "To select all atoms with name NZ or NH* in residues named LYS or ARG:"
   ]
  },
  {
   "cell_type": "code",
   "execution_count": 39,
   "metadata": {},
   "outputs": [
    {
     "data": {
      "text/plain": [
       "<AtomGroup with 44 atoms>"
      ]
     },
     "execution_count": 39,
     "metadata": {},
     "output_type": "execute_result"
    }
   ],
   "source": [
    "basic_n = u.select_atoms(\"(resname LYS ARG) and (name NZ NH*)\")\n",
    "basic_n"
   ]
  },
  {
   "cell_type": "markdown",
   "metadata": {},
   "source": [
    "There are also several preset keywords for useful selections such as `backbone`, which selects all CA, C, O and N atoms:"
   ]
  },
  {
   "cell_type": "code",
   "execution_count": 40,
   "metadata": {},
   "outputs": [
    {
     "data": {
      "text/plain": [
       "True"
      ]
     },
     "execution_count": 40,
     "metadata": {},
     "output_type": "execute_result"
    }
   ],
   "source": [
    "backbone_1 = u.select_atoms('backbone')\n",
    "backbone_2 = u.select_atoms('name CA C O N')\n",
    "backbone_1 == backbone_2"
   ]
  },
  {
   "cell_type": "markdown",
   "metadata": {},
   "source": [
    "### Geometric selections\n",
    "\n",
    "The `select_atoms` method also has various geometric keywords that make selecting atoms based on geometric criteria much easier.\n",
    "\n",
    "For example, we can look for salt bridges by using the `around` selection operator to specify only atoms within 4 angstroms of a particular selection. Note we can simplify selection strings by referring to previous `AtomGroups`."
   ]
  },
  {
   "cell_type": "code",
   "execution_count": 41,
   "metadata": {},
   "outputs": [
    {
     "data": {
      "text/plain": [
       "<AtomGroup with 46 atoms>"
      ]
     },
     "execution_count": 41,
     "metadata": {},
     "output_type": "execute_result"
    }
   ],
   "source": [
    "acidic = u.select_atoms(\"group acidic and around 4 group basic\", acidic=acidic_o, basic=basic_n)\n",
    "acidic"
   ]
  },
  {
   "cell_type": "markdown",
   "metadata": {},
   "source": [
    "You can also select atoms based on absolute position using `prop`, e.g.:"
   ]
  },
  {
   "cell_type": "code",
   "execution_count": 42,
   "metadata": {},
   "outputs": [
    {
     "data": {
      "text/plain": [
       "<AtomGroup with 468 atoms>"
      ]
     },
     "execution_count": 42,
     "metadata": {},
     "output_type": "execute_result"
    }
   ],
   "source": [
    "upper_z = u.select_atoms('prop z > 10')\n",
    "upper_z"
   ]
  },
  {
   "cell_type": "markdown",
   "metadata": {},
   "source": [
    "## Set operations\n",
    "\n",
    "`AtomGroup`s can also be combined using `&` for \"and\" and `|` for \"or\":"
   ]
  },
  {
   "cell_type": "code",
   "execution_count": 43,
   "metadata": {},
   "outputs": [
    {
     "name": "stdout",
     "output_type": "stream",
     "text": [
      "1656 312\n",
      "143\n",
      "1825\n"
     ]
    }
   ],
   "source": [
    "heavy = u.atoms[u.atoms.masses > 10]\n",
    "arg = u.atoms[u.atoms.resnames == 'ARG']\n",
    "print(len(heavy), len(arg))\n",
    "print(len(heavy & arg))\n",
    "print(len(heavy | arg))"
   ]
  },
  {
   "cell_type": "markdown",
   "metadata": {},
   "source": [
    "These two selections are identical:"
   ]
  },
  {
   "cell_type": "code",
   "execution_count": 44,
   "metadata": {},
   "outputs": [
    {
     "data": {
      "text/plain": [
       "False"
      ]
     },
     "execution_count": 44,
     "metadata": {},
     "output_type": "execute_result"
    }
   ],
   "source": [
    "ag1 = u.atoms.select_atoms('resname LYS ARG')\n",
    "ag2 = u.atoms.select_atoms('resname LYS') | u.atoms.select_atoms('resname ARG')\n",
    "ag3 = u.atoms.select_atoms('resname LYS') & u.atoms.select_atoms('resname ARG')\n",
    "ag1 == ag2\n",
    "ag1 == ag3"
   ]
  },
  {
   "cell_type": "markdown",
   "metadata": {},
   "source": [
    "We can also concatenate atomgroups with `+` and subtract with `-`; the following two selections are also identical: "
   ]
  },
  {
   "cell_type": "code",
   "execution_count": 45,
   "metadata": {},
   "outputs": [
    {
     "data": {
      "text/plain": [
       "False"
      ]
     },
     "execution_count": 45,
     "metadata": {},
     "output_type": "execute_result"
    }
   ],
   "source": [
    "no_H1 = u.atoms.select_atoms('resname LYS ARG and not name H*')\n",
    "no_H2 = u.atoms.select_atoms('resname LYS ARG') + u.atoms.select_atoms('name H*')\n",
    "\n",
    "no_H1 == no_H2"
   ]
  },
  {
   "cell_type": "markdown",
   "metadata": {},
   "source": [
    "By design, an `AtomGroup` can have repeats of the same atom, for example through this selection:"
   ]
  },
  {
   "cell_type": "code",
   "execution_count": 46,
   "metadata": {},
   "outputs": [
    {
     "data": {
      "text/plain": [
       "<AtomGroup with 7 atoms>"
      ]
     },
     "execution_count": 46,
     "metadata": {},
     "output_type": "execute_result"
    }
   ],
   "source": [
    "ag = u.atoms[[0, 0, 1, 2, 4, 4, 5]]\n",
    "ag"
   ]
  },
  {
   "cell_type": "markdown",
   "metadata": {},
   "source": [
    "The `unique` property will return a version of the `AtomGroup` with only one of each Atom:"
   ]
  },
  {
   "cell_type": "code",
   "execution_count": 47,
   "metadata": {
    "scrolled": true
   },
   "outputs": [
    {
     "data": {
      "text/plain": [
       "<AtomGroup with 5 atoms>"
      ]
     },
     "execution_count": 47,
     "metadata": {},
     "output_type": "execute_result"
    }
   ],
   "source": [
    "ag.unique"
   ]
  },
  {
   "cell_type": "markdown",
   "metadata": {},
   "source": [
    "## Exercise 2\n",
    "\n",
    "### 2a. Select residues 100 to 200, first using indexing and then using a selection string, and confirm you get the same selection."
   ]
  },
  {
   "cell_type": "code",
   "execution_count": 48,
   "metadata": {},
   "outputs": [
    {
     "name": "stdout",
     "output_type": "stream",
     "text": [
      "<ResidueGroup [<Residue GLY, 100>, <Residue ILE, 101>, <Residue ASN, 102>, ..., <Residue GLY, 198>, <Residue THR, 199>, <Residue LYS, 200>]>\n"
     ]
    },
    {
     "data": {
      "text/plain": [
       "True"
      ]
     },
     "execution_count": 48,
     "metadata": {},
     "output_type": "execute_result"
    }
   ],
   "source": [
    "# Exercise 2a\n",
    "res_sel1 = u.residues[99:200]\n",
    "print(res_sel1)\n",
    "res_sel2 = u.select_atoms('resid 100-200').residues\n",
    "\n",
    "res_sel1 == res_sel2\n"
   ]
  },
  {
   "cell_type": "markdown",
   "metadata": {
    "solution2": "hidden",
    "solution2_first": true
   },
   "source": [
    "### Solution 2a"
   ]
  },
  {
   "cell_type": "code",
   "execution_count": 49,
   "metadata": {
    "solution2": "hidden"
   },
   "outputs": [
    {
     "data": {
      "text/plain": [
       "True"
      ]
     },
     "execution_count": 49,
     "metadata": {},
     "output_type": "execute_result"
    }
   ],
   "source": [
    "ag1 = u.residues[99:200]\n",
    "ag2 = u.select_atoms(\"resid 100-200\").residues\n",
    "ag1 == ag2"
   ]
  },
  {
   "cell_type": "markdown",
   "metadata": {},
   "source": [
    "What might be some reasons to prefer one method over the other?"
   ]
  },
  {
   "cell_type": "markdown",
   "metadata": {
    "cell_style": "center"
   },
   "source": [
    "### 2b. Count the number of arginine residues"
   ]
  },
  {
   "cell_type": "code",
   "execution_count": 50,
   "metadata": {},
   "outputs": [
    {
     "name": "stdout",
     "output_type": "stream",
     "text": [
      "13\n",
      "312\n"
     ]
    }
   ],
   "source": [
    "# Exercise 2b\n",
    "arg = u.select_atoms(\"resname ARG\")\n",
    "print(len(arg.residues))\n",
    "print(len(arg))"
   ]
  },
  {
   "cell_type": "markdown",
   "metadata": {
    "solution2": "hidden",
    "solution2_first": true
   },
   "source": [
    "### Solution 2b"
   ]
  },
  {
   "cell_type": "code",
   "execution_count": 51,
   "metadata": {
    "solution2": "hidden"
   },
   "outputs": [
    {
     "name": "stdout",
     "output_type": "stream",
     "text": [
      "13\n"
     ]
    }
   ],
   "source": [
    "ag = u.select_atoms('resname ARG')\n",
    "print(len(ag.residues))"
   ]
  },
  {
   "cell_type": "markdown",
   "metadata": {},
   "source": [
    "### 2c. Select all nitrogen atoms within 5.0A of an alpha carbon atom"
   ]
  },
  {
   "cell_type": "code",
   "execution_count": 52,
   "metadata": {},
   "outputs": [
    {
     "name": "stdout",
     "output_type": "stream",
     "text": [
      "<AtomGroup [<Atom 1: N of type 56 of resname MET, resid 1 and segid 4AKE>, <Atom 20: N of type 54 of resname ARG, resid 2 and segid 4AKE>, <Atom 33: NE of type 57 of resname ARG, resid 2 and segid 4AKE>, ..., <Atom 3296: N of type 54 of resname ILE, resid 212 and segid 4AKE>, <Atom 3315: N of type 54 of resname LEU, resid 213 and segid 4AKE>, <Atom 3334: N of type 54 of resname GLY, resid 214 and segid 4AKE>]>\n"
     ]
    }
   ],
   "source": [
    "# Exercise 2c\n",
    "N = u.select_atoms(\"name N* and around 5 name CA\")\n",
    "print(N)"
   ]
  },
  {
   "cell_type": "markdown",
   "metadata": {
    "solution2": "hidden",
    "solution2_first": true
   },
   "source": [
    "### Solution 2c"
   ]
  },
  {
   "cell_type": "code",
   "execution_count": 53,
   "metadata": {
    "solution2": "hidden"
   },
   "outputs": [
    {
     "name": "stdout",
     "output_type": "stream",
     "text": [
      "<AtomGroup [<Atom 1: N of type 56 of resname MET, resid 1 and segid 4AKE>, <Atom 20: N of type 54 of resname ARG, resid 2 and segid 4AKE>, <Atom 33: NE of type 57 of resname ARG, resid 2 and segid 4AKE>, ..., <Atom 3296: N of type 54 of resname ILE, resid 212 and segid 4AKE>, <Atom 3315: N of type 54 of resname LEU, resid 213 and segid 4AKE>, <Atom 3334: N of type 54 of resname GLY, resid 214 and segid 4AKE>]>\n"
     ]
    }
   ],
   "source": [
    "ag = u.select_atoms('name N* and around 5 name CA')\n",
    "print(ag)"
   ]
  },
  {
   "cell_type": "markdown",
   "metadata": {},
   "source": [
    "### 2d. Select all hydrogens that are bonded to an alpha carbon\n",
    "\n",
    "*Hint: Look through the `select_atoms` docstring above or [here](https://docs.mdanalysis.org/2.0.0-dev0/documentation_pages/selections.html) for keywords that might help!*"
   ]
  },
  {
   "cell_type": "code",
   "execution_count": 54,
   "metadata": {},
   "outputs": [],
   "source": [
    "# Exercise 2d"
   ]
  },
  {
   "cell_type": "markdown",
   "metadata": {
    "solution2": "hidden",
    "solution2_first": true
   },
   "source": [
    "### Solution 2d"
   ]
  },
  {
   "cell_type": "code",
   "execution_count": 55,
   "metadata": {
    "solution2": "hidden"
   },
   "outputs": [
    {
     "name": "stdout",
     "output_type": "stream",
     "text": [
      "<AtomGroup [<Atom 6: HA of type 6 of resname MET, resid 1 and segid 4AKE>, <Atom 23: HA of type 6 of resname ARG, resid 2 and segid 4AKE>, <Atom 47: HA of type 6 of resname ILE, resid 3 and segid 4AKE>, ..., <Atom 3318: HA of type 6 of resname LEU, resid 213 and segid 4AKE>, <Atom 3337: HA1 of type 6 of resname GLY, resid 214 and segid 4AKE>, <Atom 3338: HA2 of type 6 of resname GLY, resid 214 and segid 4AKE>]>\n"
     ]
    }
   ],
   "source": [
    "ag = u.select_atoms('name H* and bonded name CA')\n",
    "print(ag)"
   ]
  },
  {
   "cell_type": "markdown",
   "metadata": {},
   "source": [
    "<a id='visualisation'></a>\n",
    "# 3. Visualisation with nglview\n",
    "\n",
    "[nglview](https://github.com/nglviewer/nglview#usage) is a package that allows to visualise a MDAnalysis `Universe` or `AtomGroup` directly on the jupyter notebook. First we load the structure:"
   ]
  },
  {
   "cell_type": "code",
   "execution_count": 56,
   "metadata": {},
   "outputs": [
    {
     "data": {
      "application/vnd.jupyter.widget-view+json": {
       "model_id": "49693d23086041a081ebfb5d214304e3",
       "version_major": 2,
       "version_minor": 0
      },
      "text/plain": []
     },
     "metadata": {},
     "output_type": "display_data"
    }
   ],
   "source": [
    "import nglview as nv\n",
    "\n",
    "view_u = nv.show_mdanalysis(u)\n",
    "view_u.camera = 'orthographic'"
   ]
  },
  {
   "cell_type": "markdown",
   "metadata": {},
   "source": [
    "And now we can launch the viewer:"
   ]
  },
  {
   "cell_type": "code",
   "execution_count": 57,
   "metadata": {},
   "outputs": [
    {
     "data": {
      "application/vnd.jupyter.widget-view+json": {
       "model_id": "23cade3544474aa19caabf328d9fb329",
       "version_major": 2,
       "version_minor": 0
      },
      "text/plain": [
       "NGLWidget(max_frame=97)"
      ]
     },
     "metadata": {},
     "output_type": "display_data"
    }
   ],
   "source": [
    "view_u"
   ]
  },
  {
   "cell_type": "markdown",
   "metadata": {},
   "source": [
    "Have a play around - you can rotate, zoom (and play through the trajectory) to view the structure. You can also select atoms to display their information."
   ]
  },
  {
   "cell_type": "markdown",
   "metadata": {},
   "source": [
    "nglview can be useful to check that we are indeed selecting the correct `AtomGroup`:"
   ]
  },
  {
   "cell_type": "code",
   "execution_count": 58,
   "metadata": {},
   "outputs": [
    {
     "data": {
      "application/vnd.jupyter.widget-view+json": {
       "model_id": "7756cbfd0036491da49c8b236f5e850d",
       "version_major": 2,
       "version_minor": 0
      },
      "text/plain": [
       "NGLWidget(max_frame=97)"
      ]
     },
     "metadata": {},
     "output_type": "display_data"
    }
   ],
   "source": [
    "helix_1 = u.select_atoms('resid 12-25')\n",
    "view_ag = nv.show_mdanalysis(helix_1)\n",
    "\n",
    "view_ag"
   ]
  },
  {
   "cell_type": "markdown",
   "metadata": {},
   "source": [
    "To add another selection to the same view:"
   ]
  },
  {
   "cell_type": "code",
   "execution_count": 59,
   "metadata": {},
   "outputs": [
    {
     "data": {
      "text/plain": [
       "<nglview.component.ComponentViewer at 0x1b0e1320848>"
      ]
     },
     "execution_count": 59,
     "metadata": {},
     "output_type": "execute_result"
    }
   ],
   "source": [
    "resid_20 = u.select_atoms('resid 20')\n",
    "view_ag.add_trajectory(resid_20)"
   ]
  },
  {
   "cell_type": "markdown",
   "metadata": {},
   "source": [
    "### Exercise 3"
   ]
  },
  {
   "cell_type": "markdown",
   "metadata": {},
   "source": [
    "Show all atoms that are below the plane x=4.0"
   ]
  },
  {
   "cell_type": "code",
   "execution_count": 60,
   "metadata": {},
   "outputs": [
    {
     "data": {
      "application/vnd.jupyter.widget-view+json": {
       "model_id": "9a14361cf28a4bc09125ad54982433e6",
       "version_major": 2,
       "version_minor": 0
      },
      "text/plain": [
       "NGLWidget(max_frame=97)"
      ]
     },
     "metadata": {},
     "output_type": "display_data"
    }
   ],
   "source": [
    "# Exercise 3\n",
    "upper_x = u.select_atoms('prop x < 4')\n",
    "view_x = nv.show_mdanalysis(upper_x)\n",
    "view_x\n",
    "\n"
   ]
  },
  {
   "cell_type": "markdown",
   "metadata": {
    "solution2": "hidden",
    "solution2_first": true
   },
   "source": [
    "### Solution 3"
   ]
  },
  {
   "cell_type": "code",
   "execution_count": 61,
   "metadata": {
    "solution2": "hidden"
   },
   "outputs": [
    {
     "data": {
      "application/vnd.jupyter.widget-view+json": {
       "model_id": "158d548916c94d3d9f6ec439d7173127",
       "version_major": 2,
       "version_minor": 0
      },
      "text/plain": [
       "NGLWidget(max_frame=97)"
      ]
     },
     "metadata": {},
     "output_type": "display_data"
    }
   ],
   "source": [
    "ag = u.select_atoms('prop x < 4')\n",
    "view_ex3 = nv.show_mdanalysis(ag)\n",
    "view_ex3"
   ]
  },
  {
   "cell_type": "markdown",
   "metadata": {},
   "source": [
    "<a id='bonds'></a>\n",
    "# 4. Bonds, angles, and dihedrals\n",
    "\n",
    "We can also get at connectivity information between atoms, such as bonds, angles, and dihedrals.\n",
    "These are read from the input topology file,\n",
    "with angle and dihedrals inferred from the bonds present,\n",
    "i.e. there is a measurable angle between two bonds with a common atom.\n",
    "\n",
    "For example in a PDB file `CONECT` records are read as bonds,\n",
    "however if none are present..."
   ]
  },
  {
   "cell_type": "code",
   "execution_count": 62,
   "metadata": {},
   "outputs": [],
   "source": [
    "from MDAnalysis.tests.datafiles import PDB_small"
   ]
  },
  {
   "cell_type": "markdown",
   "metadata": {},
   "source": [
    "## Guessing bonds\n",
    "\n",
    "Bonds are typically read form the topology file,\n",
    "however if they are not present it is possible to guess these by passing the `guess_bonds=True` keyword argument to `Universe` creation.\n",
    "This algorithm guesses bonds that are present based upon the positions of particles and their assumed radius."
   ]
  },
  {
   "cell_type": "code",
   "execution_count": 63,
   "metadata": {},
   "outputs": [
    {
     "name": "stderr",
     "output_type": "stream",
     "text": [
      "C:\\Programs\\Anaconda3\\envs\\rdkit\\lib\\site-packages\\MDAnalysis\\topology\\PDBParser.py:317: UserWarning: Element information is missing, elements attribute will not be populated. If needed these can be guessed using MDAnalysis.topology.guessers.\n",
      "  warnings.warn(\"Element information is missing, elements attribute \"\n"
     ]
    }
   ],
   "source": [
    "u = mda.Universe(PDB_small,\n",
    "                 guess_bonds=True)"
   ]
  },
  {
   "cell_type": "code",
   "execution_count": 64,
   "metadata": {},
   "outputs": [
    {
     "data": {
      "text/plain": [
       "<TopologyGroup containing 3365 bonds>"
      ]
     },
     "execution_count": 64,
     "metadata": {},
     "output_type": "execute_result"
    }
   ],
   "source": [
    "u.atoms.bonds"
   ]
  },
  {
   "cell_type": "code",
   "execution_count": 65,
   "metadata": {},
   "outputs": [
    {
     "data": {
      "text/plain": [
       "<TopologyGroup containing 6123 angles>"
      ]
     },
     "execution_count": 65,
     "metadata": {},
     "output_type": "execute_result"
    }
   ],
   "source": [
    "u.atoms.angles"
   ]
  },
  {
   "cell_type": "code",
   "execution_count": 66,
   "metadata": {},
   "outputs": [
    {
     "data": {
      "text/plain": [
       "<TopologyGroup containing 8921 dihedrals>"
      ]
     },
     "execution_count": 66,
     "metadata": {},
     "output_type": "execute_result"
    }
   ],
   "source": [
    "u.atoms.dihedrals"
   ]
  },
  {
   "cell_type": "markdown",
   "metadata": {},
   "source": [
    "Like AtomGroups, these can be sliced to yield individual items:"
   ]
  },
  {
   "cell_type": "code",
   "execution_count": 67,
   "metadata": {},
   "outputs": [
    {
     "data": {
      "text/plain": [
       "1.4916038429042136"
      ]
     },
     "execution_count": 67,
     "metadata": {},
     "output_type": "execute_result"
    }
   ],
   "source": [
    "u.atoms.bonds[3].value()"
   ]
  },
  {
   "cell_type": "markdown",
   "metadata": {},
   "source": [
    "All of these give the associated measurement, bond length or angle, via the `values()` or `value()` method:"
   ]
  },
  {
   "cell_type": "code",
   "execution_count": 68,
   "metadata": {},
   "outputs": [
    {
     "data": {
      "text/plain": [
       "array([1.03790959, 1.03722839, 1.05421131, ..., 1.53102852, 1.26192749,\n",
       "       1.26038941])"
      ]
     },
     "execution_count": 68,
     "metadata": {},
     "output_type": "execute_result"
    }
   ],
   "source": [
    "u.atoms.bonds.values()"
   ]
  },
  {
   "cell_type": "code",
   "execution_count": 69,
   "metadata": {},
   "outputs": [
    {
     "data": {
      "text/plain": [
       "1.054215168443364"
      ]
     },
     "execution_count": 69,
     "metadata": {},
     "output_type": "execute_result"
    }
   ],
   "source": [
    "u.bonds[2].value()"
   ]
  },
  {
   "cell_type": "code",
   "execution_count": 70,
   "metadata": {},
   "outputs": [
    {
     "data": {
      "text/plain": [
       "1.054215168443364"
      ]
     },
     "execution_count": 70,
     "metadata": {},
     "output_type": "execute_result"
    }
   ],
   "source": [
    "u.atoms.bonds[2].value()"
   ]
  },
  {
   "cell_type": "markdown",
   "metadata": {},
   "source": [
    "We can plot the distribution of bond lengths using matplotlib:"
   ]
  },
  {
   "cell_type": "code",
   "execution_count": 71,
   "metadata": {},
   "outputs": [
    {
     "data": {
      "text/plain": [
       "(array([ 268.,   94.,  305., 1017.,    0.,  214.,   83.,   16.,  259.,\n",
       "          86.,  208.,  103.,  672.,   27.,    0.,    0.,    0.,    0.,\n",
       "          13.]),\n",
       " array([0.95964684, 1.00548859, 1.05133034, 1.09717209, 1.14301384,\n",
       "        1.18885559, 1.23469734, 1.28053909, 1.32638084, 1.37222259,\n",
       "        1.41806434, 1.46390608, 1.50974783, 1.55558958, 1.60143133,\n",
       "        1.64727308, 1.69311483, 1.73895658, 1.78479833, 1.83064008]),\n",
       " <BarContainer object of 19 artists>)"
      ]
     },
     "execution_count": 71,
     "metadata": {},
     "output_type": "execute_result"
    },
    {
     "data": {
      "image/png": "[encoded data removed]",
      "text/plain": [
       "<Figure size 640x480 with 1 Axes>"
      ]
     },
     "metadata": {},
     "output_type": "display_data"
    }
   ],
   "source": [
    "import matplotlib.pyplot as plt\n",
    "%matplotlib inline\n",
    "\n",
    "plt.hist(u.bonds.values(), bins=\"auto\")"
   ]
  },
  {
   "cell_type": "markdown",
   "metadata": {},
   "source": [
    "## Selecting specific bonds\n",
    "\n",
    "Like atoms, it is rarely interesting to look at **all** bonds.\n",
    "Instead, based on a tuple of atom types, we can select bonds between certain types of atoms."
   ]
  },
  {
   "cell_type": "code",
   "execution_count": 72,
   "metadata": {},
   "outputs": [
    {
     "data": {
      "text/plain": [
       "array(['N', 'H', 'H', ..., 'C', 'O', 'O'], dtype=object)"
      ]
     },
     "execution_count": 72,
     "metadata": {},
     "output_type": "execute_result"
    }
   ],
   "source": [
    "u.atoms.types"
   ]
  },
  {
   "cell_type": "code",
   "execution_count": 73,
   "metadata": {
    "scrolled": true
   },
   "outputs": [
    {
     "data": {
      "text/plain": [
       "[('N', 'H'),\n",
       " ('N', 'C'),\n",
       " ('C', 'H'),\n",
       " ('C', 'C'),\n",
       " ('C', 'S'),\n",
       " ('C', 'O'),\n",
       " ('O', 'H'),\n",
       " ('S', 'H')]"
      ]
     },
     "execution_count": 73,
     "metadata": {},
     "output_type": "execute_result"
    }
   ],
   "source": [
    "u.bonds.types()"
   ]
  },
  {
   "cell_type": "code",
   "execution_count": 74,
   "metadata": {},
   "outputs": [
    {
     "data": {
      "text/plain": [
       "<TopologyGroup containing 531 bonds>"
      ]
     },
     "execution_count": 74,
     "metadata": {},
     "output_type": "execute_result"
    }
   ],
   "source": [
    "u.bonds.select_bonds(('C', 'N'))"
   ]
  },
  {
   "cell_type": "markdown",
   "metadata": {},
   "source": [
    "## Selecting main chain dihedrals\n",
    "\n",
    "For polypeptides, it is also possible to select the atoms involved in the $\\varphi$ (phi), $\\psi$ (psi) and $\\omega$ (omega) dihedrals.\n",
    "These are acessed via the `phi_selection`, `psi_selection` and `omega_selection` methods of a **Residue**."
   ]
  },
  {
   "cell_type": "code",
   "execution_count": 75,
   "metadata": {},
   "outputs": [
    {
     "name": "stdout",
     "output_type": "stream",
     "text": [
      "<Residue ARG, 2>\n"
     ]
    }
   ],
   "source": [
    "r = u.residues[1]\n",
    "print(r)"
   ]
  },
  {
   "cell_type": "code",
   "execution_count": 76,
   "metadata": {},
   "outputs": [
    {
     "name": "stdout",
     "output_type": "stream",
     "text": [
      "<AtomGroup [<Atom 18: C of type C of resname MET, resid 1 and segid 4AKE and altLoc >, <Atom 20: N of type N of resname ARG, resid 2 and segid 4AKE and altLoc >, <Atom 22: CA of type C of resname ARG, resid 2 and segid 4AKE and altLoc >, <Atom 42: C of type C of resname ARG, resid 2 and segid 4AKE and altLoc >]>\n",
      "<AtomGroup [<Atom 20: N of type N of resname ARG, resid 2 and segid 4AKE and altLoc >, <Atom 22: CA of type C of resname ARG, resid 2 and segid 4AKE and altLoc >, <Atom 42: C of type C of resname ARG, resid 2 and segid 4AKE and altLoc >, <Atom 44: N of type N of resname ILE, resid 3 and segid 4AKE and altLoc >]>\n",
      "<AtomGroup [<Atom 22: CA of type C of resname ARG, resid 2 and segid 4AKE and altLoc >, <Atom 42: C of type C of resname ARG, resid 2 and segid 4AKE and altLoc >, <Atom 44: N of type N of resname ILE, resid 3 and segid 4AKE and altLoc >, <Atom 46: CA of type C of resname ILE, resid 3 and segid 4AKE and altLoc >]>\n"
     ]
    }
   ],
   "source": [
    "print(r.phi_selection())\n",
    "print(r.psi_selection())\n",
    "print(r.omega_selection())"
   ]
  },
  {
   "cell_type": "markdown",
   "metadata": {},
   "source": [
    "These methods return `AtomGroup`s.  To turn a 4-member group into a dihedral, the `.dihedral` converting property can be used:"
   ]
  },
  {
   "cell_type": "code",
   "execution_count": 77,
   "metadata": {},
   "outputs": [
    {
     "data": {
      "text/plain": [
       "<Dihedral between: Atom 17, Atom 19, Atom 21, Atom 41>"
      ]
     },
     "execution_count": 77,
     "metadata": {},
     "output_type": "execute_result"
    }
   ],
   "source": [
    "r.phi_selection().dihedral"
   ]
  },
  {
   "cell_type": "code",
   "execution_count": 78,
   "metadata": {},
   "outputs": [],
   "source": [
    "dih = r.phi_selection().dihedral"
   ]
  },
  {
   "cell_type": "code",
   "execution_count": null,
   "metadata": {},
   "outputs": [],
   "source": []
  },
  {
   "cell_type": "markdown",
   "metadata": {},
   "source": [
    "There are similar properties for casting **any** 2 atoms into a `Bond` (`AtomGroup.bond`) and casting **any** 3 atoms into an `Angle` (`AtomGroup.angle`)."
   ]
  },
  {
   "cell_type": "code",
   "execution_count": 79,
   "metadata": {},
   "outputs": [
    {
     "data": {
      "text/plain": [
       "<Bond between: Atom 0, Atom 2>"
      ]
     },
     "execution_count": 79,
     "metadata": {},
     "output_type": "execute_result"
    }
   ],
   "source": [
    "u.atoms[[0, 2]].bond"
   ]
  },
  {
   "cell_type": "markdown",
   "metadata": {},
   "source": [
    "### Exercise 4\n",
    "\n",
    "Calculate the angle between the C$\\alpha$ atoms in the fifth, sixth and seventh residue."
   ]
  },
  {
   "cell_type": "code",
   "execution_count": 80,
   "metadata": {},
   "outputs": [
    {
     "data": {
      "text/plain": [
       "125.1890032501002"
      ]
     },
     "execution_count": 80,
     "metadata": {},
     "output_type": "execute_result"
    }
   ],
   "source": [
    "## Solution\n",
    "\n",
    "at1 = u.residues[4].atoms.select_atoms('name CA')\n",
    "at2 = u.residues[5].atoms.select_atoms('name CA')\n",
    "at3 = u.residues[6].atoms.select_atoms('name CA')\n",
    "\n",
    "ag = at1 + at2 + at3\n",
    "\n",
    "ag.angle.value()"
   ]
  },
  {
   "cell_type": "markdown",
   "metadata": {},
   "source": [
    "# 5. Optional Tasks"
   ]
  },
  {
   "cell_type": "markdown",
   "metadata": {},
   "source": [
    "- If you haven't already, read through the [selection documentation](https://docs.mdanalysis.org/2.0.0-dev0/documentation_pages/selections.html) and play around with all the selection options not covered above\n",
    "\n",
    "\n",
    "- [nglview](https://github.com/nglviewer/nglview#usage) has a lot of visualisation options - you can add multiple selections to one view, change their colour and representation style and more - look through their documentaiton and see what you can create!"
   ]
  },
  {
   "cell_type": "code",
   "execution_count": null,
   "metadata": {},
   "outputs": [],
   "source": []
  }
 ],
 "metadata": {
  "hide_input": false,
  "kernelspec": {
   "display_name": "Python 3 (ipykernel)",
   "language": "python",
   "name": "python3"
  },
  "language_info": {
   "codemirror_mode": {
    "name": "ipython",
    "version": 3
   },
   "file_extension": ".py",
   "mimetype": "text/x-python",
   "name": "python",
   "nbconvert_exporter": "python",
   "pygments_lexer": "ipython3",
   "version": "3.7.13"
  },
  "toc": {
   "base_numbering": 1,
   "nav_menu": {},
   "number_sections": false,
   "sideBar": true,
   "skip_h1_title": true,
   "title_cell": "Table of Contents",
   "title_sidebar": "Contents",
   "toc_cell": false,
   "toc_position": {},
   "toc_section_display": true,
   "toc_window_display": false
  }
 },
 "nbformat": 4,
 "nbformat_minor": 4
}
