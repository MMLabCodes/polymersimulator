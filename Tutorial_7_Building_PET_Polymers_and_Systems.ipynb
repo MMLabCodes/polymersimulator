{
 "cells": [
  {
   "cell_type": "markdown",
   "id": "7462ea03-f42d-4bb1-b830-8a143e6e61c2",
   "metadata": {},
   "source": [
    "# This notebook will cover the parameterization of chitin polymers\n",
    "Parameterization is carried out using AmberTools and GAFF (generalized amber forcefield)"
   ]
  },
  {
   "cell_type": "markdown",
   "id": "87796282-c568-41f4-af54-76b4aa262177",
   "metadata": {},
   "source": [
    "# Importing python modules\n",
    "\n",
    "The first module to import is **sw_directories** so we can use the **SnippetSimManage** class.\n",
    "\n",
    "The second module to import is **sw_build_systems** so we can use the **BuildAmberSystems** class. \n",
    "\n",
    "The preceeding tutorials explain these python classes and how to use them."
   ]
  },
  {
   "cell_type": "code",
   "execution_count": 1,
   "id": "d40100c6-e56f-4f42-936b-8ae3c3d7f907",
   "metadata": {},
   "outputs": [],
   "source": [
    "from modules.sw_directories import *\n",
    "from modules.sw_build_systems import *\n",
    "import os as os"
   ]
  },
  {
   "cell_type": "markdown",
   "id": "1453f0df-6a59-4b6a-bc55-8787423dd69a",
   "metadata": {},
   "source": [
    "# Setting up *Manager* and *Builder* classes"
   ]
  },
  {
   "cell_type": "code",
   "execution_count": 2,
   "id": "8831af64-4c45-4e5f-8496-9bbc348a058e",
   "metadata": {},
   "outputs": [],
   "source": [
    "# Retrieve the path to our main directory\n",
    "main_dir = os.getcwd()\n",
    "\n",
    "# Pass this main directory to the SnippetSimManage class and assign it an appropriate variable name.\n",
    "manager = SnippetSimManage(main_dir)"
   ]
  },
  {
   "cell_type": "code",
   "execution_count": 3,
   "id": "074c1b62-41f2-4b5c-81d9-fadda9649bac",
   "metadata": {},
   "outputs": [],
   "source": [
    "# Set up the builder by passing the manager to the \"BuildAmberSystems\" class\n",
    "builder = BuildAmberSystems(manager)"
   ]
  },
  {
   "attachments": {
    "7958dc51-a003-4e2f-878d-75f532c70e76.png": {
     "image/png": "[encoded data removed]"
    }
   },
   "cell_type": "markdown",
   "id": "5c37c49f-b2d1-47ba-bf65-e9fd37b278d1",
   "metadata": {},
   "source": [
    "Now we can generate the PET trimer\n",
    "\n",
    "![image.png](attachment:7958dc51-a003-4e2f-878d-75f532c70e76.png)"
   ]
  },
  {
   "cell_type": "code",
   "execution_count": 4,
   "id": "16d9464d-71c7-4f26-bd2a-fda057411836",
   "metadata": {},
   "outputs": [],
   "source": [
    "# Method to build a pdb file for the trimer and generate a residue code for it\n",
    "builder.SmilesToPDB_GenResCode('OCCOC(=O)c1ccc(cc1)C(=O)OCCOC(=O)c2ccc(cc2)C(=O)OCCOC(=O)c3ccc(C=O)cc3', 'PET_trimer')"
   ]
  },
  {
   "cell_type": "code",
   "execution_count": 5,
   "id": "17689449-ca25-4b1e-9a4e-fc7256bffdeb",
   "metadata": {},
   "outputs": [
    {
     "name": "stdout",
     "output_type": "stream",
     "text": [
      "/home/dan/polymersimulator/pdb_files/PET_trimer.pdb\n"
     ]
    }
   ],
   "source": [
    "# Now we can check if this .pdb file exists using a method from tutorial 1\n",
    "pdb_file = manager.load_pdb_filepath(\"PET_trimer\")\n",
    "\n",
    "# Print the pdb filepath\n",
    "print(pdb_file)"
   ]
  },
  {
   "cell_type": "markdown",
   "id": "24ec33dd-6fe9-475e-906e-47356afa3e30",
   "metadata": {},
   "source": [
    "Now we need to parameterize the PET trimer"
   ]
  },
  {
   "cell_type": "code",
   "execution_count": 6,
   "id": "84836dc7-9f88-4b7b-8ba1-2bf8f86c1339",
   "metadata": {
    "scrolled": true
   },
   "outputs": [],
   "source": [
    "# Parameterize the chitin trimer\n",
    "#builder.parameterize_mol(\"PET_trimer\") # if this line is hashed out, it means I already parameterized the trimer and it takes a looooong time"
   ]
  },
  {
   "cell_type": "code",
   "execution_count": 7,
   "id": "65c980aa-b249-47f1-ab4e-360e2ad4eb30",
   "metadata": {},
   "outputs": [
    {
     "name": "stdout",
     "output_type": "stream",
     "text": [
      "Head code assigned:  hDI\n",
      "Mainchain code assigned:  mDI\n",
      "Tail code assigned:  tDI\n"
     ]
    }
   ],
   "source": [
    "# Method for generating residue codes for different polymeric units - pass a trimer that has a residue code assigned\n",
    "builder.GenRescode_4_PolyUnits(\"PET_trimer\")"
   ]
  },
  {
   "cell_type": "code",
   "execution_count": 8,
   "id": "c7a6db5f-5006-40f5-b030-1e0a61ab4829",
   "metadata": {},
   "outputs": [
    {
     "data": {
      "text/plain": [
       "'/home/dan/polymersimulator/pdb_files/molecules/PET_trimer/PET_trimer.mol2'"
      ]
     },
     "execution_count": 8,
     "metadata": {},
     "output_type": "execute_result"
    }
   ],
   "source": [
    "# Check if the chitin trimer was parameterized by seeing if the mol2 file was generated\n",
    "output = manager.load_mol2_filepath(\"PET_trimer\")\n",
    "output"
   ]
  },
  {
   "cell_type": "markdown",
   "id": "6e7a85a0-3537-4f77-9e84-304f9bca9793",
   "metadata": {},
   "source": [
    "Now we need to assign charges to the PET_trimer. This method uses the bcc semi-empirical method (there are other 'better' ways but this is well used method)."
   ]
  },
  {
   "cell_type": "code",
   "execution_count": null,
   "id": "43f93409-c3db-44bd-bbb2-9c571cd85cd0",
   "metadata": {},
   "outputs": [],
   "source": [
    "builder.gen_ac_file(\"PET_trimer\")"
   ]
  },
  {
   "cell_type": "markdown",
   "id": "5083b664-fd46-4e6f-944f-7b2918299095",
   "metadata": {},
   "source": [
    "Now we can generate .prepi files for the polymeric units..."
   ]
  },
  {
   "cell_type": "code",
   "execution_count": null,
   "id": "971683cc-d2d4-4c6a-b9fa-e4c211b70a3c",
   "metadata": {},
   "outputs": [],
   "source": [
    "# Method for generating prepin files for a file - using the trimer\n",
    "builder.gen_prepin_files(\"PET_trimer\")"
   ]
  },
  {
   "cell_type": "code",
   "execution_count": null,
   "id": "ccacc6df-74a0-4138-a28f-67e4dcdfe898",
   "metadata": {},
   "outputs": [],
   "source": []
  }
 ],
 "metadata": {
  "kernelspec": {
   "display_name": "Python 3 (ipykernel)",
   "language": "python",
   "name": "python3"
  },
  "language_info": {
   "codemirror_mode": {
    "name": "ipython",
    "version": 3
   },
   "file_extension": ".py",
   "mimetype": "text/x-python",
   "name": "python",
   "nbconvert_exporter": "python",
   "pygments_lexer": "ipython3",
   "version": "3.12.0"
  }
 },
 "nbformat": 4,
 "nbformat_minor": 5
}
