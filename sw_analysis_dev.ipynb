{
 "cells": [
  {
   "cell_type": "code",
   "execution_count": 1,
   "id": "837c9b84-ba0e-4a2a-878e-0e02434cc427",
   "metadata": {},
   "outputs": [
    {
     "data": {
      "application/vnd.jupyter.widget-view+json": {
       "model_id": "c2923cda7bed45108e2be9a9beba6ff1",
       "version_major": 2,
       "version_minor": 0
      },
      "text/plain": []
     },
     "metadata": {},
     "output_type": "display_data"
    },
    {
     "name": "stderr",
     "output_type": "stream",
     "text": [
      "/home/dan/miniconda3/envs/AmberTools23/lib/python3.12/site-packages/MDAnalysisData/base.py:34: DeprecationWarning: pkg_resources is deprecated as an API. See https://setuptools.pypa.io/en/latest/pkg_resources.html\n",
      "  from pkg_resources import resource_string\n"
     ]
    }
   ],
   "source": [
    "import matplotlib.pyplot as plt\n",
    "import seaborn as sns\n",
    "import numpy as np\n",
    "import nglview as nv\n",
    "import MDAnalysis as mda\n",
    "from MDAnalysis.lib import distances \n",
    "from MDAnalysis.analysis import rdf\n",
    "import MDAnalysisData as data\n",
    "\n",
    "from modules.sw_directories import *\n",
    "import os\n",
    "import re\n",
    "import numpy as np"
   ]
  },
  {
   "cell_type": "code",
   "execution_count": 2,
   "id": "9ae36cc0-eebd-46a9-860c-9ba0e64ea057",
   "metadata": {},
   "outputs": [],
   "source": [
    "dirs = PolymerSimulatorDirs(os.getcwd())"
   ]
  },
  {
   "cell_type": "code",
   "execution_count": 3,
   "id": "cb923d90-3e18-4be9-8914-c05ea3b95a91",
   "metadata": {},
   "outputs": [
    {
     "name": "stdout",
     "output_type": "stream",
     "text": [
      "3HB_4_polymer_single_chain_23\n",
      "/home/dan/polymersimulator/pdb_files/systems/3HB_4_polymer_single_chain_23/2024-05-30_194957\n",
      "/home/dan/polymersimulator/pdb_files/systems/3HB_4_polymer_single_chain_23/2024-05-30_194957\n",
      "/home/dan/polymersimulator/pdb_files/systems/3HB_4_polymer_single_chain_23/2024-05-30_194957\n",
      "/home/dan/polymersimulator/pdb_files/systems/3HB_4_polymer_single_chain_23/2024-05-30_194957\n",
      "/home/dan/polymersimulator/pdb_files/systems/3HB_4_polymer_single_chain_23/2024-05-30_194957\n",
      "/home/dan/polymersimulator/pdb_files/systems/3HB_4_polymer_single_chain_23/2024-05-30_194957\n",
      "/home/dan/polymersimulator/pdb_files/systems/3HB_4_polymer_single_chain_23/2024-05-30_194957\n",
      "/home/dan/polymersimulator/pdb_files/systems/3HB_4_polymer_single_chain_23/2024-05-30_194957\n",
      "/home/dan/polymersimulator/pdb_files/systems/3HB_4_polymer_single_chain_23/2024-05-30_194957\n",
      "/home/dan/polymersimulator/pdb_files/systems/3HB_4_polymer_single_chain_23/2024-05-30_194957\n",
      "/home/dan/polymersimulator/pdb_files/systems/3HB_4_polymer_single_chain_23/2024-05-30_194957\n",
      "/home/dan/polymersimulator/pdb_files/systems/3HB_4_polymer_single_chain_23/2024-05-30_194957\n",
      "/home/dan/polymersimulator/pdb_files/systems/3HB_4_polymer_single_chain_23/2024-05-30_194957\n",
      "/home/dan/polymersimulator/pdb_files/systems/3HB_4_polymer_single_chain_23/2024-05-30_194957\n",
      "/home/dan/polymersimulator/pdb_files/systems/3HB_4_polymer_single_chain_23/2024-05-30_194957\n",
      "/home/dan/polymersimulator/pdb_files/systems/3HB_4_polymer_single_chain_23/2024-05-30_194957\n"
     ]
    }
   ],
   "source": [
    "system_name = \"3HB_4_polymer_single_chain_23\"\n",
    "top, anneal_files, equili_files, prod_files = dirs.retrieve_files_for_MDanalysis(system_name)"
   ]
  },
  {
   "cell_type": "code",
   "execution_count": 89,
   "id": "1f17c5ef-e276-4ea4-bc06-860bc294ac45",
   "metadata": {},
   "outputs": [],
   "source": [
    "class Analysis():\n",
    "    # These are some base methods that will be used by specific analysis classes\n",
    "    def __init__(self):\n",
    "        pass\n",
    "\n",
    "    @staticmethod\n",
    "    def extract_filename(filepath):\n",
    "            # Extract the filename from the full path\n",
    "            filename_with_extension = filepath.split('/')[-1]\n",
    "    \n",
    "            # Remove the date and time (pattern: YYYY-MM-DD_HHMMSS)\n",
    "            filename_without_date = re.sub(r'_\\d{4}-\\d{2}-\\d{2}_\\d{6}', '', filename_with_extension)\n",
    "    \n",
    "            # Remove the file extension\n",
    "            filename_without_extension = filename_without_date.split('.')[0]\n",
    "    \n",
    "            return(filename_without_extension)\n",
    "    \n",
    "    @staticmethod\n",
    "    def plot_ROG(universe, atom_group, atom_group_name, graph_filepath=None, traj_filename=None):\n",
    "        # universe = mdanalysis univers\n",
    "        # atom_group = mdanalysis atom group\n",
    "        # atom_group_name = str of atom_group_identifier (i.e. \"_polymer\", \"_polymer_backbone\", ect..)\n",
    "\n",
    "        rog = []\n",
    "\n",
    "        for ts in universe.trajectory:\n",
    "            rog.append(atom_group.radius_of_gyration())\n",
    "\n",
    "        plt.plot(rog)\n",
    "        plt.xlabel('frame')\n",
    "        plt.ylabel(r\"R$_{g}$ ($\\AA$)\")\n",
    "        if graph_filepath == None or traj_filename == None:\n",
    "            # Default path is just used generally and not part of another analysis\n",
    "            graph_filepath = os.path.join(os.getcwd(), \"ROG_graph\")\n",
    "            print(graph_filepath)\n",
    "        else:\n",
    "            graph_filepath = os.path.join(graph_filepath, traj_filename + atom_group_name + \"_ROG_graph\")\n",
    "        plt.savefig(graph_filepath)\n",
    "        avg_rog = sum(rog) / len(rog)\n",
    "        return(avg_rog)\n",
    "\n",
    "    @staticmethod\n",
    "    def plot_COG(universe, atom_group, atom_group_name, graph_filepath=None, traj_filename=None):\n",
    "        # universe = mdanalysis univers\n",
    "        # atom_group = mdanalysis atom group\n",
    "        # atom_group_name = str of atom_group_identifier (i.e. \"_polymer\", \"_polymer_backbone\", ect..)\n",
    "\n",
    "        cog = []\n",
    "\n",
    "        for ts in universe.trajectory:\n",
    "            cog.append(atom_group.center_of_mass())\n",
    "\n",
    "        cog = np.array(cog)\n",
    "    \n",
    "        # Now let's plot each coordinate separately\n",
    "        plt.plot(cog[:, 0], label='x')\n",
    "        plt.plot(cog[:, 1], label='y')\n",
    "        plt.plot(cog[:, 2], label='z')\n",
    "\n",
    "        # Add labels and legend\n",
    "        plt.xlabel('Frame')\n",
    "        plt.ylabel(r\"R$_{g}$ ($\\AA$)\")\n",
    "        plt.legend()\n",
    "        if graph_filepath == None or traj_filename == None:\n",
    "            # Default path is just used generally and not part of another analysis\n",
    "            graph_filepath = os.path.join(os.getcwd(), \"COG_graph\")\n",
    "            print(graph_filepath)\n",
    "        else:\n",
    "            graph_filepath = os.path.join(graph_filepath, traj_filename + atom_group_name + \"_COG_graph\")\n",
    "        plt.savefig(graph_filepath)\n",
    "        avg_x_cog = sum(cog[:,0])/len(cog[:,0])\n",
    "        avg_y_cog = sum(cog[:,1])/len(cog[:,1])\n",
    "        avg_z_cog = sum(cog[:,2])/len(cog[:,2])\n",
    "        return(avg_x_cog, avg_y_cog, avg_z_cog)\n",
    "\n",
    "          \n",
    "class SinglePolyAnalysis(Analysis):\n",
    "    # This class is for static methods for a specific analysis\n",
    "    def __init__(self):\n",
    "        self.log_info = {'Production': {'ROG': None, 'COG_x': None, 'COG_y': None, 'COG_z': None}}\n",
    "\n",
    "    @staticmethod\n",
    "    def select_polymer(universe):\n",
    "        polymer_atom_group = universe.select_atoms('not resname WAT')\n",
    "        return(polymer_atom_group)\n",
    "        \n",
    "    @staticmethod\n",
    "    def select_polymer_backbone(polymer_atom_group):\n",
    "        # Ensure a polymer atom group is passed to this function!\n",
    "        def check_h_count(data):\n",
    "            # Embedded function - normally would define this outside, but it is specific here\n",
    "            h_count = 0\n",
    "            for _, atom_array in bonded_atoms_info:\n",
    "                for atom in atom_array:\n",
    "                    if 'h' in atom:\n",
    "                        h_count = h_count + 1\n",
    "            return(h_count)\n",
    " \n",
    "        carbons = polymer_atom_group.select_atoms('type c or type c3')\n",
    "        backbone_carbons_idx = []\n",
    "        for atom in carbons:\n",
    "            bonded_atoms_indices = atom.bonds.to_indices()\n",
    "            bonded_atoms = [polymer_atom_group.atoms[idx] for idx in bonded_atoms_indices]\n",
    "            bonded_atoms_info = [(bonded_atom.indices, bonded_atom.types) for bonded_atom in bonded_atoms]\n",
    "            #print(f\"Atom {atom.index} ({atom.type}) is bonded to:\")\n",
    "            for idx, symbol in bonded_atoms_info:\n",
    "                #print(f\"  - Atom {idx} ({symbol}) \")\n",
    "                pass\n",
    "            if check_h_count(bonded_atoms_info) >= 3:\n",
    "                pass\n",
    "            else:\n",
    "                backbone_carbons_idx.append(atom.index)\n",
    "        select_string = \"\"\n",
    "        for i in range(len(backbone_carbons_idx)):\n",
    "            if i == 0:\n",
    "                select_string = select_string + \"index \" + str(backbone_carbons_idx[i])\n",
    "            else:\n",
    "                select_string = select_string + \" or index \" + str(backbone_carbons_idx[i])\n",
    "        select_string = select_string + \" or type os\"\n",
    "        backbone = polymer_atom_group.select_atoms(select_string)\n",
    "        return(backbone)\n",
    "\n",
    "    def update_rog_val(self, rog_value):\n",
    "        # Update average ROG value in our class\n",
    "        self.log_info['Production']['ROG'] = rog_value\n",
    "\n",
    "    def update_cog_vals(self, cog_x, cog_y, cog_z):\n",
    "        self.log_info['Production']['COG_x'] = cog_x\n",
    "        self.log_info['Production']['COG_y'] = cog_y\n",
    "        self.log_info['Production']['COG_z'] = cog_z\n",
    "\n",
    "    \n",
    "\n",
    "class Universe(Analysis):\n",
    "    def __init__(self, topology_file, trajectory_file):\n",
    "        \n",
    "        self.topo_file = topology_file\n",
    "        self.traj_file = trajectory_file\n",
    "        self.universe = mda.Universe(self.topo_file, self.traj_file)\n",
    "        self.output_filepath = os.path.dirname(self.traj_file)\n",
    "        self.filename = self.extract_filename(self.traj_file)\n"
   ]
  },
  {
   "cell_type": "code",
   "execution_count": 90,
   "id": "be9a4d35-9810-4266-aaca-f83b8951014b",
   "metadata": {},
   "outputs": [
    {
     "name": "stderr",
     "output_type": "stream",
     "text": [
      "/home/dan/miniconda3/envs/AmberTools23/lib/python3.12/site-packages/MDAnalysis/coordinates/DCD.py:165: DeprecationWarning: DCDReader currently makes independent timesteps by copying self.ts while other readers update self.ts inplace. This behavior will be changed in 3.0 to be the same as other readers. Read more at https://github.com/MDAnalysis/mdanalysis/issues/3889 to learn if this change in behavior might affect you.\n",
      "  warnings.warn(\"DCDReader currently makes independent timesteps\"\n"
     ]
    },
    {
     "data": {
      "text/plain": [
       "<Universe with 18516 atoms>"
      ]
     },
     "execution_count": 90,
     "metadata": {},
     "output_type": "execute_result"
    }
   ],
   "source": [
    "dcd = \"/home/dan/polymersimulator/pdb_files/systems/3HB_4_polymer_single_chain_23/2024-05-30_194957/3HB_4_polymer_single_chain_23_prod_traj_2024-05-30_194957.dcd\"\n",
    "top = \"/home/dan/polymersimulator/pdb_files/systems/3HB_4_polymer_single_chain_23/3HB_4_polymer_single_chain_23.prmtop\"\n",
    "\n",
    "# Call the unverse class - we will still use the mdanalysis as intended, but we can store some specific variables for our specific analysis (i.e. output file destination)\n",
    "universe = Universe(top, dcd)\n",
    "u = universe.universe\n",
    "u"
   ]
  },
  {
   "cell_type": "code",
   "execution_count": 91,
   "id": "43fb9495-2732-4254-9a96-a744a489fc03",
   "metadata": {},
   "outputs": [
    {
     "data": {
      "image/png": "[encoded data removed]",
      "text/plain": [
       "<Figure size 640x480 with 1 Axes>"
      ]
     },
     "metadata": {},
     "output_type": "display_data"
    }
   ],
   "source": [
    "# Create the instance containing functions to analysis a single solvated polymer\n",
    "poly_anal = SinglePolyAnalysis()\n",
    "\n",
    "# This instance has a function to select all polymer residues\n",
    "polymer_atom_group = poly_anal.select_polymer(u)\n",
    "\n",
    "# And the polymer backbone of \n",
    "polymer_backbone = poly_anal.select_polymer_backbone(polymer_atom_group)\n",
    "\n",
    "# Calculate radius of gyration for our polymer and save the graph\n",
    "rog = poly_anal.plot_ROG(u, polymer_atom_group, \"_polymer\", universe.output_filepath, universe.filename)\n",
    "\n",
    "# Update average ROG value in our class\n",
    "poly_anal.update_rog_val(rog)"
   ]
  },
  {
   "cell_type": "code",
   "execution_count": 7,
   "id": "7044076a-1f86-4a86-b38d-85dcb1c60647",
   "metadata": {},
   "outputs": [
    {
     "data": {
      "image/png": "[encoded data removed]",
      "text/plain": [
       "<Figure size 640x480 with 1 Axes>"
      ]
     },
     "metadata": {},
     "output_type": "display_data"
    }
   ],
   "source": [
    "# Calculate centre of geometry for our polymer and save the graph\n",
    "x, y, z = poly_anal.plot_COG(u, polymer_atom_group, \"_polymer\", universe.output_filepath, universe.filename)\n",
    "\n",
    "# Update average centre of geometry values in our class\n",
    "poly_anal.update_cog_vals(x,y,z)"
   ]
  },
  {
   "cell_type": "code",
   "execution_count": 8,
   "id": "e50f38bb-b1d6-4ac6-8b0a-2049dfd34c60",
   "metadata": {
    "scrolled": true
   },
   "outputs": [
    {
     "data": {
      "text/plain": [
       "{'Production': {'ROG': 4.598732391148754,\n",
       "  'COG_x': 38.03269192676498,\n",
       "  'COG_y': 19.128484185050446,\n",
       "  'COG_z': 12.439006584102831}}"
      ]
     },
     "execution_count": 8,
     "metadata": {},
     "output_type": "execute_result"
    }
   ],
   "source": [
    "poly_anal.log_info"
   ]
  },
  {
   "cell_type": "code",
   "execution_count": null,
   "id": "328681fc-ab7d-4e9a-9472-50d793cc3ae9",
   "metadata": {},
   "outputs": [],
   "source": []
  },
  {
   "cell_type": "code",
   "execution_count": null,
   "id": "52021a52-7447-4fbd-bbb7-66422f2b88f4",
   "metadata": {},
   "outputs": [],
   "source": []
  },
  {
   "cell_type": "code",
   "execution_count": null,
   "id": "2942271b-2698-411b-ab54-14bb14a6c574",
   "metadata": {},
   "outputs": [],
   "source": []
  },
  {
   "cell_type": "code",
   "execution_count": null,
   "id": "2a1530e4-fe8b-4678-89c3-aac2bd6b09c2",
   "metadata": {},
   "outputs": [],
   "source": []
  },
  {
   "cell_type": "code",
   "execution_count": null,
   "id": "035e71f1-cc94-4a5b-9dc5-acb8bea7682d",
   "metadata": {},
   "outputs": [],
   "source": []
  },
  {
   "cell_type": "code",
   "execution_count": null,
   "id": "3f010813-6365-488c-9d66-e1659e950df2",
   "metadata": {},
   "outputs": [],
   "source": []
  },
  {
   "cell_type": "code",
   "execution_count": null,
   "id": "25ae1a21-d818-4c72-84e9-5e332039b7cc",
   "metadata": {},
   "outputs": [],
   "source": []
  },
  {
   "cell_type": "code",
   "execution_count": null,
   "id": "35c1c9c0-d127-4344-ae14-11f37064de10",
   "metadata": {},
   "outputs": [],
   "source": []
  },
  {
   "cell_type": "code",
   "execution_count": null,
   "id": "d9de174c-4628-4c9c-848e-83c5accb00a1",
   "metadata": {},
   "outputs": [],
   "source": []
  },
  {
   "cell_type": "code",
   "execution_count": null,
   "id": "e8916bde-962a-4f06-bac7-7a64ec4f3302",
   "metadata": {},
   "outputs": [],
   "source": []
  },
  {
   "cell_type": "code",
   "execution_count": null,
   "id": "8740a663-08c6-47f3-8bee-630923072f5b",
   "metadata": {},
   "outputs": [],
   "source": []
  },
  {
   "cell_type": "code",
   "execution_count": null,
   "id": "c8e0742d-4b4b-48e7-935a-d8a5a12e1c37",
   "metadata": {},
   "outputs": [],
   "source": []
  },
  {
   "cell_type": "code",
   "execution_count": null,
   "id": "d49afa46-31dd-4804-9f95-851fabf1ded4",
   "metadata": {},
   "outputs": [],
   "source": []
  },
  {
   "cell_type": "code",
   "execution_count": null,
   "id": "fb3f426e-dd3f-4f19-83ac-958d64e669a5",
   "metadata": {},
   "outputs": [],
   "source": []
  },
  {
   "cell_type": "code",
   "execution_count": null,
   "id": "bd769f15-f909-4d4b-a68b-0ef038c959d4",
   "metadata": {},
   "outputs": [],
   "source": []
  },
  {
   "cell_type": "code",
   "execution_count": null,
   "id": "233f4bd0-1bfe-475c-a386-06abb4db7039",
   "metadata": {},
   "outputs": [],
   "source": []
  },
  {
   "cell_type": "code",
   "execution_count": null,
   "id": "955f5360-c4c1-4467-9b78-069a82b101c1",
   "metadata": {},
   "outputs": [],
   "source": []
  },
  {
   "cell_type": "code",
   "execution_count": null,
   "id": "dacde836-dfc4-452b-8c7c-f6bb6b61ba2c",
   "metadata": {},
   "outputs": [],
   "source": []
  },
  {
   "cell_type": "code",
   "execution_count": null,
   "id": "da3bb137-1853-4597-ab2a-f71c1da89ac1",
   "metadata": {},
   "outputs": [],
   "source": []
  },
  {
   "cell_type": "code",
   "execution_count": null,
   "id": "33a194f8-91eb-469b-9ccf-7250a64fd12a",
   "metadata": {},
   "outputs": [],
   "source": []
  },
  {
   "cell_type": "code",
   "execution_count": null,
   "id": "508a5514-9c68-48fc-b95c-70f182983835",
   "metadata": {},
   "outputs": [],
   "source": []
  },
  {
   "cell_type": "code",
   "execution_count": null,
   "id": "9c273f69-bbb4-437e-aa5e-f6389fbb31f1",
   "metadata": {},
   "outputs": [],
   "source": []
  },
  {
   "cell_type": "code",
   "execution_count": null,
   "id": "d769fd4f-02f9-4645-b26b-5e6e646265d4",
   "metadata": {},
   "outputs": [],
   "source": []
  },
  {
   "cell_type": "code",
   "execution_count": null,
   "id": "dcb8700b-b21f-47c5-b791-7ae98b3a6e99",
   "metadata": {},
   "outputs": [],
   "source": []
  },
  {
   "cell_type": "code",
   "execution_count": null,
   "id": "9c9902fe-ac03-4236-8504-9b604ae9e4c8",
   "metadata": {},
   "outputs": [],
   "source": []
  },
  {
   "cell_type": "code",
   "execution_count": null,
   "id": "682e9aee-1e40-4a83-ae64-1634e548819d",
   "metadata": {},
   "outputs": [],
   "source": []
  },
  {
   "cell_type": "code",
   "execution_count": null,
   "id": "78317f59-33d6-404a-bcb3-c8acd4e8a05e",
   "metadata": {},
   "outputs": [],
   "source": []
  },
  {
   "cell_type": "code",
   "execution_count": null,
   "id": "06888d73-94dc-43f2-a745-e4664f539965",
   "metadata": {},
   "outputs": [],
   "source": []
  },
  {
   "cell_type": "code",
   "execution_count": null,
   "id": "0105c371-260a-4051-a130-6659400e7a2f",
   "metadata": {},
   "outputs": [],
   "source": []
  },
  {
   "cell_type": "markdown",
   "id": "605a9b3b-4766-42fb-8ec3-bb20e30e035e",
   "metadata": {},
   "source": [
    "# Below is polymer backbone selection dev"
   ]
  },
  {
   "cell_type": "code",
   "execution_count": 9,
   "id": "66bde9e8-d1ae-431a-8156-9dcb5d99be35",
   "metadata": {},
   "outputs": [
    {
     "data": {
      "application/vnd.jupyter.widget-view+json": {
       "model_id": "07940264cba44c6db40fe50432c9f820",
       "version_major": 2,
       "version_minor": 0
      },
      "text/plain": [
       "NGLWidget(max_frame=399)"
      ]
     },
     "metadata": {},
     "output_type": "display_data"
    }
   ],
   "source": [
    "# add a universe (or atomgroup)\n",
    "view = nv.show_mdanalysis(polymer_atom_group)\n",
    "\n",
    "# launch the viewer\n",
    "view"
   ]
  },
  {
   "cell_type": "code",
   "execution_count": 68,
   "id": "3ac62afe-713c-4ed8-b060-dabcacf2d8e2",
   "metadata": {},
   "outputs": [],
   "source": [
    "# Print out the atom types\n",
    "#for atom in polymer_atom_group:\n",
    "   # print(atom.type)"
   ]
  },
  {
   "cell_type": "code",
   "execution_count": 92,
   "id": "847c18dd-b061-461f-ab43-1e13407e761a",
   "metadata": {},
   "outputs": [
    {
     "data": {
      "application/vnd.jupyter.widget-view+json": {
       "model_id": "3abb4c9a3f134aa9b64a8c26b1c1565d",
       "version_major": 2,
       "version_minor": 0
      },
      "text/plain": [
       "NGLWidget(max_frame=399)"
      ]
     },
     "metadata": {},
     "output_type": "display_data"
    }
   ],
   "source": [
    "backbone = polymer_atom_group.select_atoms(\"type c or type c3 or type os\")\n",
    "\n",
    "# add a universe (or atomgroup)\n",
    "view = nv.show_mdanalysis(polymer_backbone)\n",
    "\n",
    "# launch the viewer\n",
    "view"
   ]
  },
  {
   "cell_type": "code",
   "execution_count": 70,
   "id": "963ee3d9-5fe1-4155-a844-3fadc2dbbaaf",
   "metadata": {},
   "outputs": [
    {
     "data": {
      "application/vnd.jupyter.widget-view+json": {
       "model_id": "fc9fbd9831ab4886810522a6c220a545",
       "version_major": 2,
       "version_minor": 0
      },
      "text/plain": [
       "NGLWidget(max_frame=399)"
      ]
     },
     "metadata": {},
     "output_type": "display_data"
    }
   ],
   "source": [
    "carbons = polymer_atom_group.select_atoms(\"type c or type c3\")\n",
    "# add a universe (or atomgroup)\n",
    "view = nv.show_mdanalysis(carbons)\n",
    "\n",
    "# launch the viewer\n",
    "view"
   ]
  },
  {
   "cell_type": "code",
   "execution_count": 85,
   "id": "6b8ffa5a-b94a-4092-b305-d3628ab12664",
   "metadata": {},
   "outputs": [
    {
     "name": "stdout",
     "output_type": "stream",
     "text": [
      "Atom 0 (c3) is bonded to:\n",
      "  - Atom [0 1] (['c3' 'hc']) \n",
      "  - Atom [0 2] (['c3' 'hc']) \n",
      "  - Atom [0 3] (['c3' 'c']) \n",
      "Atom 3 (c) is bonded to:\n",
      "  - Atom [0 3] (['c3' 'c']) \n",
      "  - Atom [3 4] (['c' 'o']) \n",
      "  - Atom [3 5] (['c' 'oh']) \n",
      "  - Atom [3 7] (['c' 'c3']) \n",
      "Atom 7 (c3) is bonded to:\n",
      "  - Atom [3 7] (['c' 'c3']) \n",
      "  - Atom [7 8] (['c3' 'h1']) \n",
      "  - Atom [7 9] (['c3' 'c3']) \n",
      "  - Atom [ 7 13] (['c3' 'os']) \n",
      "Atom 9 (c3) is bonded to:\n",
      "  - Atom [7 9] (['c3' 'c3']) \n",
      "  - Atom [ 9 10] (['c3' 'hc']) \n",
      "  - Atom [ 9 11] (['c3' 'hc']) \n",
      "  - Atom [ 9 12] (['c3' 'hc']) \n",
      "Atom 14 (c3) is bonded to:\n",
      "  - Atom [13 14] (['os' 'c3']) \n",
      "  - Atom [14 15] (['c3' 'hc']) \n",
      "  - Atom [14 16] (['c3' 'hc']) \n",
      "  - Atom [14 17] (['c3' 'c']) \n",
      "Atom 17 (c) is bonded to:\n",
      "  - Atom [14 17] (['c3' 'c']) \n",
      "  - Atom [17 18] (['c' 'o']) \n",
      "  - Atom [17 19] (['c' 'c3']) \n",
      "Atom 19 (c3) is bonded to:\n",
      "  - Atom [17 19] (['c' 'c3']) \n",
      "  - Atom [19 20] (['c3' 'c3']) \n",
      "  - Atom [19 24] (['c3' 'h1']) \n",
      "  - Atom [19 25] (['c3' 'os']) \n",
      "Atom 20 (c3) is bonded to:\n",
      "  - Atom [19 20] (['c3' 'c3']) \n",
      "  - Atom [20 21] (['c3' 'hc']) \n",
      "  - Atom [20 22] (['c3' 'hc']) \n",
      "  - Atom [20 23] (['c3' 'hc']) \n",
      "Atom 26 (c3) is bonded to:\n",
      "  - Atom [25 26] (['os' 'c3']) \n",
      "  - Atom [26 27] (['c3' 'hc']) \n",
      "  - Atom [26 28] (['c3' 'hc']) \n",
      "  - Atom [26 29] (['c3' 'c']) \n",
      "Atom 29 (c) is bonded to:\n",
      "  - Atom [26 29] (['c3' 'c']) \n",
      "  - Atom [29 30] (['c' 'o']) \n",
      "  - Atom [29 31] (['c' 'c3']) \n",
      "Atom 31 (c3) is bonded to:\n",
      "  - Atom [29 31] (['c' 'c3']) \n",
      "  - Atom [31 32] (['c3' 'c3']) \n",
      "  - Atom [31 36] (['c3' 'h1']) \n",
      "  - Atom [31 37] (['c3' 'os']) \n",
      "Atom 32 (c3) is bonded to:\n",
      "  - Atom [31 32] (['c3' 'c3']) \n",
      "  - Atom [32 33] (['c3' 'hc']) \n",
      "  - Atom [32 34] (['c3' 'hc']) \n",
      "  - Atom [32 35] (['c3' 'hc']) \n",
      "Atom 38 (c) is bonded to:\n",
      "  - Atom [37 38] (['os' 'c']) \n",
      "  - Atom [38 39] (['c' 'o']) \n",
      "  - Atom [38 40] (['c' 'c3']) \n",
      "Atom 40 (c3) is bonded to:\n",
      "  - Atom [38 40] (['c' 'c3']) \n",
      "  - Atom [40 41] (['c3' 'hc']) \n",
      "  - Atom [40 42] (['c3' 'hc']) \n",
      "  - Atom [40 43] (['c3' 'c3']) \n",
      "Atom 43 (c3) is bonded to:\n",
      "  - Atom [40 43] (['c3' 'c3']) \n",
      "  - Atom [43 44] (['c3' 'c3']) \n",
      "  - Atom [43 48] (['c3' 'h1']) \n",
      "  - Atom [43 49] (['c3' 'oh']) \n",
      "Atom 44 (c3) is bonded to:\n",
      "  - Atom [43 44] (['c3' 'c3']) \n",
      "  - Atom [44 45] (['c3' 'hc']) \n",
      "  - Atom [44 46] (['c3' 'hc']) \n",
      "  - Atom [44 47] (['c3' 'hc']) \n"
     ]
    }
   ],
   "source": [
    "\n",
    "\n",
    "\n",
    "\n",
    "# Function to check if 'h' appears 3 times or more in the second array\n",
    "def check_h_count(data):\n",
    "    h_count = 0\n",
    "    for _, atom_array in bonded_atoms_info:\n",
    "        for atom in atom_array:\n",
    "            if 'h' in atom:\n",
    "                h_count = h_count + 1\n",
    "    return(h_count)\n",
    "\n",
    "       \n",
    "\n",
    "#\n",
    "\n",
    "backbone_carbons_idx = []\n",
    "for atom in carbons:\n",
    "    bonded_atoms_indices = atom.bonds.to_indices()\n",
    "    bonded_atoms = [polymer_atom_group.atoms[idx] for idx in bonded_atoms_indices]\n",
    "    bonded_atoms_info = [(bonded_atom.indices, bonded_atom.types) for bonded_atom in bonded_atoms]\n",
    "    print(f\"Atom {atom.index} ({atom.type}) is bonded to:\")\n",
    "    for idx, symbol in bonded_atoms_info:\n",
    "        print(f\"  - Atom {idx} ({symbol}) \")\n",
    "    if check_h_count(bonded_atoms_info) >= 3:\n",
    "        pass\n",
    "    else:\n",
    "        backbone_carbons_idx.append(atom.index)\n",
    "\n"
   ]
  },
  {
   "cell_type": "markdown",
   "id": "91520391-d2e8-4c3c-a498-0ec0c33c6aa7",
   "metadata": {},
   "source": [
    "Attempt at only selecting the backbone"
   ]
  },
  {
   "cell_type": "code",
   "execution_count": 78,
   "id": "c6922c18-ca72-4965-ab60-f9830f1c37ea",
   "metadata": {},
   "outputs": [
    {
     "data": {
      "text/plain": [
       "[0, 3, 7, 14, 17, 19, 26, 29, 31, 38, 40, 43]"
      ]
     },
     "execution_count": 78,
     "metadata": {},
     "output_type": "execute_result"
    }
   ],
   "source": [
    "backbone_carbons_idx"
   ]
  },
  {
   "cell_type": "code",
   "execution_count": 79,
   "id": "1c1556f9-b795-455e-81fc-469dad2267ae",
   "metadata": {},
   "outputs": [],
   "source": [
    "select_string = \"\"\n",
    "for i in range(len(backbone_carbons_idx)):\n",
    "    if i == 0:\n",
    "        select_string = select_string + \"index \" + str(backbone_carbons_idx[i])\n",
    "    else:\n",
    "        select_string = select_string + \" or index \" + str(backbone_carbons_idx[i])\n",
    "select_string = select_string + \" or type os\""
   ]
  },
  {
   "cell_type": "code",
   "execution_count": 80,
   "id": "4068f487-f600-4388-8a72-7ec5f64dd436",
   "metadata": {},
   "outputs": [
    {
     "data": {
      "text/plain": [
       "'index 0 or index 3 or index 7 or index 14 or index 17 or index 19 or index 26 or index 29 or index 31 or index 38 or index 40 or index 43 or type os'"
      ]
     },
     "execution_count": 80,
     "metadata": {},
     "output_type": "execute_result"
    }
   ],
   "source": [
    "select_string"
   ]
  },
  {
   "cell_type": "code",
   "execution_count": 86,
   "id": "3237cf58-3726-41b4-8d95-bf292e811986",
   "metadata": {},
   "outputs": [
    {
     "name": "stdout",
     "output_type": "stream",
     "text": [
      "Atom 0 (c3) is bonded to:\n",
      "  - Atom [0 1] (['c3' 'hc']) \n",
      "  - Atom [0 2] (['c3' 'hc']) \n",
      "  - Atom [0 3] (['c3' 'c']) \n",
      "Atom 3 (c) is bonded to:\n",
      "  - Atom [0 3] (['c3' 'c']) \n",
      "  - Atom [3 4] (['c' 'o']) \n",
      "  - Atom [3 5] (['c' 'oh']) \n",
      "  - Atom [3 7] (['c' 'c3']) \n",
      "Atom 7 (c3) is bonded to:\n",
      "  - Atom [3 7] (['c' 'c3']) \n",
      "  - Atom [7 8] (['c3' 'h1']) \n",
      "  - Atom [7 9] (['c3' 'c3']) \n",
      "  - Atom [ 7 13] (['c3' 'os']) \n",
      "Atom 9 (c3) is bonded to:\n",
      "  - Atom [7 9] (['c3' 'c3']) \n",
      "  - Atom [ 9 10] (['c3' 'hc']) \n",
      "  - Atom [ 9 11] (['c3' 'hc']) \n",
      "  - Atom [ 9 12] (['c3' 'hc']) \n",
      "Atom 14 (c3) is bonded to:\n",
      "  - Atom [13 14] (['os' 'c3']) \n",
      "  - Atom [14 15] (['c3' 'hc']) \n",
      "  - Atom [14 16] (['c3' 'hc']) \n",
      "  - Atom [14 17] (['c3' 'c']) \n",
      "Atom 17 (c) is bonded to:\n",
      "  - Atom [14 17] (['c3' 'c']) \n",
      "  - Atom [17 18] (['c' 'o']) \n",
      "  - Atom [17 19] (['c' 'c3']) \n",
      "Atom 19 (c3) is bonded to:\n",
      "  - Atom [17 19] (['c' 'c3']) \n",
      "  - Atom [19 20] (['c3' 'c3']) \n",
      "  - Atom [19 24] (['c3' 'h1']) \n",
      "  - Atom [19 25] (['c3' 'os']) \n",
      "Atom 20 (c3) is bonded to:\n",
      "  - Atom [19 20] (['c3' 'c3']) \n",
      "  - Atom [20 21] (['c3' 'hc']) \n",
      "  - Atom [20 22] (['c3' 'hc']) \n",
      "  - Atom [20 23] (['c3' 'hc']) \n",
      "Atom 26 (c3) is bonded to:\n",
      "  - Atom [25 26] (['os' 'c3']) \n",
      "  - Atom [26 27] (['c3' 'hc']) \n",
      "  - Atom [26 28] (['c3' 'hc']) \n",
      "  - Atom [26 29] (['c3' 'c']) \n",
      "Atom 29 (c) is bonded to:\n",
      "  - Atom [26 29] (['c3' 'c']) \n",
      "  - Atom [29 30] (['c' 'o']) \n",
      "  - Atom [29 31] (['c' 'c3']) \n",
      "Atom 31 (c3) is bonded to:\n",
      "  - Atom [29 31] (['c' 'c3']) \n",
      "  - Atom [31 32] (['c3' 'c3']) \n",
      "  - Atom [31 36] (['c3' 'h1']) \n",
      "  - Atom [31 37] (['c3' 'os']) \n",
      "Atom 32 (c3) is bonded to:\n",
      "  - Atom [31 32] (['c3' 'c3']) \n",
      "  - Atom [32 33] (['c3' 'hc']) \n",
      "  - Atom [32 34] (['c3' 'hc']) \n",
      "  - Atom [32 35] (['c3' 'hc']) \n",
      "Atom 38 (c) is bonded to:\n",
      "  - Atom [37 38] (['os' 'c']) \n",
      "  - Atom [38 39] (['c' 'o']) \n",
      "  - Atom [38 40] (['c' 'c3']) \n",
      "Atom 40 (c3) is bonded to:\n",
      "  - Atom [38 40] (['c' 'c3']) \n",
      "  - Atom [40 41] (['c3' 'hc']) \n",
      "  - Atom [40 42] (['c3' 'hc']) \n",
      "  - Atom [40 43] (['c3' 'c3']) \n",
      "Atom 43 (c3) is bonded to:\n",
      "  - Atom [40 43] (['c3' 'c3']) \n",
      "  - Atom [43 44] (['c3' 'c3']) \n",
      "  - Atom [43 48] (['c3' 'h1']) \n",
      "  - Atom [43 49] (['c3' 'oh']) \n",
      "Atom 44 (c3) is bonded to:\n",
      "  - Atom [43 44] (['c3' 'c3']) \n",
      "  - Atom [44 45] (['c3' 'hc']) \n",
      "  - Atom [44 46] (['c3' 'hc']) \n",
      "  - Atom [44 47] (['c3' 'hc']) \n"
     ]
    },
    {
     "data": {
      "application/vnd.jupyter.widget-view+json": {
       "model_id": "ec983ae819274a8aa4950b43b7db6f3d",
       "version_major": 2,
       "version_minor": 0
      },
      "text/plain": [
       "NGLWidget(max_frame=399)"
      ]
     },
     "metadata": {},
     "output_type": "display_data"
    }
   ],
   "source": [
    "backbone = select_polymer_backbone(polymer_atom_group)\n",
    "\n",
    "# add a universe (or atomgroup)\n",
    "view = nv.show_mdanalysis(backbone)\n",
    "\n",
    "# launch the viewer\n",
    "view"
   ]
  },
  {
   "cell_type": "code",
   "execution_count": null,
   "id": "9b0bdb94-b27c-41bb-9c11-75a3cac03308",
   "metadata": {},
   "outputs": [],
   "source": []
  },
  {
   "cell_type": "code",
   "execution_count": null,
   "id": "8b568d24-9abb-414e-aa61-4ecb0fa71a44",
   "metadata": {},
   "outputs": [],
   "source": []
  },
  {
   "cell_type": "code",
   "execution_count": 12,
   "id": "9dc9e566-ae1a-4416-b0ab-b5972e22050e",
   "metadata": {},
   "outputs": [],
   "source": [
    "# Select all carbon atoms\n",
    "carbon_atoms = polymer_atom_group.select_atoms('type c or type c3')\n",
    "\n",
    "# Select all hydrogen atoms\n",
    "hydrogen_atoms = polymer_atom_group.select_atoms('type ho or type hc or type h1')"
   ]
  },
  {
   "cell_type": "code",
   "execution_count": 13,
   "id": "b89f9362-c4be-412b-be71-4ce40155258e",
   "metadata": {},
   "outputs": [
    {
     "data": {
      "text/plain": [
       "10"
      ]
     },
     "execution_count": 13,
     "metadata": {},
     "output_type": "execute_result"
    }
   ],
   "source": [
    "a = (carbon_atoms[1]).index\n",
    "b = (carbon_atoms[2]).index\n",
    "c = a + b\n",
    "c"
   ]
  },
  {
   "cell_type": "code",
   "execution_count": 24,
   "id": "1ba8d54f-7ed6-40ec-86bb-33a37c8bb4fa",
   "metadata": {},
   "outputs": [
    {
     "name": "stdout",
     "output_type": "stream",
     "text": [
      "BONDED H <AtomGroup []>\n",
      "BONDED H <AtomGroup []>\n",
      "BONDED H <AtomGroup []>\n",
      "BONDED H <AtomGroup []>\n",
      "BONDED H <AtomGroup []>\n",
      "BONDED H <AtomGroup []>\n",
      "BONDED H <AtomGroup []>\n",
      "BONDED H <AtomGroup []>\n",
      "BONDED H <AtomGroup []>\n",
      "BONDED H <AtomGroup []>\n",
      "BONDED H <AtomGroup []>\n",
      "BONDED H <AtomGroup []>\n",
      "BONDED H <AtomGroup []>\n",
      "BONDED H <AtomGroup []>\n",
      "BONDED H <AtomGroup []>\n",
      "BONDED H <AtomGroup []>\n"
     ]
    }
   ],
   "source": [
    "# Create a list to store carbons not bonded to exactly three hydrogens\n",
    "carbons_not_bonded_to_three_hydrogens = []\n",
    "\n",
    "# Iterate over each carbon atom to count bonded hydrogens\n",
    "for carbon in carbon_atoms:\n",
    "    #print(carbon)\n",
    "    # Find all hydrogens within a bond length (typically ~1.1 Å)\n",
    "    bonded_hydrogens = hydrogen_atoms.select_atoms(f'around 1.5 index {carbon.index}')\n",
    "    print(\"BONDED H\", bonded_hydrogens)\n",
    "    # Check if the number of bonded hydrogens is not three\n",
    "    if len(bonded_hydrogens) != 3:\n",
    "        carbons_not_bonded_to_three_hydrogens.append(carbon)\n",
    "\n",
    "# Convert the list to an AtomGroup\n",
    "#carbons_not_bonded_to_three_hydrogens = mda.core.groups.AtomGroup(carbons_not_bonded_to_three_hydrogens, u)\n",
    "\n",
    "# Print the selection\n",
    "index_to_select = []\n",
    "#print(carbons_not_bonded_to_three_hydrogens)\n",
    "for i in range(len(carbons_not_bonded_to_three_hydrogens)):\n",
    "   index_to_select.append(carbons_not_bonded_to_three_hydrogens[i].index)\n",
    "\n"
   ]
  },
  {
   "cell_type": "code",
   "execution_count": 25,
   "id": "f9c707d3-1ce2-4f49-a759-65c6ec86e721",
   "metadata": {},
   "outputs": [
    {
     "data": {
      "text/plain": [
       "[0, 3, 7, 9, 14, 17, 19, 20, 26, 29, 31, 32, 38, 40, 43, 44]"
      ]
     },
     "execution_count": 25,
     "metadata": {},
     "output_type": "execute_result"
    }
   ],
   "source": [
    "index_to_select"
   ]
  },
  {
   "cell_type": "code",
   "execution_count": 26,
   "id": "7c20988c-0289-47b1-a0da-5badf247e8f9",
   "metadata": {},
   "outputs": [],
   "source": [
    "select_string = \"\"\n",
    "for i in range(len(index_to_select)):\n",
    "    if i == 0:\n",
    "        select_string = select_string + \"index \" + str(index_to_select[i])\n",
    "    else:\n",
    "        select_string = select_string + \" or index \" + str(index_to_select[i])\n",
    "select_string = select_string + \" or type os\""
   ]
  },
  {
   "cell_type": "code",
   "execution_count": null,
   "id": "5ba44c40-7662-4176-ae1f-6ea8f8fbc612",
   "metadata": {},
   "outputs": [],
   "source": []
  },
  {
   "cell_type": "code",
   "execution_count": 27,
   "id": "c278f115-f681-481c-aaf0-bff2b2f70c98",
   "metadata": {},
   "outputs": [
    {
     "data": {
      "application/vnd.jupyter.widget-view+json": {
       "model_id": "84886216cceb4d3bbdc746a5f4fa8db1",
       "version_major": 2,
       "version_minor": 0
      },
      "text/plain": [
       "NGLWidget(max_frame=399)"
      ]
     },
     "metadata": {},
     "output_type": "display_data"
    }
   ],
   "source": [
    "backbone = polymer_atom_group.select_atoms(select_string)\n",
    "\n",
    "# add a universe (or atomgroup)\n",
    "view = nv.show_mdanalysis(backbone)\n",
    "\n",
    "# launch the viewer\n",
    "view"
   ]
  },
  {
   "cell_type": "code",
   "execution_count": 30,
   "id": "f1cba324-95c2-4e7a-9a7b-8157f5190ee9",
   "metadata": {},
   "outputs": [
    {
     "ename": "AttributeError",
     "evalue": "'list' object has no attribute 'universe'",
     "output_type": "error",
     "traceback": [
      "\u001b[0;31m---------------------------------------------------------------------------\u001b[0m",
      "\u001b[0;31mAttributeError\u001b[0m                            Traceback (most recent call last)",
      "Cell \u001b[0;32mIn[30], line 2\u001b[0m\n\u001b[1;32m      1\u001b[0m \u001b[38;5;66;03m# add a universe (or atomgroup)\u001b[39;00m\n\u001b[0;32m----> 2\u001b[0m view \u001b[38;5;241m=\u001b[39m \u001b[43mnv\u001b[49m\u001b[38;5;241;43m.\u001b[39;49m\u001b[43mshow_mdanalysis\u001b[49m\u001b[43m(\u001b[49m\u001b[43mcarbons_not_bonded_to_three_hydrogens\u001b[49m\u001b[43m)\u001b[49m\n\u001b[1;32m      4\u001b[0m \u001b[38;5;66;03m# launch the viewer\u001b[39;00m\n\u001b[1;32m      5\u001b[0m view\n",
      "File \u001b[0;32m~/miniconda3/envs/AmberTools23/lib/python3.12/site-packages/nglview/show.py:392\u001b[0m, in \u001b[0;36mshow_mdanalysis\u001b[0;34m(atomgroup, **kwargs)\u001b[0m\n\u001b[1;32m    378\u001b[0m \u001b[38;5;250m\u001b[39m\u001b[38;5;124;03m'''Show NGL widget with MDAnalysis AtomGroup.\u001b[39;00m\n\u001b[1;32m    379\u001b[0m \n\u001b[1;32m    380\u001b[0m \u001b[38;5;124;03mCan take either a Universe or AtomGroup as its data input.\u001b[39;00m\n\u001b[0;32m   (...)\u001b[0m\n\u001b[1;32m    389\u001b[0m \u001b[38;5;124;03m... w\u001b[39;00m\n\u001b[1;32m    390\u001b[0m \u001b[38;5;124;03m'''\u001b[39;00m\n\u001b[1;32m    391\u001b[0m structure_trajectory \u001b[38;5;241m=\u001b[39m MDAnalysisTrajectory(atomgroup)\n\u001b[0;32m--> 392\u001b[0m \u001b[38;5;28;01mreturn\u001b[39;00m \u001b[43mNGLWidget\u001b[49m\u001b[43m(\u001b[49m\u001b[43mstructure_trajectory\u001b[49m\u001b[43m,\u001b[49m\u001b[43m \u001b[49m\u001b[38;5;241;43m*\u001b[39;49m\u001b[38;5;241;43m*\u001b[39;49m\u001b[43mkwargs\u001b[49m\u001b[43m)\u001b[49m\n",
      "File \u001b[0;32m~/miniconda3/envs/AmberTools23/lib/python3.12/site-packages/nglview/widget.py:238\u001b[0m, in \u001b[0;36mNGLWidget.__init__\u001b[0;34m(self, structure, representations, parameters, **kwargs)\u001b[0m\n\u001b[1;32m    236\u001b[0m \u001b[38;5;28;01mif\u001b[39;00m \u001b[38;5;28misinstance\u001b[39m(structure, Trajectory):\n\u001b[1;32m    237\u001b[0m     name \u001b[38;5;241m=\u001b[39m py_utils\u001b[38;5;241m.\u001b[39mget_name(structure, \u001b[38;5;241m*\u001b[39m\u001b[38;5;241m*\u001b[39mkwargs)\n\u001b[0;32m--> 238\u001b[0m     \u001b[38;5;28;43mself\u001b[39;49m\u001b[38;5;241;43m.\u001b[39;49m\u001b[43madd_trajectory\u001b[49m\u001b[43m(\u001b[49m\u001b[43mstructure\u001b[49m\u001b[43m,\u001b[49m\u001b[43m \u001b[49m\u001b[43mname\u001b[49m\u001b[38;5;241;43m=\u001b[39;49m\u001b[43mname\u001b[49m\u001b[43m,\u001b[49m\u001b[43m \u001b[49m\u001b[38;5;241;43m*\u001b[39;49m\u001b[38;5;241;43m*\u001b[39;49m\u001b[43mkwargs\u001b[49m\u001b[43m)\u001b[49m\n\u001b[1;32m    239\u001b[0m \u001b[38;5;28;01melif\u001b[39;00m \u001b[38;5;28misinstance\u001b[39m(structure, (\u001b[38;5;28mlist\u001b[39m, \u001b[38;5;28mtuple\u001b[39m)):\n\u001b[1;32m    240\u001b[0m     trajectories \u001b[38;5;241m=\u001b[39m structure\n",
      "File \u001b[0;32m~/miniconda3/envs/AmberTools23/lib/python3.12/site-packages/nglview/widget.py:1164\u001b[0m, in \u001b[0;36mNGLWidget.add_trajectory\u001b[0;34m(self, trajectory, **kwargs)\u001b[0m\n\u001b[1;32m   1161\u001b[0m \u001b[38;5;28;01melse\u001b[39;00m:\n\u001b[1;32m   1162\u001b[0m     trajectory \u001b[38;5;241m=\u001b[39m trajectory\n\u001b[0;32m-> 1164\u001b[0m \u001b[38;5;28;43mself\u001b[39;49m\u001b[38;5;241;43m.\u001b[39;49m\u001b[43m_load_data\u001b[49m\u001b[43m(\u001b[49m\u001b[43mtrajectory\u001b[49m\u001b[43m,\u001b[49m\u001b[43m \u001b[49m\u001b[38;5;241;43m*\u001b[39;49m\u001b[38;5;241;43m*\u001b[39;49m\u001b[43mkwargs\u001b[49m\u001b[43m)\u001b[49m\n\u001b[1;32m   1165\u001b[0m \u001b[38;5;28msetattr\u001b[39m(trajectory, \u001b[38;5;124m'\u001b[39m\u001b[38;5;124mshown\u001b[39m\u001b[38;5;124m'\u001b[39m, \u001b[38;5;28;01mTrue\u001b[39;00m)\n\u001b[1;32m   1166\u001b[0m \u001b[38;5;28mself\u001b[39m\u001b[38;5;241m.\u001b[39m_trajlist\u001b[38;5;241m.\u001b[39mappend(trajectory)\n",
      "File \u001b[0;32m~/miniconda3/envs/AmberTools23/lib/python3.12/site-packages/nglview/widget.py:1242\u001b[0m, in \u001b[0;36mNGLWidget._load_data\u001b[0;34m(self, obj, **kwargs)\u001b[0m\n\u001b[1;32m   1240\u001b[0m \u001b[38;5;28;01mif\u001b[39;00m \u001b[38;5;129;01mnot\u001b[39;00m is_url:\n\u001b[1;32m   1241\u001b[0m     \u001b[38;5;28;01mif\u001b[39;00m \u001b[38;5;28mhasattr\u001b[39m(obj, \u001b[38;5;124m'\u001b[39m\u001b[38;5;124mget_structure_string\u001b[39m\u001b[38;5;124m'\u001b[39m):\n\u001b[0;32m-> 1242\u001b[0m         blob \u001b[38;5;241m=\u001b[39m \u001b[43mobj\u001b[49m\u001b[38;5;241;43m.\u001b[39;49m\u001b[43mget_structure_string\u001b[49m\u001b[43m(\u001b[49m\u001b[43m)\u001b[49m\n\u001b[1;32m   1243\u001b[0m         kwargs2[\u001b[38;5;124m'\u001b[39m\u001b[38;5;124mext\u001b[39m\u001b[38;5;124m'\u001b[39m] \u001b[38;5;241m=\u001b[39m obj\u001b[38;5;241m.\u001b[39mext\n\u001b[1;32m   1244\u001b[0m         passing_buffer \u001b[38;5;241m=\u001b[39m \u001b[38;5;28;01mTrue\u001b[39;00m\n",
      "File \u001b[0;32m~/miniconda3/envs/AmberTools23/lib/python3.12/site-packages/nglview/adaptor.py:449\u001b[0m, in \u001b[0;36mMDAnalysisTrajectory.get_structure_string\u001b[0;34m(self)\u001b[0m\n\u001b[1;32m    446\u001b[0m \u001b[38;5;28;01mexcept\u001b[39;00m \u001b[38;5;167;01mImportError\u001b[39;00m:\n\u001b[1;32m    447\u001b[0m     \u001b[38;5;28;01mraise\u001b[39;00m \u001b[38;5;167;01mImportError\u001b[39;00m(\n\u001b[1;32m    448\u001b[0m         \u001b[38;5;124m\"\u001b[39m\u001b[38;5;124m'\u001b[39m\u001b[38;5;124mMDAnalysisTrajectory\u001b[39m\u001b[38;5;124m'\u001b[39m\u001b[38;5;124m requires the \u001b[39m\u001b[38;5;124m'\u001b[39m\u001b[38;5;124mMDAnalysis\u001b[39m\u001b[38;5;124m'\u001b[39m\u001b[38;5;124m package\u001b[39m\u001b[38;5;124m\"\u001b[39m)\n\u001b[0;32m--> 449\u001b[0m u \u001b[38;5;241m=\u001b[39m \u001b[38;5;28;43mself\u001b[39;49m\u001b[38;5;241;43m.\u001b[39;49m\u001b[43matomgroup\u001b[49m\u001b[38;5;241;43m.\u001b[39;49m\u001b[43muniverse\u001b[49m\n\u001b[1;32m    450\u001b[0m u\u001b[38;5;241m.\u001b[39mtrajectory[\u001b[38;5;241m0\u001b[39m]\n\u001b[1;32m    451\u001b[0m f \u001b[38;5;241m=\u001b[39m mda\u001b[38;5;241m.\u001b[39mlib\u001b[38;5;241m.\u001b[39mutil\u001b[38;5;241m.\u001b[39mNamedStream(StringIO(), \u001b[38;5;124m'\u001b[39m\u001b[38;5;124mtmp.pdb\u001b[39m\u001b[38;5;124m'\u001b[39m)\n",
      "\u001b[0;31mAttributeError\u001b[0m: 'list' object has no attribute 'universe'"
     ]
    }
   ],
   "source": [
    "# add a universe (or atomgroup)\n",
    "view = nv.show_mdanalysis(carbons_not_bonded_to_three_hydrogens)\n",
    "\n",
    "# launch the viewer\n",
    "view"
   ]
  }
 ],
 "metadata": {
  "kernelspec": {
   "display_name": "Python 3 (ipykernel)",
   "language": "python",
   "name": "python3"
  },
  "language_info": {
   "codemirror_mode": {
    "name": "ipython",
    "version": 3
   },
   "file_extension": ".py",
   "mimetype": "text/x-python",
   "name": "python",
   "nbconvert_exporter": "python",
   "pygments_lexer": "ipython3",
   "version": "3.12.0"
  }
 },
 "nbformat": 4,
 "nbformat_minor": 5
}
